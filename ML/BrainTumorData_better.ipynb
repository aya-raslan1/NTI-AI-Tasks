{
 "cells": [
  {
   "cell_type": "code",
   "execution_count": 1,
   "id": "0850d10e",
   "metadata": {},
   "outputs": [],
   "source": [
    "import pandas as pd\n",
    "import numpy as np\n",
    "from sklearn import preprocessing\n",
    "from sklearn.model_selection import train_test_split\n",
    "from sklearn.decomposition import PCA\n",
    "from sklearn.preprocessing import StandardScaler\n",
    "import matplotlib.pyplot as plt\n",
    "from matplotlib.ticker import FixedLocator\n",
    "\n",
    "from sklearn.decomposition import PCA\n",
    "from sklearn.ensemble import RandomForestClassifier\n",
    "from sklearn.linear_model import LogisticRegression\n",
    "from sklearn.metrics import classification_report, ConfusionMatrixDisplay\n",
    "from sklearn.model_selection import train_test_split\n",
    "from sklearn.pipeline import make_pipeline\n",
    "from sklearn.preprocessing import StandardScaler\n",
    "\n",
    "plt.rc(\"figure\", autolayout=True)\n",
    "plt.rc(\"axes.spines\", right=False, top=False)\n",
    "plt.rc(\"font\", family=\"serif\")\n",
    "plt.rc(\"figure\", autolayout=True)\n",
    "plt.rc(\"axes.spines\", right=False, top=False)\n",
    "plt.rc(\"font\", family=\"serif\")\n",
    "\n",
    "import warnings\n",
    "warnings.filterwarnings(\"ignore\")\n",
    "import seaborn as sns"
   ]
  },
  {
   "cell_type": "code",
   "execution_count": 2,
   "id": "3640cb4e",
   "metadata": {},
   "outputs": [],
   "source": [
    "df = pd.read_csv('data.csv')"
   ]
  },
  {
   "cell_type": "code",
   "execution_count": 3,
   "id": "8f29e7dc",
   "metadata": {},
   "outputs": [
    {
     "data": {
      "text/html": [
       "<div>\n",
       "<style scoped>\n",
       "    .dataframe tbody tr th:only-of-type {\n",
       "        vertical-align: middle;\n",
       "    }\n",
       "\n",
       "    .dataframe tbody tr th {\n",
       "        vertical-align: top;\n",
       "    }\n",
       "\n",
       "    .dataframe thead th {\n",
       "        text-align: right;\n",
       "    }\n",
       "</style>\n",
       "<table border=\"1\" class=\"dataframe\">\n",
       "  <thead>\n",
       "    <tr style=\"text-align: right;\">\n",
       "      <th></th>\n",
       "      <th>Unnamed: 0</th>\n",
       "      <th>X53416</th>\n",
       "      <th>M83670</th>\n",
       "      <th>X90908</th>\n",
       "      <th>M97496</th>\n",
       "      <th>X90908.1</th>\n",
       "      <th>U37019</th>\n",
       "      <th>R48602</th>\n",
       "      <th>T96548</th>\n",
       "      <th>X64559</th>\n",
       "      <th>...</th>\n",
       "      <th>H87456</th>\n",
       "      <th>R64130</th>\n",
       "      <th>H11125.1</th>\n",
       "      <th>U22055</th>\n",
       "      <th>L22524</th>\n",
       "      <th>M13699.1</th>\n",
       "      <th>X54489</th>\n",
       "      <th>T55008</th>\n",
       "      <th>M10065.2</th>\n",
       "      <th>y</th>\n",
       "    </tr>\n",
       "  </thead>\n",
       "  <tbody>\n",
       "    <tr>\n",
       "      <th>0</th>\n",
       "      <td>0</td>\n",
       "      <td>70</td>\n",
       "      <td>-81</td>\n",
       "      <td>25</td>\n",
       "      <td>10</td>\n",
       "      <td>22</td>\n",
       "      <td>113</td>\n",
       "      <td>36</td>\n",
       "      <td>163</td>\n",
       "      <td>9</td>\n",
       "      <td>...</td>\n",
       "      <td>75</td>\n",
       "      <td>5</td>\n",
       "      <td>68</td>\n",
       "      <td>138</td>\n",
       "      <td>53</td>\n",
       "      <td>-4</td>\n",
       "      <td>123</td>\n",
       "      <td>2</td>\n",
       "      <td>19</td>\n",
       "      <td>tumor</td>\n",
       "    </tr>\n",
       "    <tr>\n",
       "      <th>1</th>\n",
       "      <td>1</td>\n",
       "      <td>108</td>\n",
       "      <td>-30</td>\n",
       "      <td>-7</td>\n",
       "      <td>60</td>\n",
       "      <td>0</td>\n",
       "      <td>24</td>\n",
       "      <td>8</td>\n",
       "      <td>113</td>\n",
       "      <td>-3</td>\n",
       "      <td>...</td>\n",
       "      <td>186</td>\n",
       "      <td>6</td>\n",
       "      <td>60</td>\n",
       "      <td>93</td>\n",
       "      <td>140</td>\n",
       "      <td>-3</td>\n",
       "      <td>271</td>\n",
       "      <td>-1</td>\n",
       "      <td>-51</td>\n",
       "      <td>tumor</td>\n",
       "    </tr>\n",
       "    <tr>\n",
       "      <th>2</th>\n",
       "      <td>2</td>\n",
       "      <td>75</td>\n",
       "      <td>-1</td>\n",
       "      <td>5</td>\n",
       "      <td>48</td>\n",
       "      <td>6</td>\n",
       "      <td>34</td>\n",
       "      <td>27</td>\n",
       "      <td>35</td>\n",
       "      <td>-1</td>\n",
       "      <td>...</td>\n",
       "      <td>186</td>\n",
       "      <td>225</td>\n",
       "      <td>94</td>\n",
       "      <td>62</td>\n",
       "      <td>39</td>\n",
       "      <td>-14</td>\n",
       "      <td>127</td>\n",
       "      <td>7</td>\n",
       "      <td>192</td>\n",
       "      <td>tumor</td>\n",
       "    </tr>\n",
       "    <tr>\n",
       "      <th>3</th>\n",
       "      <td>3</td>\n",
       "      <td>871</td>\n",
       "      <td>4</td>\n",
       "      <td>14</td>\n",
       "      <td>78</td>\n",
       "      <td>-6</td>\n",
       "      <td>85</td>\n",
       "      <td>65</td>\n",
       "      <td>227</td>\n",
       "      <td>19</td>\n",
       "      <td>...</td>\n",
       "      <td>77</td>\n",
       "      <td>6</td>\n",
       "      <td>78</td>\n",
       "      <td>30</td>\n",
       "      <td>87</td>\n",
       "      <td>-4</td>\n",
       "      <td>59</td>\n",
       "      <td>3</td>\n",
       "      <td>367</td>\n",
       "      <td>tumor</td>\n",
       "    </tr>\n",
       "    <tr>\n",
       "      <th>4</th>\n",
       "      <td>4</td>\n",
       "      <td>-92</td>\n",
       "      <td>-34</td>\n",
       "      <td>14</td>\n",
       "      <td>19</td>\n",
       "      <td>11</td>\n",
       "      <td>-6</td>\n",
       "      <td>27</td>\n",
       "      <td>-8</td>\n",
       "      <td>9</td>\n",
       "      <td>...</td>\n",
       "      <td>87</td>\n",
       "      <td>303</td>\n",
       "      <td>204</td>\n",
       "      <td>81</td>\n",
       "      <td>105</td>\n",
       "      <td>9</td>\n",
       "      <td>265</td>\n",
       "      <td>-2</td>\n",
       "      <td>126</td>\n",
       "      <td>tumor</td>\n",
       "    </tr>\n",
       "  </tbody>\n",
       "</table>\n",
       "<p>5 rows × 7466 columns</p>\n",
       "</div>"
      ],
      "text/plain": [
       "   Unnamed: 0  X53416  M83670  X90908  M97496  X90908.1  U37019  R48602  \\\n",
       "0           0      70     -81      25      10        22     113      36   \n",
       "1           1     108     -30      -7      60         0      24       8   \n",
       "2           2      75      -1       5      48         6      34      27   \n",
       "3           3     871       4      14      78        -6      85      65   \n",
       "4           4     -92     -34      14      19        11      -6      27   \n",
       "\n",
       "   T96548  X64559  ...  H87456  R64130  H11125.1  U22055  L22524  M13699.1  \\\n",
       "0     163       9  ...      75       5        68     138      53        -4   \n",
       "1     113      -3  ...     186       6        60      93     140        -3   \n",
       "2      35      -1  ...     186     225        94      62      39       -14   \n",
       "3     227      19  ...      77       6        78      30      87        -4   \n",
       "4      -8       9  ...      87     303       204      81     105         9   \n",
       "\n",
       "   X54489  T55008  M10065.2      y  \n",
       "0     123       2        19  tumor  \n",
       "1     271      -1       -51  tumor  \n",
       "2     127       7       192  tumor  \n",
       "3      59       3       367  tumor  \n",
       "4     265      -2       126  tumor  \n",
       "\n",
       "[5 rows x 7466 columns]"
      ]
     },
     "execution_count": 3,
     "metadata": {},
     "output_type": "execute_result"
    }
   ],
   "source": [
    "df.head()"
   ]
  },
  {
   "cell_type": "code",
   "execution_count": 4,
   "id": "53127eb5",
   "metadata": {},
   "outputs": [
    {
     "data": {
      "text/html": [
       "<div>\n",
       "<style scoped>\n",
       "    .dataframe tbody tr th:only-of-type {\n",
       "        vertical-align: middle;\n",
       "    }\n",
       "\n",
       "    .dataframe tbody tr th {\n",
       "        vertical-align: top;\n",
       "    }\n",
       "\n",
       "    .dataframe thead th {\n",
       "        text-align: right;\n",
       "    }\n",
       "</style>\n",
       "<table border=\"1\" class=\"dataframe\">\n",
       "  <thead>\n",
       "    <tr style=\"text-align: right;\">\n",
       "      <th></th>\n",
       "      <th>Unnamed: 0</th>\n",
       "      <th>X53416</th>\n",
       "      <th>M83670</th>\n",
       "      <th>X90908</th>\n",
       "      <th>M97496</th>\n",
       "      <th>X90908.1</th>\n",
       "      <th>U37019</th>\n",
       "      <th>R48602</th>\n",
       "      <th>T96548</th>\n",
       "      <th>X64559</th>\n",
       "      <th>...</th>\n",
       "      <th>H87456</th>\n",
       "      <th>R64130</th>\n",
       "      <th>H11125.1</th>\n",
       "      <th>U22055</th>\n",
       "      <th>L22524</th>\n",
       "      <th>M13699.1</th>\n",
       "      <th>X54489</th>\n",
       "      <th>T55008</th>\n",
       "      <th>M10065.2</th>\n",
       "      <th>y</th>\n",
       "    </tr>\n",
       "  </thead>\n",
       "  <tbody>\n",
       "    <tr>\n",
       "      <th>31</th>\n",
       "      <td>31</td>\n",
       "      <td>488</td>\n",
       "      <td>564</td>\n",
       "      <td>-29</td>\n",
       "      <td>1303</td>\n",
       "      <td>-9</td>\n",
       "      <td>1236</td>\n",
       "      <td>265</td>\n",
       "      <td>2203</td>\n",
       "      <td>41</td>\n",
       "      <td>...</td>\n",
       "      <td>16</td>\n",
       "      <td>0</td>\n",
       "      <td>109</td>\n",
       "      <td>21</td>\n",
       "      <td>6</td>\n",
       "      <td>-15</td>\n",
       "      <td>11</td>\n",
       "      <td>7</td>\n",
       "      <td>-145</td>\n",
       "      <td>Normal</td>\n",
       "    </tr>\n",
       "    <tr>\n",
       "      <th>32</th>\n",
       "      <td>32</td>\n",
       "      <td>164</td>\n",
       "      <td>330</td>\n",
       "      <td>-13</td>\n",
       "      <td>721</td>\n",
       "      <td>12</td>\n",
       "      <td>504</td>\n",
       "      <td>154</td>\n",
       "      <td>1381</td>\n",
       "      <td>78</td>\n",
       "      <td>...</td>\n",
       "      <td>-18</td>\n",
       "      <td>1</td>\n",
       "      <td>-1484</td>\n",
       "      <td>-4</td>\n",
       "      <td>-1</td>\n",
       "      <td>-1</td>\n",
       "      <td>3</td>\n",
       "      <td>-5</td>\n",
       "      <td>-63</td>\n",
       "      <td>Normal</td>\n",
       "    </tr>\n",
       "    <tr>\n",
       "      <th>33</th>\n",
       "      <td>33</td>\n",
       "      <td>1282</td>\n",
       "      <td>116</td>\n",
       "      <td>-4</td>\n",
       "      <td>542</td>\n",
       "      <td>0</td>\n",
       "      <td>1070</td>\n",
       "      <td>344</td>\n",
       "      <td>1903</td>\n",
       "      <td>42</td>\n",
       "      <td>...</td>\n",
       "      <td>5</td>\n",
       "      <td>3</td>\n",
       "      <td>128</td>\n",
       "      <td>25</td>\n",
       "      <td>2</td>\n",
       "      <td>0</td>\n",
       "      <td>7</td>\n",
       "      <td>3</td>\n",
       "      <td>-69</td>\n",
       "      <td>Normal</td>\n",
       "    </tr>\n",
       "    <tr>\n",
       "      <th>34</th>\n",
       "      <td>34</td>\n",
       "      <td>68</td>\n",
       "      <td>718</td>\n",
       "      <td>-50</td>\n",
       "      <td>1816</td>\n",
       "      <td>-28</td>\n",
       "      <td>251</td>\n",
       "      <td>38</td>\n",
       "      <td>598</td>\n",
       "      <td>73</td>\n",
       "      <td>...</td>\n",
       "      <td>47</td>\n",
       "      <td>-2</td>\n",
       "      <td>190</td>\n",
       "      <td>3</td>\n",
       "      <td>0</td>\n",
       "      <td>8</td>\n",
       "      <td>21</td>\n",
       "      <td>22</td>\n",
       "      <td>-214</td>\n",
       "      <td>Normal</td>\n",
       "    </tr>\n",
       "    <tr>\n",
       "      <th>35</th>\n",
       "      <td>35</td>\n",
       "      <td>928</td>\n",
       "      <td>332</td>\n",
       "      <td>4</td>\n",
       "      <td>412</td>\n",
       "      <td>0</td>\n",
       "      <td>681</td>\n",
       "      <td>267</td>\n",
       "      <td>1132</td>\n",
       "      <td>357</td>\n",
       "      <td>...</td>\n",
       "      <td>9</td>\n",
       "      <td>1</td>\n",
       "      <td>67</td>\n",
       "      <td>19</td>\n",
       "      <td>10</td>\n",
       "      <td>1</td>\n",
       "      <td>32</td>\n",
       "      <td>-5</td>\n",
       "      <td>72</td>\n",
       "      <td>Normal</td>\n",
       "    </tr>\n",
       "  </tbody>\n",
       "</table>\n",
       "<p>5 rows × 7466 columns</p>\n",
       "</div>"
      ],
      "text/plain": [
       "    Unnamed: 0  X53416  M83670  X90908  M97496  X90908.1  U37019  R48602  \\\n",
       "31          31     488     564     -29    1303        -9    1236     265   \n",
       "32          32     164     330     -13     721        12     504     154   \n",
       "33          33    1282     116      -4     542         0    1070     344   \n",
       "34          34      68     718     -50    1816       -28     251      38   \n",
       "35          35     928     332       4     412         0     681     267   \n",
       "\n",
       "    T96548  X64559  ...  H87456  R64130  H11125.1  U22055  L22524  M13699.1  \\\n",
       "31    2203      41  ...      16       0       109      21       6       -15   \n",
       "32    1381      78  ...     -18       1     -1484      -4      -1        -1   \n",
       "33    1903      42  ...       5       3       128      25       2         0   \n",
       "34     598      73  ...      47      -2       190       3       0         8   \n",
       "35    1132     357  ...       9       1        67      19      10         1   \n",
       "\n",
       "    X54489  T55008  M10065.2       y  \n",
       "31      11       7      -145  Normal  \n",
       "32       3      -5       -63  Normal  \n",
       "33       7       3       -69  Normal  \n",
       "34      21      22      -214  Normal  \n",
       "35      32      -5        72  Normal  \n",
       "\n",
       "[5 rows x 7466 columns]"
      ]
     },
     "execution_count": 4,
     "metadata": {},
     "output_type": "execute_result"
    }
   ],
   "source": [
    "df.tail()"
   ]
  },
  {
   "cell_type": "code",
   "execution_count": 5,
   "id": "c54dfa02",
   "metadata": {},
   "outputs": [
    {
     "name": "stdout",
     "output_type": "stream",
     "text": [
      "<class 'pandas.core.frame.DataFrame'>\n",
      "RangeIndex: 36 entries, 0 to 35\n",
      "Columns: 7466 entries, Unnamed: 0 to y\n",
      "dtypes: int64(7465), object(1)\n",
      "memory usage: 2.1+ MB\n"
     ]
    }
   ],
   "source": [
    "df.info()"
   ]
  },
  {
   "cell_type": "code",
   "execution_count": 6,
   "id": "73d5fb29",
   "metadata": {},
   "outputs": [],
   "source": [
    "#CHECK NULLS"
   ]
  },
  {
   "cell_type": "code",
   "execution_count": 7,
   "id": "2a5d46b8",
   "metadata": {},
   "outputs": [
    {
     "data": {
      "text/html": [
       "<div>\n",
       "<style scoped>\n",
       "    .dataframe tbody tr th:only-of-type {\n",
       "        vertical-align: middle;\n",
       "    }\n",
       "\n",
       "    .dataframe tbody tr th {\n",
       "        vertical-align: top;\n",
       "    }\n",
       "\n",
       "    .dataframe thead th {\n",
       "        text-align: right;\n",
       "    }\n",
       "</style>\n",
       "<table border=\"1\" class=\"dataframe\">\n",
       "  <thead>\n",
       "    <tr style=\"text-align: right;\">\n",
       "      <th></th>\n",
       "      <th>Unnamed: 0</th>\n",
       "      <th>X53416</th>\n",
       "      <th>M83670</th>\n",
       "      <th>X90908</th>\n",
       "      <th>M97496</th>\n",
       "      <th>X90908.1</th>\n",
       "      <th>U37019</th>\n",
       "      <th>R48602</th>\n",
       "      <th>T96548</th>\n",
       "      <th>X64559</th>\n",
       "      <th>...</th>\n",
       "      <th>H87456</th>\n",
       "      <th>R64130</th>\n",
       "      <th>H11125.1</th>\n",
       "      <th>U22055</th>\n",
       "      <th>L22524</th>\n",
       "      <th>M13699.1</th>\n",
       "      <th>X54489</th>\n",
       "      <th>T55008</th>\n",
       "      <th>M10065.2</th>\n",
       "      <th>y</th>\n",
       "    </tr>\n",
       "  </thead>\n",
       "  <tbody>\n",
       "    <tr>\n",
       "      <th>0</th>\n",
       "      <td>False</td>\n",
       "      <td>False</td>\n",
       "      <td>False</td>\n",
       "      <td>False</td>\n",
       "      <td>False</td>\n",
       "      <td>False</td>\n",
       "      <td>False</td>\n",
       "      <td>False</td>\n",
       "      <td>False</td>\n",
       "      <td>False</td>\n",
       "      <td>...</td>\n",
       "      <td>False</td>\n",
       "      <td>False</td>\n",
       "      <td>False</td>\n",
       "      <td>False</td>\n",
       "      <td>False</td>\n",
       "      <td>False</td>\n",
       "      <td>False</td>\n",
       "      <td>False</td>\n",
       "      <td>False</td>\n",
       "      <td>False</td>\n",
       "    </tr>\n",
       "    <tr>\n",
       "      <th>1</th>\n",
       "      <td>False</td>\n",
       "      <td>False</td>\n",
       "      <td>False</td>\n",
       "      <td>False</td>\n",
       "      <td>False</td>\n",
       "      <td>False</td>\n",
       "      <td>False</td>\n",
       "      <td>False</td>\n",
       "      <td>False</td>\n",
       "      <td>False</td>\n",
       "      <td>...</td>\n",
       "      <td>False</td>\n",
       "      <td>False</td>\n",
       "      <td>False</td>\n",
       "      <td>False</td>\n",
       "      <td>False</td>\n",
       "      <td>False</td>\n",
       "      <td>False</td>\n",
       "      <td>False</td>\n",
       "      <td>False</td>\n",
       "      <td>False</td>\n",
       "    </tr>\n",
       "    <tr>\n",
       "      <th>2</th>\n",
       "      <td>False</td>\n",
       "      <td>False</td>\n",
       "      <td>False</td>\n",
       "      <td>False</td>\n",
       "      <td>False</td>\n",
       "      <td>False</td>\n",
       "      <td>False</td>\n",
       "      <td>False</td>\n",
       "      <td>False</td>\n",
       "      <td>False</td>\n",
       "      <td>...</td>\n",
       "      <td>False</td>\n",
       "      <td>False</td>\n",
       "      <td>False</td>\n",
       "      <td>False</td>\n",
       "      <td>False</td>\n",
       "      <td>False</td>\n",
       "      <td>False</td>\n",
       "      <td>False</td>\n",
       "      <td>False</td>\n",
       "      <td>False</td>\n",
       "    </tr>\n",
       "    <tr>\n",
       "      <th>3</th>\n",
       "      <td>False</td>\n",
       "      <td>False</td>\n",
       "      <td>False</td>\n",
       "      <td>False</td>\n",
       "      <td>False</td>\n",
       "      <td>False</td>\n",
       "      <td>False</td>\n",
       "      <td>False</td>\n",
       "      <td>False</td>\n",
       "      <td>False</td>\n",
       "      <td>...</td>\n",
       "      <td>False</td>\n",
       "      <td>False</td>\n",
       "      <td>False</td>\n",
       "      <td>False</td>\n",
       "      <td>False</td>\n",
       "      <td>False</td>\n",
       "      <td>False</td>\n",
       "      <td>False</td>\n",
       "      <td>False</td>\n",
       "      <td>False</td>\n",
       "    </tr>\n",
       "    <tr>\n",
       "      <th>4</th>\n",
       "      <td>False</td>\n",
       "      <td>False</td>\n",
       "      <td>False</td>\n",
       "      <td>False</td>\n",
       "      <td>False</td>\n",
       "      <td>False</td>\n",
       "      <td>False</td>\n",
       "      <td>False</td>\n",
       "      <td>False</td>\n",
       "      <td>False</td>\n",
       "      <td>...</td>\n",
       "      <td>False</td>\n",
       "      <td>False</td>\n",
       "      <td>False</td>\n",
       "      <td>False</td>\n",
       "      <td>False</td>\n",
       "      <td>False</td>\n",
       "      <td>False</td>\n",
       "      <td>False</td>\n",
       "      <td>False</td>\n",
       "      <td>False</td>\n",
       "    </tr>\n",
       "    <tr>\n",
       "      <th>5</th>\n",
       "      <td>False</td>\n",
       "      <td>False</td>\n",
       "      <td>False</td>\n",
       "      <td>False</td>\n",
       "      <td>False</td>\n",
       "      <td>False</td>\n",
       "      <td>False</td>\n",
       "      <td>False</td>\n",
       "      <td>False</td>\n",
       "      <td>False</td>\n",
       "      <td>...</td>\n",
       "      <td>False</td>\n",
       "      <td>False</td>\n",
       "      <td>False</td>\n",
       "      <td>False</td>\n",
       "      <td>False</td>\n",
       "      <td>False</td>\n",
       "      <td>False</td>\n",
       "      <td>False</td>\n",
       "      <td>False</td>\n",
       "      <td>False</td>\n",
       "    </tr>\n",
       "    <tr>\n",
       "      <th>6</th>\n",
       "      <td>False</td>\n",
       "      <td>False</td>\n",
       "      <td>False</td>\n",
       "      <td>False</td>\n",
       "      <td>False</td>\n",
       "      <td>False</td>\n",
       "      <td>False</td>\n",
       "      <td>False</td>\n",
       "      <td>False</td>\n",
       "      <td>False</td>\n",
       "      <td>...</td>\n",
       "      <td>False</td>\n",
       "      <td>False</td>\n",
       "      <td>False</td>\n",
       "      <td>False</td>\n",
       "      <td>False</td>\n",
       "      <td>False</td>\n",
       "      <td>False</td>\n",
       "      <td>False</td>\n",
       "      <td>False</td>\n",
       "      <td>False</td>\n",
       "    </tr>\n",
       "    <tr>\n",
       "      <th>7</th>\n",
       "      <td>False</td>\n",
       "      <td>False</td>\n",
       "      <td>False</td>\n",
       "      <td>False</td>\n",
       "      <td>False</td>\n",
       "      <td>False</td>\n",
       "      <td>False</td>\n",
       "      <td>False</td>\n",
       "      <td>False</td>\n",
       "      <td>False</td>\n",
       "      <td>...</td>\n",
       "      <td>False</td>\n",
       "      <td>False</td>\n",
       "      <td>False</td>\n",
       "      <td>False</td>\n",
       "      <td>False</td>\n",
       "      <td>False</td>\n",
       "      <td>False</td>\n",
       "      <td>False</td>\n",
       "      <td>False</td>\n",
       "      <td>False</td>\n",
       "    </tr>\n",
       "    <tr>\n",
       "      <th>8</th>\n",
       "      <td>False</td>\n",
       "      <td>False</td>\n",
       "      <td>False</td>\n",
       "      <td>False</td>\n",
       "      <td>False</td>\n",
       "      <td>False</td>\n",
       "      <td>False</td>\n",
       "      <td>False</td>\n",
       "      <td>False</td>\n",
       "      <td>False</td>\n",
       "      <td>...</td>\n",
       "      <td>False</td>\n",
       "      <td>False</td>\n",
       "      <td>False</td>\n",
       "      <td>False</td>\n",
       "      <td>False</td>\n",
       "      <td>False</td>\n",
       "      <td>False</td>\n",
       "      <td>False</td>\n",
       "      <td>False</td>\n",
       "      <td>False</td>\n",
       "    </tr>\n",
       "    <tr>\n",
       "      <th>9</th>\n",
       "      <td>False</td>\n",
       "      <td>False</td>\n",
       "      <td>False</td>\n",
       "      <td>False</td>\n",
       "      <td>False</td>\n",
       "      <td>False</td>\n",
       "      <td>False</td>\n",
       "      <td>False</td>\n",
       "      <td>False</td>\n",
       "      <td>False</td>\n",
       "      <td>...</td>\n",
       "      <td>False</td>\n",
       "      <td>False</td>\n",
       "      <td>False</td>\n",
       "      <td>False</td>\n",
       "      <td>False</td>\n",
       "      <td>False</td>\n",
       "      <td>False</td>\n",
       "      <td>False</td>\n",
       "      <td>False</td>\n",
       "      <td>False</td>\n",
       "    </tr>\n",
       "    <tr>\n",
       "      <th>10</th>\n",
       "      <td>False</td>\n",
       "      <td>False</td>\n",
       "      <td>False</td>\n",
       "      <td>False</td>\n",
       "      <td>False</td>\n",
       "      <td>False</td>\n",
       "      <td>False</td>\n",
       "      <td>False</td>\n",
       "      <td>False</td>\n",
       "      <td>False</td>\n",
       "      <td>...</td>\n",
       "      <td>False</td>\n",
       "      <td>False</td>\n",
       "      <td>False</td>\n",
       "      <td>False</td>\n",
       "      <td>False</td>\n",
       "      <td>False</td>\n",
       "      <td>False</td>\n",
       "      <td>False</td>\n",
       "      <td>False</td>\n",
       "      <td>False</td>\n",
       "    </tr>\n",
       "    <tr>\n",
       "      <th>11</th>\n",
       "      <td>False</td>\n",
       "      <td>False</td>\n",
       "      <td>False</td>\n",
       "      <td>False</td>\n",
       "      <td>False</td>\n",
       "      <td>False</td>\n",
       "      <td>False</td>\n",
       "      <td>False</td>\n",
       "      <td>False</td>\n",
       "      <td>False</td>\n",
       "      <td>...</td>\n",
       "      <td>False</td>\n",
       "      <td>False</td>\n",
       "      <td>False</td>\n",
       "      <td>False</td>\n",
       "      <td>False</td>\n",
       "      <td>False</td>\n",
       "      <td>False</td>\n",
       "      <td>False</td>\n",
       "      <td>False</td>\n",
       "      <td>False</td>\n",
       "    </tr>\n",
       "    <tr>\n",
       "      <th>12</th>\n",
       "      <td>False</td>\n",
       "      <td>False</td>\n",
       "      <td>False</td>\n",
       "      <td>False</td>\n",
       "      <td>False</td>\n",
       "      <td>False</td>\n",
       "      <td>False</td>\n",
       "      <td>False</td>\n",
       "      <td>False</td>\n",
       "      <td>False</td>\n",
       "      <td>...</td>\n",
       "      <td>False</td>\n",
       "      <td>False</td>\n",
       "      <td>False</td>\n",
       "      <td>False</td>\n",
       "      <td>False</td>\n",
       "      <td>False</td>\n",
       "      <td>False</td>\n",
       "      <td>False</td>\n",
       "      <td>False</td>\n",
       "      <td>False</td>\n",
       "    </tr>\n",
       "    <tr>\n",
       "      <th>13</th>\n",
       "      <td>False</td>\n",
       "      <td>False</td>\n",
       "      <td>False</td>\n",
       "      <td>False</td>\n",
       "      <td>False</td>\n",
       "      <td>False</td>\n",
       "      <td>False</td>\n",
       "      <td>False</td>\n",
       "      <td>False</td>\n",
       "      <td>False</td>\n",
       "      <td>...</td>\n",
       "      <td>False</td>\n",
       "      <td>False</td>\n",
       "      <td>False</td>\n",
       "      <td>False</td>\n",
       "      <td>False</td>\n",
       "      <td>False</td>\n",
       "      <td>False</td>\n",
       "      <td>False</td>\n",
       "      <td>False</td>\n",
       "      <td>False</td>\n",
       "    </tr>\n",
       "    <tr>\n",
       "      <th>14</th>\n",
       "      <td>False</td>\n",
       "      <td>False</td>\n",
       "      <td>False</td>\n",
       "      <td>False</td>\n",
       "      <td>False</td>\n",
       "      <td>False</td>\n",
       "      <td>False</td>\n",
       "      <td>False</td>\n",
       "      <td>False</td>\n",
       "      <td>False</td>\n",
       "      <td>...</td>\n",
       "      <td>False</td>\n",
       "      <td>False</td>\n",
       "      <td>False</td>\n",
       "      <td>False</td>\n",
       "      <td>False</td>\n",
       "      <td>False</td>\n",
       "      <td>False</td>\n",
       "      <td>False</td>\n",
       "      <td>False</td>\n",
       "      <td>False</td>\n",
       "    </tr>\n",
       "    <tr>\n",
       "      <th>15</th>\n",
       "      <td>False</td>\n",
       "      <td>False</td>\n",
       "      <td>False</td>\n",
       "      <td>False</td>\n",
       "      <td>False</td>\n",
       "      <td>False</td>\n",
       "      <td>False</td>\n",
       "      <td>False</td>\n",
       "      <td>False</td>\n",
       "      <td>False</td>\n",
       "      <td>...</td>\n",
       "      <td>False</td>\n",
       "      <td>False</td>\n",
       "      <td>False</td>\n",
       "      <td>False</td>\n",
       "      <td>False</td>\n",
       "      <td>False</td>\n",
       "      <td>False</td>\n",
       "      <td>False</td>\n",
       "      <td>False</td>\n",
       "      <td>False</td>\n",
       "    </tr>\n",
       "    <tr>\n",
       "      <th>16</th>\n",
       "      <td>False</td>\n",
       "      <td>False</td>\n",
       "      <td>False</td>\n",
       "      <td>False</td>\n",
       "      <td>False</td>\n",
       "      <td>False</td>\n",
       "      <td>False</td>\n",
       "      <td>False</td>\n",
       "      <td>False</td>\n",
       "      <td>False</td>\n",
       "      <td>...</td>\n",
       "      <td>False</td>\n",
       "      <td>False</td>\n",
       "      <td>False</td>\n",
       "      <td>False</td>\n",
       "      <td>False</td>\n",
       "      <td>False</td>\n",
       "      <td>False</td>\n",
       "      <td>False</td>\n",
       "      <td>False</td>\n",
       "      <td>False</td>\n",
       "    </tr>\n",
       "    <tr>\n",
       "      <th>17</th>\n",
       "      <td>False</td>\n",
       "      <td>False</td>\n",
       "      <td>False</td>\n",
       "      <td>False</td>\n",
       "      <td>False</td>\n",
       "      <td>False</td>\n",
       "      <td>False</td>\n",
       "      <td>False</td>\n",
       "      <td>False</td>\n",
       "      <td>False</td>\n",
       "      <td>...</td>\n",
       "      <td>False</td>\n",
       "      <td>False</td>\n",
       "      <td>False</td>\n",
       "      <td>False</td>\n",
       "      <td>False</td>\n",
       "      <td>False</td>\n",
       "      <td>False</td>\n",
       "      <td>False</td>\n",
       "      <td>False</td>\n",
       "      <td>False</td>\n",
       "    </tr>\n",
       "    <tr>\n",
       "      <th>18</th>\n",
       "      <td>False</td>\n",
       "      <td>False</td>\n",
       "      <td>False</td>\n",
       "      <td>False</td>\n",
       "      <td>False</td>\n",
       "      <td>False</td>\n",
       "      <td>False</td>\n",
       "      <td>False</td>\n",
       "      <td>False</td>\n",
       "      <td>False</td>\n",
       "      <td>...</td>\n",
       "      <td>False</td>\n",
       "      <td>False</td>\n",
       "      <td>False</td>\n",
       "      <td>False</td>\n",
       "      <td>False</td>\n",
       "      <td>False</td>\n",
       "      <td>False</td>\n",
       "      <td>False</td>\n",
       "      <td>False</td>\n",
       "      <td>False</td>\n",
       "    </tr>\n",
       "    <tr>\n",
       "      <th>19</th>\n",
       "      <td>False</td>\n",
       "      <td>False</td>\n",
       "      <td>False</td>\n",
       "      <td>False</td>\n",
       "      <td>False</td>\n",
       "      <td>False</td>\n",
       "      <td>False</td>\n",
       "      <td>False</td>\n",
       "      <td>False</td>\n",
       "      <td>False</td>\n",
       "      <td>...</td>\n",
       "      <td>False</td>\n",
       "      <td>False</td>\n",
       "      <td>False</td>\n",
       "      <td>False</td>\n",
       "      <td>False</td>\n",
       "      <td>False</td>\n",
       "      <td>False</td>\n",
       "      <td>False</td>\n",
       "      <td>False</td>\n",
       "      <td>False</td>\n",
       "    </tr>\n",
       "    <tr>\n",
       "      <th>20</th>\n",
       "      <td>False</td>\n",
       "      <td>False</td>\n",
       "      <td>False</td>\n",
       "      <td>False</td>\n",
       "      <td>False</td>\n",
       "      <td>False</td>\n",
       "      <td>False</td>\n",
       "      <td>False</td>\n",
       "      <td>False</td>\n",
       "      <td>False</td>\n",
       "      <td>...</td>\n",
       "      <td>False</td>\n",
       "      <td>False</td>\n",
       "      <td>False</td>\n",
       "      <td>False</td>\n",
       "      <td>False</td>\n",
       "      <td>False</td>\n",
       "      <td>False</td>\n",
       "      <td>False</td>\n",
       "      <td>False</td>\n",
       "      <td>False</td>\n",
       "    </tr>\n",
       "    <tr>\n",
       "      <th>21</th>\n",
       "      <td>False</td>\n",
       "      <td>False</td>\n",
       "      <td>False</td>\n",
       "      <td>False</td>\n",
       "      <td>False</td>\n",
       "      <td>False</td>\n",
       "      <td>False</td>\n",
       "      <td>False</td>\n",
       "      <td>False</td>\n",
       "      <td>False</td>\n",
       "      <td>...</td>\n",
       "      <td>False</td>\n",
       "      <td>False</td>\n",
       "      <td>False</td>\n",
       "      <td>False</td>\n",
       "      <td>False</td>\n",
       "      <td>False</td>\n",
       "      <td>False</td>\n",
       "      <td>False</td>\n",
       "      <td>False</td>\n",
       "      <td>False</td>\n",
       "    </tr>\n",
       "    <tr>\n",
       "      <th>22</th>\n",
       "      <td>False</td>\n",
       "      <td>False</td>\n",
       "      <td>False</td>\n",
       "      <td>False</td>\n",
       "      <td>False</td>\n",
       "      <td>False</td>\n",
       "      <td>False</td>\n",
       "      <td>False</td>\n",
       "      <td>False</td>\n",
       "      <td>False</td>\n",
       "      <td>...</td>\n",
       "      <td>False</td>\n",
       "      <td>False</td>\n",
       "      <td>False</td>\n",
       "      <td>False</td>\n",
       "      <td>False</td>\n",
       "      <td>False</td>\n",
       "      <td>False</td>\n",
       "      <td>False</td>\n",
       "      <td>False</td>\n",
       "      <td>False</td>\n",
       "    </tr>\n",
       "    <tr>\n",
       "      <th>23</th>\n",
       "      <td>False</td>\n",
       "      <td>False</td>\n",
       "      <td>False</td>\n",
       "      <td>False</td>\n",
       "      <td>False</td>\n",
       "      <td>False</td>\n",
       "      <td>False</td>\n",
       "      <td>False</td>\n",
       "      <td>False</td>\n",
       "      <td>False</td>\n",
       "      <td>...</td>\n",
       "      <td>False</td>\n",
       "      <td>False</td>\n",
       "      <td>False</td>\n",
       "      <td>False</td>\n",
       "      <td>False</td>\n",
       "      <td>False</td>\n",
       "      <td>False</td>\n",
       "      <td>False</td>\n",
       "      <td>False</td>\n",
       "      <td>False</td>\n",
       "    </tr>\n",
       "    <tr>\n",
       "      <th>24</th>\n",
       "      <td>False</td>\n",
       "      <td>False</td>\n",
       "      <td>False</td>\n",
       "      <td>False</td>\n",
       "      <td>False</td>\n",
       "      <td>False</td>\n",
       "      <td>False</td>\n",
       "      <td>False</td>\n",
       "      <td>False</td>\n",
       "      <td>False</td>\n",
       "      <td>...</td>\n",
       "      <td>False</td>\n",
       "      <td>False</td>\n",
       "      <td>False</td>\n",
       "      <td>False</td>\n",
       "      <td>False</td>\n",
       "      <td>False</td>\n",
       "      <td>False</td>\n",
       "      <td>False</td>\n",
       "      <td>False</td>\n",
       "      <td>False</td>\n",
       "    </tr>\n",
       "    <tr>\n",
       "      <th>25</th>\n",
       "      <td>False</td>\n",
       "      <td>False</td>\n",
       "      <td>False</td>\n",
       "      <td>False</td>\n",
       "      <td>False</td>\n",
       "      <td>False</td>\n",
       "      <td>False</td>\n",
       "      <td>False</td>\n",
       "      <td>False</td>\n",
       "      <td>False</td>\n",
       "      <td>...</td>\n",
       "      <td>False</td>\n",
       "      <td>False</td>\n",
       "      <td>False</td>\n",
       "      <td>False</td>\n",
       "      <td>False</td>\n",
       "      <td>False</td>\n",
       "      <td>False</td>\n",
       "      <td>False</td>\n",
       "      <td>False</td>\n",
       "      <td>False</td>\n",
       "    </tr>\n",
       "    <tr>\n",
       "      <th>26</th>\n",
       "      <td>False</td>\n",
       "      <td>False</td>\n",
       "      <td>False</td>\n",
       "      <td>False</td>\n",
       "      <td>False</td>\n",
       "      <td>False</td>\n",
       "      <td>False</td>\n",
       "      <td>False</td>\n",
       "      <td>False</td>\n",
       "      <td>False</td>\n",
       "      <td>...</td>\n",
       "      <td>False</td>\n",
       "      <td>False</td>\n",
       "      <td>False</td>\n",
       "      <td>False</td>\n",
       "      <td>False</td>\n",
       "      <td>False</td>\n",
       "      <td>False</td>\n",
       "      <td>False</td>\n",
       "      <td>False</td>\n",
       "      <td>False</td>\n",
       "    </tr>\n",
       "    <tr>\n",
       "      <th>27</th>\n",
       "      <td>False</td>\n",
       "      <td>False</td>\n",
       "      <td>False</td>\n",
       "      <td>False</td>\n",
       "      <td>False</td>\n",
       "      <td>False</td>\n",
       "      <td>False</td>\n",
       "      <td>False</td>\n",
       "      <td>False</td>\n",
       "      <td>False</td>\n",
       "      <td>...</td>\n",
       "      <td>False</td>\n",
       "      <td>False</td>\n",
       "      <td>False</td>\n",
       "      <td>False</td>\n",
       "      <td>False</td>\n",
       "      <td>False</td>\n",
       "      <td>False</td>\n",
       "      <td>False</td>\n",
       "      <td>False</td>\n",
       "      <td>False</td>\n",
       "    </tr>\n",
       "    <tr>\n",
       "      <th>28</th>\n",
       "      <td>False</td>\n",
       "      <td>False</td>\n",
       "      <td>False</td>\n",
       "      <td>False</td>\n",
       "      <td>False</td>\n",
       "      <td>False</td>\n",
       "      <td>False</td>\n",
       "      <td>False</td>\n",
       "      <td>False</td>\n",
       "      <td>False</td>\n",
       "      <td>...</td>\n",
       "      <td>False</td>\n",
       "      <td>False</td>\n",
       "      <td>False</td>\n",
       "      <td>False</td>\n",
       "      <td>False</td>\n",
       "      <td>False</td>\n",
       "      <td>False</td>\n",
       "      <td>False</td>\n",
       "      <td>False</td>\n",
       "      <td>False</td>\n",
       "    </tr>\n",
       "    <tr>\n",
       "      <th>29</th>\n",
       "      <td>False</td>\n",
       "      <td>False</td>\n",
       "      <td>False</td>\n",
       "      <td>False</td>\n",
       "      <td>False</td>\n",
       "      <td>False</td>\n",
       "      <td>False</td>\n",
       "      <td>False</td>\n",
       "      <td>False</td>\n",
       "      <td>False</td>\n",
       "      <td>...</td>\n",
       "      <td>False</td>\n",
       "      <td>False</td>\n",
       "      <td>False</td>\n",
       "      <td>False</td>\n",
       "      <td>False</td>\n",
       "      <td>False</td>\n",
       "      <td>False</td>\n",
       "      <td>False</td>\n",
       "      <td>False</td>\n",
       "      <td>False</td>\n",
       "    </tr>\n",
       "    <tr>\n",
       "      <th>30</th>\n",
       "      <td>False</td>\n",
       "      <td>False</td>\n",
       "      <td>False</td>\n",
       "      <td>False</td>\n",
       "      <td>False</td>\n",
       "      <td>False</td>\n",
       "      <td>False</td>\n",
       "      <td>False</td>\n",
       "      <td>False</td>\n",
       "      <td>False</td>\n",
       "      <td>...</td>\n",
       "      <td>False</td>\n",
       "      <td>False</td>\n",
       "      <td>False</td>\n",
       "      <td>False</td>\n",
       "      <td>False</td>\n",
       "      <td>False</td>\n",
       "      <td>False</td>\n",
       "      <td>False</td>\n",
       "      <td>False</td>\n",
       "      <td>False</td>\n",
       "    </tr>\n",
       "    <tr>\n",
       "      <th>31</th>\n",
       "      <td>False</td>\n",
       "      <td>False</td>\n",
       "      <td>False</td>\n",
       "      <td>False</td>\n",
       "      <td>False</td>\n",
       "      <td>False</td>\n",
       "      <td>False</td>\n",
       "      <td>False</td>\n",
       "      <td>False</td>\n",
       "      <td>False</td>\n",
       "      <td>...</td>\n",
       "      <td>False</td>\n",
       "      <td>False</td>\n",
       "      <td>False</td>\n",
       "      <td>False</td>\n",
       "      <td>False</td>\n",
       "      <td>False</td>\n",
       "      <td>False</td>\n",
       "      <td>False</td>\n",
       "      <td>False</td>\n",
       "      <td>False</td>\n",
       "    </tr>\n",
       "    <tr>\n",
       "      <th>32</th>\n",
       "      <td>False</td>\n",
       "      <td>False</td>\n",
       "      <td>False</td>\n",
       "      <td>False</td>\n",
       "      <td>False</td>\n",
       "      <td>False</td>\n",
       "      <td>False</td>\n",
       "      <td>False</td>\n",
       "      <td>False</td>\n",
       "      <td>False</td>\n",
       "      <td>...</td>\n",
       "      <td>False</td>\n",
       "      <td>False</td>\n",
       "      <td>False</td>\n",
       "      <td>False</td>\n",
       "      <td>False</td>\n",
       "      <td>False</td>\n",
       "      <td>False</td>\n",
       "      <td>False</td>\n",
       "      <td>False</td>\n",
       "      <td>False</td>\n",
       "    </tr>\n",
       "    <tr>\n",
       "      <th>33</th>\n",
       "      <td>False</td>\n",
       "      <td>False</td>\n",
       "      <td>False</td>\n",
       "      <td>False</td>\n",
       "      <td>False</td>\n",
       "      <td>False</td>\n",
       "      <td>False</td>\n",
       "      <td>False</td>\n",
       "      <td>False</td>\n",
       "      <td>False</td>\n",
       "      <td>...</td>\n",
       "      <td>False</td>\n",
       "      <td>False</td>\n",
       "      <td>False</td>\n",
       "      <td>False</td>\n",
       "      <td>False</td>\n",
       "      <td>False</td>\n",
       "      <td>False</td>\n",
       "      <td>False</td>\n",
       "      <td>False</td>\n",
       "      <td>False</td>\n",
       "    </tr>\n",
       "    <tr>\n",
       "      <th>34</th>\n",
       "      <td>False</td>\n",
       "      <td>False</td>\n",
       "      <td>False</td>\n",
       "      <td>False</td>\n",
       "      <td>False</td>\n",
       "      <td>False</td>\n",
       "      <td>False</td>\n",
       "      <td>False</td>\n",
       "      <td>False</td>\n",
       "      <td>False</td>\n",
       "      <td>...</td>\n",
       "      <td>False</td>\n",
       "      <td>False</td>\n",
       "      <td>False</td>\n",
       "      <td>False</td>\n",
       "      <td>False</td>\n",
       "      <td>False</td>\n",
       "      <td>False</td>\n",
       "      <td>False</td>\n",
       "      <td>False</td>\n",
       "      <td>False</td>\n",
       "    </tr>\n",
       "    <tr>\n",
       "      <th>35</th>\n",
       "      <td>False</td>\n",
       "      <td>False</td>\n",
       "      <td>False</td>\n",
       "      <td>False</td>\n",
       "      <td>False</td>\n",
       "      <td>False</td>\n",
       "      <td>False</td>\n",
       "      <td>False</td>\n",
       "      <td>False</td>\n",
       "      <td>False</td>\n",
       "      <td>...</td>\n",
       "      <td>False</td>\n",
       "      <td>False</td>\n",
       "      <td>False</td>\n",
       "      <td>False</td>\n",
       "      <td>False</td>\n",
       "      <td>False</td>\n",
       "      <td>False</td>\n",
       "      <td>False</td>\n",
       "      <td>False</td>\n",
       "      <td>False</td>\n",
       "    </tr>\n",
       "  </tbody>\n",
       "</table>\n",
       "<p>36 rows × 7466 columns</p>\n",
       "</div>"
      ],
      "text/plain": [
       "    Unnamed: 0  X53416  M83670  X90908  M97496  X90908.1  U37019  R48602  \\\n",
       "0        False   False   False   False   False     False   False   False   \n",
       "1        False   False   False   False   False     False   False   False   \n",
       "2        False   False   False   False   False     False   False   False   \n",
       "3        False   False   False   False   False     False   False   False   \n",
       "4        False   False   False   False   False     False   False   False   \n",
       "5        False   False   False   False   False     False   False   False   \n",
       "6        False   False   False   False   False     False   False   False   \n",
       "7        False   False   False   False   False     False   False   False   \n",
       "8        False   False   False   False   False     False   False   False   \n",
       "9        False   False   False   False   False     False   False   False   \n",
       "10       False   False   False   False   False     False   False   False   \n",
       "11       False   False   False   False   False     False   False   False   \n",
       "12       False   False   False   False   False     False   False   False   \n",
       "13       False   False   False   False   False     False   False   False   \n",
       "14       False   False   False   False   False     False   False   False   \n",
       "15       False   False   False   False   False     False   False   False   \n",
       "16       False   False   False   False   False     False   False   False   \n",
       "17       False   False   False   False   False     False   False   False   \n",
       "18       False   False   False   False   False     False   False   False   \n",
       "19       False   False   False   False   False     False   False   False   \n",
       "20       False   False   False   False   False     False   False   False   \n",
       "21       False   False   False   False   False     False   False   False   \n",
       "22       False   False   False   False   False     False   False   False   \n",
       "23       False   False   False   False   False     False   False   False   \n",
       "24       False   False   False   False   False     False   False   False   \n",
       "25       False   False   False   False   False     False   False   False   \n",
       "26       False   False   False   False   False     False   False   False   \n",
       "27       False   False   False   False   False     False   False   False   \n",
       "28       False   False   False   False   False     False   False   False   \n",
       "29       False   False   False   False   False     False   False   False   \n",
       "30       False   False   False   False   False     False   False   False   \n",
       "31       False   False   False   False   False     False   False   False   \n",
       "32       False   False   False   False   False     False   False   False   \n",
       "33       False   False   False   False   False     False   False   False   \n",
       "34       False   False   False   False   False     False   False   False   \n",
       "35       False   False   False   False   False     False   False   False   \n",
       "\n",
       "    T96548  X64559  ...  H87456  R64130  H11125.1  U22055  L22524  M13699.1  \\\n",
       "0    False   False  ...   False   False     False   False   False     False   \n",
       "1    False   False  ...   False   False     False   False   False     False   \n",
       "2    False   False  ...   False   False     False   False   False     False   \n",
       "3    False   False  ...   False   False     False   False   False     False   \n",
       "4    False   False  ...   False   False     False   False   False     False   \n",
       "5    False   False  ...   False   False     False   False   False     False   \n",
       "6    False   False  ...   False   False     False   False   False     False   \n",
       "7    False   False  ...   False   False     False   False   False     False   \n",
       "8    False   False  ...   False   False     False   False   False     False   \n",
       "9    False   False  ...   False   False     False   False   False     False   \n",
       "10   False   False  ...   False   False     False   False   False     False   \n",
       "11   False   False  ...   False   False     False   False   False     False   \n",
       "12   False   False  ...   False   False     False   False   False     False   \n",
       "13   False   False  ...   False   False     False   False   False     False   \n",
       "14   False   False  ...   False   False     False   False   False     False   \n",
       "15   False   False  ...   False   False     False   False   False     False   \n",
       "16   False   False  ...   False   False     False   False   False     False   \n",
       "17   False   False  ...   False   False     False   False   False     False   \n",
       "18   False   False  ...   False   False     False   False   False     False   \n",
       "19   False   False  ...   False   False     False   False   False     False   \n",
       "20   False   False  ...   False   False     False   False   False     False   \n",
       "21   False   False  ...   False   False     False   False   False     False   \n",
       "22   False   False  ...   False   False     False   False   False     False   \n",
       "23   False   False  ...   False   False     False   False   False     False   \n",
       "24   False   False  ...   False   False     False   False   False     False   \n",
       "25   False   False  ...   False   False     False   False   False     False   \n",
       "26   False   False  ...   False   False     False   False   False     False   \n",
       "27   False   False  ...   False   False     False   False   False     False   \n",
       "28   False   False  ...   False   False     False   False   False     False   \n",
       "29   False   False  ...   False   False     False   False   False     False   \n",
       "30   False   False  ...   False   False     False   False   False     False   \n",
       "31   False   False  ...   False   False     False   False   False     False   \n",
       "32   False   False  ...   False   False     False   False   False     False   \n",
       "33   False   False  ...   False   False     False   False   False     False   \n",
       "34   False   False  ...   False   False     False   False   False     False   \n",
       "35   False   False  ...   False   False     False   False   False     False   \n",
       "\n",
       "    X54489  T55008  M10065.2      y  \n",
       "0    False   False     False  False  \n",
       "1    False   False     False  False  \n",
       "2    False   False     False  False  \n",
       "3    False   False     False  False  \n",
       "4    False   False     False  False  \n",
       "5    False   False     False  False  \n",
       "6    False   False     False  False  \n",
       "7    False   False     False  False  \n",
       "8    False   False     False  False  \n",
       "9    False   False     False  False  \n",
       "10   False   False     False  False  \n",
       "11   False   False     False  False  \n",
       "12   False   False     False  False  \n",
       "13   False   False     False  False  \n",
       "14   False   False     False  False  \n",
       "15   False   False     False  False  \n",
       "16   False   False     False  False  \n",
       "17   False   False     False  False  \n",
       "18   False   False     False  False  \n",
       "19   False   False     False  False  \n",
       "20   False   False     False  False  \n",
       "21   False   False     False  False  \n",
       "22   False   False     False  False  \n",
       "23   False   False     False  False  \n",
       "24   False   False     False  False  \n",
       "25   False   False     False  False  \n",
       "26   False   False     False  False  \n",
       "27   False   False     False  False  \n",
       "28   False   False     False  False  \n",
       "29   False   False     False  False  \n",
       "30   False   False     False  False  \n",
       "31   False   False     False  False  \n",
       "32   False   False     False  False  \n",
       "33   False   False     False  False  \n",
       "34   False   False     False  False  \n",
       "35   False   False     False  False  \n",
       "\n",
       "[36 rows x 7466 columns]"
      ]
     },
     "execution_count": 7,
     "metadata": {},
     "output_type": "execute_result"
    }
   ],
   "source": [
    "df.isnull()"
   ]
  },
  {
   "cell_type": "code",
   "execution_count": 8,
   "id": "0e3ec35f",
   "metadata": {},
   "outputs": [
    {
     "data": {
      "text/plain": [
       "Unnamed: 0    0\n",
       "X53416        0\n",
       "M83670        0\n",
       "X90908        0\n",
       "M97496        0\n",
       "             ..\n",
       "M13699.1      0\n",
       "X54489        0\n",
       "T55008        0\n",
       "M10065.2      0\n",
       "y             0\n",
       "Length: 7466, dtype: int64"
      ]
     },
     "execution_count": 8,
     "metadata": {},
     "output_type": "execute_result"
    }
   ],
   "source": [
    "df.isnull().sum()"
   ]
  },
  {
   "cell_type": "code",
   "execution_count": 9,
   "id": "6c897207",
   "metadata": {},
   "outputs": [],
   "source": [
    "df.dropna(inplace=True)"
   ]
  },
  {
   "cell_type": "code",
   "execution_count": 10,
   "id": "2c624323",
   "metadata": {},
   "outputs": [
    {
     "name": "stdout",
     "output_type": "stream",
     "text": [
      "<class 'pandas.core.frame.DataFrame'>\n",
      "Int64Index: 36 entries, 0 to 35\n",
      "Columns: 7466 entries, Unnamed: 0 to y\n",
      "dtypes: int64(7465), object(1)\n",
      "memory usage: 2.1+ MB\n"
     ]
    }
   ],
   "source": [
    "df.info()"
   ]
  },
  {
   "cell_type": "code",
   "execution_count": 11,
   "id": "c00630a8",
   "metadata": {},
   "outputs": [
    {
     "data": {
      "text/plain": [
       "Index(['Unnamed: 0', 'X53416', 'M83670', 'X90908', 'M97496', 'X90908.1',\n",
       "       'U37019', 'R48602', 'T96548', 'X64559',\n",
       "       ...\n",
       "       'H87456', 'R64130', 'H11125.1', 'U22055', 'L22524', 'M13699.1',\n",
       "       'X54489', 'T55008', 'M10065.2', 'y'],\n",
       "      dtype='object', length=7466)"
      ]
     },
     "execution_count": 11,
     "metadata": {},
     "output_type": "execute_result"
    }
   ],
   "source": [
    "df.columns"
   ]
  },
  {
   "cell_type": "code",
   "execution_count": 12,
   "id": "d9a1c7e0",
   "metadata": {},
   "outputs": [],
   "source": [
    "#Check Unique Value"
   ]
  },
  {
   "cell_type": "code",
   "execution_count": 13,
   "id": "66ca0442",
   "metadata": {
    "scrolled": true
   },
   "outputs": [
    {
     "data": {
      "text/plain": [
       "array(['tumor', 'Normal'], dtype=object)"
      ]
     },
     "execution_count": 13,
     "metadata": {},
     "output_type": "execute_result"
    }
   ],
   "source": [
    "df['y'].unique()"
   ]
  },
  {
   "cell_type": "code",
   "execution_count": 14,
   "id": "dbc52d34",
   "metadata": {},
   "outputs": [],
   "source": [
    "#Drop"
   ]
  },
  {
   "cell_type": "code",
   "execution_count": 15,
   "id": "97c7ca48",
   "metadata": {},
   "outputs": [],
   "source": [
    "df.drop(columns=['Unnamed: 0'],axis=1,inplace=True)"
   ]
  },
  {
   "cell_type": "code",
   "execution_count": 16,
   "id": "924825fa",
   "metadata": {},
   "outputs": [
    {
     "name": "stdout",
     "output_type": "stream",
     "text": [
      "<class 'pandas.core.frame.DataFrame'>\n",
      "Int64Index: 36 entries, 0 to 35\n",
      "Columns: 7465 entries, X53416 to y\n",
      "dtypes: int64(7464), object(1)\n",
      "memory usage: 2.1+ MB\n"
     ]
    }
   ],
   "source": [
    "df.info()"
   ]
  },
  {
   "cell_type": "code",
   "execution_count": 17,
   "id": "e53fd94a",
   "metadata": {},
   "outputs": [
    {
     "name": "stdout",
     "output_type": "stream",
     "text": [
      "Range of values: [-5655, 6628]\n",
      "Size with int64: 2099.53KiB\n",
      "Size with int16: 525.09KiB\n"
     ]
    }
   ],
   "source": [
    "numeric_columns = df.select_dtypes(\"number\")\n",
    "print(\"Range of values:\", \n",
    "      f\"[{numeric_columns.min().min()}, {numeric_columns.max().max()}]\\n\"\n",
    "      f\"Size with {numeric_columns.dtypes.unique()[0]}:\",\n",
    "      f\"{numeric_columns.memory_usage().sum() / 1024:.2f}KiB\")\n",
    "\n",
    "numeric_columns = numeric_columns.astype(\"int16\")\n",
    "print(f\"Size with {numeric_columns.dtypes.unique()[0]}: \"\n",
    "      f\"{numeric_columns.memory_usage().sum() / 1024:.2f}KiB\")"
   ]
  },
  {
   "cell_type": "code",
   "execution_count": 18,
   "id": "846b7fad",
   "metadata": {},
   "outputs": [
    {
     "name": "stdout",
     "output_type": "stream",
     "text": [
      "Top 15 positively correlated:\n",
      "----------------------------\n",
      "\n",
      "X90908    X90908.1    0.999657\n",
      "          T64171      0.998909\n",
      "          T55255      0.998765\n",
      "T64171    T55255      0.998747\n",
      "X90908.1  T55255      0.998714\n",
      "          T64171      0.998128\n",
      "M31516    M31516.1    0.997726\n",
      "M10373    T63266      0.997556\n",
      "T55255    T63266      0.997480\n",
      "T64171    H71150      0.997409\n",
      "M10373    H71150      0.997366\n",
      "X90908.1  T63266      0.997275\n",
      "T55255    H71150      0.997253\n",
      "X90908    M10373      0.997135\n",
      "          T63266      0.997127\n",
      "dtype: float64\n",
      "\n",
      "Top 15 negatively correlated:\n",
      "----------------------------\n",
      "\n",
      "U14518    T89991     -0.998389\n",
      "H59796    D63882     -0.997120\n",
      "H89939    H88522     -0.984687\n",
      "M55513    M55513.1   -0.984583\n",
      "H92523    H88522     -0.984557\n",
      "H92279    T89991     -0.982657\n",
      "R23924    M24902     -0.980429\n",
      "H37925    H11125.1   -0.977597\n",
      "R16250.1  X13897.1   -0.977312\n",
      "X83857    H88522     -0.976782\n",
      "T67704    M24902     -0.974658\n",
      "R55241    H92523     -0.974356\n",
      "M97388    T89991     -0.973309\n",
      "H37925    R73844     -0.972835\n",
      "H89939    R55241     -0.971837\n",
      "dtype: float64\n"
     ]
    }
   ],
   "source": [
    "corr = df.corr().unstack()\n",
    "print(\"Top 15 positively correlated:\\n\", \"-\"*28, \"\\n\\n\",\n",
    "      # We select 30 and drop duplicates since correlation is symmetric\n",
    "      # i.e. correlation(a, b) == correlation(b, a)\n",
    "      corr[corr < 1].nlargest(30).drop_duplicates(),\n",
    "      \"\\n\\nTop 15 negatively correlated:\\n\", \"-\"*28, \"\\n\\n\", \n",
    "      corr.nsmallest(30).drop_duplicates(),\n",
    "      sep=\"\")"
   ]
  },
  {
   "cell_type": "code",
   "execution_count": 19,
   "id": "c5b87570",
   "metadata": {},
   "outputs": [
    {
     "data": {
      "image/png": "[encoded data removed]",
      "text/plain": [
       "<Figure size 864x432 with 1 Axes>"
      ]
     },
     "metadata": {
      "needs_background": "light"
     },
     "output_type": "display_data"
    }
   ],
   "source": [
    "interval = range(20, 37)\n",
    "variance_proportion = []\n",
    "standardized_numeric_columns = StandardScaler().fit_transform(numeric_columns)\n",
    "\n",
    "for n in interval:\n",
    "    p = PCA(n).fit(standardized_numeric_columns)\n",
    "    variance_proportion.append(p.explained_variance_ratio_.sum())\n",
    "\n",
    "fig, ax = plt.subplots(figsize=(12, 6))\n",
    "bars = ax.bar(interval, variance_proportion)\n",
    "\n",
    "# Add bar labels\n",
    "for rect in bars:\n",
    "    height = rect.get_height()\n",
    "    ax.annotate(f\"{height:.0%}\", xy=(rect.get_x() + rect.get_width() / 2, height),\n",
    "                xytext=(0, 3), textcoords=\"offset points\",\n",
    "                ha='center', va='bottom')\n",
    "\n",
    "ax.xaxis.set_major_locator(FixedLocator(interval))\n",
    "ax.set_title(\"Principal Component Analysis\", size=16, pad=30)\n",
    "ax.set_xlabel(\"Number of Components\")\n",
    "_ = ax.set_ylabel(\"Explained Variance\")"
   ]
  },
  {
   "cell_type": "code",
   "execution_count": null,
   "id": "9e525f3d",
   "metadata": {},
   "outputs": [],
   "source": []
  },
  {
   "cell_type": "code",
   "execution_count": 20,
   "id": "9273ed86",
   "metadata": {},
   "outputs": [
    {
     "data": {
      "image/png": "[encoded data removed]",
      "text/plain": [
       "<Figure size 432x288 with 1 Axes>"
      ]
     },
     "metadata": {
      "needs_background": "light"
     },
     "output_type": "display_data"
    }
   ],
   "source": [
    "target_counts = df[\"y\"].value_counts()\n",
    "ax = target_counts.plot.bar(color=[\"#f55\", \"#5f5\"])\n",
    "for i, v in enumerate(target_counts):\n",
    "    ax.text(i, v, f\"{v} ({v / len(df):.0%})\", ha='center', va='bottom', color='black', fontsize=12)\n",
    "ax.yaxis.set_major_locator(FixedLocator(range(0, 20, 5)))\n",
    "\n",
    "ax.set_title(\"Target Distribution\", size=16, pad=30)\n",
    "ax.set_xlabel(\"Target Class\")\n",
    "ax.set_ylabel(\"Count\")\n",
    "plt.show()"
   ]
  },
  {
   "cell_type": "code",
   "execution_count": 21,
   "id": "be994129",
   "metadata": {},
   "outputs": [
    {
     "data": {
      "image/png": "[encoded data removed]",
      "text/plain": [
       "<Figure size 864x720 with 2 Axes>"
      ]
     },
     "metadata": {
      "needs_background": "light"
     },
     "output_type": "display_data"
    }
   ],
   "source": [
    "# Compute the correlation matrix\n",
    "correlation_matrix = df.corr()\n",
    "\n",
    "# Get the top 15 positively correlated features\n",
    "top_15_pos_corr = correlation_matrix.unstack().sort_values(ascending=False)[:15]\n",
    "\n",
    "# Get the top 15 negatively correlated features\n",
    "top_15_neg_corr = correlation_matrix.unstack().sort_values(ascending=True)[:15]\n",
    "\n",
    "selected_features = pd.concat([top_15_pos_corr, top_15_neg_corr])\n",
    "\n",
    "# Extract column names from the MultiIndex\n",
    "selected_features = selected_features.index.get_level_values(0).unique()\n",
    "\n",
    "subset_df = df[selected_features]\n",
    "\n",
    "subset_corr_matrix = subset_df.corr()\n",
    "\n",
    "# Plot the correlation matrix as a heatmap\n",
    "plt.figure(figsize=(12, 10))\n",
    "sns.heatmap(subset_corr_matrix, annot=True, cmap=\"coolwarm\", fmt=\".2f\", linewidths=2, annot_kws={\"fontsize\": 8})\n",
    "plt.title(\"Correlation Matrix (Top 15 Positively and Negatively Correlated Features)\")\n",
    "plt.tight_layout()\n",
    "plt.show()\n"
   ]
  },
  {
   "cell_type": "code",
   "execution_count": 22,
   "id": "42bca88a",
   "metadata": {},
   "outputs": [],
   "source": [
    "#Label Encoding ()"
   ]
  },
  {
   "cell_type": "code",
   "execution_count": 23,
   "id": "e3ed51d5",
   "metadata": {},
   "outputs": [
    {
     "data": {
      "text/plain": [
       "array([1, 0])"
      ]
     },
     "execution_count": 23,
     "metadata": {},
     "output_type": "execute_result"
    }
   ],
   "source": [
    "label_encoder = preprocessing.LabelEncoder()\n",
    "df['y'] = label_encoder.fit_transform(df['y'])\n",
    "df['y'].unique()"
   ]
  },
  {
   "cell_type": "code",
   "execution_count": 24,
   "id": "3c7d0c60",
   "metadata": {},
   "outputs": [],
   "source": [
    "#Normalization"
   ]
  },
  {
   "cell_type": "code",
   "execution_count": 25,
   "id": "391f3662",
   "metadata": {},
   "outputs": [],
   "source": [
    "for i in df.columns:\n",
    "    for j in df[i].values:\n",
    "        if j > 1 or j <= -2:\n",
    "            df[i] = (df[i] - np.min(df[i])) / (np.max(df[i]) - np.min(df[i]))"
   ]
  },
  {
   "cell_type": "code",
   "execution_count": 26,
   "id": "6f352f28",
   "metadata": {},
   "outputs": [],
   "source": [
    "#Drop y(dependent var) to perform later Train test split"
   ]
  },
  {
   "cell_type": "code",
   "execution_count": 27,
   "id": "cfc4a904",
   "metadata": {},
   "outputs": [],
   "source": [
    "y = df[\"y\"]\n",
    "X = df.drop([\"y\"],axis = 1)"
   ]
  },
  {
   "cell_type": "code",
   "execution_count": 28,
   "id": "986aba45",
   "metadata": {},
   "outputs": [],
   "source": [
    "X_train, X_test, y_train, y_test = train_test_split(X,y,test_size = 0.2,random_state = 0)"
   ]
  },
  {
   "cell_type": "code",
   "execution_count": 29,
   "id": "4d3bfea4",
   "metadata": {},
   "outputs": [
    {
     "name": "stdout",
     "output_type": "stream",
     "text": [
      "(28, 7464)\n",
      "(28,)\n"
     ]
    }
   ],
   "source": [
    "print(X_train.shape); print(y_train.shape)"
   ]
  },
  {
   "cell_type": "code",
   "execution_count": 30,
   "id": "df23a0f9",
   "metadata": {},
   "outputs": [
    {
     "data": {
      "text/plain": [
       "float64    7464\n",
       "int32         1\n",
       "dtype: int64"
      ]
     },
     "execution_count": 30,
     "metadata": {},
     "output_type": "execute_result"
    }
   ],
   "source": [
    "df.dtypes.value_counts()"
   ]
  },
  {
   "cell_type": "code",
   "execution_count": 31,
   "id": "de15940c",
   "metadata": {},
   "outputs": [
    {
     "name": "stdout",
     "output_type": "stream",
     "text": [
      "Range of values: [0.0, 1.0]\n",
      "Size with float64: 2099.67KiB\n",
      "Size with int16: 525.16KiB\n"
     ]
    }
   ],
   "source": [
    "numeric_columns = df.select_dtypes(\"number\")\n",
    "print(\"Range of values:\", \n",
    "      f\"[{numeric_columns.min().min()}, {numeric_columns.max().max()}]\\n\"\n",
    "      f\"Size with {numeric_columns.dtypes.unique()[0]}:\",\n",
    "      f\"{numeric_columns.memory_usage().sum() / 1024:.2f}KiB\")\n",
    "\n",
    "numeric_columns = numeric_columns.astype(\"int16\")\n",
    "print(f\"Size with {numeric_columns.dtypes.unique()[0]}: \"\n",
    "      f\"{numeric_columns.memory_usage().sum() / 1024:.2f}KiB\")\n",
    "\n"
   ]
  },
  {
   "cell_type": "code",
   "execution_count": 32,
   "id": "c4c690ce",
   "metadata": {},
   "outputs": [
    {
     "data": {
      "text/plain": [
       "'\\nMachine Learning (Classification)\\n\\n    Logistic Regression\\n    KNN(K Neighbors)\\n    Decision Tree\\n    Random Forests\\n    SVM\\n    \\n    Voting from all above\\n    \\n    GBM (Gradient Boosting Machine)\\n    AdaBoost\\n    Bagging\\n    \\n    Perform gridsearch for hyperparameter tuning for each model\\n'"
      ]
     },
     "execution_count": 32,
     "metadata": {},
     "output_type": "execute_result"
    }
   ],
   "source": [
    "#Machine Learning \n",
    "\n",
    "'''\n",
    "Machine Learning (Classification)\n",
    "\n",
    "    Logistic Regression\n",
    "    KNN(K Neighbors)\n",
    "    Decision Tree\n",
    "    Random Forests\n",
    "    SVM\n",
    "    \n",
    "    Voting from all above\n",
    "    \n",
    "    GBM (Gradient Boosting Machine)\n",
    "    AdaBoost\n",
    "    Bagging\n",
    "    \n",
    "    Perform gridsearch for hyperparameter tuning for each model\n",
    "'''"
   ]
  },
  {
   "cell_type": "code",
   "execution_count": 33,
   "id": "331ccb4a",
   "metadata": {},
   "outputs": [],
   "source": [
    "from sklearn.metrics import r2_score, mean_squared_error, confusion_matrix, roc_curve, classification_report\n",
    "from sklearn.model_selection import train_test_split, cross_val_score, GridSearchCV\n",
    "from sklearn.preprocessing import LabelEncoder\n",
    "from sklearn.linear_model import LogisticRegression\n",
    "from sklearn.tree import DecisionTreeClassifier\n",
    "from sklearn.ensemble import RandomForestClassifier,AdaBoostClassifier,BaggingClassifier,GradientBoostingClassifier\n",
    "from sklearn.neighbors import KNeighborsClassifier\n",
    "from sklearn.svm import SVC\n",
    "from collections import Counter\n",
    "from sklearn.metrics import r2_score"
   ]
  },
  {
   "cell_type": "code",
   "execution_count": 34,
   "id": "62b34b39",
   "metadata": {},
   "outputs": [
    {
     "data": {
      "text/plain": [
       "LogisticRegression(max_iter=900, random_state=0)"
      ]
     },
     "execution_count": 34,
     "metadata": {},
     "output_type": "execute_result"
    }
   ],
   "source": [
    "log_reg=LogisticRegression(random_state=0,max_iter=900)\n",
    "log_reg.fit(X_train,y_train)"
   ]
  },
  {
   "cell_type": "code",
   "execution_count": 35,
   "id": "50ff3f43",
   "metadata": {},
   "outputs": [],
   "source": [
    "y_pred=log_reg.predict(X_test)\n"
   ]
  },
  {
   "cell_type": "code",
   "execution_count": 36,
   "id": "307467bc",
   "metadata": {},
   "outputs": [
    {
     "data": {
      "text/plain": [
       "1.0"
      ]
     },
     "execution_count": 36,
     "metadata": {},
     "output_type": "execute_result"
    }
   ],
   "source": [
    "log_reg.score(X_test,y_test)\n"
   ]
  },
  {
   "cell_type": "code",
   "execution_count": 37,
   "id": "8564e449",
   "metadata": {},
   "outputs": [
    {
     "data": {
      "text/plain": [
       "array([[4, 0],\n",
       "       [0, 4]], dtype=int64)"
      ]
     },
     "execution_count": 37,
     "metadata": {},
     "output_type": "execute_result"
    }
   ],
   "source": [
    "from sklearn import metrics\n",
    "cnf_matrix = metrics.confusion_matrix(y_test, y_pred)\n",
    "cnf_matrix"
   ]
  },
  {
   "cell_type": "code",
   "execution_count": 38,
   "id": "2954321a",
   "metadata": {},
   "outputs": [
    {
     "name": "stdout",
     "output_type": "stream",
     "text": [
      "              precision    recall  f1-score   support\n",
      "\n",
      "           0       1.00      1.00      1.00         4\n",
      "           1       1.00      1.00      1.00         4\n",
      "\n",
      "    accuracy                           1.00         8\n",
      "   macro avg       1.00      1.00      1.00         8\n",
      "weighted avg       1.00      1.00      1.00         8\n",
      "\n"
     ]
    }
   ],
   "source": [
    "print(classification_report(y_test, y_pred))"
   ]
  },
  {
   "cell_type": "code",
   "execution_count": 39,
   "id": "b92015d9",
   "metadata": {},
   "outputs": [
    {
     "name": "stdout",
     "output_type": "stream",
     "text": [
      "Score :  1.0\n"
     ]
    },
    {
     "data": {
      "image/png": "[encoded data removed]",
      "text/plain": [
       "<Figure size 432x288 with 2 Axes>"
      ]
     },
     "metadata": {
      "needs_background": "light"
     },
     "output_type": "display_data"
    }
   ],
   "source": [
    "# Plotting of Confusion Matrics of Logistic Regression\n",
    "from sklearn.metrics import confusion_matrix\n",
    "pred_list = [log_reg]\n",
    "\n",
    "for i in pred_list:\n",
    "    print(\"Score : \",i.score(X_test,y_test))\n",
    "    y_pred = i.predict(X_test)\n",
    "    sns.heatmap(confusion_matrix(y_test,y_pred), annot = True)\n",
    "    plt.xlabel(\"Y_pred\")\n",
    "    plt.ylabel(\"Y_test\")\n",
    "    plt.title(i)\n",
    "    plt.show()"
   ]
  },
  {
   "cell_type": "code",
   "execution_count": 40,
   "id": "215326b0",
   "metadata": {},
   "outputs": [
    {
     "data": {
      "text/plain": [
       "{'C': 0.001, 'penalty': 'l2'}"
      ]
     },
     "execution_count": 40,
     "metadata": {},
     "output_type": "execute_result"
    }
   ],
   "source": [
    "# GridSearchCV\n",
    "\n",
    "params = {'C': np.logspace(-3, 3, 7), 'penalty': ['l1', 'l2']}\n",
    "lr_model = LogisticRegression(random_state = 0)\n",
    "lr_cv = GridSearchCV(lr_model,params,cv = 5).fit(X_train,y_train)\n",
    "lr_cv.best_params_"
   ]
  },
  {
   "cell_type": "code",
   "execution_count": 41,
   "id": "9afb51e1",
   "metadata": {},
   "outputs": [
    {
     "data": {
      "text/plain": [
       "LogisticRegression(C=0.01, random_state=0)"
      ]
     },
     "execution_count": 41,
     "metadata": {},
     "output_type": "execute_result"
    }
   ],
   "source": [
    "log_reg2 = LogisticRegression(C = .01,random_state = 0,penalty= 'l2')\n",
    "log_reg2.fit(X_train,y_train)"
   ]
  },
  {
   "cell_type": "code",
   "execution_count": 42,
   "id": "971f95bf",
   "metadata": {},
   "outputs": [
    {
     "data": {
      "text/plain": [
       "array([0, 0, 1, 0, 0, 1, 1, 1])"
      ]
     },
     "execution_count": 42,
     "metadata": {},
     "output_type": "execute_result"
    }
   ],
   "source": [
    "log_reg2.predict(X_test)"
   ]
  },
  {
   "cell_type": "code",
   "execution_count": 43,
   "id": "58d17029",
   "metadata": {},
   "outputs": [
    {
     "data": {
      "text/plain": [
       "1.0"
      ]
     },
     "execution_count": 43,
     "metadata": {},
     "output_type": "execute_result"
    }
   ],
   "source": [
    "log_reg2.score(X_test,y_test)"
   ]
  },
  {
   "cell_type": "code",
   "execution_count": 44,
   "id": "41a1ecf1",
   "metadata": {},
   "outputs": [
    {
     "data": {
      "text/plain": [
       "array([[4, 0],\n",
       "       [0, 4]], dtype=int64)"
      ]
     },
     "execution_count": 44,
     "metadata": {},
     "output_type": "execute_result"
    }
   ],
   "source": [
    "cnf_matrix = metrics.confusion_matrix(y_test, y_pred)\n",
    "cnf_matrix\n"
   ]
  },
  {
   "cell_type": "code",
   "execution_count": 45,
   "id": "cdffe3d6",
   "metadata": {},
   "outputs": [
    {
     "name": "stdout",
     "output_type": "stream",
     "text": [
      "              precision    recall  f1-score   support\n",
      "\n",
      "           0       1.00      1.00      1.00         4\n",
      "           1       1.00      1.00      1.00         4\n",
      "\n",
      "    accuracy                           1.00         8\n",
      "   macro avg       1.00      1.00      1.00         8\n",
      "weighted avg       1.00      1.00      1.00         8\n",
      "\n"
     ]
    }
   ],
   "source": [
    "print(classification_report(y_test, y_pred))"
   ]
  },
  {
   "cell_type": "code",
   "execution_count": 46,
   "id": "3708c00e",
   "metadata": {},
   "outputs": [
    {
     "name": "stdout",
     "output_type": "stream",
     "text": [
      "Score :  1.0\n"
     ]
    },
    {
     "data": {
      "image/png": "[encoded data removed]",
      "text/plain": [
       "<Figure size 432x288 with 2 Axes>"
      ]
     },
     "metadata": {
      "needs_background": "light"
     },
     "output_type": "display_data"
    }
   ],
   "source": [
    "# Plotting of Confusion Matrics of Logistic Regression\n",
    "from sklearn.metrics import confusion_matrix\n",
    "pred_list = [log_reg]\n",
    "\n",
    "for i in pred_list:\n",
    "    print(\"Score : \",i.score(X_test,y_test))\n",
    "    y_pred = i.predict(X_test)\n",
    "    sns.heatmap(confusion_matrix(y_test,y_pred), annot = True)\n",
    "    plt.xlabel(\"Y_pred\")\n",
    "    plt.ylabel(\"Y_test\")\n",
    "    plt.title(i)\n",
    "    plt.show()"
   ]
  },
  {
   "cell_type": "code",
   "execution_count": 47,
   "id": "b4471cf7",
   "metadata": {},
   "outputs": [
    {
     "name": "stdout",
     "output_type": "stream",
     "text": [
      "Score :  1.0\n"
     ]
    },
    {
     "data": {
      "image/png": "[encoded data removed]",
      "text/plain": [
       "<Figure size 432x288 with 2 Axes>"
      ]
     },
     "metadata": {
      "needs_background": "light"
     },
     "output_type": "display_data"
    }
   ],
   "source": [
    "# Plotting of Confusion Matrics of Logistic Regression (tuned)\n",
    "from sklearn.metrics import confusion_matrix\n",
    "pred_list = [log_reg2]\n",
    "\n",
    "for i in pred_list:\n",
    "    print(\"Score : \",i.score(X_test,y_test))\n",
    "    y_pred = i.predict(X_test)\n",
    "    sns.heatmap(confusion_matrix(y_test,y_pred), annot = True)\n",
    "    plt.xlabel(\"Y_pred\")\n",
    "    plt.ylabel(\"Y_test\")\n",
    "    plt.title(i)\n",
    "    plt.show()"
   ]
  },
  {
   "cell_type": "code",
   "execution_count": 84,
   "id": "11ecbd1a",
   "metadata": {},
   "outputs": [
    {
     "data": {
      "text/plain": [
       "0.75"
      ]
     },
     "execution_count": 84,
     "metadata": {},
     "output_type": "execute_result"
    }
   ],
   "source": [
    "# KNN (K Neighbors)\n",
    "\n",
    "knn = KNeighborsClassifier(n_neighbors = 2).fit(X_train,y_train)\n",
    "knn.score(X_test,y_test)"
   ]
  },
  {
   "cell_type": "code",
   "execution_count": 78,
   "id": "3a9decc6",
   "metadata": {},
   "outputs": [
    {
     "data": {
      "text/plain": [
       "array([0, 0, 0, 0, 0, 0, 1, 1])"
      ]
     },
     "execution_count": 78,
     "metadata": {},
     "output_type": "execute_result"
    }
   ],
   "source": [
    "y_pred = knn.predict(X_test)\n",
    "y_pred"
   ]
  },
  {
   "cell_type": "code",
   "execution_count": 85,
   "id": "998f8160",
   "metadata": {},
   "outputs": [
    {
     "data": {
      "text/plain": [
       "0.75"
      ]
     },
     "execution_count": 85,
     "metadata": {},
     "output_type": "execute_result"
    }
   ],
   "source": [
    "knn.score(X_test,y_test)"
   ]
  },
  {
   "cell_type": "code",
   "execution_count": 51,
   "id": "3c9d5e69",
   "metadata": {},
   "outputs": [
    {
     "data": {
      "text/plain": [
       "array([[4, 0],\n",
       "       [2, 2]], dtype=int64)"
      ]
     },
     "execution_count": 51,
     "metadata": {},
     "output_type": "execute_result"
    }
   ],
   "source": [
    "# Confusion Metrix\n",
    "from sklearn import metrics\n",
    "cnf_matrix = metrics.confusion_matrix(y_test, y_pred)\n",
    "cnf_matrix"
   ]
  },
  {
   "cell_type": "code",
   "execution_count": 52,
   "id": "6e873024",
   "metadata": {},
   "outputs": [
    {
     "name": "stdout",
     "output_type": "stream",
     "text": [
      "              precision    recall  f1-score   support\n",
      "\n",
      "           0       0.67      1.00      0.80         4\n",
      "           1       1.00      0.50      0.67         4\n",
      "\n",
      "    accuracy                           0.75         8\n",
      "   macro avg       0.83      0.75      0.73         8\n",
      "weighted avg       0.83      0.75      0.73         8\n",
      "\n"
     ]
    }
   ],
   "source": [
    "# Classification Report\n",
    "from sklearn.metrics import classification_report\n",
    "print(classification_report(y_test, y_pred))"
   ]
  },
  {
   "cell_type": "code",
   "execution_count": 83,
   "id": "e30620c2",
   "metadata": {},
   "outputs": [
    {
     "name": "stdout",
     "output_type": "stream",
     "text": [
      "Score :  0.75\n"
     ]
    },
    {
     "data": {
      "image/png": "[encoded data removed]",
      "text/plain": [
       "<Figure size 432x288 with 2 Axes>"
      ]
     },
     "metadata": {
      "needs_background": "light"
     },
     "output_type": "display_data"
    }
   ],
   "source": [
    "# Plotting of Confusion Matrix of KNN\n",
    "from sklearn.metrics import confusion_matrix\n",
    "pred_list = [knn]\n",
    "\n",
    "for i in pred_list:\n",
    "    print(\"Score : \",i.score(X_test,y_test))\n",
    "    y_pred = i.predict(X_test)\n",
    "    sns.heatmap(confusion_matrix(y_test,y_pred),annot = True)\n",
    "    plt.xlabel(\"Y_pred\")\n",
    "    plt.ylabel(\"Y_test\")\n",
    "    plt.title(i)\n",
    "    plt.show()"
   ]
  },
  {
   "cell_type": "code",
   "execution_count": 54,
   "id": "b4a63250",
   "metadata": {},
   "outputs": [
    {
     "name": "stdout",
     "output_type": "stream",
     "text": [
      "[0 0 1 0 0 1 1 1]\n"
     ]
    }
   ],
   "source": [
    "# DecisionTree\n",
    "# prediction\n",
    "\n",
    "# Create an instance of the DecisionTreeClassifier\n",
    "tree = DecisionTreeClassifier(random_state = 0).fit(X_train,y_train)\n",
    "\n",
    "# Fit the classifier to the training data\n",
    "tree.fit(X_train, y_train)\n",
    "\n",
    "# Make predictions on the test data\n",
    "y_pred = tree.predict(X_test)\n",
    "\n",
    "# Print the predicted labels\n",
    "print(y_pred)\n"
   ]
  },
  {
   "cell_type": "code",
   "execution_count": 55,
   "id": "e1913451",
   "metadata": {},
   "outputs": [
    {
     "data": {
      "text/plain": [
       "1.0"
      ]
     },
     "execution_count": 55,
     "metadata": {},
     "output_type": "execute_result"
    }
   ],
   "source": [
    "#DecisionTree Accuracy\n",
    "\n",
    "tree.score(X_test,y_test)"
   ]
  },
  {
   "cell_type": "code",
   "execution_count": null,
   "id": "1df51a4d",
   "metadata": {},
   "outputs": [],
   "source": []
  },
  {
   "cell_type": "code",
   "execution_count": 56,
   "id": "eaac680b",
   "metadata": {},
   "outputs": [
    {
     "data": {
      "text/plain": [
       "{'max_depth': 1, 'min_samples_split': 2}"
      ]
     },
     "execution_count": 56,
     "metadata": {},
     "output_type": "execute_result"
    }
   ],
   "source": [
    "params = {\"max_depth\": range(1,10),\n",
    "            \"min_samples_split\" : list(range(2,50))}\n",
    "tree_model = DecisionTreeClassifier(random_state = 0)\n",
    "tree_cv = GridSearchCV(tree_model, params, cv = 10, n_jobs = -1).fit(X_train,y_train)\n",
    "tree_cv.best_params_\n",
    "\n"
   ]
  },
  {
   "cell_type": "code",
   "execution_count": 57,
   "id": "5354624b",
   "metadata": {},
   "outputs": [
    {
     "data": {
      "text/plain": [
       "1.0"
      ]
     },
     "execution_count": 57,
     "metadata": {},
     "output_type": "execute_result"
    }
   ],
   "source": [
    "tree_tuned = DecisionTreeClassifier(max_depth = 1, min_samples_leaf = 7, min_samples_split = 2,random_state = 42).fit(X_train,y_train)\n",
    "tree_tuned.score(X_test,y_test)"
   ]
  },
  {
   "cell_type": "code",
   "execution_count": 58,
   "id": "91a844c6",
   "metadata": {},
   "outputs": [
    {
     "name": "stdout",
     "output_type": "stream",
     "text": [
      "Score :  1.0\n"
     ]
    },
    {
     "data": {
      "image/png": "[encoded data removed]",
      "text/plain": [
       "<Figure size 432x288 with 2 Axes>"
      ]
     },
     "metadata": {
      "needs_background": "light"
     },
     "output_type": "display_data"
    }
   ],
   "source": [
    "# Plotting of Confusion Matrix of Decision Tree Classifier\n",
    "from matplotlib import pyplot as plt\n",
    "import seaborn as sns\n",
    "from sklearn.metrics import confusion_matrix\n",
    "pred_list = [tree]\n",
    "\n",
    "for i in pred_list:\n",
    "    print(\"Score : \",i.score(X_test,y_test))\n",
    "    y_pred = i.predict(X_test)\n",
    "    sns.heatmap(confusion_matrix(y_test,y_pred),annot = True)\n",
    "    plt.xlabel(\"Y_pred\")\n",
    "    plt.ylabel(\"Y_test\")\n",
    "    plt.title(i)\n",
    "    plt.show()"
   ]
  },
  {
   "cell_type": "code",
   "execution_count": 59,
   "id": "f2745586",
   "metadata": {},
   "outputs": [
    {
     "data": {
      "text/plain": [
       "1.0"
      ]
     },
     "execution_count": 59,
     "metadata": {},
     "output_type": "execute_result"
    }
   ],
   "source": [
    "# Random Forest\n",
    "\n",
    "rf = RandomForestClassifier(random_state = 0).fit(X_train,y_train)\n",
    "rf.score(X_test,y_test)\n"
   ]
  },
  {
   "cell_type": "code",
   "execution_count": 60,
   "id": "c60b9107",
   "metadata": {},
   "outputs": [
    {
     "name": "stdout",
     "output_type": "stream",
     "text": [
      "Score :  1.0\n"
     ]
    },
    {
     "data": {
      "image/png": "[encoded data removed]",
      "text/plain": [
       "<Figure size 432x288 with 2 Axes>"
      ]
     },
     "metadata": {
      "needs_background": "light"
     },
     "output_type": "display_data"
    }
   ],
   "source": [
    "# Plotting of confusion matrix of Random Forest Classifier\n",
    "from sklearn.metrics import confusion_matrix\n",
    "pred_list = [rf]\n",
    "\n",
    "for i in pred_list:\n",
    "    print(\"Score : \",i.score(X_test,y_test))\n",
    "    y_pred = i.predict(X_test)\n",
    "    sns.heatmap(confusion_matrix(y_test,y_pred),annot = True)\n",
    "    plt.xlabel(\"Y_pred\")\n",
    "    plt.ylabel(\"Y_test\")\n",
    "    plt.title(i)\n",
    "    plt.show()"
   ]
  },
  {
   "cell_type": "code",
   "execution_count": 61,
   "id": "7339cefc",
   "metadata": {},
   "outputs": [
    {
     "data": {
      "text/plain": [
       "1.0"
      ]
     },
     "execution_count": 61,
     "metadata": {},
     "output_type": "execute_result"
    }
   ],
   "source": [
    "# SVM \n",
    "\n",
    "svm = SVC(random_state = 42).fit(X_train,y_train)\n",
    "svm.score(X_test,y_test)"
   ]
  },
  {
   "cell_type": "code",
   "execution_count": 62,
   "id": "908d81cb",
   "metadata": {},
   "outputs": [],
   "source": [
    "# Ensemble learning techniques"
   ]
  },
  {
   "cell_type": "code",
   "execution_count": 90,
   "id": "fb52eb55",
   "metadata": {},
   "outputs": [
    {
     "name": "stdout",
     "output_type": "stream",
     "text": [
      "Voting Classifier Accuracy: 1.0\n"
     ]
    },
    {
     "data": {
      "image/png": "[encoded data removed]",
      "text/plain": [
       "<Figure size 576x432 with 2 Axes>"
      ]
     },
     "metadata": {
      "needs_background": "light"
     },
     "output_type": "display_data"
    }
   ],
   "source": [
    "from sklearn.ensemble import VotingClassifier\n",
    "\n",
    "log_reg = LogisticRegression(random_state=0)\n",
    "knn = KNeighborsClassifier(n_neighbors = 2).fit(X_train,y_train)\n",
    "rf = RandomForestClassifier(random_state=0)\n",
    "gbm_tuned = GradientBoostingClassifier(max_depth=2, learning_rate=0.01, min_samples_split=2, n_estimators=100, random_state=42)\n",
    "svm = SVC(random_state=42)\n",
    "ada_tuned = AdaBoostClassifier(learning_rate=0.01, n_estimators=1000, random_state=42)\n",
    "bag_tuned = BaggingClassifier(n_estimators=45, random_state=42)\n",
    "\n",
    "classifiers = [('Logistic Regression', log_reg),\n",
    "               ('KNN', knn),\n",
    "               ('Random Forest', rf),\n",
    "               ('Gradient Boosting', gbm_tuned),\n",
    "               ('SVM', svm),\n",
    "               ('AdaBoost', ada_tuned),\n",
    "               ('Bagging', bag_tuned)]\n",
    "\n",
    "# Create a voting classifier\n",
    "voting_classifier = VotingClassifier(estimators=classifiers)\n",
    "\n",
    "voting_classifier.fit(X_train, y_train)\n",
    "\n",
    "accuracy = voting_classifier.score(X_test, y_test)\n",
    "print(\"Voting Classifier Accuracy:\", accuracy)\n",
    "\n",
    "# Plot the confusion matrix\n",
    "from sklearn.metrics import confusion_matrix\n",
    "import seaborn as sns\n",
    "\n",
    "y_pred = voting_classifier.predict(X_test)\n",
    "cm = confusion_matrix(y_test, y_pred)\n",
    "\n",
    "plt.figure(figsize=(8, 6))\n",
    "sns.heatmap(cm, annot=True, fmt=\".0f\", cmap=\"Blues\")\n",
    "plt.title(\"Confusion Matrix - Voting Classifier\")\n",
    "plt.xlabel(\"Predicted Class\")\n",
    "plt.ylabel(\"True Class\")\n",
    "plt.show()\n"
   ]
  },
  {
   "cell_type": "code",
   "execution_count": 64,
   "id": "4c4603bd",
   "metadata": {},
   "outputs": [
    {
     "data": {
      "text/plain": [
       "1.0"
      ]
     },
     "execution_count": 64,
     "metadata": {},
     "output_type": "execute_result"
    }
   ],
   "source": [
    "# GBM\n",
    "gbm = GradientBoostingClassifier(random_state = 42).fit(X_train,y_train)\n",
    "gbm.score(X_test,y_test)"
   ]
  },
  {
   "cell_type": "code",
   "execution_count": 65,
   "id": "9b136963",
   "metadata": {},
   "outputs": [
    {
     "data": {
      "text/plain": [
       "1.0"
      ]
     },
     "execution_count": 65,
     "metadata": {},
     "output_type": "execute_result"
    }
   ],
   "source": [
    "gbm_tuned = GradientBoostingClassifier(max_depth = 2, learning_rate = 0.01, min_samples_split = 2, n_estimators = 100, random_state = 42).fit(X_train,y_train)\n",
    "gbm_tuned.score(X_test,y_test)"
   ]
  },
  {
   "cell_type": "code",
   "execution_count": 66,
   "id": "e4e10ac2",
   "metadata": {},
   "outputs": [
    {
     "data": {
      "text/plain": [
       "1.0"
      ]
     },
     "execution_count": 66,
     "metadata": {},
     "output_type": "execute_result"
    }
   ],
   "source": [
    "# Adaboost\n",
    "ada = AdaBoostClassifier(random_state = 42).fit(X_train,y_train)\n",
    "ada.score(X_test,y_test)"
   ]
  },
  {
   "cell_type": "code",
   "execution_count": 67,
   "id": "2dbb15ec",
   "metadata": {},
   "outputs": [
    {
     "data": {
      "text/plain": [
       "1.0"
      ]
     },
     "execution_count": 67,
     "metadata": {},
     "output_type": "execute_result"
    }
   ],
   "source": [
    "ada_tuned = AdaBoostClassifier(learning_rate = 0.01,n_estimators = 1000,random_state = 42).fit(X_train,y_train)\n",
    "ada_tuned.score(X_test,y_test)"
   ]
  },
  {
   "cell_type": "code",
   "execution_count": 68,
   "id": "1121de39",
   "metadata": {},
   "outputs": [
    {
     "data": {
      "text/plain": [
       "1.0"
      ]
     },
     "execution_count": 68,
     "metadata": {},
     "output_type": "execute_result"
    }
   ],
   "source": [
    "# Bagging\n",
    "bag = BaggingClassifier(random_state = 42).fit(X_train,y_train)\n",
    "bag.score(X_test,y_test)"
   ]
  },
  {
   "cell_type": "code",
   "execution_count": 69,
   "id": "e13461f1",
   "metadata": {},
   "outputs": [
    {
     "data": {
      "text/plain": [
       "1.0"
      ]
     },
     "execution_count": 69,
     "metadata": {},
     "output_type": "execute_result"
    }
   ],
   "source": [
    "bag_tuned = BaggingClassifier(n_estimators = 45,random_state = 42).fit(X_train,y_train)\n",
    "bag_tuned.score(X_test,y_test)"
   ]
  },
  {
   "cell_type": "code",
   "execution_count": 70,
   "id": "6a8515d0",
   "metadata": {},
   "outputs": [],
   "source": [
    "#Compare "
   ]
  },
  {
   "cell_type": "code",
   "execution_count": 80,
   "id": "4f258fe7",
   "metadata": {},
   "outputs": [
    {
     "name": "stdout",
     "output_type": "stream",
     "text": [
      "Score: 1.0\n"
     ]
    },
    {
     "data": {
      "image/png": "[encoded data removed]",
      "text/plain": [
       "<Figure size 432x288 with 2 Axes>"
      ]
     },
     "metadata": {
      "needs_background": "light"
     },
     "output_type": "display_data"
    },
    {
     "name": "stdout",
     "output_type": "stream",
     "text": [
      "Score: 0.75\n"
     ]
    },
    {
     "data": {
      "image/png": "[encoded data removed]",
      "text/plain": [
       "<Figure size 432x288 with 2 Axes>"
      ]
     },
     "metadata": {
      "needs_background": "light"
     },
     "output_type": "display_data"
    },
    {
     "name": "stdout",
     "output_type": "stream",
     "text": [
      "Score: 1.0\n"
     ]
    },
    {
     "data": {
      "image/png": "[encoded data removed]",
      "text/plain": [
       "<Figure size 432x288 with 2 Axes>"
      ]
     },
     "metadata": {
      "needs_background": "light"
     },
     "output_type": "display_data"
    },
    {
     "name": "stdout",
     "output_type": "stream",
     "text": [
      "Score: 1.0\n"
     ]
    },
    {
     "data": {
      "image/png": "[encoded data removed]",
      "text/plain": [
       "<Figure size 432x288 with 2 Axes>"
      ]
     },
     "metadata": {
      "needs_background": "light"
     },
     "output_type": "display_data"
    },
    {
     "name": "stdout",
     "output_type": "stream",
     "text": [
      "Score: 1.0\n"
     ]
    },
    {
     "data": {
      "image/png": "[encoded data removed]",
      "text/plain": [
       "<Figure size 432x288 with 2 Axes>"
      ]
     },
     "metadata": {
      "needs_background": "light"
     },
     "output_type": "display_data"
    },
    {
     "name": "stdout",
     "output_type": "stream",
     "text": [
      "Score: 1.0\n"
     ]
    },
    {
     "data": {
      "image/png": "[encoded data removed]",
      "text/plain": [
       "<Figure size 432x288 with 2 Axes>"
      ]
     },
     "metadata": {
      "needs_background": "light"
     },
     "output_type": "display_data"
    },
    {
     "name": "stdout",
     "output_type": "stream",
     "text": [
      "Score: 1.0\n"
     ]
    },
    {
     "data": {
      "image/png": "[encoded data removed]",
      "text/plain": [
       "<Figure size 432x288 with 2 Axes>"
      ]
     },
     "metadata": {
      "needs_background": "light"
     },
     "output_type": "display_data"
    }
   ],
   "source": [
    "pred_list = [log_reg2, knn, rf, gbm_tuned, svm, ada_tuned, bag_tuned]\n",
    "\n",
    "for classifier in pred_list:\n",
    "    classifier.fit(X_train, y_train)  # Fit the classifier with training data\n",
    "    score = classifier.score(X_test, y_test)\n",
    "    y_pred = classifier.predict(X_test)\n",
    "    \n",
    "    print(\"Score:\", score)\n",
    "    sns.heatmap(confusion_matrix(y_test, y_pred), annot=True)\n",
    "    plt.xlabel(\"Y_pred\")\n",
    "    plt.ylabel(\"Y_test\")\n",
    "    plt.title(str(classifier))\n",
    "    plt.show()\n"
   ]
  },
  {
   "cell_type": "code",
   "execution_count": null,
   "id": "07848c83",
   "metadata": {},
   "outputs": [],
   "source": []
  }
 ],
 "metadata": {
  "kernelspec": {
   "display_name": "Python 3",
   "language": "python",
   "name": "python3"
  },
  "language_info": {
   "codemirror_mode": {
    "name": "ipython",
    "version": 3
   },
   "file_extension": ".py",
   "mimetype": "text/x-python",
   "name": "python",
   "nbconvert_exporter": "python",
   "pygments_lexer": "ipython3",
   "version": "3.8.8"
  }
 },
 "nbformat": 4,
 "nbformat_minor": 5
}
