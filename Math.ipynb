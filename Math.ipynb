{
 "cells": [
  {
   "cell_type": "markdown",
   "metadata": {},
   "source": [
    "# 1.2 Implementation\n",
    "Import corresponding modules in advance."
   ]
  },
  {
   "cell_type": "code",
   "execution_count": 26,
   "metadata": {},
   "outputs": [
    {
     "data": {
      "text/plain": [
       "'import math    math.sqrt(5)\\nimport math as mt    mt.sqrt(5)\\nfrom math import sqrt      sqrt(5)\\nfrom math import *         sqrt(5), power(5), ceil(5)'"
      ]
     },
     "execution_count": 26,
     "metadata": {},
     "output_type": "execute_result"
    }
   ],
   "source": [
    "import math \n",
    "import numpy as np\n",
    "\n",
    "'''import math    math.sqrt(5)\n",
    "import math as mt    mt.sqrt(5)\n",
    "from math import sqrt      sqrt(5)\n",
    "from math import *         sqrt(5), power(5), ceil(5)'''"
   ]
  },
  {
   "cell_type": "code",
   "execution_count": 33,
   "metadata": {},
   "outputs": [
    {
     "data": {
      "text/plain": [
       "5"
      ]
     },
     "execution_count": 33,
     "metadata": {},
     "output_type": "execute_result"
    }
   ],
   "source": [
    "round(4.9)"
   ]
  },
  {
   "cell_type": "code",
   "execution_count": 2,
   "metadata": {},
   "outputs": [
    {
     "data": {
      "text/plain": [
       "5"
      ]
     },
     "execution_count": 2,
     "metadata": {},
     "output_type": "execute_result"
    }
   ],
   "source": [
    "math.ceil(4.01)"
   ]
  },
  {
   "cell_type": "markdown",
   "metadata": {},
   "source": [
    "# 1.2.2 floor Implementation\n",
    "The value of floor(x) is the maximum integer less than or equal to x. If x is an integer, the\n",
    "returned value is x.\n",
    "# Code:"
   ]
  },
  {
   "cell_type": "code",
   "execution_count": 3,
   "metadata": {},
   "outputs": [
    {
     "data": {
      "text/plain": [
       "4"
      ]
     },
     "execution_count": 3,
     "metadata": {},
     "output_type": "execute_result"
    }
   ],
   "source": [
    "math.floor(4.1)\n"
   ]
  },
  {
   "cell_type": "code",
   "execution_count": 4,
   "metadata": {},
   "outputs": [
    {
     "data": {
      "text/plain": [
       "4"
      ]
     },
     "execution_count": 4,
     "metadata": {},
     "output_type": "execute_result"
    }
   ],
   "source": [
    "math.floor(4.999)"
   ]
  },
  {
   "cell_type": "markdown",
   "metadata": {},
   "source": [
    "# 1.2.3 cos Implementation\n",
    "The cos(x) parameter is the cosine ofx, where x must be a radian (math.pi/4 is a radian,\n",
    "indicating an angle of 45 degrees).\n",
    "# Code:"
   ]
  },
  {
   "cell_type": "code",
   "execution_count": 21,
   "metadata": {},
   "outputs": [
    {
     "data": {
      "text/plain": [
       "0.15425144988758405"
      ]
     },
     "execution_count": 21,
     "metadata": {},
     "output_type": "execute_result"
    }
   ],
   "source": [
    "mt.cos(30)"
   ]
  },
  {
   "cell_type": "code",
   "execution_count": 5,
   "metadata": {},
   "outputs": [
    {
     "data": {
      "text/plain": [
       "0.7071067811865476"
      ]
     },
     "execution_count": 5,
     "metadata": {},
     "output_type": "execute_result"
    }
   ],
   "source": [
    "math.cos(math.pi/4)\n",
    "\n"
   ]
  },
  {
   "cell_type": "code",
   "execution_count": 6,
   "metadata": {},
   "outputs": [
    {
     "data": {
      "text/plain": [
       "0.5000000000000001"
      ]
     },
     "execution_count": 6,
     "metadata": {},
     "output_type": "execute_result"
    }
   ],
   "source": [
    "math.cos(math.pi/3)\n"
   ]
  },
  {
   "cell_type": "markdown",
   "metadata": {},
   "source": [
    "# 1.2.4 tan Implementation\n",
    "The tan(x) parameter returns the tangent value of x (radian).\n",
    "# Code:\n"
   ]
  },
  {
   "cell_type": "code",
   "execution_count": 9,
   "metadata": {},
   "outputs": [
    {
     "data": {
      "text/plain": [
       "0.5773502691896257"
      ]
     },
     "execution_count": 9,
     "metadata": {},
     "output_type": "execute_result"
    }
   ],
   "source": [
    "math.tan(math.pi/6)"
   ]
  },
  {
   "cell_type": "code",
   "execution_count": 10,
   "metadata": {},
   "outputs": [],
   "source": [
    "from math import *"
   ]
  },
  {
   "cell_type": "code",
   "execution_count": 11,
   "metadata": {},
   "outputs": [
    {
     "data": {
      "text/plain": [
       "0.5773502691896257"
      ]
     },
     "execution_count": 11,
     "metadata": {},
     "output_type": "execute_result"
    }
   ],
   "source": [
    "tan(pi/6)"
   ]
  },
  {
   "cell_type": "code",
   "execution_count": null,
   "metadata": {},
   "outputs": [],
   "source": []
  },
  {
   "cell_type": "markdown",
   "metadata": {},
   "source": [
    "# 1.2.5 degrees Implementation\n",
    "The degrees(x) parameter converts x from a radian to an angle.\n",
    "# Code:\n",
    "\n"
   ]
  },
  {
   "cell_type": "code",
   "execution_count": 35,
   "metadata": {},
   "outputs": [
    {
     "data": {
      "text/plain": [
       "90.0"
      ]
     },
     "execution_count": 35,
     "metadata": {},
     "output_type": "execute_result"
    }
   ],
   "source": [
    "import math\n",
    "math.degrees(math.pi/2)"
   ]
  },
  {
   "cell_type": "code",
   "execution_count": 13,
   "metadata": {},
   "outputs": [
    {
     "data": {
      "text/plain": [
       "180.0"
      ]
     },
     "execution_count": 13,
     "metadata": {},
     "output_type": "execute_result"
    }
   ],
   "source": [
    "math.degrees(math.pi)"
   ]
  },
  {
   "cell_type": "code",
   "execution_count": 14,
   "metadata": {},
   "outputs": [
    {
     "data": {
      "text/plain": [
       "45.0"
      ]
     },
     "execution_count": 14,
     "metadata": {},
     "output_type": "execute_result"
    }
   ],
   "source": [
    "math.degrees(math.pi/4)"
   ]
  },
  {
   "cell_type": "markdown",
   "metadata": {},
   "source": [
    "# 1.2.6 exp Implementation\n",
    "The exp(x) parameter returns math.e, that is, the x power of 2.71828.\n",
    "# Code:\n"
   ]
  },
  {
   "cell_type": "code",
   "execution_count": 15,
   "metadata": {},
   "outputs": [
    {
     "data": {
      "text/plain": [
       "2.718281828459045"
      ]
     },
     "execution_count": 15,
     "metadata": {},
     "output_type": "execute_result"
    }
   ],
   "source": [
    "math.exp(1)"
   ]
  },
  {
   "cell_type": "markdown",
   "metadata": {},
   "source": [
    "# 1.2.7 fabs Implementation\n",
    "The fabs(x) parameter returns the absolute value of x.\n",
    "# Code:\n"
   ]
  },
  {
   "cell_type": "code",
   "execution_count": 16,
   "metadata": {},
   "outputs": [
    {
     "data": {
      "text/plain": [
       "0.003"
      ]
     },
     "execution_count": 16,
     "metadata": {},
     "output_type": "execute_result"
    }
   ],
   "source": [
    "math.fabs(-0.003)"
   ]
  },
  {
   "cell_type": "code",
   "execution_count": 17,
   "metadata": {},
   "outputs": [
    {
     "data": {
      "text/plain": [
       "6"
      ]
     },
     "execution_count": 17,
     "metadata": {},
     "output_type": "execute_result"
    }
   ],
   "source": [
    "math.factorial(3) # 3*2*1# 5*4*3*2*1"
   ]
  },
  {
   "cell_type": "code",
   "execution_count": 18,
   "metadata": {},
   "outputs": [
    {
     "data": {
      "text/plain": [
       "10.0"
      ]
     },
     "execution_count": 18,
     "metadata": {},
     "output_type": "execute_result"
    }
   ],
   "source": [
    "math.fsum([1,2,3,4])"
   ]
  },
  {
   "cell_type": "code",
   "execution_count": 19,
   "metadata": {},
   "outputs": [
    {
     "data": {
      "text/plain": [
       "2.0"
      ]
     },
     "execution_count": 19,
     "metadata": {},
     "output_type": "execute_result"
    }
   ],
   "source": [
    "math.fmod(20,3)"
   ]
  },
  {
   "cell_type": "code",
   "execution_count": null,
   "metadata": {},
   "outputs": [],
   "source": []
  },
  {
   "cell_type": "code",
   "execution_count": 20,
   "metadata": {},
   "outputs": [
    {
     "data": {
      "text/plain": [
       "2.302585092994046"
      ]
     },
     "execution_count": 20,
     "metadata": {},
     "output_type": "execute_result"
    }
   ],
   "source": [
    "math.log(10)"
   ]
  },
  {
   "cell_type": "code",
   "execution_count": 21,
   "metadata": {},
   "outputs": [
    {
     "data": {
      "text/plain": [
       "10.0"
      ]
     },
     "execution_count": 21,
     "metadata": {},
     "output_type": "execute_result"
    }
   ],
   "source": [
    "math.sqrt(100)"
   ]
  },
  {
   "cell_type": "code",
   "execution_count": 22,
   "metadata": {},
   "outputs": [
    {
     "data": {
      "text/plain": [
       "3.141592653589793"
      ]
     },
     "execution_count": 22,
     "metadata": {},
     "output_type": "execute_result"
    }
   ],
   "source": [
    "math.pi"
   ]
  },
  {
   "cell_type": "code",
   "execution_count": 23,
   "metadata": {},
   "outputs": [
    {
     "data": {
      "text/plain": [
       "81.0"
      ]
     },
     "execution_count": 23,
     "metadata": {},
     "output_type": "execute_result"
    }
   ],
   "source": [
    "math.pow(3,4)"
   ]
  },
  {
   "cell_type": "code",
   "execution_count": 24,
   "metadata": {},
   "outputs": [
    {
     "data": {
      "text/plain": [
       "6"
      ]
     },
     "execution_count": 24,
     "metadata": {},
     "output_type": "execute_result"
    }
   ],
   "source": [
    "math.trunc(6.789)"
   ]
  },
  {
   "cell_type": "code",
   "execution_count": 39,
   "metadata": {},
   "outputs": [
    {
     "data": {
      "text/plain": [
       "4"
      ]
     },
     "execution_count": 39,
     "metadata": {},
     "output_type": "execute_result"
    }
   ],
   "source": [
    "round(3.7)"
   ]
  },
  {
   "cell_type": "markdown",
   "metadata": {},
   "source": [
    "# 2.2 Linear Algebra Implementation\n",
    "Import corresponding modules in advance."
   ]
  },
  {
   "cell_type": "markdown",
   "metadata": {},
   "source": [
    "# 2.2.1 Tensor Implementation\n",
    "Generate a two-dimensional tensor whose elements are 0 and two dimensions are 3 and 4.\n",
    "# Code:"
   ]
  },
  {
   "cell_type": "code",
   "execution_count": 110,
   "metadata": {},
   "outputs": [
    {
     "name": "stdout",
     "output_type": "stream",
     "text": [
      "[0. 0. 0.]\n",
      "0\n",
      "1\n",
      "2\n",
      "3\n",
      "[[[1 2 3 4]]]\n",
      "number of dimensions : 3\n",
      "7\n",
      "<U2\n",
      "['aa' 'b' 'c' 'dd']\n",
      "<U2\n"
     ]
    }
   ],
   "source": [
    "import numpy as np\n",
    "print(np.zeros(3))\n",
    "\n",
    "np.zeros((5,5))\n",
    "x  =np.array((1,2,3,4,5))\n",
    "a = np.array(10)\n",
    "b = np.array([1,2,3,4])\n",
    "\n",
    "c = np.array ([[1,2] , [4,7] , [7,8] ])\n",
    "\n",
    "d = np.array([[[1,2,3,6] , [4,5,6,9] ], [[7,8,9,20], [10,11,13,12] ]])\n",
    "print(a.ndim)\n",
    "print(b.ndim)\n",
    "print(c.ndim)\n",
    "print(d.ndim)\n",
    "arr = np.array([1, 2, 3, 4], ndmin=3)\n",
    "\n",
    "print(arr)\n",
    "print('number of dimensions :', arr.ndim)\n",
    "print(c[1,-1])\n",
    "\n",
    "arr = np.array(['aa', 'b', 'c', 'dd'])\n",
    "\n",
    "print(arr.dtype)\n",
    "rr = np.array([1, 2, 3, 4], dtype='i1')\n",
    "print(arr)\n",
    "print(arr.dtype)"
   ]
  },
  {
   "cell_type": "code",
   "execution_count": 115,
   "metadata": {},
   "outputs": [
    {
     "name": "stdout",
     "output_type": "stream",
     "text": [
      "None\n",
      "[1 2 3 4 5]\n"
     ]
    }
   ],
   "source": [
    "arr = np.array([1, 2, 3, 4, 5])\n",
    "x = arr.copy()\n",
    "arr[0] = 42\n",
    "\n",
    "arr = np.array([1, 2, 3, 4, 5])\n",
    "x = arr.view()\n",
    "arr[0] = 42\n",
    "\n",
    "arr = np.array([1, 2, 3, 4, 5])\n",
    "\n",
    "x = arr.copy()\n",
    "y = arr.view()\n",
    "\n",
    "print(x.base)\n",
    "print(y.base)"
   ]
  },
  {
   "cell_type": "code",
   "execution_count": 127,
   "metadata": {},
   "outputs": [
    {
     "name": "stdout",
     "output_type": "stream",
     "text": [
      "(1, 1, 1, 1, 5)\n",
      "[[[[[1 2 3 4 5]]]]]\n"
     ]
    }
   ],
   "source": [
    "arr = np.array( [ [  [1,2,3] , [4,5,6]  ] , [  [7,8,9] , [10,11,12]    ] ])\n",
    "arr\n",
    "#print(arr.shape)\n",
    "arr = np.array([1,2,3,4,5], ndmin = 5)\n",
    "print(arr.shape)\n",
    "print(arr)"
   ]
  },
  {
   "cell_type": "code",
   "execution_count": 151,
   "metadata": {},
   "outputs": [
    {
     "name": "stdout",
     "output_type": "stream",
     "text": [
      "(3, 3)\n",
      "(1, 9)\n",
      "[[1 2 3 4 5 6 7 8 9]]\n"
     ]
    }
   ],
   "source": [
    "arr = np.array([ [1,2,3], [4,5,6] ,[7,8,9]  ])\n",
    "print(arr.shape)\n",
    "x = arr.reshape(1,-1)\n",
    "\n",
    "print(x.shape)\n",
    "print(x)"
   ]
  },
  {
   "cell_type": "code",
   "execution_count": 161,
   "metadata": {},
   "outputs": [
    {
     "name": "stdout",
     "output_type": "stream",
     "text": [
      "[[1 2]\n",
      " [3 4]\n",
      " [5 6]]\n"
     ]
    }
   ],
   "source": [
    "arr = np.array([1, 2, 3, 4, 5, 6, 7, 8])\n",
    "\n",
    "#print(arr.reshape(2, 4).base)\n",
    "arr = np.array([[1, 2, 3], [4, 5, 6]])\n",
    "\n",
    "newarr = arr.reshape(3,-1)\n",
    "\n",
    "print(newarr)"
   ]
  },
  {
   "cell_type": "code",
   "execution_count": 167,
   "metadata": {},
   "outputs": [
    {
     "name": "stdout",
     "output_type": "stream",
     "text": [
      "1\n",
      "2\n",
      "3\n",
      "4\n",
      "5\n",
      "6\n",
      "7\n",
      "8\n",
      "9\n",
      "10\n"
     ]
    }
   ],
   "source": [
    "x = np.array([ [1,2,3,4,5], [6,7,8,9,10] ] )\n",
    "for i in x:\n",
    "    for y in i:\n",
    "        print(y)"
   ]
  },
  {
   "cell_type": "code",
   "execution_count": 172,
   "metadata": {},
   "outputs": [
    {
     "data": {
      "text/plain": [
       "array([[[0.5965372 ],\n",
       "        [0.08066091],\n",
       "        [0.59063695]],\n",
       "\n",
       "       [[0.39914374],\n",
       "        [0.19237165],\n",
       "        [0.51215139]],\n",
       "\n",
       "       [[0.3522661 ],\n",
       "        [0.34703025],\n",
       "        [0.8339917 ]]])"
      ]
     },
     "execution_count": 172,
     "metadata": {},
     "output_type": "execute_result"
    }
   ],
   "source": [
    "np.random.rand(3,3,1)"
   ]
  },
  {
   "cell_type": "code",
   "execution_count": 25,
   "metadata": {},
   "outputs": [
    {
     "data": {
      "text/plain": [
       "array([[0., 0., 0., 0.],\n",
       "       [0., 0., 0., 0.],\n",
       "       [0., 0., 0., 0.]])"
      ]
     },
     "execution_count": 25,
     "metadata": {},
     "output_type": "execute_result"
    }
   ],
   "source": [
    "np.zeros((3,4))"
   ]
  },
  {
   "cell_type": "code",
   "execution_count": 26,
   "metadata": {},
   "outputs": [
    {
     "data": {
      "text/plain": [
       "array([[[0.13663911, 0.16296598, 0.18919685, 0.40164183],\n",
       "        [0.56668827, 0.72675978, 0.73782548, 0.60885524],\n",
       "        [0.06767021, 0.66102023, 0.38749379, 0.36736271]],\n",
       "\n",
       "       [[0.35133875, 0.87858418, 0.68332219, 0.45964242],\n",
       "        [0.12667778, 0.50129749, 0.30179876, 0.25440182],\n",
       "        [0.76325929, 0.90390586, 0.66560758, 0.06536415]]])"
      ]
     },
     "execution_count": 26,
     "metadata": {},
     "output_type": "execute_result"
    }
   ],
   "source": [
    "np.random.rand(2,3,4)"
   ]
  },
  {
   "cell_type": "markdown",
   "metadata": {},
   "source": [
    "# 2.2.2 Matrix Implementation\n",
    "In mathematics, a matrix is a set of complex numbers or real numbers arranged by a\n",
    "rectangular array. A matrix is derived from a square array consisted of coefficients and\n",
    "constants of an equation set.\n",
    "Create a 3x3 zero matrix. The parameter of the zeros function in the matrix is of the tuple\n",
    "type (3, 3).\n",
    "# Code:"
   ]
  },
  {
   "cell_type": "code",
   "execution_count": 176,
   "metadata": {},
   "outputs": [],
   "source": [
    "#np.mat(np.zeros((3,2)))"
   ]
  },
  {
   "cell_type": "code",
   "execution_count": 177,
   "metadata": {},
   "outputs": [
    {
     "data": {
      "text/plain": [
       "matrix([[1., 1., 1.],\n",
       "        [1., 1., 1.],\n",
       "        [1., 1., 1.]])"
      ]
     },
     "execution_count": 177,
     "metadata": {},
     "output_type": "execute_result"
    }
   ],
   "source": [
    "np.mat(np.ones((3,3)))"
   ]
  },
  {
   "cell_type": "markdown",
   "metadata": {},
   "source": [
    "# 2.2.3 Identity Matrix Implementation\n",
    "Identity matrix is a square array whose diagonal elements are all 1 and other elements are 0.\n",
    "# Code:"
   ]
  },
  {
   "cell_type": "code",
   "execution_count": 28,
   "metadata": {},
   "outputs": [
    {
     "data": {
      "text/plain": [
       "array([[1., 0., 0., 0.],\n",
       "       [0., 1., 0., 0.],\n",
       "       [0., 0., 1., 0.],\n",
       "       [0., 0., 0., 1.]])"
      ]
     },
     "execution_count": 28,
     "metadata": {},
     "output_type": "execute_result"
    }
   ],
   "source": [
    "np.eye(4)"
   ]
  },
  {
   "cell_type": "markdown",
   "metadata": {},
   "source": [
    "# 2.2.4 reshape Operation\n",
    "There is no ‘reshape’ operation in mathematics, but it is a very common operation in the\n",
    "operation libraries such as the numpy and TensorFlow. The reshape operation is used to\n",
    "change the dimension number of a tensor and size of each dimension. For example, a 10x10\n",
    "image is directly saved as a sequence containing 100 elements. After the system reads the\n",
    "image, you can transform the image from 1x100 to 10x10 through the reshape operation. The\n",
    "example is as follows:\n",
    "# Code:\n",
    "# Generate a vector that contains integers from 0 to 11.\n"
   ]
  },
  {
   "cell_type": "code",
   "execution_count": 183,
   "metadata": {},
   "outputs": [
    {
     "data": {
      "text/plain": [
       "array([[ 0,  1,  2,  3,  4,  5,  6,  7,  8,  9, 10, 11]])"
      ]
     },
     "execution_count": 183,
     "metadata": {},
     "output_type": "execute_result"
    }
   ],
   "source": [
    "y = np.arange(12)\n",
    "y.shape\n",
    "y.reshape(1,12)"
   ]
  },
  {
   "cell_type": "code",
   "execution_count": 31,
   "metadata": {},
   "outputs": [
    {
     "data": {
      "text/plain": [
       "array([ 0,  1,  2,  3,  4,  5,  6,  7,  8,  9, 10, 11])"
      ]
     },
     "execution_count": 31,
     "metadata": {},
     "output_type": "execute_result"
    }
   ],
   "source": [
    "x = np.arange(12)\n",
    "x"
   ]
  },
  {
   "cell_type": "code",
   "execution_count": 32,
   "metadata": {},
   "outputs": [
    {
     "data": {
      "text/plain": [
       "(12,)"
      ]
     },
     "execution_count": 32,
     "metadata": {},
     "output_type": "execute_result"
    }
   ],
   "source": [
    "x.shape"
   ]
  },
  {
   "cell_type": "code",
   "execution_count": 33,
   "metadata": {},
   "outputs": [
    {
     "data": {
      "text/plain": [
       "array([[ 0,  1,  2,  3,  4,  5,  6,  7,  8,  9, 10, 11]])"
      ]
     },
     "execution_count": 33,
     "metadata": {},
     "output_type": "execute_result"
    }
   ],
   "source": [
    "x = x.reshape(1,12)\n",
    "x"
   ]
  },
  {
   "cell_type": "code",
   "execution_count": 34,
   "metadata": {},
   "outputs": [
    {
     "data": {
      "text/plain": [
       "(1, 12)"
      ]
     },
     "execution_count": 34,
     "metadata": {},
     "output_type": "execute_result"
    }
   ],
   "source": [
    "x.shape"
   ]
  },
  {
   "cell_type": "code",
   "execution_count": 35,
   "metadata": {},
   "outputs": [
    {
     "data": {
      "text/plain": [
       "array([[ 0,  1,  2,  3],\n",
       "       [ 4,  5,  6,  7],\n",
       "       [ 8,  9, 10, 11]])"
      ]
     },
     "execution_count": 35,
     "metadata": {},
     "output_type": "execute_result"
    }
   ],
   "source": [
    "x = x.reshape(3,4)\n",
    "x"
   ]
  },
  {
   "cell_type": "markdown",
   "metadata": {},
   "source": [
    "# 2.2.5 Transposition Implementation\n",
    "The transposition of vectors and matrices is exchanging the row and column. For the\n",
    "transposition of the tensors in three dimensions and above, you need to specify the\n",
    "transposition dimension.\n",
    "# Code:\n",
    "## Generate a vector x containing five elements and transposes the vector.\n"
   ]
  },
  {
   "cell_type": "code",
   "execution_count": null,
   "metadata": {},
   "outputs": [],
   "source": []
  },
  {
   "cell_type": "code",
   "execution_count": 36,
   "metadata": {},
   "outputs": [
    {
     "data": {
      "text/plain": [
       "array([[0, 1, 2, 3, 4]])"
      ]
     },
     "execution_count": 36,
     "metadata": {},
     "output_type": "execute_result"
    }
   ],
   "source": [
    "x = np.arange(5).reshape(1,-1)\n",
    "x"
   ]
  },
  {
   "cell_type": "code",
   "execution_count": 37,
   "metadata": {},
   "outputs": [
    {
     "data": {
      "text/plain": [
       "array([[0],\n",
       "       [1],\n",
       "       [2],\n",
       "       [3],\n",
       "       [4]])"
      ]
     },
     "execution_count": 37,
     "metadata": {},
     "output_type": "execute_result"
    }
   ],
   "source": [
    "x.T"
   ]
  },
  {
   "cell_type": "code",
   "execution_count": 39,
   "metadata": {},
   "outputs": [
    {
     "data": {
      "text/plain": [
       "array([[ 0,  1,  2,  3],\n",
       "       [ 4,  5,  6,  7],\n",
       "       [ 8,  9, 10, 11]])"
      ]
     },
     "execution_count": 39,
     "metadata": {},
     "output_type": "execute_result"
    }
   ],
   "source": [
    "A = np.arange(12).reshape(3,4)\n",
    "A"
   ]
  },
  {
   "cell_type": "code",
   "execution_count": 192,
   "metadata": {},
   "outputs": [
    {
     "name": "stdout",
     "output_type": "stream",
     "text": [
      "A [[ 0  1  2  3]\n",
      " [ 4  5  6  7]\n",
      " [ 8  9 10 11]]\n",
      "A T [[ 0  4  8]\n",
      " [ 1  5  9]\n",
      " [ 2  6 10]\n",
      " [ 3  7 11]]\n",
      "A3 [[ 0  1  2  3]\n",
      " [ 4  5  6  7]\n",
      " [ 8  9 10 11]]\n",
      "A4 [[ 0  4  8]\n",
      " [ 1  5  9]\n",
      " [ 2  6 10]\n",
      " [ 3  7 11]]\n"
     ]
    }
   ],
   "source": [
    "A = np.arange(12).reshape(3,4)\n",
    "print('A',A)\n",
    "print('A T',A.T)\n",
    "print('A3', A.transpose(0,1))\n",
    "print('A4', A.transpose(1,0))"
   ]
  },
  {
   "cell_type": "code",
   "execution_count": 40,
   "metadata": {},
   "outputs": [
    {
     "data": {
      "text/plain": [
       "array([[ 0,  4,  8],\n",
       "       [ 1,  5,  9],\n",
       "       [ 2,  6, 10],\n",
       "       [ 3,  7, 11]])"
      ]
     },
     "execution_count": 40,
     "metadata": {},
     "output_type": "execute_result"
    }
   ],
   "source": [
    "A.T"
   ]
  },
  {
   "cell_type": "code",
   "execution_count": 193,
   "metadata": {},
   "outputs": [
    {
     "data": {
      "text/plain": [
       "array([[[ 0,  1,  2,  3],\n",
       "        [ 4,  5,  6,  7],\n",
       "        [ 8,  9, 10, 11]],\n",
       "\n",
       "       [[12, 13, 14, 15],\n",
       "        [16, 17, 18, 19],\n",
       "        [20, 21, 22, 23]]])"
      ]
     },
     "execution_count": 193,
     "metadata": {},
     "output_type": "execute_result"
    }
   ],
   "source": [
    "B = np.arange(24).reshape(2,3,4) # [0,1,2]\n",
    "B"
   ]
  },
  {
   "cell_type": "code",
   "execution_count": 196,
   "metadata": {},
   "outputs": [
    {
     "data": {
      "text/plain": [
       "array([[[ 0,  4,  8],\n",
       "        [12, 16, 20]],\n",
       "\n",
       "       [[ 1,  5,  9],\n",
       "        [13, 17, 21]],\n",
       "\n",
       "       [[ 2,  6, 10],\n",
       "        [14, 18, 22]],\n",
       "\n",
       "       [[ 3,  7, 11],\n",
       "        [15, 19, 23]]])"
      ]
     },
     "execution_count": 196,
     "metadata": {},
     "output_type": "execute_result"
    }
   ],
   "source": [
    "B.transpose(2,0,1) # 2,3,4 # 0,1,2  4, 2, 3 [0,1,2]"
   ]
  },
  {
   "cell_type": "markdown",
   "metadata": {},
   "source": [
    "# 2.2.6 Matrix Multiplication Implementation\n",
    "To multiply the matrix A and matrix B, the column quantity of A must be equal to the row\n",
    "quantity of B.\n",
    "# Code:\n"
   ]
  },
  {
   "cell_type": "code",
   "execution_count": 43,
   "metadata": {},
   "outputs": [],
   "source": [
    "A = np.arange(6).reshape(3,2)\n",
    "B = np.arange(6).reshape(2,3) # 3*3"
   ]
  },
  {
   "cell_type": "code",
   "execution_count": 44,
   "metadata": {},
   "outputs": [
    {
     "data": {
      "text/plain": [
       "array([[0, 1],\n",
       "       [2, 3],\n",
       "       [4, 5]])"
      ]
     },
     "execution_count": 44,
     "metadata": {},
     "output_type": "execute_result"
    }
   ],
   "source": [
    "A"
   ]
  },
  {
   "cell_type": "code",
   "execution_count": 45,
   "metadata": {},
   "outputs": [
    {
     "data": {
      "text/plain": [
       "array([[0, 1, 2],\n",
       "       [3, 4, 5]])"
      ]
     },
     "execution_count": 45,
     "metadata": {},
     "output_type": "execute_result"
    }
   ],
   "source": [
    "B"
   ]
  },
  {
   "cell_type": "code",
   "execution_count": 46,
   "metadata": {},
   "outputs": [
    {
     "data": {
      "text/plain": [
       "array([[ 3,  4,  5],\n",
       "       [ 9, 14, 19],\n",
       "       [15, 24, 33]])"
      ]
     },
     "execution_count": 46,
     "metadata": {},
     "output_type": "execute_result"
    }
   ],
   "source": [
    "np.matmul(A,B)"
   ]
  },
  {
   "cell_type": "markdown",
   "metadata": {},
   "source": [
    "# 2.2.7 Matrix Corresponding Operation\n",
    "Matrix corresponding operations are operations for tensors of the same shape and size. For\n",
    "example, adding, subtracting, multiplying, and dividing the elements with the same position\n",
    "in two tensors.\n",
    "# Code:\n",
    "# Matrix creation\n"
   ]
  },
  {
   "cell_type": "code",
   "execution_count": 49,
   "metadata": {},
   "outputs": [
    {
     "data": {
      "text/plain": [
       "array([[0, 1],\n",
       "       [2, 3],\n",
       "       [4, 5]])"
      ]
     },
     "execution_count": 49,
     "metadata": {},
     "output_type": "execute_result"
    }
   ],
   "source": [
    "A = np.arange(6).reshape(3,2)\n",
    "A"
   ]
  },
  {
   "cell_type": "code",
   "execution_count": 50,
   "metadata": {},
   "outputs": [
    {
     "data": {
      "text/plain": [
       "array([[ 0,  1],\n",
       "       [ 4,  9],\n",
       "       [16, 25]])"
      ]
     },
     "execution_count": 50,
     "metadata": {},
     "output_type": "execute_result"
    }
   ],
   "source": [
    "A*A"
   ]
  },
  {
   "cell_type": "code",
   "execution_count": 51,
   "metadata": {},
   "outputs": [
    {
     "data": {
      "text/plain": [
       "array([[ 0,  2],\n",
       "       [ 4,  6],\n",
       "       [ 8, 10]])"
      ]
     },
     "execution_count": 51,
     "metadata": {},
     "output_type": "execute_result"
    }
   ],
   "source": [
    "A + A"
   ]
  },
  {
   "cell_type": "markdown",
   "metadata": {},
   "source": [
    "# 2.2.8 Inverse Matrix Implementation\n",
    "Inverse matrix implementation is applicable only to square matrices.\n",
    "# Code:\n"
   ]
  },
  {
   "cell_type": "code",
   "execution_count": 54,
   "metadata": {},
   "outputs": [
    {
     "data": {
      "text/plain": [
       "array([[0, 1],\n",
       "       [2, 3]])"
      ]
     },
     "execution_count": 54,
     "metadata": {},
     "output_type": "execute_result"
    }
   ],
   "source": [
    "A = np.arange(4).reshape(2,2)\n",
    "A"
   ]
  },
  {
   "cell_type": "code",
   "execution_count": 55,
   "metadata": {},
   "outputs": [
    {
     "data": {
      "text/plain": [
       "array([[-1.5,  0.5],\n",
       "       [ 1. ,  0. ]])"
      ]
     },
     "execution_count": 55,
     "metadata": {},
     "output_type": "execute_result"
    }
   ],
   "source": [
    "np.linalg.inv(A)"
   ]
  },
  {
   "cell_type": "markdown",
   "metadata": {},
   "source": [
    "# 2.2.9 Eigenvalue and Eigenvector\n",
    "Obtain the eigenvalue and eigenvector of a matrix.\n",
    "# Code:\n"
   ]
  },
  {
   "cell_type": "code",
   "execution_count": 72,
   "metadata": {},
   "outputs": [],
   "source": [
    "import numpy as np # Introduce the numpy module.\n",
    "x= np.arange(4).reshape(2,2)"
   ]
  },
  {
   "cell_type": "code",
   "execution_count": 73,
   "metadata": {},
   "outputs": [
    {
     "data": {
      "text/plain": [
       "array([[0, 1],\n",
       "       [2, 3]])"
      ]
     },
     "execution_count": 73,
     "metadata": {},
     "output_type": "execute_result"
    }
   ],
   "source": [
    "x"
   ]
  },
  {
   "cell_type": "code",
   "execution_count": 74,
   "metadata": {},
   "outputs": [],
   "source": [
    "a,b= np.linalg.eig(x) "
   ]
  },
  {
   "cell_type": "code",
   "execution_count": 75,
   "metadata": {},
   "outputs": [
    {
     "data": {
      "text/plain": [
       "array([-0.56155281,  3.56155281])"
      ]
     },
     "execution_count": 75,
     "metadata": {},
     "output_type": "execute_result"
    }
   ],
   "source": [
    "a"
   ]
  },
  {
   "cell_type": "code",
   "execution_count": 76,
   "metadata": {},
   "outputs": [
    {
     "data": {
      "text/plain": [
       "array([[-0.87192821, -0.27032301],\n",
       "       [ 0.48963374, -0.96276969]])"
      ]
     },
     "execution_count": 76,
     "metadata": {},
     "output_type": "execute_result"
    }
   ],
   "source": [
    "b"
   ]
  },
  {
   "cell_type": "markdown",
   "metadata": {},
   "source": [
    "# 2.2.10 Determinant\n",
    "Obtain the determinant of a matrix.\n",
    "# Code:"
   ]
  },
  {
   "cell_type": "code",
   "execution_count": 77,
   "metadata": {},
   "outputs": [
    {
     "data": {
      "text/plain": [
       "-2.0"
      ]
     },
     "execution_count": 77,
     "metadata": {},
     "output_type": "execute_result"
    }
   ],
   "source": [
    "np.linalg.det(x)"
   ]
  },
  {
   "cell_type": "markdown",
   "metadata": {},
   "source": [
    "# 2.2.11 Singular Value Decomposition\n",
    "Create a matrix and perform singular value decomposition on the matrix.\n",
    "# Code:\n"
   ]
  },
  {
   "cell_type": "code",
   "execution_count": 78,
   "metadata": {},
   "outputs": [],
   "source": [
    "dataMat = [[1,1,1,0,0],\n",
    " [2,2,2,0,0],\n",
    " [1,1,1,0,0],\n",
    " [5,5,5,0,0],\n",
    " [1,1,0,2,2]] # 5*5"
   ]
  },
  {
   "cell_type": "code",
   "execution_count": null,
   "metadata": {},
   "outputs": [],
   "source": []
  },
  {
   "cell_type": "code",
   "execution_count": 83,
   "metadata": {},
   "outputs": [],
   "source": [
    "dataMat = np.mat(dataMat)\n",
    "U,Simga,VT = np.linalg.svd(dataMat)"
   ]
  },
  {
   "cell_type": "code",
   "execution_count": 84,
   "metadata": {},
   "outputs": [
    {
     "data": {
      "text/plain": [
       "matrix([[-1.78064631e-01, -2.34744938e-02,  9.82557191e-01,\n",
       "          2.55992727e-02, -4.08409122e-02],\n",
       "        [-3.56129261e-01, -4.69489876e-02, -8.88026466e-02,\n",
       "          9.28675681e-01,  2.53635904e-02],\n",
       "        [-1.78064631e-01, -2.34744938e-02, -7.22652741e-02,\n",
       "         -4.96207581e-02, -9.79825212e-01],\n",
       "        [-8.90323153e-01, -1.17372469e-01, -1.46537325e-01,\n",
       "         -3.66665975e-01,  1.93987789e-01],\n",
       "        [-1.30700450e-01,  9.91421904e-01,  8.32667268e-17,\n",
       "         -1.51788304e-17, -5.20417043e-18]])"
      ]
     },
     "execution_count": 84,
     "metadata": {},
     "output_type": "execute_result"
    }
   ],
   "source": [
    "U"
   ]
  },
  {
   "cell_type": "code",
   "execution_count": 85,
   "metadata": {},
   "outputs": [
    {
     "data": {
      "text/plain": [
       "array([9.71946559e+00, 2.92095680e+00, 1.55006458e-15, 7.75255049e-17,\n",
       "       2.80852393e-33])"
      ]
     },
     "execution_count": 85,
     "metadata": {},
     "output_type": "execute_result"
    }
   ],
   "source": [
    "Simga"
   ]
  },
  {
   "cell_type": "code",
   "execution_count": 86,
   "metadata": {},
   "outputs": [
    {
     "data": {
      "text/plain": [
       "matrix([[-5.81380112e-01, -5.81380112e-01, -5.67932825e-01,\n",
       "         -2.68945754e-02, -2.68945754e-02],\n",
       "        [ 9.02829499e-02,  9.02829499e-02, -2.49133882e-01,\n",
       "          6.78833664e-01,  6.78833664e-01],\n",
       "        [-7.95884448e-01,  5.42563216e-01,  2.53321232e-01,\n",
       "          6.33303080e-02,  6.33303080e-02],\n",
       "        [-1.42877918e-01, -5.99559264e-01,  7.42437182e-01,\n",
       "          1.85609295e-01,  1.85609295e-01],\n",
       "        [-0.00000000e+00,  1.54864761e-16, -1.48501146e-16,\n",
       "          7.07106781e-01, -7.07106781e-01]])"
      ]
     },
     "execution_count": 86,
     "metadata": {},
     "output_type": "execute_result"
    }
   ],
   "source": [
    "VT"
   ]
  },
  {
   "cell_type": "markdown",
   "metadata": {},
   "source": [
    "# 2.2.12 Linear Equation Solving\n",
    "Solving a linear equation is simple because it requires only one function (scipy.linalg.solve).\n",
    "An example is finding the solution of the following system of non-homogeneous linear\n",
    "equations:\n",
    "3x_1 + x_2 - 2x_3 = 5\n",
    "x_1 - x_2 + 4x_3 = -2\n",
    "2x_1 + 3x_3 = 2.5\n",
    "# Code:"
   ]
  },
  {
   "cell_type": "code",
   "execution_count": 87,
   "metadata": {},
   "outputs": [],
   "source": [
    "from scipy.linalg import solve\n",
    "a = np.array([[3, 1, -2], [1, -1, 4], [2, 0, 3]])\n",
    "b = np.array([5, -2, 2.5])\n",
    "x = solve(a, b)"
   ]
  },
  {
   "cell_type": "code",
   "execution_count": 88,
   "metadata": {},
   "outputs": [
    {
     "data": {
      "text/plain": [
       "array([0.5, 4.5, 0.5])"
      ]
     },
     "execution_count": 88,
     "metadata": {},
     "output_type": "execute_result"
    }
   ],
   "source": [
    "x"
   ]
  },
  {
   "cell_type": "code",
   "execution_count": 201,
   "metadata": {},
   "outputs": [
    {
     "name": "stdout",
     "output_type": "stream",
     "text": [
      "[[1 0 0]\n",
      " [0 2 0]\n",
      " [0 0 3]]\n"
     ]
    }
   ],
   "source": [
    "import numpy as np\n",
    "x=np.diag([1,2,3])\n",
    "print(x)"
   ]
  },
  {
   "cell_type": "code",
   "execution_count": 227,
   "metadata": {},
   "outputs": [
    {
     "name": "stdout",
     "output_type": "stream",
     "text": [
      "5\n"
     ]
    }
   ],
   "source": [
    "arr1 = np.array([1, 2, 3])\n",
    "\n",
    "arr2 = np.array([4, 5, 6])\n",
    "\n",
    "arr = np.concatenate((arr1, arr2))\n",
    "\n",
    "arr1 = np.array([[1, 2], [3, 4]])\n",
    "\n",
    "arr2 = np.array([[5, 6], [7, 8]])\n",
    "\n",
    "arr = np.concatenate((arr1, arr2), axis=1)\n",
    "\n",
    "arr = np.array([1, 2, 3, 4, 5, 6])\n",
    "\n",
    "newarr = np.array_split(arr, 4)\n",
    "\n",
    "arr = np.array([[1, 2], [3, 4], [5, 6], [7, 8], [9, 10], [11, 12]])\n",
    "\n",
    "newarr = np.array_split(arr, 3)\n",
    "\n",
    "arr = np.array([1, 2, 3, 4, 5, 4, 4])\n",
    "\n",
    "x = np.where(arr%2 == 0)\n",
    "\n",
    "arr = np.array([6, 7, 8, 9])\n",
    "\n",
    "x = np.searchsorted(arr, 7)\n",
    "\n",
    "arr = np.array([[3, 2, 4], [5, 0, 1]])\n",
    "from numpy import random\n",
    "x = random.rand(20)\n",
    "x=random.randint(100, size=(5))\n",
    "x = random.randint(100, size=(3, 5))\n",
    "x = random.choice([3, 5, 7, 9])\n",
    "\n",
    "print(x)"
   ]
  },
  {
   "cell_type": "code",
   "execution_count": 22,
   "metadata": {},
   "outputs": [
    {
     "data": {
      "text/plain": [
       "array([[-2.07979137e+02, -2.53535436e+01, -3.41463824e-01,\n",
       "         1.28456816e-14],\n",
       "       [-1.81982826e+02, -1.01347882e+01,  4.20971907e-01,\n",
       "         6.15652331e-15],\n",
       "       [-1.60736414e+02,  9.24294130e+00,  1.15048222e-01,\n",
       "         2.62239980e-14],\n",
       "       [-1.39490002e+02,  2.86206708e+01, -1.90875463e-01,\n",
       "         6.15652331e-15],\n",
       "       [ 6.90188379e+02, -2.37528026e+00, -3.68084181e-03,\n",
       "         1.28456816e-14]])"
      ]
     },
     "execution_count": 22,
     "metadata": {},
     "output_type": "execute_result"
    }
   ],
   "source": [
    "import numpy as np\n",
    "x = np.array([ [1,2,3,4,5], [4,5,6,20,30], [7,8,9,40,50], [10,11,12,60,70], [13,14,15,80,900]  ])\n",
    "\n",
    "from sklearn.decomposition import PCA\n",
    "pca=PCA(n_components = 4)\n",
    "x = pca.fit_transform(x)\n",
    "x"
   ]
  },
  {
   "cell_type": "markdown",
   "metadata": {},
   "source": [
    "# 3 Probability Theory Experiment"
   ]
  },
  {
   "cell_type": "markdown",
   "metadata": {},
   "source": [
    "# 3.2 Probability Theory Implementation\n",
    "Import the corresponding modules in advance.\n"
   ]
  },
  {
   "cell_type": "code",
   "execution_count": 7,
   "metadata": {},
   "outputs": [
    {
     "data": {
      "text/plain": [
       "array([[ 2.78388218,  0.        ],\n",
       "       [-2.78388218,  0.        ]])"
      ]
     },
     "execution_count": 7,
     "metadata": {},
     "output_type": "execute_result"
    }
   ],
   "source": [
    "import numpy as np\n",
    "X_train = np.array([[1,2,3,6], [4,5,6,8]])\n",
    "from sklearn.decomposition import PCA\n",
    "pca = PCA(n_components = 2)\n",
    "X_train = pca.fit_transform(X_train)\n",
    "X_train"
   ]
  },
  {
   "cell_type": "code",
   "execution_count": 89,
   "metadata": {},
   "outputs": [],
   "source": [
    "import numpy as np\n",
    "import scipy as sp"
   ]
  },
  {
   "cell_type": "code",
   "execution_count": 28,
   "metadata": {},
   "outputs": [
    {
     "data": {
      "text/plain": [
       "array([3.5, 4.5, 5.5, 6.5, 7.5])"
      ]
     },
     "execution_count": 28,
     "metadata": {},
     "output_type": "execute_result"
    }
   ],
   "source": [
    "\n",
    "z = [1,2,3,4,5], [6,7,8,9,10]\n",
    "'''1 2 3 4 5 \n",
    "6 7 8 9 10'''\n",
    "\n",
    "np.mean(z, 0)"
   ]
  },
  {
   "cell_type": "code",
   "execution_count": 90,
   "metadata": {},
   "outputs": [],
   "source": [
    "b = [1,3,5,6]\n",
    "ll = [[1,2,3,4,5,6],[3,4,5,6,7,8]]"
   ]
  },
  {
   "cell_type": "code",
   "execution_count": 91,
   "metadata": {},
   "outputs": [
    {
     "data": {
      "text/plain": [
       "3.75"
      ]
     },
     "execution_count": 91,
     "metadata": {},
     "output_type": "execute_result"
    }
   ],
   "source": [
    "np.mean(b)"
   ]
  },
  {
   "cell_type": "code",
   "execution_count": 92,
   "metadata": {},
   "outputs": [
    {
     "data": {
      "text/plain": [
       "array([3.5, 5.5])"
      ]
     },
     "execution_count": 92,
     "metadata": {},
     "output_type": "execute_result"
    }
   ],
   "source": [
    "np.mean(ll) # Calculate the average value of all elements.\n",
    "\n",
    "np.mean(ll,0) # Calculate the average value by column.\n",
    "np.mean(ll,1) # Calculate the average value by row."
   ]
  },
  {
   "cell_type": "markdown",
   "metadata": {},
   "source": [
    "#3.2.2 Variance and Standard Deviation Implementation\n",
    "# Prepare the data.\n",
    " \n",
    "# Find the variance.\n",
    "# Code:"
   ]
  },
  {
   "cell_type": "code",
   "execution_count": 30,
   "metadata": {},
   "outputs": [
    {
     "data": {
      "text/plain": [
       "[3, 4, 5, 6, 7, 8]"
      ]
     },
     "execution_count": 30,
     "metadata": {},
     "output_type": "execute_result"
    }
   ],
   "source": [
    "b=[1,3,5,6]\n",
    "ll=[[1,2,3,4,5,6],[3,4,5,6,7,8]]\n",
    "ll[1]"
   ]
  },
  {
   "cell_type": "code",
   "execution_count": 94,
   "metadata": {},
   "outputs": [
    {
     "data": {
      "text/plain": [
       "3.6875"
      ]
     },
     "execution_count": 94,
     "metadata": {},
     "output_type": "execute_result"
    }
   ],
   "source": [
    "np.var(b)"
   ]
  },
  {
   "cell_type": "code",
   "execution_count": 95,
   "metadata": {},
   "outputs": [
    {
     "data": {
      "text/plain": [
       "2.9166666666666665"
      ]
     },
     "execution_count": 95,
     "metadata": {},
     "output_type": "execute_result"
    }
   ],
   "source": [
    "np.var(ll[0])"
   ]
  },
  {
   "cell_type": "code",
   "execution_count": 96,
   "metadata": {},
   "outputs": [
    {
     "data": {
      "text/plain": [
       "2.9166666666666665"
      ]
     },
     "execution_count": 96,
     "metadata": {},
     "output_type": "execute_result"
    }
   ],
   "source": [
    "np.var(ll[0])"
   ]
  },
  {
   "cell_type": "markdown",
   "metadata": {},
   "source": [
    "# 3.2.3 Standard Deviation Implementation\n",
    "# Prepare the data.\n",
    "\n",
    "# Code:\n"
   ]
  },
  {
   "cell_type": "code",
   "execution_count": 97,
   "metadata": {},
   "outputs": [],
   "source": [
    "b=[1,3,5,6]\n",
    "ll=[[1,2,3,4,5,6],[3,4,5,6,7,8]]"
   ]
  },
  {
   "cell_type": "code",
   "execution_count": 98,
   "metadata": {},
   "outputs": [
    {
     "data": {
      "text/plain": [
       "1.920286436967152"
      ]
     },
     "execution_count": 98,
     "metadata": {},
     "output_type": "execute_result"
    }
   ],
   "source": [
    "np.std(b)"
   ]
  },
  {
   "cell_type": "markdown",
   "metadata": {},
   "source": [
    "# 3.2.4 Covariance Implementation\n",
    "# Prepare the data."
   ]
  },
  {
   "cell_type": "code",
   "execution_count": 99,
   "metadata": {},
   "outputs": [
    {
     "data": {
      "text/plain": [
       "array(4.91666667)"
      ]
     },
     "execution_count": 99,
     "metadata": {},
     "output_type": "execute_result"
    }
   ],
   "source": [
    "b=[1,3,5,6]\n",
    "np.cov(b)"
   ]
  },
  {
   "cell_type": "markdown",
   "metadata": {},
   "source": [
    "## 3.2.5 Correlation Coefficient\n",
    "# Prepare the data.\n"
   ]
  },
  {
   "cell_type": "code",
   "execution_count": 58,
   "metadata": {},
   "outputs": [],
   "source": [
    "vc=[1,2,39,0,80]\n",
    "vb=[1,20,38,0,8]"
   ]
  },
  {
   "cell_type": "code",
   "execution_count": 59,
   "metadata": {},
   "outputs": [
    {
     "data": {
      "text/plain": [
       "array([[1.       , 0.2361089],\n",
       "       [0.2361089, 1.       ]])"
      ]
     },
     "execution_count": 59,
     "metadata": {},
     "output_type": "execute_result"
    }
   ],
   "source": [
    "np.corrcoef(vc,vb)"
   ]
  },
  {
   "cell_type": "markdown",
   "metadata": {},
   "source": [
    "# 3.2.6 Binomial Distribution Implementation"
   ]
  },
  {
   "cell_type": "code",
   "execution_count": 41,
   "metadata": {},
   "outputs": [
    {
     "name": "stdout",
     "output_type": "stream",
     "text": [
      "[[ 0.63938104  1.90163377  1.16546456]\n",
      " [-0.84914952  0.94675148 -0.15795402]]\n"
     ]
    },
    {
     "name": "stderr",
     "output_type": "stream",
     "text": [
      "C:\\Users\\Ahmed Abdel-Monem\\anaconda3\\lib\\site-packages\\seaborn\\distributions.py:2551: FutureWarning: `distplot` is a deprecated function and will be removed in a future version. Please adapt your code to use either `displot` (a figure-level function with similar flexibility) or `kdeplot` (an axes-level function for kernel density plots).\n",
      "  warnings.warn(msg, FutureWarning)\n"
     ]
    },
    {
     "data": {
      "image/png": "[encoded data removed]",
      "text/plain": [
       "<Figure size 432x288 with 1 Axes>"
      ]
     },
     "metadata": {
      "needs_background": "light"
     },
     "output_type": "display_data"
    }
   ],
   "source": [
    "from numpy import random\n",
    "\n",
    "x = random.binomial(n=15, p=0.3, size=10)\n",
    "x = random.normal(size=(2, 3))\n",
    "\n",
    "\n",
    "print(x)\n",
    "sns.distplot(random.normal(size=1000), hist=False)\n",
    "\n",
    "plt.show()"
   ]
  },
  {
   "cell_type": "code",
   "execution_count": 36,
   "metadata": {},
   "outputs": [
    {
     "name": "stderr",
     "output_type": "stream",
     "text": [
      "C:\\Users\\Ahmed Abdel-Monem\\anaconda3\\lib\\site-packages\\seaborn\\distributions.py:2551: FutureWarning: `distplot` is a deprecated function and will be removed in a future version. Please adapt your code to use either `displot` (a figure-level function with similar flexibility) or `histplot` (an axes-level function for histograms).\n",
      "  warnings.warn(msg, FutureWarning)\n"
     ]
    },
    {
     "data": {
      "image/png": "[encoded data removed]",
      "text/plain": [
       "<Figure size 432x288 with 1 Axes>"
      ]
     },
     "metadata": {
      "needs_background": "light"
     },
     "output_type": "display_data"
    }
   ],
   "source": [
    "from numpy import random\n",
    "import matplotlib.pyplot as plt\n",
    "import seaborn as sns\n",
    "\n",
    "sns.distplot(random.binomial(n=10, p=0.5, size=1000), hist=True, kde=False)\n",
    "\n",
    "plt.show()"
   ]
  },
  {
   "cell_type": "code",
   "execution_count": 44,
   "metadata": {},
   "outputs": [
    {
     "name": "stdout",
     "output_type": "stream",
     "text": [
      "[1 1 3 4 0 0 2 1 3 5]\n"
     ]
    }
   ],
   "source": [
    "x = random.poisson(lam=2, size=10)\n",
    "\n",
    "print(x)"
   ]
  },
  {
   "cell_type": "code",
   "execution_count": 45,
   "metadata": {},
   "outputs": [
    {
     "name": "stderr",
     "output_type": "stream",
     "text": [
      "C:\\Users\\Ahmed Abdel-Monem\\anaconda3\\lib\\site-packages\\seaborn\\distributions.py:2551: FutureWarning: `distplot` is a deprecated function and will be removed in a future version. Please adapt your code to use either `displot` (a figure-level function with similar flexibility) or `histplot` (an axes-level function for histograms).\n",
      "  warnings.warn(msg, FutureWarning)\n"
     ]
    },
    {
     "data": {
      "image/png": "[encoded data removed]",
      "text/plain": [
       "<Figure size 432x288 with 1 Axes>"
      ]
     },
     "metadata": {
      "needs_background": "light"
     },
     "output_type": "display_data"
    }
   ],
   "source": [
    "sns.distplot(random.poisson(lam=2, size=1000), kde=False)\n",
    "\n",
    "plt.show()"
   ]
  },
  {
   "cell_type": "code",
   "execution_count": null,
   "metadata": {},
   "outputs": [],
   "source": []
  },
  {
   "cell_type": "code",
   "execution_count": 32,
   "metadata": {},
   "outputs": [
    {
     "name": "stdout",
     "output_type": "stream",
     "text": [
      "Data: [2 4 5 ... 2 3 2]\n",
      "Mean: 2.9844\n",
      "SD: 1.4512\n"
     ]
    },
    {
     "name": "stderr",
     "output_type": "stream",
     "text": [
      "C:\\Users\\Ahmed Abdel-Monem\\anaconda3\\lib\\site-packages\\ipykernel_launcher.py:8: MatplotlibDeprecationWarning: \n",
      "The 'normed' kwarg was deprecated in Matplotlib 2.1 and will be removed in 3.1. Use 'density' instead.\n",
      "  \n"
     ]
    },
    {
     "data": {
      "image/png": "[encoded data removed]",
      "text/plain": [
       "<Figure size 432x288 with 1 Axes>"
      ]
     },
     "metadata": {
      "needs_background": "light"
     },
     "output_type": "display_data"
    }
   ],
   "source": [
    "from scipy.stats import binom, norm, beta, expon\n",
    "import numpy as np\n",
    "import matplotlib.pyplot as plt\n",
    "binom_sim = binom.rvs(n=10, p=0.3, size=10000)\n",
    "print('Data:',binom_sim)\n",
    "print('Mean: %g' % np.mean(binom_sim))\n",
    "print('SD: %g' % np.std(binom_sim, ddof=2)) #Delta Degrees of Freedom\n",
    "plt.hist(binom_sim, bins=10, normed=True)\n",
    "plt.xlabel(('x'))\n",
    "plt.ylabel('density')\n",
    "plt.show()"
   ]
  },
  {
   "cell_type": "markdown",
   "metadata": {},
   "source": [
    "# 3.2.7 Poisson Distribution Implementation"
   ]
  },
  {
   "cell_type": "code",
   "execution_count": 107,
   "metadata": {},
   "outputs": [
    {
     "name": "stderr",
     "output_type": "stream",
     "text": [
      "C:\\Users\\Ahmed Abdel-Monem\\anaconda3\\lib\\site-packages\\ipykernel_launcher.py:5: MatplotlibDeprecationWarning: \n",
      "The 'normed' kwarg was deprecated in Matplotlib 2.1 and will be removed in 3.1. Use 'density' instead.\n",
      "  \"\"\"\n"
     ]
    },
    {
     "data": {
      "image/png": "[encoded data removed]",
      "text/plain": [
       "<Figure size 432x288 with 1 Axes>"
      ]
     },
     "metadata": {
      "needs_background": "light"
     },
     "output_type": "display_data"
    }
   ],
   "source": [
    "import numpy as np\n",
    "import matplotlib.pyplot as plt\n",
    "x = np.random.poisson(lam=5, size=10000)\n",
    "pillar = 15\n",
    "a = plt.hist(x, bins=pillar, normed=True, range=[0, pillar], color='g', alpha=0.5) # density = True,stacked= True\n",
    "plt.plot(a[1][0:pillar], a[0], 'r') # plt.plot(x,y)\n",
    "plt.grid()\n",
    "plt.show()\n"
   ]
  },
  {
   "cell_type": "code",
   "execution_count": 47,
   "metadata": {},
   "outputs": [
    {
     "name": "stderr",
     "output_type": "stream",
     "text": [
      "C:\\Users\\Ahmed Abdel-Monem\\anaconda3\\lib\\site-packages\\seaborn\\distributions.py:2551: FutureWarning: `distplot` is a deprecated function and will be removed in a future version. Please adapt your code to use either `displot` (a figure-level function with similar flexibility) or `kdeplot` (an axes-level function for kernel density plots).\n",
      "  warnings.warn(msg, FutureWarning)\n"
     ]
    },
    {
     "data": {
      "image/png": "[encoded data removed]",
      "text/plain": [
       "<Figure size 432x288 with 1 Axes>"
      ]
     },
     "metadata": {
      "needs_background": "light"
     },
     "output_type": "display_data"
    }
   ],
   "source": [
    "x = random.uniform(size=(2, 3))\n",
    "\n",
    "sns.distplot(random.uniform(size=1000), hist=False)\n",
    "\n",
    "plt.show()"
   ]
  },
  {
   "cell_type": "markdown",
   "metadata": {},
   "source": [
    "# 3.2.8 Normal Distribution"
   ]
  },
  {
   "cell_type": "code",
   "execution_count": 108,
   "metadata": {},
   "outputs": [
    {
     "data": {
      "image/png": "[encoded data removed]",
      "text/plain": [
       "<Figure size 432x288 with 1 Axes>"
      ]
     },
     "metadata": {
      "needs_background": "light"
     },
     "output_type": "display_data"
    }
   ],
   "source": [
    "'''!pip isnatll matplotlib\n",
    "!pip'''\n",
    "from scipy.stats import norm, beta\n",
    "import numpy as np\n",
    "import matplotlib.pyplot as plt\n",
    "mu = 0\n",
    "sigma = 1\n",
    "x = np.arange(-5, 5, 0.1)\n",
    "y = norm.pdf(x, mu, sigma)\n",
    "plt.plot(x, y)\n",
    "plt.xlabel('x')\n",
    "plt.ylabel('density')\n",
    "plt.show()"
   ]
  },
  {
   "cell_type": "markdown",
   "metadata": {},
   "source": [
    "# 3.2.9 beta Distribution"
   ]
  },
  {
   "cell_type": "code",
   "execution_count": 49,
   "metadata": {},
   "outputs": [
    {
     "data": {
      "text/plain": [
       "array([2, 0, 2, 1, 1, 0])"
      ]
     },
     "execution_count": 49,
     "metadata": {},
     "output_type": "execute_result"
    }
   ],
   "source": [
    "x = random.multinomial(n=6, pvals=[1/6, 1/6, 1/6, 1/6, 1/6, 1/6])\n",
    "x"
   ]
  },
  {
   "cell_type": "code",
   "execution_count": 51,
   "metadata": {},
   "outputs": [
    {
     "data": {
      "text/plain": [
       "array([[ 1.93276149,  1.2882221 , 10.95510856],\n",
       "       [ 0.79411964,  1.15176929,  2.72579755],\n",
       "       [ 0.15982534,  1.03474187,  0.13765939]])"
      ]
     },
     "execution_count": 51,
     "metadata": {},
     "output_type": "execute_result"
    }
   ],
   "source": [
    "x = random.exponential(scale=2, size=(3, 3))\n",
    "x"
   ]
  },
  {
   "cell_type": "code",
   "execution_count": null,
   "metadata": {},
   "outputs": [],
   "source": []
  },
  {
   "cell_type": "code",
   "execution_count": 109,
   "metadata": {},
   "outputs": [
    {
     "data": {
      "image/png": "[encoded data removed]",
      "text/plain": [
       "<Figure size 432x288 with 1 Axes>"
      ]
     },
     "metadata": {
      "needs_background": "light"
     },
     "output_type": "display_data"
    }
   ],
   "source": [
    "from scipy.stats import beta\n",
    "import numpy as np\n",
    "import matplotlib.pyplot as plt\n",
    "a = 0.5\n",
    "b = 0.5\n",
    "x = np.arange(0.01, 1, 0.01)\n",
    "y = beta.pdf(x, a, b)\n",
    "plt.plot(x, y)\n",
    "plt.title('Beta: a=%.1f,b=%.1f' % (a, b))\n",
    "plt.xlabel('x')\n",
    "plt.ylabel('density')\n",
    "plt.show()"
   ]
  },
  {
   "cell_type": "markdown",
   "metadata": {},
   "source": [
    "# 3.2.10 Exponential Distribution"
   ]
  },
  {
   "cell_type": "code",
   "execution_count": 110,
   "metadata": {},
   "outputs": [
    {
     "data": {
      "image/png": "[encoded data removed]",
      "text/plain": [
       "<Figure size 432x288 with 1 Axes>"
      ]
     },
     "metadata": {
      "needs_background": "light"
     },
     "output_type": "display_data"
    }
   ],
   "source": [
    "from scipy.stats import expon\n",
    "import numpy as np\n",
    "import matplotlib.pyplot as plt\n",
    "lam = 0.5\n",
    "x = np.arange(0, 15, 0.1)\n",
    "y = expon.pdf(x, lam)\n",
    "plt.plot(x, y)\n",
    "plt.title('Exponential: lam=%.2f' % lam)\n",
    "plt.xlabel('x')\n",
    "plt.ylabel('density')\n",
    "plt.show()"
   ]
  },
  {
   "cell_type": "code",
   "execution_count": 76,
   "metadata": {},
   "outputs": [
    {
     "data": {
      "text/plain": [
       "1.5219280948873626"
      ]
     },
     "execution_count": 76,
     "metadata": {},
     "output_type": "execute_result"
    }
   ],
   "source": [
    "from scipy.stats import entropy \n",
    "entropy([  0.2 , 0.4, 0.4  ],  base =2)"
   ]
  },
  {
   "cell_type": "code",
   "execution_count": 64,
   "metadata": {},
   "outputs": [
    {
     "data": {
      "text/plain": [
       "0.8112781244591328"
      ]
     },
     "execution_count": 64,
     "metadata": {},
     "output_type": "execute_result"
    }
   ],
   "source": [
    "from scipy.stats import entropy\n",
    "entropy([1/2, 1/2], base=2)\n",
    "entropy([0.75, 0.25], base=2)"
   ]
  },
  {
   "cell_type": "code",
   "execution_count": 66,
   "metadata": {},
   "outputs": [
    {
     "name": "stdout",
     "output_type": "stream",
     "text": [
      "1e+24\n"
     ]
    }
   ],
   "source": [
    "from scipy import constants\n",
    "\n",
    "print(constants.yotta)"
   ]
  },
  {
   "cell_type": "code",
   "execution_count": 67,
   "metadata": {},
   "outputs": [
    {
     "name": "stdout",
     "output_type": "stream",
     "text": [
      "[[5.38909609 2.72302726 0.1857914 ]\n",
      " [0.40052562 4.70878207 0.33780729]]\n"
     ]
    }
   ],
   "source": [
    "from numpy import random\n",
    "\n",
    "x = random.chisquare(df=2, size=(2, 3))\n",
    "print(x)"
   ]
  },
  {
   "cell_type": "code",
   "execution_count": null,
   "metadata": {},
   "outputs": [],
   "source": []
  },
  {
   "cell_type": "markdown",
   "metadata": {},
   "source": [
    "# 4.1 Least Square Implementation\n",
    "4.1.1 Algorithm"
   ]
  },
  {
   "cell_type": "code",
   "execution_count": 112,
   "metadata": {},
   "outputs": [
    {
     "name": "stdout",
     "output_type": "stream",
     "text": [
      "Fitting Parameters:  [-5.72039077e+03  2.33395957e+04 -3.91004220e+04  3.45817145e+04\n",
      " -1.72289072e+04  4.76440868e+03 -6.78217868e+02  4.21769824e+01\n",
      "  2.56618049e-02]\n"
     ]
    },
    {
     "data": {
      "image/png": "[encoded data removed]",
      "text/plain": [
       "<Figure size 432x288 with 1 Axes>"
      ]
     },
     "metadata": {
      "needs_background": "light"
     },
     "output_type": "display_data"
    }
   ],
   "source": [
    "import numpy as np # Introduce the numpy.\n",
    "import scipy as sp\n",
    "import pylab as pl\n",
    "from scipy.optimize import leastsq # Introduce the least square function.\n",
    "n = 9 # Degree of polynomial\n",
    "# Target function\n",
    "def real_func(x):\n",
    "    return np.sin(2 * np.pi * x)\n",
    "# Polynomial function\n",
    "def fit_func(p, x):\n",
    "    f = np.poly1d(p)\n",
    "    return f(x)\n",
    "# Residual function\n",
    "def residuals_func(p, y, x):\n",
    "    ret = fit_func(p, x) - y\n",
    "    return ret\n",
    "x = np.linspace(0, 1, 9) # Randomly selected nine points as x.\n",
    "x_points = np.linspace(0, 1, 1000) # Continuous points required for drawing the graph\n",
    "y0 = real_func(x) # Target function\n",
    "y1 = [np.random.normal(0, 0.1) + y for y in y0] # Function after the positive distribution noise\n",
    "p_init = np.random.randn(n) # Randomly initialize polynomial parameters.\n",
    "plsq = leastsq(residuals_func, p_init, args=(y1, x))\n",
    "print('Fitting Parameters: ', plsq[0]) # Output fitting parameters.\n",
    "pl.plot(x_points, real_func(x_points), label='real')\n",
    "pl.plot(x_points, fit_func(plsq[0], x_points), label='fitted curve')\n",
    "pl.plot(x, y1, 'bo', label='with noise')\n",
    "\n",
    "pl.legend()\n",
    "pl.show()"
   ]
  },
  {
   "cell_type": "markdown",
   "metadata": {},
   "source": [
    "# 4.2 Gradient Descent Implementation"
   ]
  },
  {
   "cell_type": "code",
   "execution_count": 1,
   "metadata": {},
   "outputs": [
    {
     "name": "stdout",
     "output_type": "stream",
     "text": [
      " theta0: 2.782632, theta1: 3.207850, theta2: 7.998823, error1: 5997.941160\n",
      " theta0: 4.254302, theta1: 3.809652, theta2: 11.972218, error1: 3688.116951\n",
      " theta0: 5.154766, theta1: 3.351648, theta2: 14.188535, error1: 2889.123934\n",
      " theta0: 5.800348, theta1: 2.489862, theta2: 15.617995, error1: 2490.307286\n",
      " theta0: 6.326710, theta1: 1.500854, theta2: 16.676947, error1: 2228.380594\n",
      " theta0: 6.792409, theta1: 0.499552, theta2: 17.545335, error1: 2028.776801\n",
      " theta0: 7.223066, theta1: -0.467855, theta2: 18.302105, error1: 1865.563114\n",
      " theta0: 7.630213, theta1: -1.384304, theta2: 18.982980, error1: 1727.680635\n",
      " theta0: 8.019329, theta1: -2.244977, theta2: 19.605108, error1: 1609.405390\n",
      " theta0: 8.393277, theta1: -3.050113, theta2: 20.177586, error1: 1507.205260\n",
      " theta0: 8.753766, theta1: -3.801955, theta2: 20.705955, error1: 1418.574162\n",
      " theta0: 9.101980, theta1: -4.503454, theta2: 21.194131, error1: 1341.560444\n",
      " theta0: 9.438851, theta1: -5.157731, theta2: 21.645228, error1: 1274.560364\n",
      " theta0: 9.765172, theta1: -5.767853, theta2: 22.061925, error1: 1216.218453\n",
      " theta0: 10.081652, theta1: -6.336746, theta2: 22.446619, error1: 1165.372973\n",
      " theta0: 10.388937, theta1: -6.867167, theta2: 22.801508, error1: 1121.021529\n",
      " theta0: 10.687626, theta1: -7.361703, theta2: 23.128621, error1: 1082.296493\n",
      " theta0: 10.978273, theta1: -7.822766, theta2: 23.429845, error1: 1048.445817\n",
      " theta0: 11.261396, theta1: -8.252613, theta2: 23.706935, error1: 1018.817248\n",
      " theta0: 11.537475, theta1: -8.653346, theta2: 23.961528, error1: 992.844974\n",
      " theta0: 11.806960, theta1: -9.026928, theta2: 24.195147, error1: 970.038169\n",
      " theta0: 12.070269, theta1: -9.375189, theta2: 24.409216, error1: 949.971097\n",
      " theta0: 12.327793, theta1: -9.699837, theta2: 24.605059, error1: 932.274535\n",
      " theta0: 12.579896, theta1: -10.002462, theta2: 24.783915, error1: 916.628335\n",
      " theta0: 12.826917, theta1: -10.284549, theta2: 24.946935, error1: 902.754958\n",
      " theta0: 13.069174, theta1: -10.547483, theta2: 25.095195, error1: 890.413863\n",
      " theta0: 13.306961, theta1: -10.792556, theta2: 25.229699, error1: 879.396624\n",
      " theta0: 13.540555, theta1: -11.020970, theta2: 25.351381, error1: 869.522693\n",
      " theta0: 13.770212, theta1: -11.233850, theta2: 25.461114, error1: 860.635720\n",
      " theta0: 13.996173, theta1: -11.432243, theta2: 25.559712, error1: 852.600353\n",
      " theta0: 14.218662, theta1: -11.617125, theta2: 25.647932, error1: 845.299456\n",
      " theta0: 14.437886, theta1: -11.789408, theta2: 25.726482, error1: 838.631699\n",
      " theta0: 14.654041, theta1: -11.949940, theta2: 25.796023, error1: 832.509456\n",
      " theta0: 14.867308, theta1: -12.099514, theta2: 25.857169, error1: 826.856991\n",
      " theta0: 15.077857, theta1: -12.238869, theta2: 25.910494, error1: 821.608869\n",
      " theta0: 15.285845, theta1: -12.368695, theta2: 25.956533, error1: 816.708589\n",
      " theta0: 15.491421, theta1: -12.489632, theta2: 25.995786, error1: 812.107390\n",
      " theta0: 15.694722, theta1: -12.602282, theta2: 26.028717, error1: 807.763213\n",
      " theta0: 15.895876, theta1: -12.707203, theta2: 26.055761, error1: 803.639806\n",
      " theta0: 16.095003, theta1: -12.804915, theta2: 26.077322, error1: 799.705947\n",
      " theta0: 16.292215, theta1: -12.895906, theta2: 26.093777, error1: 795.934762\n",
      " theta0: 16.487616, theta1: -12.980628, theta2: 26.105480, error1: 792.303140\n",
      " theta0: 16.681304, theta1: -13.059505, theta2: 26.112757, error1: 788.791227\n",
      " theta0: 16.873368, theta1: -13.132930, theta2: 26.115916, error1: 785.381981\n",
      " theta0: 17.063895, theta1: -13.201271, theta2: 26.115241, error1: 782.060793\n",
      " theta0: 17.252963, theta1: -13.264872, theta2: 26.110998, error1: 778.815150\n",
      " theta0: 17.440645, theta1: -13.324051, theta2: 26.103437, error1: 775.634354\n",
      " theta0: 17.627011, theta1: -13.379108, theta2: 26.092787, error1: 772.509267\n",
      " theta0: 17.812125, theta1: -13.430321, theta2: 26.079266, error1: 769.432100\n",
      " theta0: 17.996047, theta1: -13.477948, theta2: 26.063075, error1: 766.396223\n",
      " theta0: 18.178833, theta1: -13.522232, theta2: 26.044400, error1: 763.396005\n",
      " theta0: 18.360535, theta1: -13.563399, theta2: 26.023418, error1: 760.426674\n",
      " theta0: 18.541203, theta1: -13.601658, theta2: 26.000292, error1: 757.484194\n",
      " theta0: 18.720881, theta1: -13.637206, theta2: 25.975173, error1: 754.565166\n",
      " theta0: 18.899612, theta1: -13.670227, theta2: 25.948204, error1: 751.666730\n",
      " theta0: 19.077436, theta1: -13.700890, theta2: 25.919516, error1: 748.786492\n",
      " theta0: 19.254391, theta1: -13.729355, theta2: 25.889234, error1: 745.922456\n",
      " theta0: 19.430510, theta1: -13.755770, theta2: 25.857473, error1: 743.072965\n",
      " theta0: 19.605826, theta1: -13.780274, theta2: 25.824339, error1: 740.236651\n",
      " theta0: 19.780370, theta1: -13.802996, theta2: 25.789934, error1: 737.412391\n",
      " theta0: 19.954170, theta1: -13.824056, theta2: 25.754349, error1: 734.599273\n",
      " theta0: 20.127251, theta1: -13.843567, theta2: 25.717673, error1: 731.796560\n",
      " theta0: 20.299639, theta1: -13.861633, theta2: 25.679985, error1: 729.003664\n",
      " theta0: 20.471357, theta1: -13.878352, theta2: 25.641363, error1: 726.220125\n",
      " theta0: 20.642427, theta1: -13.893814, theta2: 25.601876, error1: 723.445587\n",
      " theta0: 20.812868, theta1: -13.908106, theta2: 25.561590, error1: 720.679781\n",
      " theta0: 20.982700, theta1: -13.921306, theta2: 25.520567, error1: 717.922515\n",
      " theta0: 21.151939, theta1: -13.933488, theta2: 25.478863, error1: 715.173654\n",
      " theta0: 21.320603, theta1: -13.944720, theta2: 25.436533, error1: 712.433116\n",
      " theta0: 21.488707, theta1: -13.955068, theta2: 25.393624, error1: 709.700857\n",
      " theta0: 21.656266, theta1: -13.964591, theta2: 25.350185, error1: 706.976867\n",
      " theta0: 21.823293, theta1: -13.973345, theta2: 25.306258, error1: 704.261163\n",
      " theta0: 21.989800, theta1: -13.981381, theta2: 25.261883, error1: 701.553784\n",
      " theta0: 22.155799, theta1: -13.988750, theta2: 25.217098, error1: 698.854781\n",
      " theta0: 22.321303, theta1: -13.995495, theta2: 25.171937, error1: 696.164220\n",
      " theta0: 22.486320, theta1: -14.001660, theta2: 25.126435, error1: 693.482176\n",
      " theta0: 22.650861, theta1: -14.007283, theta2: 25.080619, error1: 690.808729\n",
      " theta0: 22.814935, theta1: -14.012401, theta2: 25.034520, error1: 688.143963\n",
      " theta0: 22.978550, theta1: -14.017050, theta2: 24.988164, error1: 685.487964\n",
      " theta0: 23.141715, theta1: -14.021259, theta2: 24.941575, error1: 682.840818\n",
      " theta0: 23.304437, theta1: -14.025061, theta2: 24.894775, error1: 680.202611\n",
      " theta0: 23.466723, theta1: -14.028481, theta2: 24.847788, error1: 677.573425\n",
      " theta0: 23.628580, theta1: -14.031547, theta2: 24.800631, error1: 674.953342\n",
      " theta0: 23.790014, theta1: -14.034282, theta2: 24.753325, error1: 672.342438\n",
      " theta0: 23.951031, theta1: -14.036709, theta2: 24.705885, error1: 669.740788\n",
      " theta0: 24.111637, theta1: -14.038849, theta2: 24.658329, error1: 667.148460\n",
      " theta0: 24.271837, theta1: -14.040722, theta2: 24.610672, error1: 664.565520\n",
      " theta0: 24.431635, theta1: -14.042345, theta2: 24.562926, error1: 661.992027\n",
      " theta0: 24.591037, theta1: -14.043737, theta2: 24.515106, error1: 659.428039\n",
      " theta0: 24.750046, theta1: -14.044912, theta2: 24.467224, error1: 656.873606\n",
      " theta0: 24.908667, theta1: -14.045885, theta2: 24.419290, error1: 654.328774\n",
      " theta0: 25.066904, theta1: -14.046672, theta2: 24.371315, error1: 651.793586\n",
      " theta0: 25.224761, theta1: -14.047283, theta2: 24.323310, error1: 649.268080\n",
      " theta0: 25.382240, theta1: -14.047733, theta2: 24.275283, error1: 646.752289\n",
      " theta0: 25.539345, theta1: -14.048030, theta2: 24.227242, error1: 644.246242\n",
      " theta0: 25.696080, theta1: -14.048187, theta2: 24.179196, error1: 641.749964\n",
      " theta0: 25.852447, theta1: -14.048213, theta2: 24.131152, error1: 639.263476\n",
      " theta0: 26.008449, theta1: -14.048117, theta2: 24.083117, error1: 636.786797\n",
      " theta0: 26.164089, theta1: -14.047907, theta2: 24.035097, error1: 634.319939\n",
      " theta0: 26.319369, theta1: -14.047591, theta2: 23.987098, error1: 631.862913\n",
      " theta0: 26.474292, theta1: -14.047177, theta2: 23.939125, error1: 629.415728\n",
      " theta0: 26.628860, theta1: -14.046672, theta2: 23.891185, error1: 626.978387\n",
      " theta0: 26.783075, theta1: -14.046082, theta2: 23.843281, error1: 624.550891\n",
      " theta0: 26.936939, theta1: -14.045413, theta2: 23.795417, error1: 622.133240\n",
      " theta0: 27.090455, theta1: -14.044670, theta2: 23.747599, error1: 619.725430\n",
      " theta0: 27.243623, theta1: -14.043860, theta2: 23.699830, error1: 617.327454\n",
      " theta0: 27.396447, theta1: -14.042985, theta2: 23.652113, error1: 614.939305\n",
      " theta0: 27.548927, theta1: -14.042053, theta2: 23.604451, error1: 612.560971\n",
      " theta0: 27.701065, theta1: -14.041065, theta2: 23.556849, error1: 610.192440\n",
      " theta0: 27.852864, theta1: -14.040027, theta2: 23.509308, error1: 607.833698\n",
      " theta0: 28.004324, theta1: -14.038942, theta2: 23.461831, error1: 605.484728\n",
      " theta0: 28.155447, theta1: -14.037813, theta2: 23.414421, error1: 603.145513\n",
      " theta0: 28.306235, theta1: -14.036644, theta2: 23.367080, error1: 600.816034\n",
      " theta0: 28.456688, theta1: -14.035437, theta2: 23.319810, error1: 598.496269\n",
      " theta0: 28.606809, theta1: -14.034196, theta2: 23.272613, error1: 596.186198\n",
      " theta0: 28.756597, theta1: -14.032922, theta2: 23.225490, error1: 593.885796\n",
      " theta0: 28.906056, theta1: -14.031619, theta2: 23.178444, error1: 591.595040\n",
      " theta0: 29.055186, theta1: -14.030289, theta2: 23.131476, error1: 589.313903\n",
      " theta0: 29.203987, theta1: -14.028933, theta2: 23.084588, error1: 587.042361\n",
      " theta0: 29.352462, theta1: -14.027554, theta2: 23.037780, error1: 584.780385\n",
      " theta0: 29.500611, theta1: -14.026154, theta2: 22.991054, error1: 582.527948\n",
      " theta0: 29.648436, theta1: -14.024733, theta2: 22.944410, error1: 580.285020\n",
      " theta0: 29.795937, theta1: -14.023295, theta2: 22.897851, error1: 578.051573\n",
      " theta0: 29.943116, theta1: -14.021839, theta2: 22.851377, error1: 575.827576\n",
      " theta0: 30.089973, theta1: -14.020368, theta2: 22.804988, error1: 573.612998\n",
      " theta0: 30.236509, theta1: -14.018883, theta2: 22.758687, error1: 571.407809\n",
      " theta0: 30.382726, theta1: -14.017385, theta2: 22.712472, error1: 569.211976\n",
      " theta0: 30.528625, theta1: -14.015876, theta2: 22.666345, error1: 567.025467\n",
      " theta0: 30.674205, theta1: -14.014355, theta2: 22.620307, error1: 564.848250\n",
      " theta0: 30.819469, theta1: -14.012825, theta2: 22.574358, error1: 562.680292\n",
      " theta0: 30.964417, theta1: -14.011286, theta2: 22.528499, error1: 560.521558\n",
      " theta0: 31.109050, theta1: -14.009738, theta2: 22.482729, error1: 558.372017\n",
      " theta0: 31.253368, theta1: -14.008184, theta2: 22.437050, error1: 556.231634\n",
      " theta0: 31.397374, theta1: -14.006623, theta2: 22.391462, error1: 554.100374\n",
      " theta0: 31.541066, theta1: -14.005056, theta2: 22.345965, error1: 551.978204\n",
      " theta0: 31.684447, theta1: -14.003484, theta2: 22.300559, error1: 549.865088\n",
      " theta0: 31.827517, theta1: -14.001907, theta2: 22.255245, error1: 547.760993\n",
      " theta0: 31.970277, theta1: -14.000326, theta2: 22.210023, error1: 545.665884\n",
      " theta0: 32.112728, theta1: -13.998742, theta2: 22.164892, error1: 543.579725\n",
      " theta0: 32.254870, theta1: -13.997154, theta2: 22.119855, error1: 541.502481\n",
      " theta0: 32.396704, theta1: -13.995564, theta2: 22.074909, error1: 539.434117\n",
      " theta0: 32.538231, theta1: -13.993972, theta2: 22.030056, error1: 537.374599\n",
      " theta0: 32.679452, theta1: -13.992377, theta2: 21.985295, error1: 535.323891\n",
      " theta0: 32.820367, theta1: -13.990782, theta2: 21.940628, error1: 533.281957\n",
      " theta0: 32.960978, theta1: -13.989185, theta2: 21.896053, error1: 531.248762\n",
      " theta0: 33.101284, theta1: -13.987587, theta2: 21.851570, error1: 529.224271\n",
      " theta0: 33.241287, theta1: -13.985989, theta2: 21.807181, error1: 527.208449\n",
      " theta0: 33.380987, theta1: -13.984390, theta2: 21.762884, error1: 525.201259\n",
      " theta0: 33.520386, theta1: -13.982791, theta2: 21.718680, error1: 523.202668\n",
      " theta0: 33.659483, theta1: -13.981193, theta2: 21.674569, error1: 521.212640\n",
      " theta0: 33.798279, theta1: -13.979595, theta2: 21.630550, error1: 519.231138\n",
      " theta0: 33.936776, theta1: -13.977998, theta2: 21.586625, error1: 517.258129\n",
      " theta0: 34.074974, theta1: -13.976401, theta2: 21.542792, error1: 515.293577\n",
      " theta0: 34.212873, theta1: -13.974806, theta2: 21.499051, error1: 513.337447\n",
      " theta0: 34.350474, theta1: -13.973211, theta2: 21.455403, error1: 511.389704\n",
      " theta0: 34.487778, theta1: -13.971618, theta2: 21.411848, error1: 509.450312\n",
      " theta0: 34.624786, theta1: -13.970027, theta2: 21.368385, error1: 507.519238\n",
      " theta0: 34.761498, theta1: -13.968437, theta2: 21.325014, error1: 505.596445\n",
      " theta0: 34.897915, theta1: -13.966848, theta2: 21.281735, error1: 503.681900\n",
      " theta0: 35.034037, theta1: -13.965262, theta2: 21.238548, error1: 501.775568\n",
      " theta0: 35.169866, theta1: -13.963677, theta2: 21.195453, error1: 499.877415\n",
      " theta0: 35.305401, theta1: -13.962095, theta2: 21.152450, error1: 497.987405\n",
      " theta0: 35.440644, theta1: -13.960514, theta2: 21.109539, error1: 496.105504\n",
      " theta0: 35.575595, theta1: -13.958936, theta2: 21.066719, error1: 494.231679\n",
      " theta0: 35.710255, theta1: -13.957360, theta2: 21.023991, error1: 492.365894\n",
      " theta0: 35.844625, theta1: -13.955786, theta2: 20.981354, error1: 490.508117\n",
      " theta0: 35.978704, theta1: -13.954215, theta2: 20.938808, error1: 488.658313\n",
      " theta0: 36.112495, theta1: -13.952646, theta2: 20.896353, error1: 486.816448\n",
      " theta0: 36.245996, theta1: -13.951079, theta2: 20.853989, error1: 484.982488\n",
      " theta0: 36.379210, theta1: -13.949516, theta2: 20.811716, error1: 483.156401\n",
      " theta0: 36.512137, theta1: -13.947955, theta2: 20.769533, error1: 481.338151\n",
      " theta0: 36.644776, theta1: -13.946396, theta2: 20.727441, error1: 479.527707\n",
      " theta0: 36.777130, theta1: -13.944840, theta2: 20.685439, error1: 477.725035\n",
      " theta0: 36.909198, theta1: -13.943287, theta2: 20.643527, error1: 475.930102\n",
      " theta0: 37.040981, theta1: -13.941737, theta2: 20.601704, error1: 474.142874\n",
      " theta0: 37.172480, theta1: -13.940190, theta2: 20.559972, error1: 472.363319\n",
      " theta0: 37.303696, theta1: -13.938645, theta2: 20.518329, error1: 470.591404\n",
      " theta0: 37.434628, theta1: -13.937103, theta2: 20.476776, error1: 468.827097\n",
      " theta0: 37.565279, theta1: -13.935565, theta2: 20.435312, error1: 467.070365\n",
      " theta0: 37.695647, theta1: -13.934029, theta2: 20.393936, error1: 465.321175\n",
      " theta0: 37.825734, theta1: -13.932496, theta2: 20.352650, error1: 463.579495\n",
      " theta0: 37.955541, theta1: -13.930966, theta2: 20.311453, error1: 461.845294\n",
      " theta0: 38.085068, theta1: -13.929439, theta2: 20.270344, error1: 460.118539\n",
      " theta0: 38.214316, theta1: -13.927915, theta2: 20.229323, error1: 458.399198\n",
      " theta0: 38.343285, theta1: -13.926394, theta2: 20.188391, error1: 456.687240\n",
      " theta0: 38.471975, theta1: -13.924876, theta2: 20.147547, error1: 454.982633\n",
      " theta0: 38.600389, theta1: -13.923361, theta2: 20.106790, error1: 453.285345\n",
      " theta0: 38.728525, theta1: -13.921849, theta2: 20.066122, error1: 451.595345\n",
      " theta0: 38.856385, theta1: -13.920340, theta2: 20.025541, error1: 449.912603\n",
      " theta0: 38.983970, theta1: -13.918834, theta2: 19.985047, error1: 448.237086\n",
      " theta0: 39.111279, theta1: -13.917331, theta2: 19.944640, error1: 446.568763\n",
      " theta0: 39.238314, theta1: -13.915832, theta2: 19.904320, error1: 444.907605\n",
      " theta0: 39.365075, theta1: -13.914335, theta2: 19.864087, error1: 443.253580\n",
      " theta0: 39.491563, theta1: -13.912842, theta2: 19.823941, error1: 441.606657\n",
      " theta0: 39.617778, theta1: -13.911351, theta2: 19.783881, error1: 439.966806\n",
      " theta0: 39.743721, theta1: -13.909864, theta2: 19.743907, error1: 438.333997\n",
      " theta0: 39.869393, theta1: -13.908379, theta2: 19.704020, error1: 436.708200\n",
      " theta0: 39.994793, theta1: -13.906898, theta2: 19.664218, error1: 435.089384\n",
      " theta0: 40.119923, theta1: -13.905420, theta2: 19.624502, error1: 433.477519\n",
      " theta0: 40.244783, theta1: -13.903945, theta2: 19.584871, error1: 431.872576\n",
      " theta0: 40.369375, theta1: -13.902473, theta2: 19.545326, error1: 430.274525\n",
      " theta0: 40.493697, theta1: -13.901004, theta2: 19.505867, error1: 428.683336\n",
      " theta0: 40.617752, theta1: -13.899538, theta2: 19.466492, error1: 427.098980\n",
      " theta0: 40.741539, theta1: -13.898076, theta2: 19.427202, error1: 425.521428\n",
      " theta0: 40.865059, theta1: -13.896616, theta2: 19.387996, error1: 423.950649\n",
      " theta0: 40.988313, theta1: -13.895159, theta2: 19.348875, error1: 422.386616\n",
      " theta0: 41.111301, theta1: -13.893706, theta2: 19.309839, error1: 420.829299\n",
      " theta0: 41.234024, theta1: -13.892256, theta2: 19.270886, error1: 419.278669\n",
      " theta0: 41.356483, theta1: -13.890808, theta2: 19.232017, error1: 417.734697\n",
      " theta0: 41.478677, theta1: -13.889364, theta2: 19.193232, error1: 416.197356\n",
      " theta0: 41.600608, theta1: -13.887923, theta2: 19.154531, error1: 414.666616\n",
      " theta0: 41.722277, theta1: -13.886485, theta2: 19.115913, error1: 413.142449\n",
      " theta0: 41.843682, theta1: -13.885050, theta2: 19.077379, error1: 411.624827\n",
      " theta0: 41.964827, theta1: -13.883618, theta2: 19.038927, error1: 410.113721\n",
      " theta0: 42.085710, theta1: -13.882189, theta2: 19.000558, error1: 408.609105\n",
      " theta0: 42.206332, theta1: -13.880763, theta2: 18.962272, error1: 407.110949\n",
      " theta0: 42.326694, theta1: -13.879340, theta2: 18.924069, error1: 405.619226\n",
      " theta0: 42.446797, theta1: -13.877920, theta2: 18.885947, error1: 404.133908\n",
      " theta0: 42.566641, theta1: -13.876503, theta2: 18.847908, error1: 402.654968\n",
      " theta0: 42.686227, theta1: -13.875090, theta2: 18.809951, error1: 401.182379\n",
      " theta0: 42.805555, theta1: -13.873679, theta2: 18.772076, error1: 399.716113\n",
      " theta0: 42.924625, theta1: -13.872271, theta2: 18.734282, error1: 398.256143\n",
      " theta0: 43.043439, theta1: -13.870867, theta2: 18.696570, error1: 396.802441\n",
      " theta0: 43.161997, theta1: -13.869465, theta2: 18.658939, error1: 395.354982\n",
      " theta0: 43.280299, theta1: -13.868066, theta2: 18.621389, error1: 393.913738\n",
      " theta0: 43.398346, theta1: -13.866671, theta2: 18.583920, error1: 392.478682\n",
      " theta0: 43.516139, theta1: -13.865278, theta2: 18.546532, error1: 391.049787\n",
      " theta0: 43.633678, theta1: -13.863888, theta2: 18.509225, error1: 389.627028\n",
      " theta0: 43.750963, theta1: -13.862501, theta2: 18.471998, error1: 388.210378\n",
      " theta0: 43.867996, theta1: -13.861118, theta2: 18.434851, error1: 386.799811\n",
      " theta0: 43.984776, theta1: -13.859737, theta2: 18.397784, error1: 385.395300\n",
      " theta0: 44.101304, theta1: -13.858359, theta2: 18.360797, error1: 383.996820\n",
      " theta0: 44.217582, theta1: -13.856984, theta2: 18.323890, error1: 382.604344\n",
      " theta0: 44.333608, theta1: -13.855612, theta2: 18.287062, error1: 381.217846\n",
      " theta0: 44.449385, theta1: -13.854244, theta2: 18.250314, error1: 379.837302\n",
      " theta0: 44.564912, theta1: -13.852878, theta2: 18.213645, error1: 378.462685\n",
      " theta0: 44.680189, theta1: -13.851514, theta2: 18.177055, error1: 377.093970\n",
      " theta0: 44.795219, theta1: -13.850154, theta2: 18.140544, error1: 375.731132\n",
      " theta0: 44.910000, theta1: -13.848797, theta2: 18.104111, error1: 374.374145\n",
      " theta0: 45.024534, theta1: -13.847443, theta2: 18.067758, error1: 373.022984\n",
      " theta0: 45.138821, theta1: -13.846092, theta2: 18.031482, error1: 371.677624\n",
      " theta0: 45.252862, theta1: -13.844743, theta2: 17.995285, error1: 370.338040\n",
      " theta0: 45.366657, theta1: -13.843398, theta2: 17.959165, error1: 369.004208\n",
      " theta0: 45.480206, theta1: -13.842055, theta2: 17.923124, error1: 367.676102\n",
      " theta0: 45.593511, theta1: -13.840715, theta2: 17.887160, error1: 366.353698\n",
      " theta0: 45.706571, theta1: -13.839378, theta2: 17.851274, error1: 365.036971\n",
      " theta0: 45.819388, theta1: -13.838044, theta2: 17.815465, error1: 363.725897\n",
      " theta0: 45.931961, theta1: -13.836713, theta2: 17.779734, error1: 362.420452\n",
      " theta0: 46.044292, theta1: -13.835385, theta2: 17.744079, error1: 361.120612\n",
      " theta0: 46.156381, theta1: -13.834059, theta2: 17.708501, error1: 359.826352\n",
      " theta0: 46.268228, theta1: -13.832737, theta2: 17.673000, error1: 358.537648\n",
      " theta0: 46.379834, theta1: -13.831417, theta2: 17.637576, error1: 357.254477\n",
      " theta0: 46.491199, theta1: -13.830100, theta2: 17.602227, error1: 355.976815\n",
      " theta0: 46.602324, theta1: -13.828786, theta2: 17.566955, error1: 354.704637\n",
      " theta0: 46.713210, theta1: -13.827475, theta2: 17.531759, error1: 353.437921\n",
      " theta0: 46.823857, theta1: -13.826167, theta2: 17.496639, error1: 352.176644\n",
      " theta0: 46.934265, theta1: -13.824861, theta2: 17.461595, error1: 350.920780\n",
      " theta0: 47.044435, theta1: -13.823558, theta2: 17.426626, error1: 349.670308\n",
      " theta0: 47.154368, theta1: -13.822259, theta2: 17.391733, error1: 348.425204\n",
      " theta0: 47.264063, theta1: -13.820961, theta2: 17.356915, error1: 347.185445\n",
      " theta0: 47.373523, theta1: -13.819667, theta2: 17.322171, error1: 345.951009\n",
      " theta0: 47.482746, theta1: -13.818376, theta2: 17.287503, error1: 344.721871\n",
      " theta0: 47.591734, theta1: -13.817087, theta2: 17.252910, error1: 343.498010\n",
      " theta0: 47.700486, theta1: -13.815801, theta2: 17.218391, error1: 342.279402\n",
      " theta0: 47.809005, theta1: -13.814518, theta2: 17.183946, error1: 341.066026\n",
      " theta0: 47.917289, theta1: -13.813237, theta2: 17.149576, error1: 339.857858\n",
      " theta0: 48.025340, theta1: -13.811959, theta2: 17.115280, error1: 338.654877\n",
      " theta0: 48.133158, theta1: -13.810685, theta2: 17.081057, error1: 337.457059\n",
      " theta0: 48.240744, theta1: -13.809412, theta2: 17.046909, error1: 336.264383\n",
      " theta0: 48.348097, theta1: -13.808143, theta2: 17.012834, error1: 335.076827\n",
      " theta0: 48.455220, theta1: -13.806876, theta2: 16.978833, error1: 333.894368\n",
      " theta0: 48.562111, theta1: -13.805612, theta2: 16.944904, error1: 332.716985\n",
      " theta0: 48.668772, theta1: -13.804351, theta2: 16.911049, error1: 331.544656\n",
      " theta0: 48.775203, theta1: -13.803092, theta2: 16.877267, error1: 330.377359\n",
      " theta0: 48.881405, theta1: -13.801837, theta2: 16.843558, error1: 329.215073\n",
      " theta0: 48.987377, theta1: -13.800583, theta2: 16.809922, error1: 328.057775\n",
      " theta0: 49.093121, theta1: -13.799333, theta2: 16.776358, error1: 326.905445\n",
      " theta0: 49.198637, theta1: -13.798085, theta2: 16.742866, error1: 325.758062\n",
      " theta0: 49.303926, theta1: -13.796840, theta2: 16.709447, error1: 324.615603\n",
      " theta0: 49.408988, theta1: -13.795598, theta2: 16.676099, error1: 323.478048\n",
      " theta0: 49.513823, theta1: -13.794358, theta2: 16.642824, error1: 322.345375\n",
      " theta0: 49.618433, theta1: -13.793121, theta2: 16.609620, error1: 321.217564\n",
      " theta0: 49.722816, theta1: -13.791887, theta2: 16.576488, error1: 320.094594\n",
      " theta0: 49.826975, theta1: -13.790655, theta2: 16.543427, error1: 318.976444\n",
      " theta0: 49.930909, theta1: -13.789426, theta2: 16.510437, error1: 317.863093\n",
      " theta0: 50.034619, theta1: -13.788200, theta2: 16.477519, error1: 316.754520\n",
      " theta0: 50.138106, theta1: -13.786976, theta2: 16.444672, error1: 315.650706\n",
      " theta0: 50.241369, theta1: -13.785755, theta2: 16.411895, error1: 314.551629\n",
      " theta0: 50.344410, theta1: -13.784537, theta2: 16.379189, error1: 313.457269\n",
      " theta0: 50.447229, theta1: -13.783321, theta2: 16.346554, error1: 312.367606\n",
      " theta0: 50.549826, theta1: -13.782108, theta2: 16.313988, error1: 311.282620\n",
      " theta0: 50.652202, theta1: -13.780897, theta2: 16.281494, error1: 310.202291\n",
      " theta0: 50.754357, theta1: -13.779689, theta2: 16.249069, error1: 309.126598\n",
      " theta0: 50.856292, theta1: -13.778484, theta2: 16.216714, error1: 308.055522\n",
      " theta0: 50.958008, theta1: -13.777281, theta2: 16.184429, error1: 306.989042\n",
      " theta0: 51.059504, theta1: -13.776081, theta2: 16.152213, error1: 305.927140\n",
      " theta0: 51.160781, theta1: -13.774883, theta2: 16.120067, error1: 304.869795\n",
      " theta0: 51.261840, theta1: -13.773688, theta2: 16.087990, error1: 303.816988\n",
      " theta0: 51.362681, theta1: -13.772496, theta2: 16.055982, error1: 302.768699\n",
      " theta0: 51.463304, theta1: -13.771306, theta2: 16.024043, error1: 301.724909\n",
      " theta0: 51.563711, theta1: -13.770118, theta2: 15.992174, error1: 300.685598\n",
      " theta0: 51.663901, theta1: -13.768934, theta2: 15.960372, error1: 299.650748\n",
      " theta0: 51.763876, theta1: -13.767752, theta2: 15.928640, error1: 298.620339\n",
      " theta0: 51.863634, theta1: -13.766572, theta2: 15.896976, error1: 297.594351\n",
      " theta0: 51.963178, theta1: -13.765395, theta2: 15.865380, error1: 296.572767\n",
      " theta0: 52.062507, theta1: -13.764220, theta2: 15.833852, error1: 295.555567\n",
      " theta0: 52.161622, theta1: -13.763048, theta2: 15.802392, error1: 294.542732\n",
      " theta0: 52.260523, theta1: -13.761879, theta2: 15.771000, error1: 293.534243\n",
      " theta0: 52.359212, theta1: -13.760712, theta2: 15.739676, error1: 292.530082\n",
      " theta0: 52.457687, theta1: -13.759547, theta2: 15.708419, error1: 291.530230\n",
      " theta0: 52.555950, theta1: -13.758385, theta2: 15.677229, error1: 290.534669\n",
      " theta0: 52.654001, theta1: -13.757226, theta2: 15.646107, error1: 289.543380\n",
      " theta0: 52.751841, theta1: -13.756069, theta2: 15.615052, error1: 288.556345\n",
      " theta0: 52.849470, theta1: -13.754914, theta2: 15.584064, error1: 287.573545\n",
      " theta0: 52.946889, theta1: -13.753762, theta2: 15.553142, error1: 286.594963\n",
      " theta0: 53.044097, theta1: -13.752613, theta2: 15.522288, error1: 285.620580\n",
      " theta0: 53.141096, theta1: -13.751466, theta2: 15.491500, error1: 284.650378\n",
      " theta0: 53.237886, theta1: -13.750321, theta2: 15.460778, error1: 283.684339\n",
      " theta0: 53.334467, theta1: -13.749179, theta2: 15.430122, error1: 282.722445\n",
      " theta0: 53.430840, theta1: -13.748040, theta2: 15.399533, error1: 281.764679\n",
      " theta0: 53.527005, theta1: -13.746903, theta2: 15.369009, error1: 280.811022\n",
      " theta0: 53.622963, theta1: -13.745768, theta2: 15.338551, error1: 279.861458\n",
      " theta0: 53.718714, theta1: -13.744636, theta2: 15.308159, error1: 278.915967\n",
      " theta0: 53.814259, theta1: -13.743506, theta2: 15.277832, error1: 277.974534\n",
      " theta0: 53.909598, theta1: -13.742378, theta2: 15.247571, error1: 277.037140\n",
      " theta0: 54.004731, theta1: -13.741254, theta2: 15.217375, error1: 276.103769\n",
      " theta0: 54.099659, theta1: -13.740131, theta2: 15.187244, error1: 275.174402\n",
      " theta0: 54.194382, theta1: -13.739011, theta2: 15.157178, error1: 274.249023\n",
      " theta0: 54.288901, theta1: -13.737893, theta2: 15.127177, error1: 273.327614\n",
      " theta0: 54.383217, theta1: -13.736778, theta2: 15.097241, error1: 272.410159\n",
      " theta0: 54.477329, theta1: -13.735665, theta2: 15.067369, error1: 271.496640\n",
      " theta0: 54.571238, theta1: -13.734555, theta2: 15.037561, error1: 270.587040\n",
      " theta0: 54.664945, theta1: -13.733446, theta2: 15.007818, error1: 269.681344\n",
      " theta0: 54.758450, theta1: -13.732341, theta2: 14.978139, error1: 268.779533\n",
      " theta0: 54.851753, theta1: -13.731237, theta2: 14.948524, error1: 267.881591\n",
      " theta0: 54.944855, theta1: -13.730137, theta2: 14.918972, error1: 266.987501\n",
      " theta0: 55.037757, theta1: -13.729038, theta2: 14.889485, error1: 266.097248\n",
      " theta0: 55.130458, theta1: -13.727942, theta2: 14.860061, error1: 265.210814\n",
      " theta0: 55.222959, theta1: -13.726848, theta2: 14.830700, error1: 264.328183\n",
      " theta0: 55.315261, theta1: -13.725757, theta2: 14.801403, error1: 263.449339\n",
      " theta0: 55.407364, theta1: -13.724667, theta2: 14.772169, error1: 262.574266\n",
      " theta0: 55.499268, theta1: -13.723581, theta2: 14.742998, error1: 261.702946\n",
      " theta0: 55.590975, theta1: -13.722496, theta2: 14.713889, error1: 260.835365\n",
      " theta0: 55.682483, theta1: -13.721414, theta2: 14.684844, error1: 259.971505\n",
      " theta0: 55.773794, theta1: -13.720334, theta2: 14.655861, error1: 259.111352\n",
      " theta0: 55.864909, theta1: -13.719257, theta2: 14.626940, error1: 258.254889\n",
      " theta0: 55.955827, theta1: -13.718182, theta2: 14.598082, error1: 257.402100\n",
      " theta0: 56.046549, theta1: -13.717109, theta2: 14.569287, error1: 256.552969\n",
      " theta0: 56.137075, theta1: -13.716039, theta2: 14.540553, error1: 255.707481\n",
      " theta0: 56.227407, theta1: -13.714970, theta2: 14.511881, error1: 254.865620\n",
      " theta0: 56.317543, theta1: -13.713905, theta2: 14.483271, error1: 254.027371\n",
      " theta0: 56.407486, theta1: -13.712841, theta2: 14.454722, error1: 253.192717\n",
      " theta0: 56.497234, theta1: -13.711780, theta2: 14.426236, error1: 252.361644\n",
      " theta0: 56.586789, theta1: -13.710721, theta2: 14.397810, error1: 251.534136\n",
      " theta0: 56.676151, theta1: -13.709664, theta2: 14.369446, error1: 250.710178\n",
      " theta0: 56.765320, theta1: -13.708610, theta2: 14.341143, error1: 249.889755\n",
      " theta0: 56.854297, theta1: -13.707557, theta2: 14.312901, error1: 249.072850\n",
      " theta0: 56.943082, theta1: -13.706508, theta2: 14.284720, error1: 248.259450\n",
      " theta0: 57.031676, theta1: -13.705460, theta2: 14.256600, error1: 247.449539\n",
      " theta0: 57.120078, theta1: -13.704415, theta2: 14.228540, error1: 246.643102\n",
      " theta0: 57.208291, theta1: -13.703371, theta2: 14.200541, error1: 245.840125\n",
      " theta0: 57.296313, theta1: -13.702331, theta2: 14.172602, error1: 245.040591\n",
      " theta0: 57.384145, theta1: -13.701292, theta2: 14.144723, error1: 244.244488\n",
      " theta0: 57.471788, theta1: -13.700256, theta2: 14.116905, error1: 243.451799\n",
      " theta0: 57.559242, theta1: -13.699221, theta2: 14.089146, error1: 242.662510\n",
      " theta0: 57.646507, theta1: -13.698190, theta2: 14.061447, error1: 241.876606\n",
      " theta0: 57.733585, theta1: -13.697160, theta2: 14.033808, error1: 241.094074\n",
      " theta0: 57.820474, theta1: -13.696132, theta2: 14.006229, error1: 240.314898\n",
      " theta0: 57.907177, theta1: -13.695107, theta2: 13.978709, error1: 239.539064\n",
      " theta0: 57.993692, theta1: -13.694084, theta2: 13.951248, error1: 238.766558\n",
      " theta0: 58.080021, theta1: -13.693063, theta2: 13.923847, error1: 237.997365\n",
      " theta0: 58.166164, theta1: -13.692045, theta2: 13.896504, error1: 237.231471\n",
      " theta0: 58.252121, theta1: -13.691028, theta2: 13.869221, error1: 236.468862\n",
      " theta0: 58.337893, theta1: -13.690014, theta2: 13.841996, error1: 235.709524\n",
      " theta0: 58.423480, theta1: -13.689002, theta2: 13.814830, error1: 234.953443\n",
      " theta0: 58.508882, theta1: -13.687992, theta2: 13.787723, error1: 234.200604\n",
      " theta0: 58.594101, theta1: -13.686984, theta2: 13.760674, error1: 233.450994\n",
      " theta0: 58.679135, theta1: -13.685979, theta2: 13.733683, error1: 232.704600\n",
      " theta0: 58.763986, theta1: -13.684975, theta2: 13.706751, error1: 231.961406\n",
      " theta0: 58.848655, theta1: -13.683974, theta2: 13.679877, error1: 231.221400\n",
      " theta0: 58.933141, theta1: -13.682975, theta2: 13.653060, error1: 230.484567\n",
      " theta0: 59.017444, theta1: -13.681978, theta2: 13.626301, error1: 229.750895\n",
      " theta0: 59.101566, theta1: -13.680984, theta2: 13.599601, error1: 229.020369\n",
      " theta0: 59.185507, theta1: -13.679991, theta2: 13.572957, error1: 228.292976\n",
      " theta0: 59.269267, theta1: -13.679001, theta2: 13.546371, error1: 227.568702\n",
      " theta0: 59.352846, theta1: -13.678012, theta2: 13.519843, error1: 226.847535\n",
      " theta0: 59.436245, theta1: -13.677026, theta2: 13.493371, error1: 226.129460\n",
      " theta0: 59.519464, theta1: -13.676042, theta2: 13.466957, error1: 225.414465\n",
      " theta0: 59.602504, theta1: -13.675060, theta2: 13.440599, error1: 224.702536\n",
      " theta0: 59.685364, theta1: -13.674080, theta2: 13.414299, error1: 223.993659\n",
      " theta0: 59.768047, theta1: -13.673102, theta2: 13.388055, error1: 223.287823\n",
      " theta0: 59.850550, theta1: -13.672127, theta2: 13.361867, error1: 222.585014\n",
      " theta0: 59.932876, theta1: -13.671153, theta2: 13.335736, error1: 221.885218\n",
      " theta0: 60.015025, theta1: -13.670182, theta2: 13.309662, error1: 221.188423\n",
      " theta0: 60.096996, theta1: -13.669213, theta2: 13.283643, error1: 220.494617\n",
      " theta0: 60.178791, theta1: -13.668245, theta2: 13.257681, error1: 219.803785\n",
      " theta0: 60.260410, theta1: -13.667280, theta2: 13.231775, error1: 219.115916\n",
      " theta0: 60.341852, theta1: -13.666317, theta2: 13.205924, error1: 218.430996\n",
      " theta0: 60.423119, theta1: -13.665356, theta2: 13.180130, error1: 217.749014\n",
      " theta0: 60.504211, theta1: -13.664397, theta2: 13.154390, error1: 217.069955\n",
      " theta0: 60.585128, theta1: -13.663440, theta2: 13.128707, error1: 216.393809\n",
      " theta0: 60.665870, theta1: -13.662486, theta2: 13.103079, error1: 215.720561\n",
      " theta0: 60.746439, theta1: -13.661533, theta2: 13.077505, error1: 215.050201\n",
      " theta0: 60.826833, theta1: -13.660582, theta2: 13.051988, error1: 214.382715\n",
      " theta0: 60.907055, theta1: -13.659634, theta2: 13.026525, error1: 213.718091\n",
      " theta0: 60.987103, theta1: -13.658687, theta2: 13.001117, error1: 213.056316\n",
      " theta0: 61.066979, theta1: -13.657743, theta2: 12.975763, error1: 212.397379\n",
      " theta0: 61.146683, theta1: -13.656800, theta2: 12.950465, error1: 211.741268\n",
      " theta0: 61.226215, theta1: -13.655860, theta2: 12.925221, error1: 211.087969\n",
      " theta0: 61.305575, theta1: -13.654921, theta2: 12.900031, error1: 210.437472\n",
      " theta0: 61.384765, theta1: -13.653985, theta2: 12.874896, error1: 209.789763\n",
      " theta0: 61.463783, theta1: -13.653050, theta2: 12.849815, error1: 209.144832\n",
      " theta0: 61.542632, theta1: -13.652118, theta2: 12.824788, error1: 208.502666\n",
      " theta0: 61.621310, theta1: -13.651188, theta2: 12.799815, error1: 207.863253\n",
      " theta0: 61.699819, theta1: -13.650259, theta2: 12.774895, error1: 207.226581\n",
      " theta0: 61.778158, theta1: -13.649333, theta2: 12.750030, error1: 206.592639\n",
      " theta0: 61.856329, theta1: -13.648409, theta2: 12.725218, error1: 205.961415\n",
      " theta0: 61.934331, theta1: -13.647486, theta2: 12.700459, error1: 205.332897\n",
      " theta0: 62.012165, theta1: -13.646566, theta2: 12.675754, error1: 204.707074\n",
      " theta0: 62.089831, theta1: -13.645647, theta2: 12.651102, error1: 204.083933\n",
      " theta0: 62.167330, theta1: -13.644731, theta2: 12.626504, error1: 203.463464\n",
      " theta0: 62.244661, theta1: -13.643817, theta2: 12.601958, error1: 202.845656\n",
      " theta0: 62.321826, theta1: -13.642904, theta2: 12.577465, error1: 202.230495\n",
      " theta0: 62.398825, theta1: -13.641994, theta2: 12.553025, error1: 201.617972\n",
      " theta0: 62.475658, theta1: -13.641085, theta2: 12.528638, error1: 201.008075\n",
      " theta0: 62.552325, theta1: -13.640178, theta2: 12.504303, error1: 200.400792\n",
      " theta0: 62.628826, theta1: -13.639274, theta2: 12.480021, error1: 199.796113\n",
      " theta0: 62.705163, theta1: -13.638371, theta2: 12.455791, error1: 199.194026\n",
      " theta0: 62.781335, theta1: -13.637470, theta2: 12.431614, error1: 198.594519\n",
      " theta0: 62.857343, theta1: -13.636572, theta2: 12.407488, error1: 197.997583\n",
      " theta0: 62.933188, theta1: -13.635675, theta2: 12.383415, error1: 197.403206\n",
      " theta0: 63.008868, theta1: -13.634780, theta2: 12.359393, error1: 196.811376\n",
      " theta0: 63.084386, theta1: -13.633887, theta2: 12.335423, error1: 196.222083\n",
      " theta0: 63.159741, theta1: -13.632996, theta2: 12.311505, error1: 195.635317\n",
      " theta0: 63.234933, theta1: -13.632107, theta2: 12.287638, error1: 195.051065\n",
      " theta0: 63.309963, theta1: -13.631219, theta2: 12.263823, error1: 194.469318\n",
      " theta0: 63.384831, theta1: -13.630334, theta2: 12.240059, error1: 193.890065\n",
      " theta0: 63.459539, theta1: -13.629451, theta2: 12.216347, error1: 193.313295\n",
      " theta0: 63.534085, theta1: -13.628569, theta2: 12.192685, error1: 192.738996\n",
      " theta0: 63.608470, theta1: -13.627690, theta2: 12.169075, error1: 192.167160\n",
      " theta0: 63.682695, theta1: -13.626812, theta2: 12.145515, error1: 191.597774\n",
      " theta0: 63.756760, theta1: -13.625936, theta2: 12.122006, error1: 191.030829\n",
      " theta0: 63.830665, theta1: -13.625062, theta2: 12.098548, error1: 190.466314\n",
      " theta0: 63.904411, theta1: -13.624190, theta2: 12.075141, error1: 189.904218\n",
      " theta0: 63.977998, theta1: -13.623320, theta2: 12.051784, error1: 189.344532\n",
      " theta0: 64.051426, theta1: -13.622452, theta2: 12.028477, error1: 188.787244\n",
      " theta0: 64.124696, theta1: -13.621585, theta2: 12.005221, error1: 188.232345\n",
      " theta0: 64.197808, theta1: -13.620721, theta2: 11.982014, error1: 187.679825\n",
      " theta0: 64.270763, theta1: -13.619858, theta2: 11.958858, error1: 187.129672\n",
      " theta0: 64.343560, theta1: -13.618997, theta2: 11.935751, error1: 186.581877\n",
      " theta0: 64.416200, theta1: -13.618138, theta2: 11.912695, error1: 186.036430\n",
      " theta0: 64.488684, theta1: -13.617281, theta2: 11.889688, error1: 185.493321\n",
      " theta0: 64.561012, theta1: -13.616426, theta2: 11.866731, error1: 184.952539\n",
      " theta0: 64.633183, theta1: -13.615572, theta2: 11.843823, error1: 184.414075\n",
      " theta0: 64.705199, theta1: -13.614721, theta2: 11.820965, error1: 183.877918\n",
      " theta0: 64.777060, theta1: -13.613871, theta2: 11.798155, error1: 183.344059\n",
      " theta0: 64.848765, theta1: -13.613023, theta2: 11.775395, error1: 182.812489\n",
      " theta0: 64.920317, theta1: -13.612177, theta2: 11.752685, error1: 182.283196\n",
      " theta0: 64.991714, theta1: -13.611333, theta2: 11.730023, error1: 181.756171\n",
      " theta0: 65.062957, theta1: -13.610490, theta2: 11.707410, error1: 181.231405\n",
      " theta0: 65.134046, theta1: -13.609650, theta2: 11.684845, error1: 180.708888\n",
      " theta0: 65.204982, theta1: -13.608811, theta2: 11.662329, error1: 180.188610\n",
      " theta0: 65.275766, theta1: -13.607974, theta2: 11.639862, error1: 179.670561\n",
      " theta0: 65.346396, theta1: -13.607139, theta2: 11.617444, error1: 179.154732\n",
      " theta0: 65.416875, theta1: -13.606305, theta2: 11.595073, error1: 178.641114\n",
      " theta0: 65.487201, theta1: -13.605474, theta2: 11.572751, error1: 178.129697\n",
      " theta0: 65.557376, theta1: -13.604644, theta2: 11.550477, error1: 177.620471\n",
      " theta0: 65.627400, theta1: -13.603816, theta2: 11.528251, error1: 177.113427\n",
      " theta0: 65.697272, theta1: -13.602989, theta2: 11.506073, error1: 176.608556\n",
      " theta0: 65.766995, theta1: -13.602165, theta2: 11.483942, error1: 176.105848\n",
      " theta0: 65.836566, theta1: -13.601342, theta2: 11.461860, error1: 175.605294\n",
      " theta0: 65.905988, theta1: -13.600521, theta2: 11.439825, error1: 175.106885\n",
      " theta0: 65.975260, theta1: -13.599702, theta2: 11.417837, error1: 174.610612\n",
      " theta0: 66.044383, theta1: -13.598885, theta2: 11.395897, error1: 174.116465\n",
      " theta0: 66.113357, theta1: -13.598069, theta2: 11.374004, error1: 173.624435\n",
      " theta0: 66.182182, theta1: -13.597255, theta2: 11.352159, error1: 173.134513\n",
      " theta0: 66.250858, theta1: -13.596443, theta2: 11.330360, error1: 172.646691\n",
      " theta0: 66.319387, theta1: -13.595633, theta2: 11.308609, error1: 172.160959\n",
      " theta0: 66.387768, theta1: -13.594824, theta2: 11.286904, error1: 171.677307\n",
      " theta0: 66.456002, theta1: -13.594018, theta2: 11.265246, error1: 171.195728\n",
      " theta0: 66.524088, theta1: -13.593212, theta2: 11.243635, error1: 170.716213\n",
      " theta0: 66.592028, theta1: -13.592409, theta2: 11.222071, error1: 170.238751\n",
      " theta0: 66.659821, theta1: -13.591607, theta2: 11.200553, error1: 169.763336\n",
      " theta0: 66.727468, theta1: -13.590807, theta2: 11.179081, error1: 169.289957\n",
      " theta0: 66.794969, theta1: -13.590009, theta2: 11.157655, error1: 168.818606\n",
      " theta0: 66.862325, theta1: -13.589213, theta2: 11.136276, error1: 168.349274\n",
      " theta0: 66.929535, theta1: -13.588418, theta2: 11.114943, error1: 167.881953\n",
      " theta0: 66.996601, theta1: -13.587625, theta2: 11.093656, error1: 167.416635\n",
      " theta0: 67.063522, theta1: -13.586834, theta2: 11.072415, error1: 166.953309\n",
      " theta0: 67.130299, theta1: -13.586044, theta2: 11.051219, error1: 166.491969\n",
      " theta0: 67.196932, theta1: -13.585256, theta2: 11.030070, error1: 166.032605\n",
      " theta0: 67.263421, theta1: -13.584470, theta2: 11.008965, error1: 165.575208\n",
      " theta0: 67.329767, theta1: -13.583685, theta2: 10.987907, error1: 165.119771\n",
      " theta0: 67.395969, theta1: -13.582902, theta2: 10.966893, error1: 164.666286\n",
      " theta0: 67.462029, theta1: -13.582121, theta2: 10.945925, error1: 164.214742\n",
      " theta0: 67.527947, theta1: -13.581342, theta2: 10.925003, error1: 163.765133\n",
      " theta0: 67.593723, theta1: -13.580564, theta2: 10.904125, error1: 163.317450\n",
      " theta0: 67.659357, theta1: -13.579788, theta2: 10.883292, error1: 162.871685\n",
      " theta0: 67.724849, theta1: -13.579013, theta2: 10.862504, error1: 162.427829\n",
      " theta0: 67.790200, theta1: -13.578241, theta2: 10.841762, error1: 161.985874\n",
      " theta0: 67.855410, theta1: -13.577470, theta2: 10.821063, error1: 161.545813\n",
      " theta0: 67.920480, theta1: -13.576700, theta2: 10.800410, error1: 161.107636\n",
      " theta0: 67.985409, theta1: -13.575932, theta2: 10.779801, error1: 160.671337\n",
      " theta0: 68.050199, theta1: -13.575166, theta2: 10.759236, error1: 160.236906\n",
      " theta0: 68.114848, theta1: -13.574402, theta2: 10.738716, error1: 159.804335\n",
      " theta0: 68.179359, theta1: -13.573639, theta2: 10.718240, error1: 159.373618\n",
      " theta0: 68.243730, theta1: -13.572878, theta2: 10.697808, error1: 158.944745\n",
      " theta0: 68.307963, theta1: -13.572118, theta2: 10.677420, error1: 158.517710\n",
      " theta0: 68.372057, theta1: -13.571360, theta2: 10.657076, error1: 158.092503\n",
      " theta0: 68.436013, theta1: -13.570604, theta2: 10.636776, error1: 157.669118\n",
      " theta0: 68.499831, theta1: -13.569849, theta2: 10.616519, error1: 157.247545\n",
      " theta0: 68.563511, theta1: -13.569096, theta2: 10.596307, error1: 156.827779\n",
      " theta0: 68.627054, theta1: -13.568345, theta2: 10.576138, error1: 156.409810\n",
      " theta0: 68.690461, theta1: -13.567595, theta2: 10.556012, error1: 155.993631\n",
      " theta0: 68.753730, theta1: -13.566847, theta2: 10.535930, error1: 155.579235\n",
      " theta0: 68.816863, theta1: -13.566100, theta2: 10.515891, error1: 155.166613\n",
      " theta0: 68.879860, theta1: -13.565355, theta2: 10.495895, error1: 154.755758\n",
      " theta0: 68.942722, theta1: -13.564612, theta2: 10.475942, error1: 154.346663\n",
      " theta0: 69.005447, theta1: -13.563870, theta2: 10.456033, error1: 153.939320\n",
      " theta0: 69.068038, theta1: -13.563130, theta2: 10.436166, error1: 153.533722\n",
      " theta0: 69.130493, theta1: -13.562392, theta2: 10.416342, error1: 153.129860\n",
      " theta0: 69.192814, theta1: -13.561655, theta2: 10.396561, error1: 152.727728\n",
      " theta0: 69.255001, theta1: -13.560919, theta2: 10.376823, error1: 152.327317\n",
      " theta0: 69.317053, theta1: -13.560186, theta2: 10.357127, error1: 151.928622\n",
      " theta0: 69.378972, theta1: -13.559453, theta2: 10.337473, error1: 151.531634\n",
      " theta0: 69.440757, theta1: -13.558723, theta2: 10.317862, error1: 151.136345\n",
      " theta0: 69.502409, theta1: -13.557994, theta2: 10.298293, error1: 150.742750\n",
      " theta0: 69.563929, theta1: -13.557266, theta2: 10.278766, error1: 150.350840\n",
      " theta0: 69.625315, theta1: -13.556540, theta2: 10.259282, error1: 149.960608\n",
      " theta0: 69.686569, theta1: -13.555816, theta2: 10.239839, error1: 149.572046\n",
      " theta0: 69.747692, theta1: -13.555093, theta2: 10.220439, error1: 149.185149\n",
      " theta0: 69.808682, theta1: -13.554372, theta2: 10.201080, error1: 148.799908\n",
      " theta0: 69.869541, theta1: -13.553653, theta2: 10.181763, error1: 148.416317\n",
      " theta0: 69.930269, theta1: -13.552934, theta2: 10.162487, error1: 148.034369\n",
      " theta0: 69.990866, theta1: -13.552218, theta2: 10.143253, error1: 147.654055\n",
      " theta0: 70.051332, theta1: -13.551503, theta2: 10.124061, error1: 147.275370\n",
      " theta0: 70.111668, theta1: -13.550789, theta2: 10.104910, error1: 146.898307\n",
      " theta0: 70.171873, theta1: -13.550077, theta2: 10.085800, error1: 146.522857\n",
      " theta0: 70.231949, theta1: -13.549367, theta2: 10.066732, error1: 146.149016\n",
      " theta0: 70.291896, theta1: -13.548658, theta2: 10.047704, error1: 145.776774\n",
      " theta0: 70.351713, theta1: -13.547951, theta2: 10.028718, error1: 145.406127\n",
      " theta0: 70.411401, theta1: -13.547245, theta2: 10.009772, error1: 145.037066\n",
      " theta0: 70.470961, theta1: -13.546541, theta2: 9.990867, error1: 144.669586\n",
      " theta0: 70.530392, theta1: -13.545838, theta2: 9.972004, error1: 144.303678\n",
      " theta0: 70.589695, theta1: -13.545137, theta2: 9.953180, error1: 143.939337\n",
      " theta0: 70.648871, theta1: -13.544437, theta2: 9.934398, error1: 143.576556\n",
      " theta0: 70.707918, theta1: -13.543739, theta2: 9.915655, error1: 143.215328\n",
      " theta0: 70.766839, theta1: -13.543042, theta2: 9.896954, error1: 142.855647\n",
      " theta0: 70.825632, theta1: -13.542347, theta2: 9.878292, error1: 142.497505\n",
      " theta0: 70.884299, theta1: -13.541653, theta2: 9.859671, error1: 142.140896\n",
      " theta0: 70.942839, theta1: -13.540961, theta2: 9.841090, error1: 141.785814\n",
      " theta0: 71.001253, theta1: -13.540270, theta2: 9.822549, error1: 141.432252\n",
      " theta0: 71.059541, theta1: -13.539581, theta2: 9.804048, error1: 141.080203\n",
      " theta0: 71.117703, theta1: -13.538893, theta2: 9.785586, error1: 140.729662\n",
      " theta0: 71.175740, theta1: -13.538207, theta2: 9.767165, error1: 140.380621\n",
      " theta0: 71.233652, theta1: -13.537522, theta2: 9.748783, error1: 140.033074\n",
      " theta0: 71.291439, theta1: -13.536839, theta2: 9.730441, error1: 139.687014\n",
      " theta0: 71.349102, theta1: -13.536157, theta2: 9.712139, error1: 139.342436\n",
      " theta0: 71.406640, theta1: -13.535476, theta2: 9.693876, error1: 138.999333\n",
      " theta0: 71.464054, theta1: -13.534797, theta2: 9.675652, error1: 138.657699\n",
      " theta0: 71.521345, theta1: -13.534120, theta2: 9.657468, error1: 138.317526\n",
      " theta0: 71.578512, theta1: -13.533444, theta2: 9.639322, error1: 137.978810\n",
      " theta0: 71.635555, theta1: -13.532769, theta2: 9.621216, error1: 137.641543\n",
      " theta0: 71.692476, theta1: -13.532096, theta2: 9.603149, error1: 137.305720\n",
      " theta0: 71.749274, theta1: -13.531425, theta2: 9.585121, error1: 136.971335\n",
      " theta0: 71.805949, theta1: -13.530755, theta2: 9.567132, error1: 136.638380\n",
      " theta0: 71.862503, theta1: -13.530086, theta2: 9.549181, error1: 136.306851\n",
      " theta0: 71.918934, theta1: -13.529419, theta2: 9.531270, error1: 135.976740\n",
      " theta0: 71.975244, theta1: -13.528753, theta2: 9.513396, error1: 135.648042\n",
      " theta0: 72.031432, theta1: -13.528088, theta2: 9.495562, error1: 135.320751\n",
      " theta0: 72.087500, theta1: -13.527425, theta2: 9.477766, error1: 134.994861\n",
      " theta0: 72.143446, theta1: -13.526764, theta2: 9.460008, error1: 134.670365\n",
      " theta0: 72.199272, theta1: -13.526104, theta2: 9.442288, error1: 134.347258\n",
      " theta0: 72.254977, theta1: -13.525445, theta2: 9.424607, error1: 134.025534\n",
      " theta0: 72.310563, theta1: -13.524788, theta2: 9.406964, error1: 133.705186\n",
      " theta0: 72.366028, theta1: -13.524132, theta2: 9.389359, error1: 133.386210\n",
      " theta0: 72.421374, theta1: -13.523477, theta2: 9.371791, error1: 133.068598\n",
      " theta0: 72.476601, theta1: -13.522824, theta2: 9.354262, error1: 132.752346\n",
      " theta0: 72.531709, theta1: -13.522172, theta2: 9.336770, error1: 132.437447\n",
      " theta0: 72.586697, theta1: -13.521522, theta2: 9.319316, error1: 132.123895\n",
      " theta0: 72.641568, theta1: -13.520873, theta2: 9.301900, error1: 131.811685\n",
      " theta0: 72.696320, theta1: -13.520226, theta2: 9.284522, error1: 131.500811\n",
      " theta0: 72.750954, theta1: -13.519580, theta2: 9.267180, error1: 131.191267\n",
      " theta0: 72.805470, theta1: -13.518935, theta2: 9.249876, error1: 130.883048\n",
      " theta0: 72.859868, theta1: -13.518292, theta2: 9.232610, error1: 130.576148\n",
      " theta0: 72.914150, theta1: -13.517650, theta2: 9.215381, error1: 130.270560\n",
      " theta0: 72.968314, theta1: -13.517010, theta2: 9.198188, error1: 129.966281\n",
      " theta0: 73.022362, theta1: -13.516371, theta2: 9.181033, error1: 129.663303\n",
      " theta0: 73.076293, theta1: -13.515733, theta2: 9.163915, error1: 129.361621\n",
      " theta0: 73.130108, theta1: -13.515096, theta2: 9.146834, error1: 129.061231\n",
      " theta0: 73.183806, theta1: -13.514461, theta2: 9.129789, error1: 128.762125\n",
      " theta0: 73.237389, theta1: -13.513828, theta2: 9.112782, error1: 128.464299\n",
      " theta0: 73.290857, theta1: -13.513196, theta2: 9.095811, error1: 128.167748\n",
      " theta0: 73.344209, theta1: -13.512565, theta2: 9.078876, error1: 127.872465\n",
      " theta0: 73.397447, theta1: -13.511935, theta2: 9.061978, error1: 127.578445\n",
      " theta0: 73.450569, theta1: -13.511307, theta2: 9.045117, error1: 127.285684\n",
      " theta0: 73.503577, theta1: -13.510680, theta2: 9.028292, error1: 126.994174\n",
      " theta0: 73.556471, theta1: -13.510055, theta2: 9.011503, error1: 126.703912\n",
      " theta0: 73.609250, theta1: -13.509431, theta2: 8.994750, error1: 126.414892\n",
      " theta0: 73.661916, theta1: -13.508808, theta2: 8.978034, error1: 126.127108\n",
      " theta0: 73.714469, theta1: -13.508186, theta2: 8.961353, error1: 125.840555\n",
      " theta0: 73.766908, theta1: -13.507566, theta2: 8.944709, error1: 125.555228\n",
      " theta0: 73.819234, theta1: -13.506948, theta2: 8.928100, error1: 125.271122\n",
      " theta0: 73.871447, theta1: -13.506330, theta2: 8.911527, error1: 124.988230\n",
      " theta0: 73.923548, theta1: -13.505714, theta2: 8.894990, error1: 124.706549\n",
      " theta0: 73.975536, theta1: -13.505099, theta2: 8.878488, error1: 124.426073\n",
      " theta0: 74.027413, theta1: -13.504486, theta2: 8.862022, error1: 124.146797\n",
      " theta0: 74.079177, theta1: -13.503874, theta2: 8.845592, error1: 123.868715\n",
      " theta0: 74.130830, theta1: -13.503263, theta2: 8.829197, error1: 123.591823\n",
      " theta0: 74.182371, theta1: -13.502653, theta2: 8.812837, error1: 123.316115\n",
      " theta0: 74.233802, theta1: -13.502045, theta2: 8.796513, error1: 123.041586\n",
      " theta0: 74.285121, theta1: -13.501438, theta2: 8.780224, error1: 122.768231\n",
      " theta0: 74.336330, theta1: -13.500833, theta2: 8.763970, error1: 122.496046\n",
      " theta0: 74.387429, theta1: -13.500229, theta2: 8.747751, error1: 122.225025\n",
      " theta0: 74.438417, theta1: -13.499626, theta2: 8.731566, error1: 121.955163\n",
      " theta0: 74.489296, theta1: -13.499024, theta2: 8.715417, error1: 121.686455\n",
      " theta0: 74.540064, theta1: -13.498424, theta2: 8.699303, error1: 121.418896\n",
      " theta0: 74.590724, theta1: -13.497825, theta2: 8.683223, error1: 121.152482\n",
      " theta0: 74.641274, theta1: -13.497227, theta2: 8.667178, error1: 120.887207\n",
      " theta0: 74.691715, theta1: -13.496630, theta2: 8.651168, error1: 120.623067\n",
      " theta0: 74.742047, theta1: -13.496035, theta2: 8.635192, error1: 120.360056\n",
      " theta0: 74.792271, theta1: -13.495441, theta2: 8.619250, error1: 120.098170\n",
      " theta0: 74.842387, theta1: -13.494849, theta2: 8.603343, error1: 119.837404\n",
      " theta0: 74.892395, theta1: -13.494257, theta2: 8.587471, error1: 119.577753\n",
      " theta0: 74.942294, theta1: -13.493667, theta2: 8.571632, error1: 119.319212\n",
      " theta0: 74.992087, theta1: -13.493079, theta2: 8.555828, error1: 119.061777\n",
      " theta0: 75.041771, theta1: -13.492491, theta2: 8.540057, error1: 118.805443\n",
      " theta0: 75.091349, theta1: -13.491905, theta2: 8.524321, error1: 118.550205\n",
      " theta0: 75.140820, theta1: -13.491320, theta2: 8.508618, error1: 118.296058\n",
      " theta0: 75.190184, theta1: -13.490736, theta2: 8.492950, error1: 118.042999\n",
      " theta0: 75.239442, theta1: -13.490154, theta2: 8.477315, error1: 117.791021\n",
      " theta0: 75.288594, theta1: -13.489572, theta2: 8.461714, error1: 117.540121\n",
      " theta0: 75.337640, theta1: -13.488992, theta2: 8.446146, error1: 117.290293\n",
      " theta0: 75.386579, theta1: -13.488414, theta2: 8.430612, error1: 117.041534\n",
      " theta0: 75.435414, theta1: -13.487836, theta2: 8.415112, error1: 116.793838\n",
      " theta0: 75.484143, theta1: -13.487260, theta2: 8.399645, error1: 116.547201\n",
      " theta0: 75.532767, theta1: -13.486685, theta2: 8.384211, error1: 116.301619\n",
      " theta0: 75.581287, theta1: -13.486111, theta2: 8.368811, error1: 116.057087\n",
      " theta0: 75.629701, theta1: -13.485539, theta2: 8.353444, error1: 115.813601\n",
      " theta0: 75.678012, theta1: -13.484968, theta2: 8.338110, error1: 115.571155\n",
      " theta0: 75.726218, theta1: -13.484397, theta2: 8.322809, error1: 115.329746\n",
      " theta0: 75.774320, theta1: -13.483829, theta2: 8.307541, error1: 115.089369\n",
      " theta0: 75.822319, theta1: -13.483261, theta2: 8.292305, error1: 114.850019\n",
      " theta0: 75.870214, theta1: -13.482695, theta2: 8.277103, error1: 114.611693\n",
      " theta0: 75.918006, theta1: -13.482130, theta2: 8.261934, error1: 114.374386\n",
      " theta0: 75.965695, theta1: -13.481566, theta2: 8.246797, error1: 114.138093\n",
      " theta0: 76.013281, theta1: -13.481003, theta2: 8.231693, error1: 113.902810\n",
      " theta0: 76.060764, theta1: -13.480441, theta2: 8.216621, error1: 113.668534\n",
      " theta0: 76.108145, theta1: -13.479881, theta2: 8.201582, error1: 113.435258\n",
      " theta0: 76.155424, theta1: -13.479322, theta2: 8.186575, error1: 113.202980\n",
      " theta0: 76.202601, theta1: -13.478764, theta2: 8.171601, error1: 112.971695\n",
      " theta0: 76.249677, theta1: -13.478208, theta2: 8.156659, error1: 112.741398\n",
      " theta0: 76.296650, theta1: -13.477652, theta2: 8.141749, error1: 112.512086\n",
      " theta0: 76.343523, theta1: -13.477098, theta2: 8.126871, error1: 112.283754\n",
      " theta0: 76.390295, theta1: -13.476545, theta2: 8.112026, error1: 112.056398\n",
      " theta0: 76.436965, theta1: -13.475993, theta2: 8.097212, error1: 111.830013\n",
      " theta0: 76.483535, theta1: -13.475442, theta2: 8.082430, error1: 111.604596\n",
      " theta0: 76.530005, theta1: -13.474893, theta2: 8.067680, error1: 111.380143\n",
      " theta0: 76.576375, theta1: -13.474344, theta2: 8.052962, error1: 111.156649\n",
      " theta0: 76.622644, theta1: -13.473797, theta2: 8.038276, error1: 110.934111\n",
      " theta0: 76.668814, theta1: -13.473251, theta2: 8.023621, error1: 110.712523\n",
      " theta0: 76.714884, theta1: -13.472707, theta2: 8.008998, error1: 110.491882\n",
      " theta0: 76.760855, theta1: -13.472163, theta2: 7.994407, error1: 110.272185\n",
      " theta0: 76.806727, theta1: -13.471620, theta2: 7.979847, error1: 110.053426\n",
      " theta0: 76.852500, theta1: -13.471079, theta2: 7.965318, error1: 109.835602\n",
      " theta0: 76.898175, theta1: -13.470539, theta2: 7.950821, error1: 109.618710\n",
      " theta0: 76.943750, theta1: -13.470000, theta2: 7.936354, error1: 109.402744\n",
      " theta0: 76.989228, theta1: -13.469462, theta2: 7.921919, error1: 109.187701\n",
      " theta0: 77.034608, theta1: -13.468926, theta2: 7.907516, error1: 108.973576\n",
      " theta0: 77.079889, theta1: -13.468390, theta2: 7.893143, error1: 108.760367\n",
      " theta0: 77.125074, theta1: -13.467856, theta2: 7.878801, error1: 108.548069\n",
      " theta0: 77.170160, theta1: -13.467323, theta2: 7.864490, error1: 108.336679\n",
      " theta0: 77.215150, theta1: -13.466791, theta2: 7.850210, error1: 108.126191\n",
      " theta0: 77.260042, theta1: -13.466260, theta2: 7.835961, error1: 107.916603\n",
      " theta0: 77.304838, theta1: -13.465730, theta2: 7.821742, error1: 107.707910\n",
      " theta0: 77.349537, theta1: -13.465202, theta2: 7.807555, error1: 107.500110\n",
      " theta0: 77.394140, theta1: -13.464674, theta2: 7.793397, error1: 107.293197\n",
      " theta0: 77.438647, theta1: -13.464148, theta2: 7.779270, error1: 107.087168\n",
      " theta0: 77.483058, theta1: -13.463623, theta2: 7.765174, error1: 106.882019\n",
      " theta0: 77.527373, theta1: -13.463099, theta2: 7.751108, error1: 106.677747\n",
      " theta0: 77.571592, theta1: -13.462576, theta2: 7.737073, error1: 106.474348\n",
      " theta0: 77.615716, theta1: -13.462054, theta2: 7.723067, error1: 106.271818\n",
      " theta0: 77.659745, theta1: -13.461534, theta2: 7.709092, error1: 106.070153\n",
      " theta0: 77.703679, theta1: -13.461014, theta2: 7.695147, error1: 105.869349\n",
      " theta0: 77.747519, theta1: -13.460496, theta2: 7.681232, error1: 105.669404\n",
      " theta0: 77.791264, theta1: -13.459978, theta2: 7.667347, error1: 105.470312\n",
      " theta0: 77.834914, theta1: -13.459462, theta2: 7.653492, error1: 105.272072\n",
      " theta0: 77.878471, theta1: -13.458947, theta2: 7.639667, error1: 105.074678\n",
      " theta0: 77.921933, theta1: -13.458433, theta2: 7.625872, error1: 104.878127\n",
      " theta0: 77.965302, theta1: -13.457920, theta2: 7.612106, error1: 104.682416\n",
      " theta0: 78.008578, theta1: -13.457409, theta2: 7.598370, error1: 104.487541\n",
      " theta0: 78.051760, theta1: -13.456898, theta2: 7.584664, error1: 104.293498\n",
      " theta0: 78.094849, theta1: -13.456388, theta2: 7.570987, error1: 104.100285\n",
      " theta0: 78.137845, theta1: -13.455880, theta2: 7.557340, error1: 103.907896\n",
      " theta0: 78.180749, theta1: -13.455373, theta2: 7.543722, error1: 103.716330\n",
      " theta0: 78.223559, theta1: -13.454866, theta2: 7.530133, error1: 103.525581\n",
      " theta0: 78.266278, theta1: -13.454361, theta2: 7.516574, error1: 103.335648\n",
      " theta0: 78.308905, theta1: -13.453857, theta2: 7.503044, error1: 103.146526\n",
      " theta0: 78.351439, theta1: -13.453354, theta2: 7.489543, error1: 102.958211\n",
      " theta0: 78.393882, theta1: -13.452852, theta2: 7.476071, error1: 102.770701\n",
      " theta0: 78.436234, theta1: -13.452352, theta2: 7.462629, error1: 102.583991\n",
      " theta0: 78.478494, theta1: -13.451852, theta2: 7.449215, error1: 102.398079\n",
      " theta0: 78.520663, theta1: -13.451353, theta2: 7.435830, error1: 102.212962\n",
      " theta0: 78.562742, theta1: -13.450856, theta2: 7.422474, error1: 102.028634\n",
      " theta0: 78.604729, theta1: -13.450359, theta2: 7.409147, error1: 101.845094\n",
      " theta0: 78.646626, theta1: -13.449864, theta2: 7.395849, error1: 101.662338\n",
      " theta0: 78.688433, theta1: -13.449369, theta2: 7.382579, error1: 101.480362\n",
      " theta0: 78.730149, theta1: -13.448876, theta2: 7.369338, error1: 101.299163\n",
      " theta0: 78.771776, theta1: -13.448384, theta2: 7.356125, error1: 101.118738\n",
      " theta0: 78.813313, theta1: -13.447893, theta2: 7.342941, error1: 100.939084\n",
      " theta0: 78.854760, theta1: -13.447403, theta2: 7.329785, error1: 100.760197\n",
      " theta0: 78.896118, theta1: -13.446913, theta2: 7.316658, error1: 100.582073\n",
      " theta0: 78.937387, theta1: -13.446425, theta2: 7.303559, error1: 100.404711\n",
      " theta0: 78.978567, theta1: -13.445939, theta2: 7.290488, error1: 100.228105\n",
      " theta0: 79.019658, theta1: -13.445453, theta2: 7.277445, error1: 100.052254\n",
      " theta0: 79.060660, theta1: -13.444968, theta2: 7.264431, error1: 99.877153\n",
      " theta0: 79.101574, theta1: -13.444484, theta2: 7.251445, error1: 99.702800\n",
      " theta0: 79.142400, theta1: -13.444001, theta2: 7.238486, error1: 99.529192\n",
      " theta0: 79.183138, theta1: -13.443519, theta2: 7.225556, error1: 99.356325\n",
      " theta0: 79.223788, theta1: -13.443039, theta2: 7.212653, error1: 99.184196\n",
      " theta0: 79.264351, theta1: -13.442559, theta2: 7.199778, error1: 99.012802\n",
      " theta0: 79.304826, theta1: -13.442081, theta2: 7.186931, error1: 98.842139\n",
      " theta0: 79.345214, theta1: -13.441603, theta2: 7.174112, error1: 98.672205\n",
      " theta0: 79.385514, theta1: -13.441126, theta2: 7.161320, error1: 98.502997\n",
      " theta0: 79.425728, theta1: -13.440651, theta2: 7.148556, error1: 98.334511\n",
      " theta0: 79.465855, theta1: -13.440176, theta2: 7.135819, error1: 98.166744\n",
      " theta0: 79.505896, theta1: -13.439703, theta2: 7.123110, error1: 97.999694\n",
      " theta0: 79.545850, theta1: -13.439230, theta2: 7.110428, error1: 97.833356\n",
      " theta0: 79.585718, theta1: -13.438759, theta2: 7.097774, error1: 97.667729\n",
      " theta0: 79.625501, theta1: -13.438289, theta2: 7.085146, error1: 97.502809\n",
      " theta0: 79.665197, theta1: -13.437819, theta2: 7.072546, error1: 97.338593\n",
      " theta0: 79.704808, theta1: -13.437351, theta2: 7.059974, error1: 97.175077\n",
      " theta0: 79.744333, theta1: -13.436883, theta2: 7.047428, error1: 97.012260\n",
      " theta0: 79.783774, theta1: -13.436417, theta2: 7.034909, error1: 96.850138\n",
      " theta0: 79.823129, theta1: -13.435952, theta2: 7.022418, error1: 96.688707\n",
      " theta0: 79.862399, theta1: -13.435487, theta2: 7.009953, error1: 96.527966\n",
      " theta0: 79.901585, theta1: -13.435024, theta2: 6.997515, error1: 96.367911\n",
      " theta0: 79.940687, theta1: -13.434561, theta2: 6.985104, error1: 96.208538\n",
      " theta0: 79.979704, theta1: -13.434100, theta2: 6.972720, error1: 96.049846\n",
      " theta0: 80.018636, theta1: -13.433640, theta2: 6.960362, error1: 95.891832\n",
      " theta0: 80.057485, theta1: -13.433180, theta2: 6.948031, error1: 95.734491\n",
      " theta0: 80.096251, theta1: -13.432722, theta2: 6.935727, error1: 95.577823\n",
      " theta0: 80.134932, theta1: -13.432265, theta2: 6.923449, error1: 95.421823\n",
      " theta0: 80.173531, theta1: -13.431808, theta2: 6.911197, error1: 95.266488\n",
      " theta0: 80.212046, theta1: -13.431353, theta2: 6.898972, error1: 95.111817\n",
      " theta0: 80.250478, theta1: -13.430898, theta2: 6.886774, error1: 94.957805\n",
      " theta0: 80.288827, theta1: -13.430445, theta2: 6.874601, error1: 94.804451\n",
      " theta0: 80.327093, theta1: -13.429992, theta2: 6.862455, error1: 94.651751\n",
      " theta0: 80.365277, theta1: -13.429541, theta2: 6.850335, error1: 94.499703\n",
      " theta0: 80.403379, theta1: -13.429090, theta2: 6.838242, error1: 94.348303\n",
      " theta0: 80.441399, theta1: -13.428641, theta2: 6.826174, error1: 94.197550\n",
      " theta0: 80.479336, theta1: -13.428192, theta2: 6.814132, error1: 94.047440\n",
      " theta0: 80.517192, theta1: -13.427744, theta2: 6.802117, error1: 93.897970\n",
      " theta0: 80.554966, theta1: -13.427298, theta2: 6.790127, error1: 93.749138\n",
      " theta0: 80.592659, theta1: -13.426852, theta2: 6.778163, error1: 93.600941\n",
      " theta0: 80.630271, theta1: -13.426407, theta2: 6.766225, error1: 93.453377\n",
      " theta0: 80.667801, theta1: -13.425963, theta2: 6.754312, error1: 93.306442\n",
      " theta0: 80.705251, theta1: -13.425521, theta2: 6.742425, error1: 93.160133\n",
      " theta0: 80.742619, theta1: -13.425079, theta2: 6.730564, error1: 93.014450\n",
      " theta0: 80.779908, theta1: -13.424638, theta2: 6.718729, error1: 92.869387\n",
      " theta0: 80.817116, theta1: -13.424198, theta2: 6.706919, error1: 92.724944\n",
      " theta0: 80.854243, theta1: -13.423759, theta2: 6.695134, error1: 92.581116\n",
      " theta0: 80.891291, theta1: -13.423321, theta2: 6.683375, error1: 92.437902\n",
      " theta0: 80.928259, theta1: -13.422883, theta2: 6.671641, error1: 92.295300\n",
      " theta0: 80.965147, theta1: -13.422447, theta2: 6.659932, error1: 92.153305\n",
      " theta0: 81.001955, theta1: -13.422012, theta2: 6.648249, error1: 92.011916\n",
      " theta0: 81.038684, theta1: -13.421578, theta2: 6.636591, error1: 91.871131\n",
      " theta0: 81.075334, theta1: -13.421144, theta2: 6.624958, error1: 91.730945\n",
      " theta0: 81.111905, theta1: -13.420712, theta2: 6.613350, error1: 91.591358\n",
      " theta0: 81.148398, theta1: -13.420280, theta2: 6.601767, error1: 91.452366\n",
      " theta0: 81.184811, theta1: -13.419850, theta2: 6.590209, error1: 91.313967\n",
      " theta0: 81.221146, theta1: -13.419420, theta2: 6.578676, error1: 91.176159\n",
      " theta0: 81.257403, theta1: -13.418991, theta2: 6.567168, error1: 91.038938\n",
      " theta0: 81.293581, theta1: -13.418564, theta2: 6.555685, error1: 90.902302\n",
      " theta0: 81.329682, theta1: -13.418137, theta2: 6.544226, error1: 90.766249\n",
      " theta0: 81.365705, theta1: -13.417711, theta2: 6.532792, error1: 90.630777\n",
      " theta0: 81.401650, theta1: -13.417286, theta2: 6.521383, error1: 90.495882\n",
      " theta0: 81.437517, theta1: -13.416862, theta2: 6.509998, error1: 90.361562\n",
      " theta0: 81.473307, theta1: -13.416438, theta2: 6.498638, error1: 90.227815\n",
      " theta0: 81.509021, theta1: -13.416016, theta2: 6.487303, error1: 90.094639\n",
      " theta0: 81.544657, theta1: -13.415595, theta2: 6.475991, error1: 89.962030\n",
      " theta0: 81.580216, theta1: -13.415174, theta2: 6.464705, error1: 89.829987\n",
      " theta0: 81.615699, theta1: -13.414755, theta2: 6.453442, error1: 89.698507\n",
      " theta0: 81.651105, theta1: -13.414336, theta2: 6.442204, error1: 89.567588\n",
      " theta0: 81.686435, theta1: -13.413918, theta2: 6.430990, error1: 89.437227\n",
      " theta0: 81.721688, theta1: -13.413501, theta2: 6.419800, error1: 89.307422\n",
      " theta0: 81.756866, theta1: -13.413085, theta2: 6.408635, error1: 89.178170\n",
      " theta0: 81.791968, theta1: -13.412670, theta2: 6.397493, error1: 89.049469\n",
      " theta0: 81.826994, theta1: -13.412256, theta2: 6.386376, error1: 88.921318\n",
      " theta0: 81.861944, theta1: -13.411843, theta2: 6.375282, error1: 88.793712\n",
      " theta0: 81.896820, theta1: -13.411430, theta2: 6.364212, error1: 88.666651\n",
      " theta0: 81.931620, theta1: -13.411019, theta2: 6.353166, error1: 88.540131\n",
      " theta0: 81.966345, theta1: -13.410608, theta2: 6.342144, error1: 88.414150\n",
      " theta0: 82.000995, theta1: -13.410198, theta2: 6.331146, error1: 88.288707\n",
      " theta0: 82.035571, theta1: -13.409790, theta2: 6.320172, error1: 88.163799\n",
      " theta0: 82.070072, theta1: -13.409382, theta2: 6.309221, error1: 88.039423\n",
      " theta0: 82.104498, theta1: -13.408974, theta2: 6.298293, error1: 87.915577\n",
      " theta0: 82.138851, theta1: -13.408568, theta2: 6.287390, error1: 87.792259\n",
      " theta0: 82.173129, theta1: -13.408163, theta2: 6.276510, error1: 87.669467\n",
      " theta0: 82.207333, theta1: -13.407758, theta2: 6.265653, error1: 87.547198\n",
      " theta0: 82.241464, theta1: -13.407355, theta2: 6.254819, error1: 87.425450\n",
      " theta0: 82.275521, theta1: -13.406952, theta2: 6.244009, error1: 87.304222\n",
      " theta0: 82.309505, theta1: -13.406550, theta2: 6.233223, error1: 87.183510\n",
      " theta0: 82.343416, theta1: -13.406149, theta2: 6.222459, error1: 87.063312\n",
      " theta0: 82.377253, theta1: -13.405749, theta2: 6.211719, error1: 86.943627\n",
      " theta0: 82.411017, theta1: -13.405350, theta2: 6.201002, error1: 86.824452\n",
      " theta0: 82.444709, theta1: -13.404951, theta2: 6.190308, error1: 86.705785\n",
      " theta0: 82.478328, theta1: -13.404554, theta2: 6.179637, error1: 86.587624\n",
      " theta0: 82.511874, theta1: -13.404157, theta2: 6.168989, error1: 86.469966\n",
      " theta0: 82.545349, theta1: -13.403761, theta2: 6.158364, error1: 86.352810\n",
      " theta0: 82.578751, theta1: -13.403366, theta2: 6.147762, error1: 86.236153\n",
      " theta0: 82.612081, theta1: -13.402972, theta2: 6.137183, error1: 86.119993\n",
      " theta0: 82.645339, theta1: -13.402579, theta2: 6.126626, error1: 86.004328\n",
      " theta0: 82.678525, theta1: -13.402187, theta2: 6.116093, error1: 85.889156\n",
      " theta0: 82.711640, theta1: -13.401795, theta2: 6.105582, error1: 85.774475\n",
      " theta0: 82.744684, theta1: -13.401404, theta2: 6.095094, error1: 85.660282\n",
      " theta0: 82.777656, theta1: -13.401014, theta2: 6.084628, error1: 85.546576\n",
      " theta0: 82.810558, theta1: -13.400625, theta2: 6.074185, error1: 85.433355\n",
      " theta0: 82.843388, theta1: -13.400237, theta2: 6.063764, error1: 85.320616\n",
      " theta0: 82.876148, theta1: -13.399850, theta2: 6.053366, error1: 85.208357\n",
      " theta0: 82.908836, theta1: -13.399463, theta2: 6.042990, error1: 85.096577\n",
      " theta0: 82.941455, theta1: -13.399077, theta2: 6.032637, error1: 84.985273\n",
      " theta0: 82.974003, theta1: -13.398693, theta2: 6.022306, error1: 84.874443\n",
      " theta0: 83.006481, theta1: -13.398309, theta2: 6.011997, error1: 84.764085\n",
      " theta0: 83.038889, theta1: -13.397925, theta2: 6.001711, error1: 84.654197\n",
      " theta0: 83.071227, theta1: -13.397543, theta2: 5.991446, error1: 84.544778\n",
      " theta0: 83.103496, theta1: -13.397161, theta2: 5.981204, error1: 84.435825\n",
      " theta0: 83.135694, theta1: -13.396781, theta2: 5.970984, error1: 84.327335\n",
      " theta0: 83.167824, theta1: -13.396401, theta2: 5.960786, error1: 84.219308\n",
      " theta0: 83.199884, theta1: -13.396022, theta2: 5.950610, error1: 84.111742\n",
      " theta0: 83.231875, theta1: -13.395643, theta2: 5.940455, error1: 84.004633\n",
      " theta0: 83.263797, theta1: -13.395266, theta2: 5.930323, error1: 83.897980\n",
      " theta0: 83.295650, theta1: -13.394889, theta2: 5.920213, error1: 83.791782\n",
      " theta0: 83.327435, theta1: -13.394513, theta2: 5.910124, error1: 83.686037\n",
      " theta0: 83.359151, theta1: -13.394138, theta2: 5.900057, error1: 83.580741\n",
      " theta0: 83.390799, theta1: -13.393764, theta2: 5.890012, error1: 83.475894\n",
      " theta0: 83.422378, theta1: -13.393391, theta2: 5.879988, error1: 83.371494\n",
      " theta0: 83.453890, theta1: -13.393018, theta2: 5.869986, error1: 83.267538\n",
      " theta0: 83.485333, theta1: -13.392646, theta2: 5.860006, error1: 83.164025\n",
      " theta0: 83.516709, theta1: -13.392275, theta2: 5.850047, error1: 83.060953\n",
      " theta0: 83.548017, theta1: -13.391905, theta2: 5.840110, error1: 82.958320\n",
      " theta0: 83.579257, theta1: -13.391535, theta2: 5.830194, error1: 82.856124\n",
      " theta0: 83.610431, theta1: -13.391167, theta2: 5.820299, error1: 82.754363\n",
      " theta0: 83.641537, theta1: -13.390799, theta2: 5.810426, error1: 82.653035\n",
      " theta0: 83.672576, theta1: -13.390432, theta2: 5.800574, error1: 82.552139\n",
      " theta0: 83.703548, theta1: -13.390066, theta2: 5.790743, error1: 82.451672\n",
      " theta0: 83.734453, theta1: -13.389700, theta2: 5.780933, error1: 82.351634\n",
      " theta0: 83.765292, theta1: -13.389336, theta2: 5.771145, error1: 82.252021\n",
      " theta0: 83.796064, theta1: -13.388972, theta2: 5.761378, error1: 82.152832\n",
      " theta0: 83.826770, theta1: -13.388609, theta2: 5.751631, error1: 82.054066\n",
      " theta0: 83.857409, theta1: -13.388246, theta2: 5.741906, error1: 81.955720\n",
      " theta0: 83.887983, theta1: -13.387885, theta2: 5.732202, error1: 81.857793\n",
      " theta0: 83.918491, theta1: -13.387524, theta2: 5.722518, error1: 81.760283\n",
      " theta0: 83.948932, theta1: -13.387164, theta2: 5.712856, error1: 81.663188\n",
      " theta0: 83.979309, theta1: -13.386805, theta2: 5.703214, error1: 81.566506\n",
      " theta0: 84.009620, theta1: -13.386446, theta2: 5.693593, error1: 81.470236\n",
      " theta0: 84.039865, theta1: -13.386089, theta2: 5.683993, error1: 81.374376\n",
      " theta0: 84.070045, theta1: -13.385732, theta2: 5.674414, error1: 81.278924\n",
      " theta0: 84.100161, theta1: -13.385376, theta2: 5.664855, error1: 81.183878\n",
      " theta0: 84.130211, theta1: -13.385020, theta2: 5.655317, error1: 81.089237\n",
      " theta0: 84.160196, theta1: -13.384666, theta2: 5.645799, error1: 80.994998\n",
      " theta0: 84.190117, theta1: -13.384312, theta2: 5.636302, error1: 80.901161\n",
      " theta0: 84.219974, theta1: -13.383959, theta2: 5.626825, error1: 80.807723\n",
      " theta0: 84.249766, theta1: -13.383607, theta2: 5.617369, error1: 80.714683\n",
      " theta0: 84.279493, theta1: -13.383255, theta2: 5.607933, error1: 80.622039\n",
      " theta0: 84.309157, theta1: -13.382904, theta2: 5.598518, error1: 80.529789\n",
      " theta0: 84.338757, theta1: -13.382554, theta2: 5.589123, error1: 80.437932\n",
      " theta0: 84.368293, theta1: -13.382205, theta2: 5.579748, error1: 80.346465\n",
      " theta0: 84.397765, theta1: -13.381857, theta2: 5.570393, error1: 80.255388\n",
      " theta0: 84.427174, theta1: -13.381509, theta2: 5.561058, error1: 80.164699\n",
      " theta0: 84.456519, theta1: -13.381162, theta2: 5.551744, error1: 80.074395\n",
      " theta0: 84.485801, theta1: -13.380816, theta2: 5.542450, error1: 79.984476\n",
      " theta0: 84.515020, theta1: -13.380470, theta2: 5.533175, error1: 79.894939\n",
      " theta0: 84.544176, theta1: -13.380125, theta2: 5.523921, error1: 79.805784\n",
      " theta0: 84.573269, theta1: -13.379781, theta2: 5.514687, error1: 79.717007\n",
      " theta0: 84.602300, theta1: -13.379438, theta2: 5.505472, error1: 79.628609\n",
      " theta0: 84.631267, theta1: -13.379095, theta2: 5.496278, error1: 79.540586\n",
      " theta0: 84.660173, theta1: -13.378754, theta2: 5.487103, error1: 79.452939\n",
      " theta0: 84.689016, theta1: -13.378413, theta2: 5.477948, error1: 79.365664\n",
      " theta0: 84.717797, theta1: -13.378072, theta2: 5.468812, error1: 79.278760\n",
      " theta0: 84.746515, theta1: -13.377733, theta2: 5.459697, error1: 79.192226\n",
      " theta0: 84.775172, theta1: -13.377394, theta2: 5.450601, error1: 79.106060\n",
      " theta0: 84.803768, theta1: -13.377056, theta2: 5.441525, error1: 79.020261\n",
      " theta0: 84.832301, theta1: -13.376718, theta2: 5.432468, error1: 78.934827\n",
      " theta0: 84.860773, theta1: -13.376382, theta2: 5.423431, error1: 78.849756\n",
      " theta0: 84.889184, theta1: -13.376046, theta2: 5.414413, error1: 78.765047\n",
      " theta0: 84.917533, theta1: -13.375710, theta2: 5.405415, error1: 78.680698\n",
      " theta0: 84.945821, theta1: -13.375376, theta2: 5.396436, error1: 78.596709\n",
      " theta0: 84.974048, theta1: -13.375042, theta2: 5.387476, error1: 78.513076\n",
      " theta0: 85.002215, theta1: -13.374709, theta2: 5.378536, error1: 78.429799\n",
      " theta0: 85.030321, theta1: -13.374377, theta2: 5.369615, error1: 78.346877\n",
      " theta0: 85.058366, theta1: -13.374045, theta2: 5.360713, error1: 78.264307\n",
      " theta0: 85.086350, theta1: -13.373714, theta2: 5.351831, error1: 78.182088\n",
      " theta0: 85.114275, theta1: -13.373384, theta2: 5.342967, error1: 78.100219\n",
      " theta0: 85.142139, theta1: -13.373054, theta2: 5.334123, error1: 78.018698\n",
      " theta0: 85.169943, theta1: -13.372726, theta2: 5.325298, error1: 77.937524\n",
      " theta0: 85.197687, theta1: -13.372398, theta2: 5.316492, error1: 77.856695\n",
      " theta0: 85.225371, theta1: -13.372070, theta2: 5.307704, error1: 77.776210\n",
      " theta0: 85.252996, theta1: -13.371744, theta2: 5.298936, error1: 77.696067\n",
      " theta0: 85.280561, theta1: -13.371418, theta2: 5.290187, error1: 77.616264\n",
      " theta0: 85.308067, theta1: -13.371092, theta2: 5.281456, error1: 77.536802\n",
      " theta0: 85.335513, theta1: -13.370768, theta2: 5.272745, error1: 77.457677\n",
      " theta0: 85.362900, theta1: -13.370444, theta2: 5.264052, error1: 77.378888\n",
      " theta0: 85.390228, theta1: -13.370121, theta2: 5.255377, error1: 77.300434\n",
      " theta0: 85.417498, theta1: -13.369798, theta2: 5.246722, error1: 77.222314\n",
      " theta0: 85.444708, theta1: -13.369477, theta2: 5.238085, error1: 77.144527\n",
      " theta0: 85.471860, theta1: -13.369156, theta2: 5.229467, error1: 77.067069\n",
      " theta0: 85.498953, theta1: -13.368835, theta2: 5.220867, error1: 76.989942\n",
      " theta0: 85.525988, theta1: -13.368515, theta2: 5.212286, error1: 76.913142\n",
      " theta0: 85.552965, theta1: -13.368196, theta2: 5.203724, error1: 76.836668\n",
      " theta0: 85.579883, theta1: -13.367878, theta2: 5.195180, error1: 76.760520\n",
      " theta0: 85.606743, theta1: -13.367561, theta2: 5.186654, error1: 76.684695\n",
      " theta0: 85.633546, theta1: -13.367244, theta2: 5.178147, error1: 76.609193\n",
      " theta0: 85.660291, theta1: -13.366927, theta2: 5.169658, error1: 76.534011\n",
      " theta0: 85.686978, theta1: -13.366612, theta2: 5.161187, error1: 76.459149\n",
      " theta0: 85.713607, theta1: -13.366297, theta2: 5.152735, error1: 76.384606\n",
      " theta0: 85.740179, theta1: -13.365983, theta2: 5.144300, error1: 76.310379\n",
      " theta0: 85.766694, theta1: -13.365669, theta2: 5.135884, error1: 76.236468\n",
      " theta0: 85.793152, theta1: -13.365356, theta2: 5.127486, error1: 76.162870\n",
      " theta0: 85.819553, theta1: -13.365044, theta2: 5.119107, error1: 76.089586\n",
      " theta0: 85.845896, theta1: -13.364733, theta2: 5.110745, error1: 76.016613\n",
      " theta0: 85.872183, theta1: -13.364422, theta2: 5.102401, error1: 75.943950\n",
      " theta0: 85.898413, theta1: -13.364112, theta2: 5.094076, error1: 75.871596\n",
      " theta0: 85.924587, theta1: -13.363802, theta2: 5.085768, error1: 75.799549\n",
      " theta0: 85.950705, theta1: -13.363493, theta2: 5.077478, error1: 75.727809\n",
      " theta0: 85.976766, theta1: -13.363185, theta2: 5.069206, error1: 75.656373\n",
      " theta0: 86.002770, theta1: -13.362877, theta2: 5.060952, error1: 75.585241\n",
      " theta0: 86.028719, theta1: -13.362571, theta2: 5.052716, error1: 75.514411\n",
      " theta0: 86.054612, theta1: -13.362264, theta2: 5.044497, error1: 75.443882\n",
      " theta0: 86.080449, theta1: -13.361959, theta2: 5.036296, error1: 75.373653\n",
      " theta0: 86.106230, theta1: -13.361654, theta2: 5.028113, error1: 75.303722\n",
      " theta0: 86.131956, theta1: -13.361350, theta2: 5.019947, error1: 75.234088\n",
      " theta0: 86.157626, theta1: -13.361046, theta2: 5.011800, error1: 75.164751\n",
      " theta0: 86.183241, theta1: -13.360743, theta2: 5.003669, error1: 75.095707\n",
      " theta0: 86.208801, theta1: -13.360441, theta2: 4.995556, error1: 75.026957\n",
      " theta0: 86.234306, theta1: -13.360140, theta2: 4.987461, error1: 74.958499\n",
      " theta0: 86.259755, theta1: -13.359839, theta2: 4.979383, error1: 74.890332\n",
      " theta0: 86.285150, theta1: -13.359538, theta2: 4.971323, error1: 74.822454\n",
      " theta0: 86.310490, theta1: -13.359239, theta2: 4.963279, error1: 74.754865\n",
      " theta0: 86.335775, theta1: -13.358940, theta2: 4.955254, error1: 74.687563\n",
      " theta0: 86.361006, theta1: -13.358641, theta2: 4.947245, error1: 74.620546\n",
      " theta0: 86.386183, theta1: -13.358344, theta2: 4.939254, error1: 74.553815\n",
      " theta0: 86.411305, theta1: -13.358047, theta2: 4.931280, error1: 74.487366\n",
      " theta0: 86.436373, theta1: -13.357750, theta2: 4.923323, error1: 74.421200\n",
      " theta0: 86.461387, theta1: -13.357454, theta2: 4.915383, error1: 74.355315\n",
      " theta0: 86.486347, theta1: -13.357159, theta2: 4.907461, error1: 74.289710\n",
      " theta0: 86.511254, theta1: -13.356865, theta2: 4.899556, error1: 74.224383\n",
      " theta0: 86.536106, theta1: -13.356571, theta2: 4.891667, error1: 74.159334\n",
      " theta0: 86.560905, theta1: -13.356278, theta2: 4.883796, error1: 74.094561\n",
      " theta0: 86.585651, theta1: -13.355985, theta2: 4.875941, error1: 74.030063\n",
      " theta0: 86.610343, theta1: -13.355693, theta2: 4.868104, error1: 73.965839\n",
      " theta0: 86.634982, theta1: -13.355402, theta2: 4.860283, error1: 73.901887\n",
      " theta0: 86.659568, theta1: -13.355111, theta2: 4.852479, error1: 73.838207\n",
      " theta0: 86.684101, theta1: -13.354821, theta2: 4.844692, error1: 73.774798\n",
      " theta0: 86.708581, theta1: -13.354531, theta2: 4.836922, error1: 73.711657\n",
      " theta0: 86.733008, theta1: -13.354242, theta2: 4.829169, error1: 73.648785\n",
      " theta0: 86.757383, theta1: -13.353954, theta2: 4.821432, error1: 73.586180\n",
      " theta0: 86.781705, theta1: -13.353667, theta2: 4.813712, error1: 73.523840\n",
      " theta0: 86.805974, theta1: -13.353380, theta2: 4.806009, error1: 73.461765\n",
      " theta0: 86.830191, theta1: -13.353093, theta2: 4.798322, error1: 73.399954\n",
      " theta0: 86.854357, theta1: -13.352808, theta2: 4.790652, error1: 73.338404\n",
      " theta0: 86.878469, theta1: -13.352522, theta2: 4.782998, error1: 73.277117\n",
      " theta0: 86.902530, theta1: -13.352238, theta2: 4.775361, error1: 73.216089\n",
      " theta0: 86.926540, theta1: -13.351954, theta2: 4.767741, error1: 73.155320\n",
      " theta0: 86.950497, theta1: -13.351671, theta2: 4.760136, error1: 73.094810\n",
      " theta0: 86.974403, theta1: -13.351388, theta2: 4.752548, error1: 73.034556\n",
      " theta0: 86.998257, theta1: -13.351106, theta2: 4.744977, error1: 72.974558\n",
      " theta0: 87.022060, theta1: -13.350824, theta2: 4.737422, error1: 72.914814\n",
      " theta0: 87.045811, theta1: -13.350544, theta2: 4.729883, error1: 72.855324\n",
      " theta0: 87.069511, theta1: -13.350263, theta2: 4.722360, error1: 72.796087\n",
      " theta0: 87.093160, theta1: -13.349984, theta2: 4.714854, error1: 72.737100\n",
      " theta0: 87.116759, theta1: -13.349705, theta2: 4.707364, error1: 72.678364\n",
      " theta0: 87.140306, theta1: -13.349426, theta2: 4.699889, error1: 72.619878\n",
      " theta0: 87.163802, theta1: -13.349148, theta2: 4.692431, error1: 72.561639\n",
      " theta0: 87.187248, theta1: -13.348871, theta2: 4.684990, error1: 72.503648\n",
      " theta0: 87.210644, theta1: -13.348594, theta2: 4.677564, error1: 72.445903\n",
      " theta0: 87.233989, theta1: -13.348318, theta2: 4.670154, error1: 72.388402\n",
      " theta0: 87.257283, theta1: -13.348043, theta2: 4.662760, error1: 72.331146\n",
      " theta0: 87.280528, theta1: -13.347768, theta2: 4.655382, error1: 72.274133\n",
      " theta0: 87.303722, theta1: -13.347494, theta2: 4.648020, error1: 72.217361\n",
      " theta0: 87.326866, theta1: -13.347220, theta2: 4.640674, error1: 72.160830\n",
      " theta0: 87.349960, theta1: -13.346947, theta2: 4.633343, error1: 72.104539\n",
      " theta0: 87.373005, theta1: -13.346675, theta2: 4.626029, error1: 72.048487\n",
      " theta0: 87.396000, theta1: -13.346403, theta2: 4.618730, error1: 71.992673\n",
      " theta0: 87.418945, theta1: -13.346131, theta2: 4.611447, error1: 71.937095\n"
     ]
    },
    {
     "name": "stdout",
     "output_type": "stream",
     "text": [
      " theta0: 87.441841, theta1: -13.345861, theta2: 4.604180, error1: 71.881753\n",
      " theta0: 87.464688, theta1: -13.345590, theta2: 4.596928, error1: 71.826646\n",
      " theta0: 87.487485, theta1: -13.345321, theta2: 4.589692, error1: 71.771773\n",
      " theta0: 87.510233, theta1: -13.345052, theta2: 4.582472, error1: 71.717132\n",
      " theta0: 87.532932, theta1: -13.344783, theta2: 4.575267, error1: 71.662723\n",
      " theta0: 87.555582, theta1: -13.344516, theta2: 4.568078, error1: 71.608545\n",
      " theta0: 87.578184, theta1: -13.344248, theta2: 4.560904, error1: 71.554596\n",
      " theta0: 87.600736, theta1: -13.343982, theta2: 4.553745, error1: 71.500876\n",
      " theta0: 87.623240, theta1: -13.343715, theta2: 4.546602, error1: 71.447384\n",
      " theta0: 87.645696, theta1: -13.343450, theta2: 4.539475, error1: 71.394119\n",
      " theta0: 87.668103, theta1: -13.343185, theta2: 4.532363, error1: 71.341080\n",
      " theta0: 87.690461, theta1: -13.342921, theta2: 4.525266, error1: 71.288266\n",
      " theta0: 87.712772, theta1: -13.342657, theta2: 4.518184, error1: 71.235675\n",
      " theta0: 87.735034, theta1: -13.342394, theta2: 4.511118, error1: 71.183308\n",
      " theta0: 87.757249, theta1: -13.342131, theta2: 4.504067, error1: 71.131162\n",
      " theta0: 87.779415, theta1: -13.341869, theta2: 4.497031, error1: 71.079238\n",
      " theta0: 87.801534, theta1: -13.341607, theta2: 4.490011, error1: 71.027533\n",
      " theta0: 87.823605, theta1: -13.341346, theta2: 4.483005, error1: 70.976048\n",
      " theta0: 87.845629, theta1: -13.341086, theta2: 4.476015, error1: 70.924781\n",
      " theta0: 87.867605, theta1: -13.340826, theta2: 4.469039, error1: 70.873732\n",
      " theta0: 87.889534, theta1: -13.340567, theta2: 4.462079, error1: 70.822899\n",
      " theta0: 87.911415, theta1: -13.340308, theta2: 4.455134, error1: 70.772281\n",
      " theta0: 87.933249, theta1: -13.340050, theta2: 4.448203, error1: 70.721878\n",
      " theta0: 87.955036, theta1: -13.339792, theta2: 4.441288, error1: 70.671688\n",
      " theta0: 87.976777, theta1: -13.339535, theta2: 4.434387, error1: 70.621712\n",
      " theta0: 87.998470, theta1: -13.339278, theta2: 4.427502, error1: 70.571947\n",
      " theta0: 88.020116, theta1: -13.339022, theta2: 4.420631, error1: 70.522392\n",
      " theta0: 88.041716, theta1: -13.338767, theta2: 4.413775, error1: 70.473048\n",
      " theta0: 88.063270, theta1: -13.338512, theta2: 4.406934, error1: 70.423913\n",
      " theta0: 88.084777, theta1: -13.338258, theta2: 4.400107, error1: 70.374986\n",
      " theta0: 88.106237, theta1: -13.338004, theta2: 4.393295, error1: 70.326267\n",
      " theta0: 88.127651, theta1: -13.337751, theta2: 4.386498, error1: 70.277754\n",
      " theta0: 88.149019, theta1: -13.337498, theta2: 4.379716, error1: 70.229446\n",
      " theta0: 88.170341, theta1: -13.337246, theta2: 4.372948, error1: 70.181344\n",
      " theta0: 88.191617, theta1: -13.336994, theta2: 4.366195, error1: 70.133444\n",
      " theta0: 88.212848, theta1: -13.336743, theta2: 4.359456, error1: 70.085748\n",
      " theta0: 88.234032, theta1: -13.336493, theta2: 4.352732, error1: 70.038254\n",
      " theta0: 88.255171, theta1: -13.336243, theta2: 4.346023, error1: 69.990961\n",
      " theta0: 88.276264, theta1: -13.335993, theta2: 4.339328, error1: 69.943869\n",
      " theta0: 88.297312, theta1: -13.335745, theta2: 4.332647, error1: 69.896976\n",
      " theta0: 88.318314, theta1: -13.335496, theta2: 4.325981, error1: 69.850281\n",
      " theta0: 88.339271, theta1: -13.335248, theta2: 4.319329, error1: 69.803785\n",
      " theta0: 88.360183, theta1: -13.335001, theta2: 4.312691, error1: 69.757485\n",
      " theta0: 88.381050, theta1: -13.334754, theta2: 4.306068, error1: 69.711382\n",
      " theta0: 88.401872, theta1: -13.334508, theta2: 4.299459, error1: 69.665473\n",
      " theta0: 88.422649, theta1: -13.334262, theta2: 4.292864, error1: 69.619759\n",
      " theta0: 88.443381, theta1: -13.334017, theta2: 4.286283, error1: 69.574239\n",
      " theta0: 88.464068, theta1: -13.333773, theta2: 4.279717, error1: 69.528911\n",
      " theta0: 88.484711, theta1: -13.333529, theta2: 4.273165, error1: 69.483776\n",
      " theta0: 88.505309, theta1: -13.333285, theta2: 4.266627, error1: 69.438831\n",
      " theta0: 88.525863, theta1: -13.333042, theta2: 4.260103, error1: 69.394077\n",
      " theta0: 88.546373, theta1: -13.332799, theta2: 4.253593, error1: 69.349513\n",
      " theta0: 88.566838, theta1: -13.332557, theta2: 4.247097, error1: 69.305137\n",
      " theta0: 88.587260, theta1: -13.332316, theta2: 4.240615, error1: 69.260949\n",
      " theta0: 88.607637, theta1: -13.332075, theta2: 4.234147, error1: 69.216948\n",
      " theta0: 88.627970, theta1: -13.331835, theta2: 4.227693, error1: 69.173133\n",
      " theta0: 88.648260, theta1: -13.331595, theta2: 4.221253, error1: 69.129504\n",
      " theta0: 88.668506, theta1: -13.331355, theta2: 4.214827, error1: 69.086059\n",
      " theta0: 88.688708, theta1: -13.331116, theta2: 4.208415, error1: 69.042798\n",
      " theta0: 88.708867, theta1: -13.330878, theta2: 4.202016, error1: 68.999721\n",
      " theta0: 88.728982, theta1: -13.330640, theta2: 4.195632, error1: 68.956826\n",
      " theta0: 88.749053, theta1: -13.330403, theta2: 4.189261, error1: 68.914112\n",
      " theta0: 88.769082, theta1: -13.330166, theta2: 4.182903, error1: 68.871579\n",
      " theta0: 88.789067, theta1: -13.329930, theta2: 4.176560, error1: 68.829226\n",
      " theta0: 88.809010, theta1: -13.329694, theta2: 4.170230, error1: 68.787053\n",
      " theta0: 88.828909, theta1: -13.329458, theta2: 4.163914, error1: 68.745058\n",
      " theta0: 88.848765, theta1: -13.329224, theta2: 4.157611, error1: 68.703240\n",
      " theta0: 88.868579, theta1: -13.328989, theta2: 4.151322, error1: 68.661600\n",
      " theta0: 88.888350, theta1: -13.328756, theta2: 4.145047, error1: 68.620136\n",
      " theta0: 88.908078, theta1: -13.328522, theta2: 4.138785, error1: 68.578847\n",
      " theta0: 88.927763, theta1: -13.328290, theta2: 4.132537, error1: 68.537733\n",
      " theta0: 88.947407, theta1: -13.328057, theta2: 4.126302, error1: 68.496793\n",
      " theta0: 88.967008, theta1: -13.327825, theta2: 4.120080, error1: 68.456026\n",
      " theta0: 88.986566, theta1: -13.327594, theta2: 4.113872, error1: 68.415432\n",
      " theta0: 89.006083, theta1: -13.327363, theta2: 4.107678, error1: 68.375009\n",
      " theta0: 89.025557, theta1: -13.327133, theta2: 4.101496, error1: 68.334757\n",
      " theta0: 89.044990, theta1: -13.326903, theta2: 4.095328, error1: 68.294676\n",
      " theta0: 89.064380, theta1: -13.326674, theta2: 4.089174, error1: 68.254764\n",
      " theta0: 89.083729, theta1: -13.326445, theta2: 4.083032, error1: 68.215021\n",
      " theta0: 89.103036, theta1: -13.326217, theta2: 4.076904, error1: 68.175446\n",
      " theta0: 89.122301, theta1: -13.325989, theta2: 4.070789, error1: 68.136039\n",
      " theta0: 89.141525, theta1: -13.325762, theta2: 4.064687, error1: 68.096798\n",
      " theta0: 89.160708, theta1: -13.325535, theta2: 4.058598, error1: 68.057723\n",
      " theta0: 89.179849, theta1: -13.325309, theta2: 4.052523, error1: 68.018813\n",
      " theta0: 89.198949, theta1: -13.325083, theta2: 4.046460, error1: 67.980068\n",
      " theta0: 89.218007, theta1: -13.324857, theta2: 4.040411, error1: 67.941487\n",
      " theta0: 89.237025, theta1: -13.324633, theta2: 4.034375, error1: 67.903069\n",
      " theta0: 89.256001, theta1: -13.324408, theta2: 4.028351, error1: 67.864813\n",
      " theta0: 89.274937, theta1: -13.324184, theta2: 4.022341, error1: 67.826719\n",
      " theta0: 89.293832, theta1: -13.323961, theta2: 4.016344, error1: 67.788786\n",
      " theta0: 89.312686, theta1: -13.323738, theta2: 4.010359, error1: 67.751014\n",
      " theta0: 89.331499, theta1: -13.323515, theta2: 4.004388, error1: 67.713401\n",
      " theta0: 89.350272, theta1: -13.323293, theta2: 3.998429, error1: 67.675948\n",
      " theta0: 89.369005, theta1: -13.323072, theta2: 3.992483, error1: 67.638652\n",
      " theta0: 89.387697, theta1: -13.322851, theta2: 3.986550, error1: 67.601515\n",
      " theta0: 89.406349, theta1: -13.322630, theta2: 3.980630, error1: 67.564534\n",
      " theta0: 89.424960, theta1: -13.322410, theta2: 3.974723, error1: 67.527709\n",
      " theta0: 89.443532, theta1: -13.322191, theta2: 3.968828, error1: 67.491041\n",
      " theta0: 89.462063, theta1: -13.321971, theta2: 3.962946, error1: 67.454527\n",
      " theta0: 89.480554, theta1: -13.321753, theta2: 3.957077, error1: 67.418168\n",
      " theta0: 89.499006, theta1: -13.321535, theta2: 3.951220, error1: 67.381962\n",
      " theta0: 89.517418, theta1: -13.321317, theta2: 3.945376, error1: 67.345909\n",
      " theta0: 89.535790, theta1: -13.321100, theta2: 3.939544, error1: 67.310009\n",
      " theta0: 89.554122, theta1: -13.320883, theta2: 3.933726, error1: 67.274260\n",
      " theta0: 89.572415, theta1: -13.320667, theta2: 3.927919, error1: 67.238662\n",
      " theta0: 89.590669, theta1: -13.320451, theta2: 3.922125, error1: 67.203215\n",
      " theta0: 89.608883, theta1: -13.320235, theta2: 3.916344, error1: 67.167918\n",
      " theta0: 89.627058, theta1: -13.320020, theta2: 3.910575, error1: 67.132769\n",
      " theta0: 89.645194, theta1: -13.319806, theta2: 3.904819, error1: 67.097770\n",
      " theta0: 89.663291, theta1: -13.319592, theta2: 3.899075, error1: 67.062918\n",
      " theta0: 89.681348, theta1: -13.319378, theta2: 3.893343, error1: 67.028213\n",
      " theta0: 89.699367, theta1: -13.319165, theta2: 3.887624, error1: 66.993655\n",
      " theta0: 89.717347, theta1: -13.318953, theta2: 3.881917, error1: 66.959243\n",
      " theta0: 89.735288, theta1: -13.318741, theta2: 3.876222, error1: 66.924976\n",
      " theta0: 89.753190, theta1: -13.318529, theta2: 3.870540, error1: 66.890854\n",
      " theta0: 89.771054, theta1: -13.318318, theta2: 3.864870, error1: 66.856876\n",
      " theta0: 89.788880, theta1: -13.318107, theta2: 3.859212, error1: 66.823042\n",
      " theta0: 89.806666, theta1: -13.317897, theta2: 3.853566, error1: 66.789351\n",
      " theta0: 89.824415, theta1: -13.317687, theta2: 3.847933, error1: 66.755802\n",
      " theta0: 89.842125, theta1: -13.317477, theta2: 3.842311, error1: 66.722394\n",
      " theta0: 89.859798, theta1: -13.317268, theta2: 3.836702, error1: 66.689128\n",
      " theta0: 89.877432, theta1: -13.317060, theta2: 3.831105, error1: 66.656002\n",
      " theta0: 89.895028, theta1: -13.316852, theta2: 3.825520, error1: 66.623016\n",
      " theta0: 89.912586, theta1: -13.316644, theta2: 3.819947, error1: 66.590169\n",
      " theta0: 89.930106, theta1: -13.316437, theta2: 3.814386, error1: 66.557461\n",
      " theta0: 89.947588, theta1: -13.316230, theta2: 3.808836, error1: 66.524891\n",
      " theta0: 89.965033, theta1: -13.316024, theta2: 3.803299, error1: 66.492459\n",
      " theta0: 89.982440, theta1: -13.315818, theta2: 3.797774, error1: 66.460163\n",
      " theta0: 89.999810, theta1: -13.315613, theta2: 3.792261, error1: 66.428004\n",
      " theta0: 90.017142, theta1: -13.315408, theta2: 3.786760, error1: 66.395980\n",
      " theta0: 90.034437, theta1: -13.315203, theta2: 3.781270, error1: 66.364092\n",
      " theta0: 90.051695, theta1: -13.314999, theta2: 3.775792, error1: 66.332339\n",
      " theta0: 90.068915, theta1: -13.314795, theta2: 3.770326, error1: 66.300719\n",
      " theta0: 90.086098, theta1: -13.314592, theta2: 3.764872, error1: 66.269233\n",
      " theta0: 90.103244, theta1: -13.314389, theta2: 3.759430, error1: 66.237880\n",
      " theta0: 90.120354, theta1: -13.314187, theta2: 3.753999, error1: 66.206659\n",
      " theta0: 90.137426, theta1: -13.313985, theta2: 3.748581, error1: 66.175569\n",
      " theta0: 90.154461, theta1: -13.313784, theta2: 3.743173, error1: 66.144611\n",
      " theta0: 90.171460, theta1: -13.313583, theta2: 3.737778, error1: 66.113784\n",
      " theta0: 90.188422, theta1: -13.313382, theta2: 3.732394, error1: 66.083087\n",
      " theta0: 90.205348, theta1: -13.313182, theta2: 3.727022, error1: 66.052519\n",
      " theta0: 90.222237, theta1: -13.312982, theta2: 3.721661, error1: 66.022080\n",
      " theta0: 90.239090, theta1: -13.312783, theta2: 3.716312, error1: 65.991770\n",
      " theta0: 90.255906, theta1: -13.312584, theta2: 3.710974, error1: 65.961587\n",
      " theta0: 90.272686, theta1: -13.312386, theta2: 3.705648, error1: 65.931532\n",
      " theta0: 90.289430, theta1: -13.312188, theta2: 3.700333, error1: 65.901604\n",
      " theta0: 90.306138, theta1: -13.311990, theta2: 3.695030, error1: 65.871802\n",
      " theta0: 90.322810, theta1: -13.311793, theta2: 3.689738, error1: 65.842125\n",
      " theta0: 90.339446, theta1: -13.311596, theta2: 3.684458, error1: 65.812574\n",
      " theta0: 90.356046, theta1: -13.311400, theta2: 3.679189, error1: 65.783147\n",
      " theta0: 90.372610, theta1: -13.311204, theta2: 3.673931, error1: 65.753845\n",
      " theta0: 90.389139, theta1: -13.311009, theta2: 3.668685, error1: 65.724666\n",
      " theta0: 90.405632, theta1: -13.310814, theta2: 3.663450, error1: 65.695610\n",
      " theta0: 90.422089, theta1: -13.310619, theta2: 3.658226, error1: 65.666677\n",
      " theta0: 90.438511, theta1: -13.310425, theta2: 3.653014, error1: 65.637865\n",
      " theta0: 90.454897, theta1: -13.310231, theta2: 3.647813, error1: 65.609176\n",
      " theta0: 90.471249, theta1: -13.310038, theta2: 3.642623, error1: 65.580607\n",
      " theta0: 90.487565, theta1: -13.309845, theta2: 3.637444, error1: 65.552158\n",
      " theta0: 90.503845, theta1: -13.309652, theta2: 3.632276, error1: 65.523830\n",
      " theta0: 90.520091, theta1: -13.309460, theta2: 3.627120, error1: 65.495621\n",
      " theta0: 90.536302, theta1: -13.309269, theta2: 3.621974, error1: 65.467531\n",
      " theta0: 90.552477, theta1: -13.309077, theta2: 3.616840, error1: 65.439559\n",
      " theta0: 90.568618, theta1: -13.308886, theta2: 3.611717, error1: 65.411705\n",
      " theta0: 90.584724, theta1: -13.308696, theta2: 3.606605, error1: 65.383969\n",
      " theta0: 90.600795, theta1: -13.308506, theta2: 3.601504, error1: 65.356349\n",
      " theta0: 90.616832, theta1: -13.308316, theta2: 3.596413, error1: 65.328846\n",
      " theta0: 90.632834, theta1: -13.308127, theta2: 3.591334, error1: 65.301459\n",
      " theta0: 90.648802, theta1: -13.307938, theta2: 3.586266, error1: 65.274188\n",
      " theta0: 90.664735, theta1: -13.307750, theta2: 3.581209, error1: 65.247031\n",
      " theta0: 90.680634, theta1: -13.307562, theta2: 3.576162, error1: 65.219988\n",
      " theta0: 90.696498, theta1: -13.307374, theta2: 3.571127, error1: 65.193060\n",
      " theta0: 90.712328, theta1: -13.307187, theta2: 3.566102, error1: 65.166245\n",
      " theta0: 90.728125, theta1: -13.307000, theta2: 3.561088, error1: 65.139543\n",
      " theta0: 90.743887, theta1: -13.306814, theta2: 3.556085, error1: 65.112954\n",
      " theta0: 90.759615, theta1: -13.306628, theta2: 3.551093, error1: 65.086476\n",
      " theta0: 90.775309, theta1: -13.306442, theta2: 3.546112, error1: 65.060110\n",
      " theta0: 90.790970, theta1: -13.306257, theta2: 3.541141, error1: 65.033856\n",
      " theta0: 90.806596, theta1: -13.306072, theta2: 3.536181, error1: 65.007711\n",
      " theta0: 90.822189, theta1: -13.305888, theta2: 3.531231, error1: 64.981677\n",
      " theta0: 90.837749, theta1: -13.305704, theta2: 3.526293, error1: 64.955753\n",
      " theta0: 90.853275, theta1: -13.305520, theta2: 3.521365, error1: 64.929938\n",
      " theta0: 90.868767, theta1: -13.305337, theta2: 3.516447, error1: 64.904231\n",
      " theta0: 90.884226, theta1: -13.305154, theta2: 3.511541, error1: 64.878633\n",
      " theta0: 90.899651, theta1: -13.304972, theta2: 3.506644, error1: 64.853142\n",
      " theta0: 90.915044, theta1: -13.304790, theta2: 3.501759, error1: 64.827759\n",
      " theta0: 90.930403, theta1: -13.304608, theta2: 3.496884, error1: 64.802483\n",
      " theta0: 90.945729, theta1: -13.304427, theta2: 3.492019, error1: 64.777313\n",
      " theta0: 90.961022, theta1: -13.304246, theta2: 3.487165, error1: 64.752250\n",
      " theta0: 90.976282, theta1: -13.304066, theta2: 3.482321, error1: 64.727291\n",
      " theta0: 90.991509, theta1: -13.303886, theta2: 3.477488, error1: 64.702438\n",
      " theta0: 91.006704, theta1: -13.303706, theta2: 3.472665, error1: 64.677689\n",
      " theta0: 91.021865, theta1: -13.303527, theta2: 3.467853, error1: 64.653045\n",
      " theta0: 91.036994, theta1: -13.303348, theta2: 3.463051, error1: 64.628504\n",
      " theta0: 91.052091, theta1: -13.303169, theta2: 3.458259, error1: 64.604067\n",
      " theta0: 91.067154, theta1: -13.302991, theta2: 3.453478, error1: 64.579733\n",
      " theta0: 91.082186, theta1: -13.302814, theta2: 3.448707, error1: 64.555501\n",
      " theta0: 91.097185, theta1: -13.302636, theta2: 3.443946, error1: 64.531370\n",
      " theta0: 91.112151, theta1: -13.302459, theta2: 3.439195, error1: 64.507342\n",
      " theta0: 91.127086, theta1: -13.302283, theta2: 3.434455, error1: 64.483414\n",
      " theta0: 91.141988, theta1: -13.302106, theta2: 3.429725, error1: 64.459588\n",
      " theta0: 91.156858, theta1: -13.301931, theta2: 3.425005, error1: 64.435861\n",
      " theta0: 91.171696, theta1: -13.301755, theta2: 3.420295, error1: 64.412235\n",
      " theta0: 91.186501, theta1: -13.301580, theta2: 3.415596, error1: 64.388707\n",
      " theta0: 91.201275, theta1: -13.301405, theta2: 3.410907, error1: 64.365279\n",
      " theta0: 91.216018, theta1: -13.301231, theta2: 3.406227, error1: 64.341950\n",
      " theta0: 91.230728, theta1: -13.301057, theta2: 3.401558, error1: 64.318718\n",
      " theta0: 91.245407, theta1: -13.300883, theta2: 3.396899, error1: 64.295584\n",
      " theta0: 91.260054, theta1: -13.300710, theta2: 3.392250, error1: 64.272548\n",
      " theta0: 91.274669, theta1: -13.300537, theta2: 3.387611, error1: 64.249608\n",
      " theta0: 91.289253, theta1: -13.300365, theta2: 3.382982, error1: 64.226765\n",
      " theta0: 91.303806, theta1: -13.300193, theta2: 3.378363, error1: 64.204018\n",
      " theta0: 91.318327, theta1: -13.300021, theta2: 3.373754, error1: 64.181367\n",
      " theta0: 91.332817, theta1: -13.299850, theta2: 3.369154, error1: 64.158811\n",
      " theta0: 91.347275, theta1: -13.299679, theta2: 3.364565, error1: 64.136349\n",
      " theta0: 91.361703, theta1: -13.299508, theta2: 3.359986, error1: 64.113983\n",
      " theta0: 91.376099, theta1: -13.299338, theta2: 3.355416, error1: 64.091710\n",
      " theta0: 91.390464, theta1: -13.299168, theta2: 3.350857, error1: 64.069531\n",
      " theta0: 91.404799, theta1: -13.298999, theta2: 3.346307, error1: 64.047445\n",
      " theta0: 91.419102, theta1: -13.298830, theta2: 3.341767, error1: 64.025452\n",
      " theta0: 91.433375, theta1: -13.298661, theta2: 3.337237, error1: 64.003551\n",
      " theta0: 91.447616, theta1: -13.298492, theta2: 3.332716, error1: 63.981743\n",
      " theta0: 91.461827, theta1: -13.298324, theta2: 3.328205, error1: 63.960026\n",
      " theta0: 91.476008, theta1: -13.298157, theta2: 3.323704, error1: 63.938401\n",
      " theta0: 91.490158, theta1: -13.297989, theta2: 3.319213, error1: 63.916866\n",
      " theta0: 91.504277, theta1: -13.297822, theta2: 3.314731, error1: 63.895422\n",
      " theta0: 91.518366, theta1: -13.297656, theta2: 3.310260, error1: 63.874068\n",
      " theta0: 91.532425, theta1: -13.297489, theta2: 3.305797, error1: 63.852804\n",
      " theta0: 91.546453, theta1: -13.297324, theta2: 3.301345, error1: 63.831629\n",
      " theta0: 91.560451, theta1: -13.297158, theta2: 3.296901, error1: 63.810543\n",
      " theta0: 91.574419, theta1: -13.296993, theta2: 3.292468, error1: 63.789545\n",
      " theta0: 91.588357, theta1: -13.296828, theta2: 3.288044, error1: 63.768636\n",
      " theta0: 91.602265, theta1: -13.296664, theta2: 3.283630, error1: 63.747815\n",
      " theta0: 91.616142, theta1: -13.296500, theta2: 3.279225, error1: 63.727081\n",
      " theta0: 91.629990, theta1: -13.296336, theta2: 3.274829, error1: 63.706435\n",
      " theta0: 91.643808, theta1: -13.296172, theta2: 3.270443, error1: 63.685875\n",
      " theta0: 91.657596, theta1: -13.296009, theta2: 3.266067, error1: 63.665401\n",
      " theta0: 91.671355, theta1: -13.295847, theta2: 3.261700, error1: 63.645013\n",
      " theta0: 91.685084, theta1: -13.295684, theta2: 3.257342, error1: 63.624711\n",
      " theta0: 91.698783, theta1: -13.295522, theta2: 3.252994, error1: 63.604495\n",
      " theta0: 91.712452, theta1: -13.295361, theta2: 3.248655, error1: 63.584363\n",
      " theta0: 91.726093, theta1: -13.295199, theta2: 3.244326, error1: 63.564316\n",
      " theta0: 91.739703, theta1: -13.295038, theta2: 3.240005, error1: 63.544353\n",
      " theta0: 91.753285, theta1: -13.294878, theta2: 3.235695, error1: 63.524473\n",
      " theta0: 91.766837, theta1: -13.294718, theta2: 3.231393, error1: 63.504678\n",
      " theta0: 91.780360, theta1: -13.294558, theta2: 3.227101, error1: 63.484965\n",
      " theta0: 91.793854, theta1: -13.294398, theta2: 3.222818, error1: 63.465335\n",
      " theta0: 91.807319, theta1: -13.294239, theta2: 3.218544, error1: 63.445788\n",
      " theta0: 91.820754, theta1: -13.294080, theta2: 3.214279, error1: 63.426322\n",
      " theta0: 91.834161, theta1: -13.293921, theta2: 3.210024, error1: 63.406938\n",
      " theta0: 91.847539, theta1: -13.293763, theta2: 3.205778, error1: 63.387636\n",
      " theta0: 91.860888, theta1: -13.293605, theta2: 3.201541, error1: 63.368415\n",
      " theta0: 91.874208, theta1: -13.293448, theta2: 3.197313, error1: 63.349274\n",
      " theta0: 91.887500, theta1: -13.293291, theta2: 3.193094, error1: 63.330214\n",
      " theta0: 91.900762, theta1: -13.293134, theta2: 3.188884, error1: 63.311233\n",
      " theta0: 91.913997, theta1: -13.292977, theta2: 3.184683, error1: 63.292333\n",
      " theta0: 91.927202, theta1: -13.292821, theta2: 3.180492, error1: 63.273511\n",
      " theta0: 91.940380, theta1: -13.292665, theta2: 3.176309, error1: 63.254769\n",
      " theta0: 91.953528, theta1: -13.292510, theta2: 3.172136, error1: 63.236105\n",
      " theta0: 91.966649, theta1: -13.292355, theta2: 3.167971, error1: 63.217520\n",
      " theta0: 91.979741, theta1: -13.292200, theta2: 3.163816, error1: 63.199012\n",
      " theta0: 91.992805, theta1: -13.292045, theta2: 3.159669, error1: 63.180582\n",
      " theta0: 92.005841, theta1: -13.291891, theta2: 3.155531, error1: 63.162230\n",
      " theta0: 92.018849, theta1: -13.291738, theta2: 3.151403, error1: 63.143954\n",
      " theta0: 92.031828, theta1: -13.291584, theta2: 3.147283, error1: 63.125755\n",
      " theta0: 92.044780, theta1: -13.291431, theta2: 3.143172, error1: 63.107632\n",
      " theta0: 92.057704, theta1: -13.291278, theta2: 3.139070, error1: 63.089586\n",
      " theta0: 92.070600, theta1: -13.291126, theta2: 3.134976, error1: 63.071615\n",
      " theta0: 92.083468, theta1: -13.290973, theta2: 3.130892, error1: 63.053719\n",
      " theta0: 92.096308, theta1: -13.290822, theta2: 3.126816, error1: 63.035899\n",
      " theta0: 92.109121, theta1: -13.290670, theta2: 3.122749, error1: 63.018153\n",
      " theta0: 92.121906, theta1: -13.290519, theta2: 3.118691, error1: 63.000482\n",
      " theta0: 92.134664, theta1: -13.290368, theta2: 3.114642, error1: 62.982884\n",
      " theta0: 92.147394, theta1: -13.290217, theta2: 3.110601, error1: 62.965361\n",
      " theta0: 92.160096, theta1: -13.290067, theta2: 3.106569, error1: 62.947911\n",
      " theta0: 92.172772, theta1: -13.289917, theta2: 3.102546, error1: 62.930534\n",
      " theta0: 92.185419, theta1: -13.289768, theta2: 3.098532, error1: 62.913229\n",
      " theta0: 92.198040, theta1: -13.289619, theta2: 3.094526, error1: 62.895998\n",
      " theta0: 92.210633, theta1: -13.289470, theta2: 3.090529, error1: 62.878838\n",
      " theta0: 92.223200, theta1: -13.289321, theta2: 3.086540, error1: 62.861751\n",
      " theta0: 92.235739, theta1: -13.289173, theta2: 3.082560, error1: 62.844735\n",
      " theta0: 92.248251, theta1: -13.289025, theta2: 3.078588, error1: 62.827791\n",
      " theta0: 92.260736, theta1: -13.288877, theta2: 3.074626, error1: 62.810917\n",
      " theta0: 92.273194, theta1: -13.288730, theta2: 3.070671, error1: 62.794114\n",
      " theta0: 92.285626, theta1: -13.288583, theta2: 3.066725, error1: 62.777382\n",
      " theta0: 92.298030, theta1: -13.288436, theta2: 3.062788, error1: 62.760719\n",
      " theta0: 92.310408, theta1: -13.288290, theta2: 3.058859, error1: 62.744127\n",
      " theta0: 92.322759, theta1: -13.288144, theta2: 3.054939, error1: 62.727604\n",
      " theta0: 92.335084, theta1: -13.287998, theta2: 3.051027, error1: 62.711150\n",
      " theta0: 92.347382, theta1: -13.287853, theta2: 3.047124, error1: 62.694765\n",
      " theta0: 92.359653, theta1: -13.287708, theta2: 3.043229, error1: 62.678448\n",
      " theta0: 92.371898, theta1: -13.287563, theta2: 3.039342, error1: 62.662200\n",
      " theta0: 92.384117, theta1: -13.287418, theta2: 3.035464, error1: 62.646021\n",
      " theta0: 92.396309, theta1: -13.287274, theta2: 3.031594, error1: 62.629908\n",
      " theta0: 92.408475, theta1: -13.287130, theta2: 3.027732, error1: 62.613864\n",
      " theta0: 92.420615, theta1: -13.286987, theta2: 3.023879, error1: 62.597886\n",
      " theta0: 92.432729, theta1: -13.286843, theta2: 3.020034, error1: 62.581975\n",
      " theta0: 92.444816, theta1: -13.286700, theta2: 3.016197, error1: 62.566131\n",
      " theta0: 92.456878, theta1: -13.286558, theta2: 3.012369, error1: 62.550354\n",
      " theta0: 92.468913, theta1: -13.286416, theta2: 3.008549, error1: 62.534642\n",
      " theta0: 92.480922, theta1: -13.286274, theta2: 3.004737, error1: 62.518996\n",
      " theta0: 92.492906, theta1: -13.286132, theta2: 3.000933, error1: 62.503415\n",
      " theta0: 92.504864, theta1: -13.285990, theta2: 2.997138, error1: 62.487900\n",
      " theta0: 92.516796, theta1: -13.285849, theta2: 2.993350, error1: 62.472450\n",
      " theta0: 92.528702, theta1: -13.285709, theta2: 2.989571, error1: 62.457064\n",
      " theta0: 92.540583, theta1: -13.285568, theta2: 2.985800, error1: 62.441743\n",
      " theta0: 92.552438, theta1: -13.285428, theta2: 2.982037, error1: 62.426486\n",
      " theta0: 92.564267, theta1: -13.285288, theta2: 2.978283, error1: 62.411293\n",
      " theta0: 92.576071, theta1: -13.285148, theta2: 2.974536, error1: 62.396163\n",
      " theta0: 92.587849, theta1: -13.285009, theta2: 2.970797, error1: 62.381096\n",
      " theta0: 92.599602, theta1: -13.284870, theta2: 2.967067, error1: 62.366093\n",
      " theta0: 92.611330, theta1: -13.284731, theta2: 2.963344, error1: 62.351152\n",
      " theta0: 92.623033, theta1: -13.284593, theta2: 2.959630, error1: 62.336274\n",
      " theta0: 92.634710, theta1: -13.284455, theta2: 2.955923, error1: 62.321458\n",
      " theta0: 92.646362, theta1: -13.284317, theta2: 2.952225, error1: 62.306704\n",
      " theta0: 92.657989, theta1: -13.284180, theta2: 2.948535, error1: 62.292012\n",
      " theta0: 92.669591, theta1: -13.284043, theta2: 2.944852, error1: 62.277381\n",
      " theta0: 92.681168, theta1: -13.283906, theta2: 2.941177, error1: 62.262811\n",
      " theta0: 92.692720, theta1: -13.283769, theta2: 2.937511, error1: 62.248302\n",
      " theta0: 92.704247, theta1: -13.283633, theta2: 2.933852, error1: 62.233854\n",
      " theta0: 92.715749, theta1: -13.283497, theta2: 2.930201, error1: 62.219467\n",
      " theta0: 92.727226, theta1: -13.283361, theta2: 2.926558, error1: 62.205139\n",
      " theta0: 92.738679, theta1: -13.283226, theta2: 2.922923, error1: 62.190871\n",
      " theta0: 92.750107, theta1: -13.283090, theta2: 2.919296, error1: 62.176663\n",
      " theta0: 92.761510, theta1: -13.282956, theta2: 2.915676, error1: 62.162515\n",
      " theta0: 92.772889, theta1: -13.282821, theta2: 2.912064, error1: 62.148425\n",
      " theta0: 92.784243, theta1: -13.282687, theta2: 2.908461, error1: 62.134394\n",
      " theta0: 92.795572, theta1: -13.282553, theta2: 2.904864, error1: 62.120422\n",
      " theta0: 92.806878, theta1: -13.282419, theta2: 2.901276, error1: 62.106509\n",
      " theta0: 92.818159, theta1: -13.282286, theta2: 2.897695, error1: 62.092653\n",
      " theta0: 92.829415, theta1: -13.282153, theta2: 2.894122, error1: 62.078856\n",
      " theta0: 92.840648, theta1: -13.282020, theta2: 2.890557, error1: 62.065116\n",
      " theta0: 92.851856, theta1: -13.281887, theta2: 2.887000, error1: 62.051433\n",
      " theta0: 92.863040, theta1: -13.281755, theta2: 2.883450, error1: 62.037808\n",
      " theta0: 92.874199, theta1: -13.281623, theta2: 2.879908, error1: 62.024239\n",
      " theta0: 92.885335, theta1: -13.281491, theta2: 2.876373, error1: 62.010728\n",
      " theta0: 92.896447, theta1: -13.281360, theta2: 2.872846, error1: 61.997272\n",
      " theta0: 92.907535, theta1: -13.281229, theta2: 2.869327, error1: 61.983873\n",
      " theta0: 92.918599, theta1: -13.281098, theta2: 2.865815, error1: 61.970530\n",
      " theta0: 92.929639, theta1: -13.280967, theta2: 2.862311, error1: 61.957242\n",
      " theta0: 92.940655, theta1: -13.280837, theta2: 2.858814, error1: 61.944010\n",
      " theta0: 92.951648, theta1: -13.280707, theta2: 2.855325, error1: 61.930833\n",
      " theta0: 92.962616, theta1: -13.280577, theta2: 2.851843, error1: 61.917712\n",
      " theta0: 92.973562, theta1: -13.280448, theta2: 2.848369, error1: 61.904645\n",
      " theta0: 92.984483, theta1: -13.280319, theta2: 2.844903, error1: 61.891632\n",
      " theta0: 92.995381, theta1: -13.280190, theta2: 2.841444, error1: 61.878674\n",
      " theta0: 93.006256, theta1: -13.280061, theta2: 2.837992, error1: 61.865770\n",
      " theta0: 93.017107, theta1: -13.279933, theta2: 2.834548, error1: 61.852920\n",
      " theta0: 93.027935, theta1: -13.279805, theta2: 2.831111, error1: 61.840123\n",
      " theta0: 93.038739, theta1: -13.279677, theta2: 2.827682, error1: 61.827380\n",
      " theta0: 93.049520, theta1: -13.279550, theta2: 2.824260, error1: 61.814690\n",
      " theta0: 93.060278, theta1: -13.279423, theta2: 2.820845, error1: 61.802053\n",
      " theta0: 93.071013, theta1: -13.279296, theta2: 2.817438, error1: 61.789469\n",
      " theta0: 93.081724, theta1: -13.279169, theta2: 2.814038, error1: 61.776937\n",
      " theta0: 93.092413, theta1: -13.279043, theta2: 2.810645, error1: 61.764457\n",
      " theta0: 93.103078, theta1: -13.278917, theta2: 2.807260, error1: 61.752030\n",
      " theta0: 93.113720, theta1: -13.278791, theta2: 2.803882, error1: 61.739654\n",
      " theta0: 93.124340, theta1: -13.278665, theta2: 2.800511, error1: 61.727330\n",
      " theta0: 93.134936, theta1: -13.278540, theta2: 2.797148, error1: 61.715057\n",
      " theta0: 93.145510, theta1: -13.278415, theta2: 2.793792, error1: 61.702836\n",
      " theta0: 93.156061, theta1: -13.278290, theta2: 2.790443, error1: 61.690665\n",
      " theta0: 93.166589, theta1: -13.278166, theta2: 2.787101, error1: 61.678546\n",
      " theta0: 93.177094, theta1: -13.278041, theta2: 2.783766, error1: 61.666476\n",
      " theta0: 93.187577, theta1: -13.277917, theta2: 2.780439, error1: 61.654458\n",
      " theta0: 93.198038, theta1: -13.277794, theta2: 2.777119, error1: 61.642489\n",
      " theta0: 93.208475, theta1: -13.277670, theta2: 2.773806, error1: 61.630570\n",
      " theta0: 93.218890, theta1: -13.277547, theta2: 2.770500, error1: 61.618701\n",
      " theta0: 93.229283, theta1: -13.277424, theta2: 2.767201, error1: 61.606881\n",
      " theta0: 93.239653, theta1: -13.277302, theta2: 2.763910, error1: 61.595110\n",
      " theta0: 93.250001, theta1: -13.277179, theta2: 2.760625, error1: 61.583389\n",
      " theta0: 93.260327, theta1: -13.277057, theta2: 2.757348, error1: 61.571716\n",
      " theta0: 93.270630, theta1: -13.276935, theta2: 2.754077, error1: 61.560092\n",
      " theta0: 93.280912, theta1: -13.276814, theta2: 2.750814, error1: 61.548517\n",
      " theta0: 93.291171, theta1: -13.276692, theta2: 2.747558, error1: 61.536990\n",
      " theta0: 93.301408, theta1: -13.276571, theta2: 2.744309, error1: 61.525510\n",
      " theta0: 93.311622, theta1: -13.276451, theta2: 2.741066, error1: 61.514079\n",
      " theta0: 93.321815, theta1: -13.276330, theta2: 2.737831, error1: 61.502695\n",
      " theta0: 93.331986, theta1: -13.276210, theta2: 2.734603, error1: 61.491359\n",
      " theta0: 93.342135, theta1: -13.276090, theta2: 2.731381, error1: 61.480069\n",
      " theta0: 93.352262, theta1: -13.275970, theta2: 2.728167, error1: 61.468827\n",
      " theta0: 93.362367, theta1: -13.275850, theta2: 2.724959, error1: 61.457632\n",
      " theta0: 93.372451, theta1: -13.275731, theta2: 2.721759, error1: 61.446483\n",
      " theta0: 93.382512, theta1: -13.275612, theta2: 2.718565, error1: 61.435381\n",
      " theta0: 93.392552, theta1: -13.275494, theta2: 2.715378, error1: 61.424325\n",
      " theta0: 93.402571, theta1: -13.275375, theta2: 2.712199, error1: 61.413315\n",
      " theta0: 93.412567, theta1: -13.275257, theta2: 2.709026, error1: 61.402350\n",
      " theta0: 93.422543, theta1: -13.275139, theta2: 2.705859, error1: 61.391432\n",
      " theta0: 93.432496, theta1: -13.275021, theta2: 2.702700, error1: 61.380559\n",
      " theta0: 93.442429, theta1: -13.274904, theta2: 2.699547, error1: 61.369731\n",
      " theta0: 93.452339, theta1: -13.274787, theta2: 2.696402, error1: 61.358948\n",
      " theta0: 93.462229, theta1: -13.274670, theta2: 2.693263, error1: 61.348210\n",
      " theta0: 93.472097, theta1: -13.274553, theta2: 2.690130, error1: 61.337517\n",
      " theta0: 93.481944, theta1: -13.274436, theta2: 2.687005, error1: 61.326868\n",
      " theta0: 93.491770, theta1: -13.274320, theta2: 2.683886, error1: 61.316263\n",
      " theta0: 93.501574, theta1: -13.274204, theta2: 2.680774, error1: 61.305703\n",
      " theta0: 93.511357, theta1: -13.274089, theta2: 2.677669, error1: 61.295187\n",
      " theta0: 93.521120, theta1: -13.273973, theta2: 2.674570, error1: 61.284714\n",
      " theta0: 93.530861, theta1: -13.273858, theta2: 2.671478, error1: 61.274285\n",
      " theta0: 93.540581, theta1: -13.273743, theta2: 2.668393, error1: 61.263899\n",
      " theta0: 93.550280, theta1: -13.273628, theta2: 2.665314, error1: 61.253556\n",
      " theta0: 93.559959, theta1: -13.273514, theta2: 2.662242, error1: 61.243257\n",
      " theta0: 93.569616, theta1: -13.273400, theta2: 2.659177, error1: 61.233000\n",
      " theta0: 93.579253, theta1: -13.273286, theta2: 2.656118, error1: 61.222786\n",
      " theta0: 93.588869, theta1: -13.273172, theta2: 2.653066, error1: 61.212614\n",
      " theta0: 93.598464, theta1: -13.273059, theta2: 2.650021, error1: 61.202485\n",
      " theta0: 93.608038, theta1: -13.272945, theta2: 2.646982, error1: 61.192398\n",
      " theta0: 93.617592, theta1: -13.272832, theta2: 2.643949, error1: 61.182353\n",
      " theta0: 93.627125, theta1: -13.272720, theta2: 2.640923, error1: 61.172349\n",
      " theta0: 93.636638, theta1: -13.272607, theta2: 2.637904, error1: 61.162387\n",
      " theta0: 93.646130, theta1: -13.272495, theta2: 2.634891, error1: 61.152467\n",
      " theta0: 93.655602, theta1: -13.272383, theta2: 2.631885, error1: 61.142587\n",
      " theta0: 93.665053, theta1: -13.272271, theta2: 2.628885, error1: 61.132749\n",
      " theta0: 93.674484, theta1: -13.272160, theta2: 2.625891, error1: 61.122952\n",
      " theta0: 93.683895, theta1: -13.272048, theta2: 2.622904, error1: 61.113195\n",
      " theta0: 93.693285, theta1: -13.271937, theta2: 2.619924, error1: 61.103479\n",
      " theta0: 93.702655, theta1: -13.271827, theta2: 2.616950, error1: 61.093803\n",
      " theta0: 93.712005, theta1: -13.271716, theta2: 2.613982, error1: 61.084167\n",
      " theta0: 93.721334, theta1: -13.271606, theta2: 2.611021, error1: 61.074572\n",
      " theta0: 93.730644, theta1: -13.271496, theta2: 2.608066, error1: 61.065016\n",
      " theta0: 93.739934, theta1: -13.271386, theta2: 2.605117, error1: 61.055500\n",
      " theta0: 93.749203, theta1: -13.271276, theta2: 2.602175, error1: 61.046023\n",
      " theta0: 93.758453, theta1: -13.271167, theta2: 2.599239, error1: 61.036586\n",
      " theta0: 93.767682, theta1: -13.271058, theta2: 2.596309, error1: 61.027188\n",
      " theta0: 93.776892, theta1: -13.270949, theta2: 2.593386, error1: 61.017829\n",
      " theta0: 93.786082, theta1: -13.270840, theta2: 2.590469, error1: 61.008509\n",
      " theta0: 93.795252, theta1: -13.270732, theta2: 2.587559, error1: 60.999227\n",
      " theta0: 93.804402, theta1: -13.270623, theta2: 2.584654, error1: 60.989984\n",
      " theta0: 93.813532, theta1: -13.270515, theta2: 2.581756, error1: 60.980780\n",
      " theta0: 93.822643, theta1: -13.270408, theta2: 2.578864, error1: 60.971613\n",
      " theta0: 93.831734, theta1: -13.270300, theta2: 2.575979, error1: 60.962485\n",
      " theta0: 93.840806, theta1: -13.270193, theta2: 2.573099, error1: 60.953395\n",
      " theta0: 93.849858, theta1: -13.270086, theta2: 2.570226, error1: 60.944342\n",
      " theta0: 93.858890, theta1: -13.269979, theta2: 2.567359, error1: 60.935327\n",
      " theta0: 93.867904, theta1: -13.269872, theta2: 2.564498, error1: 60.926349\n",
      " theta0: 93.876897, theta1: -13.269766, theta2: 2.561644, error1: 60.917408\n",
      " theta0: 93.885871, theta1: -13.269660, theta2: 2.558795, error1: 60.908505\n",
      " theta0: 93.894826, theta1: -13.269554, theta2: 2.555953, error1: 60.899638\n",
      " theta0: 93.903762, theta1: -13.269448, theta2: 2.553117, error1: 60.890809\n",
      " theta0: 93.912678, theta1: -13.269343, theta2: 2.550287, error1: 60.882015\n",
      " theta0: 93.921575, theta1: -13.269238, theta2: 2.547463, error1: 60.873259\n",
      " theta0: 93.930453, theta1: -13.269133, theta2: 2.544645, error1: 60.864538\n",
      " theta0: 93.939312, theta1: -13.269028, theta2: 2.541833, error1: 60.855854\n",
      " theta0: 93.948152, theta1: -13.268924, theta2: 2.539027, error1: 60.847206\n",
      " theta0: 93.956972, theta1: -13.268819, theta2: 2.536227, error1: 60.838593\n",
      " theta0: 93.965774, theta1: -13.268715, theta2: 2.533434, error1: 60.830017\n",
      " theta0: 93.974557, theta1: -13.268611, theta2: 2.530646, error1: 60.821475\n",
      " theta0: 93.983320, theta1: -13.268508, theta2: 2.527864, error1: 60.812970\n",
      " theta0: 93.992065, theta1: -13.268404, theta2: 2.525089, error1: 60.804499\n",
      " theta0: 94.000791, theta1: -13.268301, theta2: 2.522319, error1: 60.796064\n",
      " theta0: 94.009498, theta1: -13.268198, theta2: 2.519555, error1: 60.787663\n",
      " theta0: 94.018187, theta1: -13.268095, theta2: 2.516797, error1: 60.779298\n",
      " theta0: 94.026856, theta1: -13.267993, theta2: 2.514046, error1: 60.770967\n",
      " theta0: 94.035507, theta1: -13.267891, theta2: 2.511300, error1: 60.762670\n",
      " theta0: 94.044139, theta1: -13.267789, theta2: 2.508560, error1: 60.754408\n",
      " theta0: 94.052753, theta1: -13.267687, theta2: 2.505826, error1: 60.746180\n",
      " theta0: 94.061348, theta1: -13.267585, theta2: 2.503097, error1: 60.737986\n",
      " theta0: 94.069925, theta1: -13.267484, theta2: 2.500375, error1: 60.729826\n",
      " theta0: 94.078483, theta1: -13.267382, theta2: 2.497659, error1: 60.721700\n",
      " theta0: 94.087023, theta1: -13.267281, theta2: 2.494948, error1: 60.713608\n",
      " theta0: 94.095544, theta1: -13.267181, theta2: 2.492244, error1: 60.705549\n",
      " theta0: 94.104047, theta1: -13.267080, theta2: 2.489545, error1: 60.697523\n",
      " theta0: 94.112531, theta1: -13.266980, theta2: 2.486852, error1: 60.689531\n",
      " theta0: 94.120998, theta1: -13.266880, theta2: 2.484164, error1: 60.681571\n",
      " theta0: 94.129446, theta1: -13.266780, theta2: 2.481483, error1: 60.673645\n",
      " theta0: 94.137875, theta1: -13.266680, theta2: 2.478807, error1: 60.665751\n",
      " theta0: 94.146287, theta1: -13.266581, theta2: 2.476137, error1: 60.657891\n",
      " theta0: 94.154681, theta1: -13.266481, theta2: 2.473473, error1: 60.650062\n",
      " theta0: 94.163056, theta1: -13.266382, theta2: 2.470815, error1: 60.642266\n",
      " theta0: 94.171413, theta1: -13.266284, theta2: 2.468162, error1: 60.634502\n",
      " theta0: 94.179753, theta1: -13.266185, theta2: 2.465515, error1: 60.626771\n",
      " theta0: 94.188074, theta1: -13.266086, theta2: 2.462874, error1: 60.619071\n",
      " theta0: 94.196377, theta1: -13.265988, theta2: 2.460238, error1: 60.611403\n",
      " theta0: 94.204663, theta1: -13.265890, theta2: 2.457608, error1: 60.603767\n",
      " theta0: 94.212931, theta1: -13.265793, theta2: 2.454984, error1: 60.596163\n",
      " theta0: 94.221180, theta1: -13.265695, theta2: 2.452366, error1: 60.588590\n",
      " theta0: 94.229413, theta1: -13.265598, theta2: 2.449753, error1: 60.581048\n",
      " theta0: 94.237627, theta1: -13.265501, theta2: 2.447145, error1: 60.573537\n",
      " theta0: 94.245823, theta1: -13.265404, theta2: 2.444544, error1: 60.566058\n",
      " theta0: 94.254002, theta1: -13.265307, theta2: 2.441948, error1: 60.558609\n",
      " theta0: 94.262164, theta1: -13.265210, theta2: 2.439357, error1: 60.551191\n",
      " theta0: 94.270307, theta1: -13.265114, theta2: 2.436772, error1: 60.543804\n",
      " theta0: 94.278433, theta1: -13.265018, theta2: 2.434193, error1: 60.536447\n",
      " theta0: 94.286542, theta1: -13.264922, theta2: 2.431619, error1: 60.529121\n",
      " theta0: 94.294633, theta1: -13.264826, theta2: 2.429051, error1: 60.521825\n",
      " theta0: 94.302707, theta1: -13.264731, theta2: 2.426488, error1: 60.514559\n",
      " theta0: 94.310763, theta1: -13.264636, theta2: 2.423931, error1: 60.507323\n",
      " theta0: 94.318802, theta1: -13.264541, theta2: 2.421380, error1: 60.500117\n",
      " theta0: 94.326824, theta1: -13.264446, theta2: 2.418834, error1: 60.492941\n",
      " theta0: 94.334828, theta1: -13.264351, theta2: 2.416293, error1: 60.485795\n",
      " theta0: 94.342815, theta1: -13.264257, theta2: 2.413758, error1: 60.478678\n",
      " theta0: 94.350785, theta1: -13.264162, theta2: 2.411228, error1: 60.471590\n",
      " theta0: 94.358738, theta1: -13.264068, theta2: 2.408704, error1: 60.464532\n",
      " theta0: 94.366673, theta1: -13.263975, theta2: 2.406185, error1: 60.457503\n",
      " theta0: 94.374592, theta1: -13.263881, theta2: 2.403672, error1: 60.450502\n",
      " theta0: 94.382493, theta1: -13.263787, theta2: 2.401164, error1: 60.443531\n",
      " theta0: 94.390377, theta1: -13.263694, theta2: 2.398661, error1: 60.436588\n",
      " theta0: 94.398245, theta1: -13.263601, theta2: 2.396164, error1: 60.429675\n",
      " theta0: 94.406095, theta1: -13.263508, theta2: 2.393672, error1: 60.422789\n",
      " theta0: 94.413928, theta1: -13.263416, theta2: 2.391186, error1: 60.415932\n",
      " theta0: 94.421745, theta1: -13.263323, theta2: 2.388705, error1: 60.409104\n",
      " theta0: 94.429545, theta1: -13.263231, theta2: 2.386229, error1: 60.402303\n",
      " theta0: 94.437327, theta1: -13.263139, theta2: 2.383759, error1: 60.395531\n",
      " theta0: 94.445093, theta1: -13.263047, theta2: 2.381294, error1: 60.388786\n",
      " theta0: 94.452843, theta1: -13.262956, theta2: 2.378834, error1: 60.382070\n",
      " theta0: 94.460575, theta1: -13.262864, theta2: 2.376380, error1: 60.375381\n",
      " theta0: 94.468291, theta1: -13.262773, theta2: 2.373931, error1: 60.368719\n",
      " theta0: 94.475991, theta1: -13.262682, theta2: 2.371487, error1: 60.362085\n",
      " theta0: 94.483674, theta1: -13.262591, theta2: 2.369048, error1: 60.355479\n",
      " theta0: 94.491340, theta1: -13.262500, theta2: 2.366615, error1: 60.348899\n",
      " theta0: 94.498989, theta1: -13.262410, theta2: 2.364187, error1: 60.342347\n",
      " theta0: 94.506623, theta1: -13.262320, theta2: 2.361764, error1: 60.335822\n",
      " theta0: 94.514239, theta1: -13.262230, theta2: 2.359346, error1: 60.329324\n",
      " theta0: 94.521840, theta1: -13.262140, theta2: 2.356934, error1: 60.322852\n",
      " theta0: 94.529423, theta1: -13.262050, theta2: 2.354527, error1: 60.316407\n",
      " theta0: 94.536991, theta1: -13.261961, theta2: 2.352125, error1: 60.309989\n",
      " theta0: 94.544542, theta1: -13.261871, theta2: 2.349728, error1: 60.303597\n",
      " theta0: 94.552077, theta1: -13.261782, theta2: 2.347336, error1: 60.297232\n",
      " theta0: 94.559596, theta1: -13.261693, theta2: 2.344950, error1: 60.290893\n",
      " theta0: 94.567098, theta1: -13.261605, theta2: 2.342569, error1: 60.284579\n",
      " theta0: 94.574585, theta1: -13.261516, theta2: 2.340192, error1: 60.278292\n",
      " theta0: 94.582055, theta1: -13.261428, theta2: 2.337821, error1: 60.272031\n",
      " theta0: 94.589509, theta1: -13.261340, theta2: 2.335455, error1: 60.265795\n",
      " theta0: 94.596947, theta1: -13.261252, theta2: 2.333094, error1: 60.259586\n",
      " theta0: 94.604369, theta1: -13.261164, theta2: 2.330739, error1: 60.253401\n",
      " theta0: 94.611775, theta1: -13.261076, theta2: 2.328388, error1: 60.247243\n",
      " theta0: 94.619165, theta1: -13.260989, theta2: 2.326042, error1: 60.241109\n",
      " theta0: 94.626539, theta1: -13.260902, theta2: 2.323702, error1: 60.235001\n",
      " theta0: 94.633897, theta1: -13.260815, theta2: 2.321366, error1: 60.228918\n",
      " theta0: 94.641240, theta1: -13.260728, theta2: 2.319035, error1: 60.222860\n",
      " theta0: 94.648566, theta1: -13.260641, theta2: 2.316710, error1: 60.216827\n",
      " theta0: 94.655877, theta1: -13.260555, theta2: 2.314390, error1: 60.210819\n",
      " theta0: 94.663172, theta1: -13.260468, theta2: 2.312074, error1: 60.204835\n",
      " theta0: 94.670451, theta1: -13.260382, theta2: 2.309764, error1: 60.198876\n",
      " theta0: 94.677715, theta1: -13.260297, theta2: 2.307458, error1: 60.192942\n",
      " theta0: 94.684963, theta1: -13.260211, theta2: 2.305158, error1: 60.187032\n",
      " theta0: 94.692195, theta1: -13.260125, theta2: 2.302862, error1: 60.181146\n",
      " theta0: 94.699412, theta1: -13.260040, theta2: 2.300571, error1: 60.175285\n",
      " theta0: 94.706613, theta1: -13.259955, theta2: 2.298286, error1: 60.169447\n",
      " theta0: 94.713798, theta1: -13.259870, theta2: 2.296005, error1: 60.163634\n",
      " theta0: 94.720968, theta1: -13.259785, theta2: 2.293729, error1: 60.157844\n",
      " theta0: 94.728123, theta1: -13.259700, theta2: 2.291458, error1: 60.152079\n",
      " theta0: 94.735262, theta1: -13.259616, theta2: 2.289192, error1: 60.146337\n",
      " theta0: 94.742386, theta1: -13.259532, theta2: 2.286931, error1: 60.140618\n",
      " theta0: 94.749495, theta1: -13.259448, theta2: 2.284675, error1: 60.134924\n",
      " theta0: 94.756588, theta1: -13.259364, theta2: 2.282423, error1: 60.129252\n",
      " theta0: 94.763665, theta1: -13.259280, theta2: 2.280177, error1: 60.123604\n",
      " theta0: 94.770728, theta1: -13.259197, theta2: 2.277935, error1: 60.117979\n",
      " theta0: 94.777775, theta1: -13.259113, theta2: 2.275698, error1: 60.112377\n",
      " theta0: 94.784808, theta1: -13.259030, theta2: 2.273466, error1: 60.106798\n",
      " theta0: 94.791825, theta1: -13.258947, theta2: 2.271239, error1: 60.101242\n",
      " theta0: 94.798827, theta1: -13.258864, theta2: 2.269016, error1: 60.095709\n",
      " theta0: 94.805813, theta1: -13.258782, theta2: 2.266799, error1: 60.090199\n",
      " theta0: 94.812785, theta1: -13.258699, theta2: 2.264586, error1: 60.084711\n",
      " theta0: 94.819742, theta1: -13.258617, theta2: 2.262378, error1: 60.079246\n",
      " theta0: 94.826683, theta1: -13.258535, theta2: 2.260174, error1: 60.073803\n",
      " theta0: 94.833610, theta1: -13.258453, theta2: 2.257976, error1: 60.068383\n",
      " theta0: 94.840522, theta1: -13.258371, theta2: 2.255782, error1: 60.062984\n",
      " theta0: 94.847419, theta1: -13.258290, theta2: 2.253593, error1: 60.057608\n",
      " theta0: 94.854301, theta1: -13.258208, theta2: 2.251408, error1: 60.052254\n",
      " theta0: 94.861168, theta1: -13.258127, theta2: 2.249229, error1: 60.046922\n",
      " theta0: 94.868021, theta1: -13.258046, theta2: 2.247054, error1: 60.041612\n",
      " theta0: 94.874858, theta1: -13.257965, theta2: 2.244883, error1: 60.036324\n",
      " theta0: 94.881681, theta1: -13.257885, theta2: 2.242718, error1: 60.031057\n",
      " theta0: 94.888489, theta1: -13.257804, theta2: 2.240557, error1: 60.025812\n",
      " theta0: 94.895283, theta1: -13.257724, theta2: 2.238400, error1: 60.020589\n",
      " theta0: 94.902062, theta1: -13.257644, theta2: 2.236249, error1: 60.015387\n",
      " theta0: 94.908826, theta1: -13.257564, theta2: 2.234102, error1: 60.010206\n",
      " theta0: 94.915576, theta1: -13.257484, theta2: 2.231959, error1: 60.005046\n",
      " theta0: 94.922311, theta1: -13.257404, theta2: 2.229821, error1: 59.999908\n",
      " theta0: 94.929031, theta1: -13.257325, theta2: 2.227688, error1: 59.994791\n",
      " theta0: 94.935737, theta1: -13.257245, theta2: 2.225560, error1: 59.989694\n",
      " theta0: 94.942429, theta1: -13.257166, theta2: 2.223436, error1: 59.984619\n",
      " theta0: 94.949106, theta1: -13.257087, theta2: 2.221316, error1: 59.979564\n",
      " theta0: 94.955769, theta1: -13.257009, theta2: 2.219201, error1: 59.974530\n",
      " theta0: 94.962418, theta1: -13.256930, theta2: 2.217091, error1: 59.969517\n",
      " theta0: 94.969052, theta1: -13.256851, theta2: 2.214985, error1: 59.964524\n",
      " theta0: 94.975672, theta1: -13.256773, theta2: 2.212884, error1: 59.959552\n",
      " theta0: 94.982277, theta1: -13.256695, theta2: 2.210788, error1: 59.954600\n",
      " theta0: 94.988868, theta1: -13.256617, theta2: 2.208695, error1: 59.949668\n",
      " theta0: 94.995446, theta1: -13.256539, theta2: 2.206608, error1: 59.944757\n",
      " theta0: 95.002009, theta1: -13.256462, theta2: 2.204525, error1: 59.939865\n",
      " theta0: 95.008557, theta1: -13.256384, theta2: 2.202446, error1: 59.934994\n",
      " theta0: 95.015092, theta1: -13.256307, theta2: 2.200372, error1: 59.930143\n",
      " theta0: 95.021613, theta1: -13.256230, theta2: 2.198302, error1: 59.925311\n",
      " theta0: 95.028119, theta1: -13.256153, theta2: 2.196237, error1: 59.920499\n",
      " theta0: 95.034612, theta1: -13.256076, theta2: 2.194176, error1: 59.915707\n",
      " theta0: 95.041090, theta1: -13.256000, theta2: 2.192120, error1: 59.910935\n",
      " theta0: 95.047555, theta1: -13.255923, theta2: 2.190068, error1: 59.906182\n",
      " theta0: 95.054005, theta1: -13.255847, theta2: 2.188021, error1: 59.901449\n",
      " theta0: 95.060442, theta1: -13.255771, theta2: 2.185977, error1: 59.896734\n",
      " theta0: 95.066865, theta1: -13.255695, theta2: 2.183939, error1: 59.892040\n",
      " theta0: 95.073274, theta1: -13.255619, theta2: 2.181905, error1: 59.887364\n",
      " theta0: 95.079669, theta1: -13.255543, theta2: 2.179875, error1: 59.882708\n",
      " theta0: 95.086050, theta1: -13.255468, theta2: 2.177849, error1: 59.878070\n",
      " theta0: 95.092418, theta1: -13.255393, theta2: 2.175828, error1: 59.873452\n",
      " theta0: 95.098772, theta1: -13.255318, theta2: 2.173811, error1: 59.868852\n",
      " theta0: 95.105112, theta1: -13.255243, theta2: 2.171799, error1: 59.864271\n",
      " theta0: 95.111439, theta1: -13.255168, theta2: 2.169791, error1: 59.859709\n",
      " theta0: 95.117751, theta1: -13.255093, theta2: 2.167787, error1: 59.855166\n",
      " theta0: 95.124051, theta1: -13.255019, theta2: 2.165788, error1: 59.850641\n",
      " theta0: 95.130336, theta1: -13.254944, theta2: 2.163792, error1: 59.846135\n",
      " theta0: 95.136609, theta1: -13.254870, theta2: 2.161802, error1: 59.841647\n",
      " theta0: 95.142867, theta1: -13.254796, theta2: 2.159815, error1: 59.837177\n",
      " theta0: 95.149112, theta1: -13.254722, theta2: 2.157833, error1: 59.832726\n",
      " theta0: 95.155344, theta1: -13.254649, theta2: 2.155855, error1: 59.828293\n",
      " theta0: 95.161562, theta1: -13.254575, theta2: 2.153881, error1: 59.823877\n",
      " theta0: 95.167767, theta1: -13.254502, theta2: 2.151912, error1: 59.819480\n",
      " theta0: 95.173959, theta1: -13.254428, theta2: 2.149946, error1: 59.815101\n",
      " theta0: 95.180137, theta1: -13.254355, theta2: 2.147985, error1: 59.810740\n",
      " theta0: 95.186301, theta1: -13.254282, theta2: 2.146029, error1: 59.806397\n",
      " theta0: 95.192453, theta1: -13.254210, theta2: 2.144076, error1: 59.802071\n",
      " theta0: 95.198591, theta1: -13.254137, theta2: 2.142128, error1: 59.797763\n",
      " theta0: 95.204716, theta1: -13.254065, theta2: 2.140184, error1: 59.793473\n",
      " theta0: 95.210828, theta1: -13.253992, theta2: 2.138244, error1: 59.789200\n",
      " theta0: 95.216927, theta1: -13.253920, theta2: 2.136308, error1: 59.784944\n",
      " theta0: 95.223012, theta1: -13.253848, theta2: 2.134376, error1: 59.780706\n",
      " theta0: 95.229084, theta1: -13.253777, theta2: 2.132449, error1: 59.776485\n",
      " theta0: 95.235144, theta1: -13.253705, theta2: 2.130526, error1: 59.772282\n",
      " theta0: 95.241190, theta1: -13.253633, theta2: 2.128607, error1: 59.768095\n",
      " theta0: 95.247223, theta1: -13.253562, theta2: 2.126692, error1: 59.763926\n",
      " theta0: 95.253243, theta1: -13.253491, theta2: 2.124781, error1: 59.759774\n",
      " theta0: 95.259251, theta1: -13.253420, theta2: 2.122874, error1: 59.755638\n",
      " theta0: 95.265245, theta1: -13.253349, theta2: 2.120972, error1: 59.751520\n",
      " theta0: 95.271226, theta1: -13.253278, theta2: 2.119073, error1: 59.747418\n",
      " theta0: 95.277195, theta1: -13.253208, theta2: 2.117179, error1: 59.743333\n",
      " theta0: 95.283150, theta1: -13.253137, theta2: 2.115288, error1: 59.739264\n",
      " theta0: 95.289093, theta1: -13.253067, theta2: 2.113402, error1: 59.735213\n",
      " theta0: 95.295023, theta1: -13.252997, theta2: 2.111520, error1: 59.731177\n",
      " theta0: 95.300940, theta1: -13.252927, theta2: 2.109642, error1: 59.727158\n",
      " theta0: 95.306844, theta1: -13.252857, theta2: 2.107768, error1: 59.723156\n",
      " theta0: 95.312736, theta1: -13.252787, theta2: 2.105897, error1: 59.719170\n",
      " theta0: 95.318615, theta1: -13.252718, theta2: 2.104031, error1: 59.715200\n",
      " theta0: 95.324481, theta1: -13.252649, theta2: 2.102169, error1: 59.711246\n",
      " theta0: 95.330335, theta1: -13.252579, theta2: 2.100311, error1: 59.707308\n",
      " theta0: 95.336176, theta1: -13.252510, theta2: 2.098457, error1: 59.703386\n",
      " theta0: 95.342004, theta1: -13.252441, theta2: 2.096608, error1: 59.699481\n",
      " theta0: 95.347820, theta1: -13.252373, theta2: 2.094762, error1: 59.695591\n",
      " theta0: 95.353623, theta1: -13.252304, theta2: 2.092920, error1: 59.691717\n",
      " theta0: 95.359414, theta1: -13.252235, theta2: 2.091081, error1: 59.687859\n",
      " theta0: 95.365192, theta1: -13.252167, theta2: 2.089247, error1: 59.684016\n",
      " theta0: 95.370958, theta1: -13.252099, theta2: 2.087417, error1: 59.680189\n",
      " theta0: 95.376712, theta1: -13.252031, theta2: 2.085591, error1: 59.676378\n",
      " theta0: 95.382453, theta1: -13.251963, theta2: 2.083769, error1: 59.672582\n",
      " theta0: 95.388181, theta1: -13.251895, theta2: 2.081950, error1: 59.668802\n",
      " theta0: 95.393898, theta1: -13.251828, theta2: 2.080136, error1: 59.665037\n",
      " theta0: 95.399602, theta1: -13.251760, theta2: 2.078326, error1: 59.661287\n",
      " theta0: 95.405293, theta1: -13.251693, theta2: 2.076519, error1: 59.657553\n",
      " theta0: 95.410973, theta1: -13.251626, theta2: 2.074716, error1: 59.653834\n",
      " theta0: 95.416640, theta1: -13.251559, theta2: 2.072918, error1: 59.650129\n",
      " theta0: 95.422295, theta1: -13.251492, theta2: 2.071123, error1: 59.646440\n",
      " theta0: 95.427938, theta1: -13.251425, theta2: 2.069332, error1: 59.642766\n",
      " theta0: 95.433568, theta1: -13.251359, theta2: 2.067544, error1: 59.639107\n",
      " theta0: 95.439187, theta1: -13.251292, theta2: 2.065761, error1: 59.635463\n",
      " theta0: 95.444793, theta1: -13.251226, theta2: 2.063982, error1: 59.631833\n",
      " theta0: 95.450387, theta1: -13.251160, theta2: 2.062206, error1: 59.628219\n",
      " theta0: 95.455970, theta1: -13.251094, theta2: 2.060434, error1: 59.624619\n",
      " theta0: 95.461540, theta1: -13.251028, theta2: 2.058666, error1: 59.621033\n",
      " theta0: 95.467098, theta1: -13.250962, theta2: 2.056902, error1: 59.617462\n",
      " theta0: 95.472644, theta1: -13.250896, theta2: 2.055141, error1: 59.613906\n",
      " theta0: 95.478178, theta1: -13.250831, theta2: 2.053385, error1: 59.610364\n",
      " theta0: 95.483701, theta1: -13.250766, theta2: 2.051632, error1: 59.606837\n",
      " theta0: 95.489211, theta1: -13.250701, theta2: 2.049883, error1: 59.603323\n",
      " theta0: 95.494709, theta1: -13.250636, theta2: 2.048138, error1: 59.599824\n",
      " theta0: 95.500196, theta1: -13.250571, theta2: 2.046396, error1: 59.596340\n",
      " theta0: 95.505671, theta1: -13.250506, theta2: 2.044658, error1: 59.592869\n",
      " theta0: 95.511134, theta1: -13.250441, theta2: 2.042924, error1: 59.589413\n",
      " theta0: 95.516585, theta1: -13.250377, theta2: 2.041194, error1: 59.585970\n",
      " theta0: 95.522025, theta1: -13.250313, theta2: 2.039468, error1: 59.582541\n",
      " theta0: 95.527453, theta1: -13.250248, theta2: 2.037745, error1: 59.579127\n",
      " theta0: 95.532869, theta1: -13.250184, theta2: 2.036026, error1: 59.575726\n",
      " theta0: 95.538273, theta1: -13.250120, theta2: 2.034310, error1: 59.572339\n",
      " theta0: 95.543666, theta1: -13.250057, theta2: 2.032599, error1: 59.568966\n",
      " theta0: 95.549047, theta1: -13.249993, theta2: 2.030891, error1: 59.565606\n",
      " theta0: 95.554416, theta1: -13.249930, theta2: 2.029186, error1: 59.562260\n",
      " theta0: 95.559774, theta1: -13.249866, theta2: 2.027486, error1: 59.558928\n",
      " theta0: 95.565121, theta1: -13.249803, theta2: 2.025789, error1: 59.555609\n"
     ]
    },
    {
     "name": "stdout",
     "output_type": "stream",
     "text": [
      " theta0: 95.570456, theta1: -13.249740, theta2: 2.024095, error1: 59.552303\n",
      " theta0: 95.575779, theta1: -13.249677, theta2: 2.022406, error1: 59.549011\n",
      " theta0: 95.581091, theta1: -13.249614, theta2: 2.020720, error1: 59.545733\n",
      " theta0: 95.586391, theta1: -13.249551, theta2: 2.019037, error1: 59.542467\n",
      " theta0: 95.591680, theta1: -13.249489, theta2: 2.017358, error1: 59.539215\n",
      " theta0: 95.596958, theta1: -13.249426, theta2: 2.015683, error1: 59.535976\n",
      " theta0: 95.602224, theta1: -13.249364, theta2: 2.014012, error1: 59.532750\n",
      " theta0: 95.607479, theta1: -13.249302, theta2: 2.012344, error1: 59.529537\n",
      " theta0: 95.612723, theta1: -13.249240, theta2: 2.010679, error1: 59.526337\n",
      " theta0: 95.617955, theta1: -13.249178, theta2: 2.009019, error1: 59.523150\n",
      " theta0: 95.623176, theta1: -13.249116, theta2: 2.007361, error1: 59.519976\n",
      " theta0: 95.628386, theta1: -13.249055, theta2: 2.005708, error1: 59.516815\n",
      " theta0: 95.633584, theta1: -13.248993, theta2: 2.004058, error1: 59.513667\n",
      " theta0: 95.638771, theta1: -13.248932, theta2: 2.002411, error1: 59.510531\n",
      " theta0: 95.643947, theta1: -13.248871, theta2: 2.000768, error1: 59.507408\n",
      " theta0: 95.649112, theta1: -13.248810, theta2: 1.999129, error1: 59.504298\n",
      " theta0: 95.654266, theta1: -13.248749, theta2: 1.997493, error1: 59.501200\n",
      " theta0: 95.659409, theta1: -13.248688, theta2: 1.995861, error1: 59.498115\n",
      " theta0: 95.664540, theta1: -13.248627, theta2: 1.994232, error1: 59.495042\n",
      " theta0: 95.669661, theta1: -13.248567, theta2: 1.992607, error1: 59.491982\n",
      " theta0: 95.674770, theta1: -13.248506, theta2: 1.990985, error1: 59.488934\n",
      " theta0: 95.679869, theta1: -13.248446, theta2: 1.989367, error1: 59.485898\n",
      " theta0: 95.684956, theta1: -13.248386, theta2: 1.987752, error1: 59.482875\n",
      " theta0: 95.690033, theta1: -13.248326, theta2: 1.986140, error1: 59.479863\n",
      " theta0: 95.695099, theta1: -13.248266, theta2: 1.984533, error1: 59.476864\n",
      " theta0: 95.700153, theta1: -13.248206, theta2: 1.982928, error1: 59.473877\n",
      " theta0: 95.705197, theta1: -13.248147, theta2: 1.981327, error1: 59.470903\n",
      " theta0: 95.710230, theta1: -13.248087, theta2: 1.979730, error1: 59.467940\n",
      " theta0: 95.715252, theta1: -13.248028, theta2: 1.978136, error1: 59.464989\n",
      " theta0: 95.720263, theta1: -13.247968, theta2: 1.976545, error1: 59.462050\n",
      " theta0: 95.725264, theta1: -13.247909, theta2: 1.974958, error1: 59.459123\n",
      " theta0: 95.730253, theta1: -13.247850, theta2: 1.973374, error1: 59.456208\n",
      " theta0: 95.735232, theta1: -13.247791, theta2: 1.971794, error1: 59.453304\n",
      " theta0: 95.740200, theta1: -13.247733, theta2: 1.970217, error1: 59.450413\n",
      " theta0: 95.745158, theta1: -13.247674, theta2: 1.968643, error1: 59.447532\n",
      " theta0: 95.750105, theta1: -13.247616, theta2: 1.967073, error1: 59.444664\n",
      " theta0: 95.755041, theta1: -13.247557, theta2: 1.965507, error1: 59.441807\n",
      " theta0: 95.759966, theta1: -13.247499, theta2: 1.963943, error1: 59.438962\n",
      " theta0: 95.764881, theta1: -13.247441, theta2: 1.962383, error1: 59.436128\n",
      " theta0: 95.769785, theta1: -13.247383, theta2: 1.960827, error1: 59.433305\n",
      " theta0: 95.774679, theta1: -13.247325, theta2: 1.959273, error1: 59.430494\n",
      " theta0: 95.779562, theta1: -13.247267, theta2: 1.957723, error1: 59.427694\n",
      " theta0: 95.784435, theta1: -13.247210, theta2: 1.956177, error1: 59.424906\n",
      " theta0: 95.789297, theta1: -13.247152, theta2: 1.954633, error1: 59.422129\n",
      " theta0: 95.794148, theta1: -13.247095, theta2: 1.953093, error1: 59.419363\n",
      " theta0: 95.798989, theta1: -13.247037, theta2: 1.951557, error1: 59.416608\n",
      " theta0: 95.803820, theta1: -13.246980, theta2: 1.950024, error1: 59.413864\n",
      " theta0: 95.808640, theta1: -13.246923, theta2: 1.948494, error1: 59.411131\n",
      " theta0: 95.813450, theta1: -13.246866, theta2: 1.946967, error1: 59.408409\n",
      " theta0: 95.818250, theta1: -13.246810, theta2: 1.945443, error1: 59.405699\n",
      " theta0: 95.823039, theta1: -13.246753, theta2: 1.943923, error1: 59.402999\n",
      " theta0: 95.827818, theta1: -13.246697, theta2: 1.942406, error1: 59.400310\n",
      " theta0: 95.832586, theta1: -13.246640, theta2: 1.940893, error1: 59.397632\n",
      " theta0: 95.837345, theta1: -13.246584, theta2: 1.939383, error1: 59.394964\n",
      " theta0: 95.842093, theta1: -13.246528, theta2: 1.937876, error1: 59.392308\n",
      " theta0: 95.846831, theta1: -13.246472, theta2: 1.936372, error1: 59.389662\n",
      " theta0: 95.851558, theta1: -13.246416, theta2: 1.934871, error1: 59.387026\n",
      " theta0: 95.856276, theta1: -13.246360, theta2: 1.933374, error1: 59.384402\n",
      " theta0: 95.860983, theta1: -13.246304, theta2: 1.931880, error1: 59.381787\n",
      " theta0: 95.865680, theta1: -13.246249, theta2: 1.930389, error1: 59.379184\n",
      " theta0: 95.870367, theta1: -13.246193, theta2: 1.928901, error1: 59.376591\n",
      " theta0: 95.875044, theta1: -13.246138, theta2: 1.927417, error1: 59.374008\n",
      " theta0: 95.879710, theta1: -13.246083, theta2: 1.925935, error1: 59.371436\n",
      " theta0: 95.884367, theta1: -13.246028, theta2: 1.924457, error1: 59.368874\n",
      " theta0: 95.889014, theta1: -13.245973, theta2: 1.922982, error1: 59.366322\n",
      " theta0: 95.893650, theta1: -13.245918, theta2: 1.921511, error1: 59.363780\n",
      " theta0: 95.898277, theta1: -13.245863, theta2: 1.920042, error1: 59.361249\n",
      " theta0: 95.902894, theta1: -13.245809, theta2: 1.918577, error1: 59.358728\n",
      " theta0: 95.907500, theta1: -13.245754, theta2: 1.917115, error1: 59.356217\n",
      " theta0: 95.912097, theta1: -13.245700, theta2: 1.915656, error1: 59.353716\n",
      " theta0: 95.916684, theta1: -13.245646, theta2: 1.914200, error1: 59.351225\n",
      " theta0: 95.921261, theta1: -13.245592, theta2: 1.912747, error1: 59.348745\n",
      " theta0: 95.925828, theta1: -13.245538, theta2: 1.911297, error1: 59.346274\n",
      " theta0: 95.930385, theta1: -13.245484, theta2: 1.909851, error1: 59.343813\n",
      " theta0: 95.934933, theta1: -13.245430, theta2: 1.908407, error1: 59.341362\n",
      " theta0: 95.939471, theta1: -13.245376, theta2: 1.906967, error1: 59.338920\n",
      " theta0: 95.943998, theta1: -13.245323, theta2: 1.905530, error1: 59.336489\n",
      " theta0: 95.948517, theta1: -13.245269, theta2: 1.904096, error1: 59.334067\n",
      " theta0: 95.953025, theta1: -13.245216, theta2: 1.902665, error1: 59.331655\n",
      " theta0: 95.957524, theta1: -13.245163, theta2: 1.901237, error1: 59.329253\n",
      " theta0: 95.962013, theta1: -13.245110, theta2: 1.899812, error1: 59.326860\n",
      " theta0: 95.966492, theta1: -13.245057, theta2: 1.898390, error1: 59.324477\n",
      " theta0: 95.970961, theta1: -13.245004, theta2: 1.896972, error1: 59.322104\n",
      " theta0: 95.975421, theta1: -13.244951, theta2: 1.895556, error1: 59.319740\n",
      " theta0: 95.979872, theta1: -13.244899, theta2: 1.894143, error1: 59.317385\n",
      " theta0: 95.984313, theta1: -13.244846, theta2: 1.892734, error1: 59.315040\n",
      " theta0: 95.988744, theta1: -13.244794, theta2: 1.891327, error1: 59.312705\n",
      " theta0: 95.993165, theta1: -13.244741, theta2: 1.889924, error1: 59.310378\n",
      " theta0: 95.997578, theta1: -13.244689, theta2: 1.888523, error1: 59.308061\n",
      " theta0: 96.001980, theta1: -13.244637, theta2: 1.887126, error1: 59.305754\n",
      " theta0: 96.006373, theta1: -13.244585, theta2: 1.885732, error1: 59.303455\n",
      " theta0: 96.010757, theta1: -13.244533, theta2: 1.884340, error1: 59.301166\n",
      " theta0: 96.015131, theta1: -13.244482, theta2: 1.882952, error1: 59.298886\n",
      " theta0: 96.019496, theta1: -13.244430, theta2: 1.881566, error1: 59.296615\n",
      " theta0: 96.023851, theta1: -13.244378, theta2: 1.880184, error1: 59.294353\n",
      " theta0: 96.028197, theta1: -13.244327, theta2: 1.878805, error1: 59.292100\n",
      " theta0: 96.032534, theta1: -13.244276, theta2: 1.877428, error1: 59.289856\n",
      " theta0: 96.036861, theta1: -13.244225, theta2: 1.876055, error1: 59.287621\n",
      " theta0: 96.041179, theta1: -13.244174, theta2: 1.874684, error1: 59.285395\n",
      " theta0: 96.045488, theta1: -13.244123, theta2: 1.873316, error1: 59.283178\n",
      " theta0: 96.049787, theta1: -13.244072, theta2: 1.871952, error1: 59.280970\n",
      " theta0: 96.054077, theta1: -13.244021, theta2: 1.870590, error1: 59.278771\n",
      " theta0: 96.058358, theta1: -13.243970, theta2: 1.869231, error1: 59.276580\n",
      " theta0: 96.062629, theta1: -13.243920, theta2: 1.867876, error1: 59.274399\n",
      " theta0: 96.066892, theta1: -13.243870, theta2: 1.866523, error1: 59.272226\n",
      " theta0: 96.071145, theta1: -13.243819, theta2: 1.865173, error1: 59.270061\n",
      " theta0: 96.075389, theta1: -13.243769, theta2: 1.863826, error1: 59.267906\n",
      " theta0: 96.079624, theta1: -13.243719, theta2: 1.862481, error1: 59.265759\n",
      " theta0: 96.083850, theta1: -13.243669, theta2: 1.861140, error1: 59.263620\n",
      " theta0: 96.088066, theta1: -13.243619, theta2: 1.859802, error1: 59.261490\n",
      " theta0: 96.092274, theta1: -13.243569, theta2: 1.858466, error1: 59.259369\n",
      " theta0: 96.096472, theta1: -13.243520, theta2: 1.857134, error1: 59.257256\n",
      " theta0: 96.100662, theta1: -13.243470, theta2: 1.855804, error1: 59.255151\n",
      " theta0: 96.104842, theta1: -13.243421, theta2: 1.854477, error1: 59.253055\n",
      " theta0: 96.109013, theta1: -13.243371, theta2: 1.853153, error1: 59.250967\n",
      " theta0: 96.113176, theta1: -13.243322, theta2: 1.851832, error1: 59.248888\n",
      " theta0: 96.117329, theta1: -13.243273, theta2: 1.850513, error1: 59.246817\n",
      " theta0: 96.121474, theta1: -13.243224, theta2: 1.849198, error1: 59.244754\n",
      " theta0: 96.125609, theta1: -13.243175, theta2: 1.847885, error1: 59.242699\n",
      " theta0: 96.129736, theta1: -13.243126, theta2: 1.846575, error1: 59.240653\n",
      " theta0: 96.133853, theta1: -13.243078, theta2: 1.845268, error1: 59.238614\n",
      " theta0: 96.137962, theta1: -13.243029, theta2: 1.843964, error1: 59.236584\n",
      " theta0: 96.142062, theta1: -13.242981, theta2: 1.842663, error1: 59.234562\n",
      " theta0: 96.146153, theta1: -13.242932, theta2: 1.841364, error1: 59.232548\n",
      " theta0: 96.150236, theta1: -13.242884, theta2: 1.840069, error1: 59.230542\n",
      " theta0: 96.154309, theta1: -13.242836, theta2: 1.838776, error1: 59.228544\n",
      " theta0: 96.158374, theta1: -13.242788, theta2: 1.837485, error1: 59.226554\n",
      " theta0: 96.162430, theta1: -13.242740, theta2: 1.836198, error1: 59.224572\n",
      " theta0: 96.166477, theta1: -13.242692, theta2: 1.834913, error1: 59.222598\n",
      " theta0: 96.170516, theta1: -13.242644, theta2: 1.833632, error1: 59.220631\n",
      " theta0: 96.174545, theta1: -13.242597, theta2: 1.832353, error1: 59.218673\n",
      " theta0: 96.178567, theta1: -13.242549, theta2: 1.831076, error1: 59.216722\n",
      " theta0: 96.182579, theta1: -13.242502, theta2: 1.829803, error1: 59.214779\n",
      " theta0: 96.186583, theta1: -13.242454, theta2: 1.828532, error1: 59.212844\n",
      " theta0: 96.190578, theta1: -13.242407, theta2: 1.827264, error1: 59.210916\n",
      " theta0: 96.194564, theta1: -13.242360, theta2: 1.825998, error1: 59.208996\n",
      " theta0: 96.198542, theta1: -13.242313, theta2: 1.824736, error1: 59.207084\n",
      " theta0: 96.202512, theta1: -13.242266, theta2: 1.823476, error1: 59.205180\n",
      " theta0: 96.206473, theta1: -13.242219, theta2: 1.822219, error1: 59.203282\n",
      " theta0: 96.210425, theta1: -13.242172, theta2: 1.820964, error1: 59.201393\n",
      " theta0: 96.214369, theta1: -13.242126, theta2: 1.819712, error1: 59.199511\n",
      " theta0: 96.218304, theta1: -13.242079, theta2: 1.818463, error1: 59.197636\n",
      " theta0: 96.222231, theta1: -13.242033, theta2: 1.817217, error1: 59.195769\n",
      " theta0: 96.226149, theta1: -13.241986, theta2: 1.815973, error1: 59.193910\n",
      " theta0: 96.230059, theta1: -13.241940, theta2: 1.814732, error1: 59.192058\n",
      " theta0: 96.233960, theta1: -13.241894, theta2: 1.813494, error1: 59.190213\n",
      " theta0: 96.237853, theta1: -13.241848, theta2: 1.812258, error1: 59.188375\n",
      " theta0: 96.241738, theta1: -13.241802, theta2: 1.811025, error1: 59.186545\n",
      " theta0: 96.245614, theta1: -13.241756, theta2: 1.809795, error1: 59.184722\n",
      " theta0: 96.249482, theta1: -13.241710, theta2: 1.808567, error1: 59.182906\n",
      " theta0: 96.253342, theta1: -13.241665, theta2: 1.807342, error1: 59.181098\n",
      " theta0: 96.257193, theta1: -13.241619, theta2: 1.806120, error1: 59.179296\n",
      " theta0: 96.261036, theta1: -13.241574, theta2: 1.804900, error1: 59.177502\n",
      " theta0: 96.264871, theta1: -13.241528, theta2: 1.803683, error1: 59.175715\n",
      " theta0: 96.268697, theta1: -13.241483, theta2: 1.802468, error1: 59.173935\n",
      " theta0: 96.272515, theta1: -13.241438, theta2: 1.801256, error1: 59.172162\n",
      " theta0: 96.276325, theta1: -13.241393, theta2: 1.800047, error1: 59.170396\n",
      " theta0: 96.280127, theta1: -13.241348, theta2: 1.798840, error1: 59.168637\n",
      " theta0: 96.283920, theta1: -13.241303, theta2: 1.797636, error1: 59.166885\n",
      " theta0: 96.287706, theta1: -13.241258, theta2: 1.796435, error1: 59.165140\n",
      " theta0: 96.291483, theta1: -13.241214, theta2: 1.795236, error1: 59.163402\n",
      " theta0: 96.295252, theta1: -13.241169, theta2: 1.794039, error1: 59.161671\n",
      " theta0: 96.299013, theta1: -13.241125, theta2: 1.792846, error1: 59.159947\n",
      " theta0: 96.302765, theta1: -13.241080, theta2: 1.791654, error1: 59.158229\n",
      " theta0: 96.306510, theta1: -13.241036, theta2: 1.790466, error1: 59.156518\n",
      " theta0: 96.310247, theta1: -13.240992, theta2: 1.789280, error1: 59.154815\n",
      " theta0: 96.313975, theta1: -13.240948, theta2: 1.788096, error1: 59.153117\n",
      " theta0: 96.317696, theta1: -13.240904, theta2: 1.786915, error1: 59.151427\n",
      " theta0: 96.321408, theta1: -13.240860, theta2: 1.785737, error1: 59.149743\n",
      " theta0: 96.325113, theta1: -13.240816, theta2: 1.784561, error1: 59.148066\n",
      " theta0: 96.328809, theta1: -13.240772, theta2: 1.783388, error1: 59.146396\n",
      " theta0: 96.332498, theta1: -13.240729, theta2: 1.782217, error1: 59.144732\n",
      " theta0: 96.336179, theta1: -13.240685, theta2: 1.781049, error1: 59.143075\n",
      " theta0: 96.339851, theta1: -13.240642, theta2: 1.779883, error1: 59.141424\n",
      " theta0: 96.343516, theta1: -13.240598, theta2: 1.778720, error1: 59.139780\n",
      " theta0: 96.347173, theta1: -13.240555, theta2: 1.777559, error1: 59.138142\n",
      " theta0: 96.350822, theta1: -13.240512, theta2: 1.776401, error1: 59.136511\n",
      " theta0: 96.354463, theta1: -13.240469, theta2: 1.775245, error1: 59.134886\n",
      " theta0: 96.358096, theta1: -13.240426, theta2: 1.774092, error1: 59.133268\n",
      " theta0: 96.361722, theta1: -13.240383, theta2: 1.772941, error1: 59.131656\n",
      " theta0: 96.365339, theta1: -13.240340, theta2: 1.771793, error1: 59.130050\n",
      " theta0: 96.368949, theta1: -13.240298, theta2: 1.770647, error1: 59.128451\n",
      " theta0: 96.372551, theta1: -13.240255, theta2: 1.769504, error1: 59.126858\n",
      " theta0: 96.376145, theta1: -13.240213, theta2: 1.768363, error1: 59.125271\n",
      " theta0: 96.379732, theta1: -13.240170, theta2: 1.767225, error1: 59.123691\n",
      " theta0: 96.383311, theta1: -13.240128, theta2: 1.766089, error1: 59.122117\n",
      " theta0: 96.386882, theta1: -13.240086, theta2: 1.764955, error1: 59.120549\n",
      " theta0: 96.390445, theta1: -13.240044, theta2: 1.763824, error1: 59.118987\n",
      " theta0: 96.394001, theta1: -13.240001, theta2: 1.762696, error1: 59.117432\n",
      " theta0: 96.397549, theta1: -13.239960, theta2: 1.761570, error1: 59.115882\n",
      " theta0: 96.401089, theta1: -13.239918, theta2: 1.760446, error1: 59.114339\n",
      " theta0: 96.404622, theta1: -13.239876, theta2: 1.759324, error1: 59.112802\n",
      " theta0: 96.408147, theta1: -13.239834, theta2: 1.758206, error1: 59.111271\n",
      " theta0: 96.411665, theta1: -13.239793, theta2: 1.757089, error1: 59.109746\n",
      " theta0: 96.415175, theta1: -13.239751, theta2: 1.755975, error1: 59.108226\n",
      " theta0: 96.418677, theta1: -13.239710, theta2: 1.754863, error1: 59.106713\n",
      " theta0: 96.422172, theta1: -13.239668, theta2: 1.753754, error1: 59.105206\n",
      " theta0: 96.425659, theta1: -13.239627, theta2: 1.752647, error1: 59.103705\n",
      " theta0: 96.429139, theta1: -13.239586, theta2: 1.751543, error1: 59.102210\n",
      " theta0: 96.432611, theta1: -13.239545, theta2: 1.750440, error1: 59.100720\n",
      " theta0: 96.436076, theta1: -13.239504, theta2: 1.749341, error1: 59.099237\n",
      " theta0: 96.439533, theta1: -13.239463, theta2: 1.748243, error1: 59.097759\n",
      " theta0: 96.442983, theta1: -13.239422, theta2: 1.747148, error1: 59.096287\n",
      " theta0: 96.446426, theta1: -13.239382, theta2: 1.746056, error1: 59.094821\n",
      " theta0: 96.449861, theta1: -13.239341, theta2: 1.744965, error1: 59.093361\n",
      " theta0: 96.453288, theta1: -13.239300, theta2: 1.743877, error1: 59.091906\n",
      " theta0: 96.456708, theta1: -13.239260, theta2: 1.742792, error1: 59.090457\n",
      " theta0: 96.460121, theta1: -13.239220, theta2: 1.741709, error1: 59.089014\n",
      " theta0: 96.463527, theta1: -13.239179, theta2: 1.740628, error1: 59.087577\n",
      " theta0: 96.466925, theta1: -13.239139, theta2: 1.739549, error1: 59.086145\n",
      " theta0: 96.470316, theta1: -13.239099, theta2: 1.738473, error1: 59.084719\n",
      " theta0: 96.473699, theta1: -13.239059, theta2: 1.737399, error1: 59.083298\n",
      " theta0: 96.477075, theta1: -13.239019, theta2: 1.736327, error1: 59.081883\n",
      " theta0: 96.480444, theta1: -13.238979, theta2: 1.735258, error1: 59.080474\n",
      " theta0: 96.483806, theta1: -13.238940, theta2: 1.734191, error1: 59.079070\n",
      " theta0: 96.487160, theta1: -13.238900, theta2: 1.733126, error1: 59.077671\n",
      " theta0: 96.490508, theta1: -13.238860, theta2: 1.732064, error1: 59.076278\n",
      " theta0: 96.493848, theta1: -13.238821, theta2: 1.731004, error1: 59.074891\n",
      " theta0: 96.497180, theta1: -13.238781, theta2: 1.729946, error1: 59.073509\n",
      " theta0: 96.500506, theta1: -13.238742, theta2: 1.728890, error1: 59.072132\n",
      " theta0: 96.503824, theta1: -13.238703, theta2: 1.727837, error1: 59.070761\n",
      " theta0: 96.507136, theta1: -13.238664, theta2: 1.726786, error1: 59.069395\n",
      " theta0: 96.510440, theta1: -13.238625, theta2: 1.725737, error1: 59.068035\n",
      " theta0: 96.513737, theta1: -13.238586, theta2: 1.724691, error1: 59.066680\n",
      " theta0: 96.517027, theta1: -13.238547, theta2: 1.723646, error1: 59.065330\n",
      " theta0: 96.520310, theta1: -13.238508, theta2: 1.722604, error1: 59.063986\n",
      " theta0: 96.523585, theta1: -13.238469, theta2: 1.721565, error1: 59.062646\n",
      " theta0: 96.526854, theta1: -13.238430, theta2: 1.720527, error1: 59.061313\n",
      " theta0: 96.530116, theta1: -13.238392, theta2: 1.719492, error1: 59.059984\n",
      " theta0: 96.533370, theta1: -13.238353, theta2: 1.718459, error1: 59.058660\n",
      " theta0: 96.536618, theta1: -13.238315, theta2: 1.717428, error1: 59.057342\n",
      " theta0: 96.539858, theta1: -13.238277, theta2: 1.716399, error1: 59.056029\n",
      " theta0: 96.543092, theta1: -13.238238, theta2: 1.715373, error1: 59.054721\n",
      " theta0: 96.546319, theta1: -13.238200, theta2: 1.714349, error1: 59.053418\n",
      " theta0: 96.549538, theta1: -13.238162, theta2: 1.713327, error1: 59.052120\n",
      " theta0: 96.552751, theta1: -13.238124, theta2: 1.712307, error1: 59.050827\n",
      " theta0: 96.555957, theta1: -13.238086, theta2: 1.711290, error1: 59.049540\n",
      " theta0: 96.559156, theta1: -13.238049, theta2: 1.710274, error1: 59.048257\n",
      " theta0: 96.562348, theta1: -13.238011, theta2: 1.709261, error1: 59.046979\n",
      " theta0: 96.565533, theta1: -13.237973, theta2: 1.708250, error1: 59.045707\n",
      " theta0: 96.568711, theta1: -13.237936, theta2: 1.707241, error1: 59.044439\n",
      " theta0: 96.571882, theta1: -13.237898, theta2: 1.706235, error1: 59.043176\n",
      " theta0: 96.575047, theta1: -13.237861, theta2: 1.705230, error1: 59.041919\n",
      " theta0: 96.578205, theta1: -13.237823, theta2: 1.704228, error1: 59.040666\n",
      " theta0: 96.581356, theta1: -13.237786, theta2: 1.703228, error1: 59.039418\n",
      " theta0: 96.584500, theta1: -13.237749, theta2: 1.702230, error1: 59.038175\n",
      " theta0: 96.587637, theta1: -13.237712, theta2: 1.701234, error1: 59.036937\n",
      " theta0: 96.590768, theta1: -13.237675, theta2: 1.700240, error1: 59.035703\n",
      " theta0: 96.593892, theta1: -13.237638, theta2: 1.699249, error1: 59.034475\n",
      " theta0: 96.597009, theta1: -13.237601, theta2: 1.698259, error1: 59.033251\n",
      " theta0: 96.600119, theta1: -13.237564, theta2: 1.697272, error1: 59.032032\n",
      " theta0: 96.603223, theta1: -13.237527, theta2: 1.696287, error1: 59.030818\n",
      " theta0: 96.606320, theta1: -13.237491, theta2: 1.695304, error1: 59.029608\n",
      " theta0: 96.609410, theta1: -13.237454, theta2: 1.694323, error1: 59.028404\n",
      " theta0: 96.612494, theta1: -13.237418, theta2: 1.693344, error1: 59.027204\n",
      " theta0: 96.615571, theta1: -13.237381, theta2: 1.692368, error1: 59.026008\n",
      " theta0: 96.618641, theta1: -13.237345, theta2: 1.691393, error1: 59.024817\n",
      " theta0: 96.621705, theta1: -13.237309, theta2: 1.690421, error1: 59.023631\n",
      " theta0: 96.624762, theta1: -13.237273, theta2: 1.689450, error1: 59.022450\n",
      " theta0: 96.627813, theta1: -13.237237, theta2: 1.688482, error1: 59.021273\n",
      " theta0: 96.630857, theta1: -13.237201, theta2: 1.687516, error1: 59.020101\n",
      " theta0: 96.633894, theta1: -13.237165, theta2: 1.686552, error1: 59.018933\n",
      " theta0: 96.636925, theta1: -13.237129, theta2: 1.685590, error1: 59.017770\n",
      " theta0: 96.639949, theta1: -13.237093, theta2: 1.684630, error1: 59.016611\n",
      " theta0: 96.642967, theta1: -13.237057, theta2: 1.683672, error1: 59.015457\n",
      " theta0: 96.645978, theta1: -13.237022, theta2: 1.682716, error1: 59.014308\n",
      " theta0: 96.648983, theta1: -13.236986, theta2: 1.681762, error1: 59.013163\n",
      " theta0: 96.651981, theta1: -13.236951, theta2: 1.680811, error1: 59.012022\n",
      " theta0: 96.654973, theta1: -13.236915, theta2: 1.679861, error1: 59.010886\n",
      " theta0: 96.657959, theta1: -13.236880, theta2: 1.678913, error1: 59.009754\n",
      " theta0: 96.660938, theta1: -13.236845, theta2: 1.677968, error1: 59.008626\n",
      " theta0: 96.663910, theta1: -13.236810, theta2: 1.677024, error1: 59.007503\n",
      " theta0: 96.666877, theta1: -13.236775, theta2: 1.676083, error1: 59.006385\n",
      " theta0: 96.669836, theta1: -13.236740, theta2: 1.675143, error1: 59.005270\n",
      " theta0: 96.672790, theta1: -13.236705, theta2: 1.674206, error1: 59.004161\n",
      " theta0: 96.675737, theta1: -13.236670, theta2: 1.673271, error1: 59.003055\n",
      " theta0: 96.678677, theta1: -13.236635, theta2: 1.672337, error1: 59.001953\n",
      " theta0: 96.681612, theta1: -13.236600, theta2: 1.671406, error1: 59.000856\n",
      " theta0: 96.684540, theta1: -13.236566, theta2: 1.670476, error1: 58.999764\n",
      " theta0: 96.687461, theta1: -13.236531, theta2: 1.669549, error1: 58.998675\n",
      " theta0: 96.690377, theta1: -13.236497, theta2: 1.668624, error1: 58.997591\n",
      " theta0: 96.693286, theta1: -13.236462, theta2: 1.667700, error1: 58.996510\n",
      " theta0: 96.696189, theta1: -13.236428, theta2: 1.666779, error1: 58.995434\n",
      " theta0: 96.699085, theta1: -13.236394, theta2: 1.665859, error1: 58.994363\n",
      " theta0: 96.701976, theta1: -13.236360, theta2: 1.664942, error1: 58.993295\n",
      " theta0: 96.704860, theta1: -13.236326, theta2: 1.664027, error1: 58.992232\n",
      " theta0: 96.707738, theta1: -13.236292, theta2: 1.663113, error1: 58.991172\n",
      " theta0: 96.710609, theta1: -13.236258, theta2: 1.662202, error1: 58.990117\n",
      " theta0: 96.713475, theta1: -13.236224, theta2: 1.661292, error1: 58.989066\n",
      " theta0: 96.716334, theta1: -13.236190, theta2: 1.660385, error1: 58.988019\n",
      " theta0: 96.719187, theta1: -13.236156, theta2: 1.659479, error1: 58.986976\n",
      " theta0: 96.722034, theta1: -13.236122, theta2: 1.658575, error1: 58.985937\n",
      " theta0: 96.724875, theta1: -13.236089, theta2: 1.657674, error1: 58.984902\n",
      " theta0: 96.727710, theta1: -13.236055, theta2: 1.656774, error1: 58.983871\n",
      " theta0: 96.730539, theta1: -13.236022, theta2: 1.655876, error1: 58.982844\n",
      " theta0: 96.733361, theta1: -13.235989, theta2: 1.654980, error1: 58.981821\n",
      " theta0: 96.736178, theta1: -13.235955, theta2: 1.654086, error1: 58.980802\n",
      " theta0: 96.738988, theta1: -13.235922, theta2: 1.653194, error1: 58.979787\n",
      " theta0: 96.741792, theta1: -13.235889, theta2: 1.652304, error1: 58.978775\n",
      " theta0: 96.744591, theta1: -13.235856, theta2: 1.651416, error1: 58.977768\n",
      " theta0: 96.747383, theta1: -13.235823, theta2: 1.650530, error1: 58.976765\n",
      " theta0: 96.750169, theta1: -13.235790, theta2: 1.649645, error1: 58.975765\n",
      " theta0: 96.752949, theta1: -13.235757, theta2: 1.648763, error1: 58.974770\n",
      " theta0: 96.755724, theta1: -13.235724, theta2: 1.647882, error1: 58.973778\n",
      " theta0: 96.758492, theta1: -13.235691, theta2: 1.647003, error1: 58.972790\n",
      " theta0: 96.761254, theta1: -13.235659, theta2: 1.646127, error1: 58.971806\n",
      " theta0: 96.764010, theta1: -13.235626, theta2: 1.645252, error1: 58.970826\n",
      " theta0: 96.766761, theta1: -13.235594, theta2: 1.644379, error1: 58.969849\n",
      " theta0: 96.769505, theta1: -13.235561, theta2: 1.643508, error1: 58.968876\n",
      " theta0: 96.772244, theta1: -13.235529, theta2: 1.642638, error1: 58.967907\n",
      " theta0: 96.774976, theta1: -13.235496, theta2: 1.641771, error1: 58.966942\n",
      " theta0: 96.777703, theta1: -13.235464, theta2: 1.640906, error1: 58.965981\n",
      " theta0: 96.780424, theta1: -13.235432, theta2: 1.640042, error1: 58.965023\n",
      " theta0: 96.783139, theta1: -13.235400, theta2: 1.639180, error1: 58.964069\n",
      " theta0: 96.785848, theta1: -13.235368, theta2: 1.638320, error1: 58.963118\n",
      " theta0: 96.788551, theta1: -13.235336, theta2: 1.637462, error1: 58.962171\n",
      " theta0: 96.791249, theta1: -13.235304, theta2: 1.636606, error1: 58.961228\n",
      " theta0: 96.793941, theta1: -13.235272, theta2: 1.635752, error1: 58.960289\n",
      " theta0: 96.796626, theta1: -13.235240, theta2: 1.634899, error1: 58.959353\n",
      " theta0: 96.799307, theta1: -13.235209, theta2: 1.634049, error1: 58.958421\n",
      " theta0: 96.801981, theta1: -13.235177, theta2: 1.633200, error1: 58.957492\n",
      " theta0: 96.804649, theta1: -13.235146, theta2: 1.632353, error1: 58.956567\n",
      " theta0: 96.807312, theta1: -13.235114, theta2: 1.631508, error1: 58.955645\n",
      " theta0: 96.809969, theta1: -13.235083, theta2: 1.630664, error1: 58.954727\n",
      " theta0: 96.812620, theta1: -13.235051, theta2: 1.629823, error1: 58.953813\n",
      " theta0: 96.815266, theta1: -13.235020, theta2: 1.628983, error1: 58.952902\n",
      " theta0: 96.817906, theta1: -13.234989, theta2: 1.628145, error1: 58.951994\n",
      " theta0: 96.820540, theta1: -13.234958, theta2: 1.627309, error1: 58.951090\n",
      " theta0: 96.823169, theta1: -13.234927, theta2: 1.626475, error1: 58.950190\n",
      " theta0: 96.825792, theta1: -13.234896, theta2: 1.625642, error1: 58.949293\n",
      " theta0: 96.828409, theta1: -13.234865, theta2: 1.624811, error1: 58.948399\n",
      " theta0: 96.831020, theta1: -13.234834, theta2: 1.623982, error1: 58.947509\n",
      " theta0: 96.833626, theta1: -13.234803, theta2: 1.623155, error1: 58.946623\n",
      " theta0: 96.836226, theta1: -13.234772, theta2: 1.622330, error1: 58.945739\n",
      " theta0: 96.838821, theta1: -13.234741, theta2: 1.621506, error1: 58.944859\n",
      " theta0: 96.841410, theta1: -13.234711, theta2: 1.620684, error1: 58.943983\n",
      " theta0: 96.843994, theta1: -13.234680, theta2: 1.619864, error1: 58.943110\n",
      " theta0: 96.846572, theta1: -13.234650, theta2: 1.619046, error1: 58.942240\n",
      " theta0: 96.849144, theta1: -13.234619, theta2: 1.618230, error1: 58.941373\n",
      " theta0: 96.851711, theta1: -13.234589, theta2: 1.617415, error1: 58.940510\n",
      " theta0: 96.854272, theta1: -13.234559, theta2: 1.616602, error1: 58.939650\n",
      " theta0: 96.856828, theta1: -13.234529, theta2: 1.615791, error1: 58.938794\n",
      " theta0: 96.859378, theta1: -13.234498, theta2: 1.614981, error1: 58.937941\n",
      " theta0: 96.861923, theta1: -13.234468, theta2: 1.614174, error1: 58.937091\n",
      " theta0: 96.864463, theta1: -13.234438, theta2: 1.613368, error1: 58.936244\n",
      " theta0: 96.866996, theta1: -13.234408, theta2: 1.612563, error1: 58.935400\n",
      " theta0: 96.869525, theta1: -13.234378, theta2: 1.611761, error1: 58.934560\n",
      " theta0: 96.872048, theta1: -13.234349, theta2: 1.610960, error1: 58.933723\n",
      " theta0: 96.874565, theta1: -13.234319, theta2: 1.610161, error1: 58.932889\n",
      " theta0: 96.877077, theta1: -13.234289, theta2: 1.609364, error1: 58.932059\n",
      " theta0: 96.879584, theta1: -13.234259, theta2: 1.608568, error1: 58.931231\n",
      " theta0: 96.882085, theta1: -13.234230, theta2: 1.607774, error1: 58.930407\n",
      " theta0: 96.884581, theta1: -13.234200, theta2: 1.606982, error1: 58.929586\n",
      " theta0: 96.887071, theta1: -13.234171, theta2: 1.606191, error1: 58.928768\n",
      " theta0: 96.889556, theta1: -13.234142, theta2: 1.605403, error1: 58.927953\n",
      " theta0: 96.892036, theta1: -13.234112, theta2: 1.604615, error1: 58.927141\n",
      " theta0: 96.894511, theta1: -13.234083, theta2: 1.603830, error1: 58.926333\n",
      " theta0: 96.896980, theta1: -13.234054, theta2: 1.603046, error1: 58.925527\n",
      " theta0: 96.899443, theta1: -13.234025, theta2: 1.602264, error1: 58.924725\n",
      " theta0: 96.901902, theta1: -13.233996, theta2: 1.601484, error1: 58.923925\n",
      " theta0: 96.904355, theta1: -13.233967, theta2: 1.600705, error1: 58.923129\n",
      " theta0: 96.906803, theta1: -13.233938, theta2: 1.599928, error1: 58.922336\n",
      " theta0: 96.909245, theta1: -13.233909, theta2: 1.599153, error1: 58.921545\n",
      " theta0: 96.911683, theta1: -13.233880, theta2: 1.598380, error1: 58.920758\n",
      " theta0: 96.914115, theta1: -13.233851, theta2: 1.597608, error1: 58.919974\n",
      " theta0: 96.916541, theta1: -13.233822, theta2: 1.596837, error1: 58.919193\n",
      " theta0: 96.918963, theta1: -13.233794, theta2: 1.596069, error1: 58.918414\n",
      " theta0: 96.921379, theta1: -13.233765, theta2: 1.595302, error1: 58.917639\n",
      " theta0: 96.923791, theta1: -13.233737, theta2: 1.594536, error1: 58.916867\n",
      " theta0: 96.926196, theta1: -13.233708, theta2: 1.593773, error1: 58.916097\n",
      " theta0: 96.928597, theta1: -13.233680, theta2: 1.593011, error1: 58.915331\n",
      " theta0: 96.930993, theta1: -13.233652, theta2: 1.592250, error1: 58.914567\n",
      " theta0: 96.933383, theta1: -13.233623, theta2: 1.591492, error1: 58.913806\n",
      " theta0: 96.935768, theta1: -13.233595, theta2: 1.590734, error1: 58.913049\n",
      " theta0: 96.938149, theta1: -13.233567, theta2: 1.589979, error1: 58.912294\n",
      " theta0: 96.940524, theta1: -13.233539, theta2: 1.589225, error1: 58.911542\n",
      " theta0: 96.942893, theta1: -13.233511, theta2: 1.588473, error1: 58.910793\n",
      " theta0: 96.945258, theta1: -13.233483, theta2: 1.587722, error1: 58.910047\n",
      " theta0: 96.947618, theta1: -13.233455, theta2: 1.586973, error1: 58.909303\n",
      " theta0: 96.949972, theta1: -13.233427, theta2: 1.586226, error1: 58.908562\n",
      " theta0: 96.952322, theta1: -13.233399, theta2: 1.585480, error1: 58.907825\n",
      " theta0: 96.954666, theta1: -13.233372, theta2: 1.584736, error1: 58.907090\n",
      " theta0: 96.957006, theta1: -13.233344, theta2: 1.583994, error1: 58.906358\n",
      " theta0: 96.959340, theta1: -13.233316, theta2: 1.583253, error1: 58.905628\n",
      " theta0: 96.961669, theta1: -13.233289, theta2: 1.582513, error1: 58.904902\n",
      " theta0: 96.963994, theta1: -13.233261, theta2: 1.581776, error1: 58.904178\n",
      " theta0: 96.966313, theta1: -13.233234, theta2: 1.581039, error1: 58.903457\n",
      " theta0: 96.968627, theta1: -13.233207, theta2: 1.580305, error1: 58.902738\n",
      " theta0: 96.970936, theta1: -13.233179, theta2: 1.579572, error1: 58.902023\n",
      " theta0: 96.973241, theta1: -13.233152, theta2: 1.578840, error1: 58.901310\n",
      " theta0: 96.975540, theta1: -13.233125, theta2: 1.578111, error1: 58.900599\n",
      " theta0: 96.977834, theta1: -13.233098, theta2: 1.577382, error1: 58.899892\n",
      " theta0: 96.980124, theta1: -13.233071, theta2: 1.576656, error1: 58.899187\n",
      " theta0: 96.982408, theta1: -13.233044, theta2: 1.575931, error1: 58.898485\n",
      " theta0: 96.984688, theta1: -13.233017, theta2: 1.575207, error1: 58.897785\n",
      " theta0: 96.986963, theta1: -13.232990, theta2: 1.574485, error1: 58.897088\n",
      " theta0: 96.989232, theta1: -13.232963, theta2: 1.573765, error1: 58.896394\n",
      " theta0: 96.991497, theta1: -13.232936, theta2: 1.573046, error1: 58.895703\n",
      " theta0: 96.993757, theta1: -13.232909, theta2: 1.572328, error1: 58.895014\n",
      " theta0: 96.996012, theta1: -13.232883, theta2: 1.571613, error1: 58.894327\n",
      " theta0: 96.998263, theta1: -13.232856, theta2: 1.570898, error1: 58.893644\n",
      " theta0: 97.000508, theta1: -13.232830, theta2: 1.570186, error1: 58.892962\n",
      " theta0: 97.002749, theta1: -13.232803, theta2: 1.569474, error1: 58.892284\n",
      " theta0: 97.004984, theta1: -13.232777, theta2: 1.568765, error1: 58.891608\n",
      " theta0: 97.007215, theta1: -13.232750, theta2: 1.568057, error1: 58.890934\n",
      " theta0: 97.009441, theta1: -13.232724, theta2: 1.567350, error1: 58.890263\n",
      " theta0: 97.011663, theta1: -13.232698, theta2: 1.566645, error1: 58.889595\n",
      " theta0: 97.013879, theta1: -13.232671, theta2: 1.565942, error1: 58.888929\n",
      " theta0: 97.016091, theta1: -13.232645, theta2: 1.565240, error1: 58.888266\n",
      " theta0: 97.018298, theta1: -13.232619, theta2: 1.564539, error1: 58.887605\n",
      " theta0: 97.020500, theta1: -13.232593, theta2: 1.563840, error1: 58.886947\n",
      " theta0: 97.022697, theta1: -13.232567, theta2: 1.563143, error1: 58.886291\n",
      " theta0: 97.024890, theta1: -13.232541, theta2: 1.562447, error1: 58.885637\n",
      " theta0: 97.027078, theta1: -13.232515, theta2: 1.561752, error1: 58.884987\n",
      " theta0: 97.029261, theta1: -13.232490, theta2: 1.561059, error1: 58.884338\n",
      " theta0: 97.031440, theta1: -13.232464, theta2: 1.560368, error1: 58.883692\n",
      " theta0: 97.033614, theta1: -13.232438, theta2: 1.559678, error1: 58.883049\n",
      " theta0: 97.035783, theta1: -13.232412, theta2: 1.558989, error1: 58.882407\n",
      " theta0: 97.037948, theta1: -13.232387, theta2: 1.558302, error1: 58.881769\n",
      " theta0: 97.040107, theta1: -13.232361, theta2: 1.557617, error1: 58.881132\n",
      " theta0: 97.042263, theta1: -13.232336, theta2: 1.556932, error1: 58.880499\n",
      " theta0: 97.044413, theta1: -13.232310, theta2: 1.556250, error1: 58.879867\n",
      " theta0: 97.046559, theta1: -13.232285, theta2: 1.555569, error1: 58.879238\n",
      " theta0: 97.048700, theta1: -13.232260, theta2: 1.554889, error1: 58.878611\n",
      " theta0: 97.050837, theta1: -13.232234, theta2: 1.554211, error1: 58.877987\n",
      " theta0: 97.052969, theta1: -13.232209, theta2: 1.553534, error1: 58.877365\n",
      " theta0: 97.055096, theta1: -13.232184, theta2: 1.552859, error1: 58.876745\n",
      " theta0: 97.057219, theta1: -13.232159, theta2: 1.552185, error1: 58.876128\n",
      " theta0: 97.059338, theta1: -13.232134, theta2: 1.551513, error1: 58.875512\n",
      " theta0: 97.061451, theta1: -13.232109, theta2: 1.550842, error1: 58.874900\n",
      " theta0: 97.063561, theta1: -13.232084, theta2: 1.550172, error1: 58.874289\n",
      " theta0: 97.065665, theta1: -13.232059, theta2: 1.549504, error1: 58.873681\n",
      " theta0: 97.067765, theta1: -13.232034, theta2: 1.548838, error1: 58.873075\n",
      " theta0: 97.069861, theta1: -13.232009, theta2: 1.548173, error1: 58.872472\n",
      " theta0: 97.071952, theta1: -13.231985, theta2: 1.547509, error1: 58.871870\n",
      " theta0: 97.074038, theta1: -13.231960, theta2: 1.546847, error1: 58.871271\n",
      " theta0: 97.076120, theta1: -13.231935, theta2: 1.546186, error1: 58.870675\n",
      " theta0: 97.078198, theta1: -13.231911, theta2: 1.545526, error1: 58.870080\n",
      " theta0: 97.080271, theta1: -13.231886, theta2: 1.544868, error1: 58.869488\n",
      " theta0: 97.082340, theta1: -13.231862, theta2: 1.544212, error1: 58.868898\n",
      " theta0: 97.084404, theta1: -13.231837, theta2: 1.543556, error1: 58.868310\n",
      " theta0: 97.086464, theta1: -13.231813, theta2: 1.542903, error1: 58.867724\n",
      " theta0: 97.088519, theta1: -13.231789, theta2: 1.542250, error1: 58.867141\n",
      " theta0: 97.090570, theta1: -13.231765, theta2: 1.541599, error1: 58.866559\n",
      " theta0: 97.092616, theta1: -13.231740, theta2: 1.540950, error1: 58.865980\n",
      " theta0: 97.094658, theta1: -13.231716, theta2: 1.540302, error1: 58.865403\n",
      " theta0: 97.096696, theta1: -13.231692, theta2: 1.539655, error1: 58.864828\n",
      " theta0: 97.098729, theta1: -13.231668, theta2: 1.539010, error1: 58.864256\n",
      " theta0: 97.100758, theta1: -13.231644, theta2: 1.538366, error1: 58.863685\n",
      " theta0: 97.102782, theta1: -13.231620, theta2: 1.537723, error1: 58.863117\n",
      " theta0: 97.104802, theta1: -13.231596, theta2: 1.537082, error1: 58.862551\n",
      " theta0: 97.106818, theta1: -13.231572, theta2: 1.536442, error1: 58.861987\n",
      " theta0: 97.108829, theta1: -13.231549, theta2: 1.535804, error1: 58.861425\n",
      " theta0: 97.110836, theta1: -13.231525, theta2: 1.535167, error1: 58.860865\n",
      " theta0: 97.112839, theta1: -13.231501, theta2: 1.534531, error1: 58.860307\n",
      " theta0: 97.114837, theta1: -13.231478, theta2: 1.533897, error1: 58.859751\n",
      " theta0: 97.116832, theta1: -13.231454, theta2: 1.533264, error1: 58.859198\n",
      " theta0: 97.118821, theta1: -13.231430, theta2: 1.532632, error1: 58.858646\n",
      " theta0: 97.120807, theta1: -13.231407, theta2: 1.532002, error1: 58.858096\n",
      " theta0: 97.122788, theta1: -13.231384, theta2: 1.531373, error1: 58.857549\n",
      " theta0: 97.124765, theta1: -13.231360, theta2: 1.530746, error1: 58.857004\n",
      " theta0: 97.126738, theta1: -13.231337, theta2: 1.530119, error1: 58.856460\n",
      " theta0: 97.128706, theta1: -13.231314, theta2: 1.529495, error1: 58.855919\n",
      " theta0: 97.130670, theta1: -13.231290, theta2: 1.528871, error1: 58.855380\n",
      " theta0: 97.132630, theta1: -13.231267, theta2: 1.528249, error1: 58.854842\n",
      " theta0: 97.134586, theta1: -13.231244, theta2: 1.527628, error1: 58.854307\n",
      " theta0: 97.136538, theta1: -13.231221, theta2: 1.527009, error1: 58.853774\n",
      " theta0: 97.138485, theta1: -13.231198, theta2: 1.526391, error1: 58.853242\n",
      " theta0: 97.140428, theta1: -13.231175, theta2: 1.525774, error1: 58.852713\n",
      " theta0: 97.142367, theta1: -13.231152, theta2: 1.525159, error1: 58.852186\n",
      " theta0: 97.144302, theta1: -13.231129, theta2: 1.524544, error1: 58.851660\n",
      " theta0: 97.146232, theta1: -13.231106, theta2: 1.523932, error1: 58.851137\n",
      " theta0: 97.148159, theta1: -13.231084, theta2: 1.523320, error1: 58.850615\n",
      " theta0: 97.150081, theta1: -13.231061, theta2: 1.522710, error1: 58.850096\n",
      " theta0: 97.151999, theta1: -13.231038, theta2: 1.522101, error1: 58.849578\n",
      " theta0: 97.153913, theta1: -13.231016, theta2: 1.521494, error1: 58.849062\n",
      " theta0: 97.155823, theta1: -13.230993, theta2: 1.520888, error1: 58.848549\n",
      " theta0: 97.157729, theta1: -13.230970, theta2: 1.520283, error1: 58.848037\n",
      " theta0: 97.159630, theta1: -13.230948, theta2: 1.519679, error1: 58.847527\n",
      " theta0: 97.161528, theta1: -13.230925, theta2: 1.519077, error1: 58.847019\n",
      " theta0: 97.163421, theta1: -13.230903, theta2: 1.518476, error1: 58.846512\n",
      " theta0: 97.165310, theta1: -13.230881, theta2: 1.517876, error1: 58.846008\n",
      " theta0: 97.167196, theta1: -13.230858, theta2: 1.517278, error1: 58.845506\n",
      " theta0: 97.169077, theta1: -13.230836, theta2: 1.516681, error1: 58.845005\n",
      " theta0: 97.170954, theta1: -13.230814, theta2: 1.516085, error1: 58.844506\n",
      " theta0: 97.172827, theta1: -13.230792, theta2: 1.515490, error1: 58.844010\n",
      " theta0: 97.174696, theta1: -13.230770, theta2: 1.514897, error1: 58.843515\n",
      " theta0: 97.176561, theta1: -13.230748, theta2: 1.514305, error1: 58.843021\n",
      " theta0: 97.178422, theta1: -13.230726, theta2: 1.513714, error1: 58.842530\n",
      " theta0: 97.180279, theta1: -13.230704, theta2: 1.513125, error1: 58.842040\n",
      " theta0: 97.182132, theta1: -13.230682, theta2: 1.512537, error1: 58.841553\n",
      " theta0: 97.183981, theta1: -13.230660, theta2: 1.511950, error1: 58.841067\n",
      " theta0: 97.185827, theta1: -13.230638, theta2: 1.511364, error1: 58.840583\n",
      " theta0: 97.187668, theta1: -13.230616, theta2: 1.510780, error1: 58.840100\n",
      " theta0: 97.189505, theta1: -13.230595, theta2: 1.510197, error1: 58.839620\n",
      " theta0: 97.191338, theta1: -13.230573, theta2: 1.509615, error1: 58.839141\n",
      " theta0: 97.193167, theta1: -13.230551, theta2: 1.509034, error1: 58.838664\n",
      " theta0: 97.194992, theta1: -13.230530, theta2: 1.508455, error1: 58.838189\n",
      " theta0: 97.196814, theta1: -13.230508, theta2: 1.507877, error1: 58.837716\n",
      " theta0: 97.198631, theta1: -13.230487, theta2: 1.507300, error1: 58.837244\n",
      " theta0: 97.200444, theta1: -13.230465, theta2: 1.506724, error1: 58.836774\n",
      " theta0: 97.202254, theta1: -13.230444, theta2: 1.506150, error1: 58.836306\n",
      " theta0: 97.204060, theta1: -13.230423, theta2: 1.505577, error1: 58.835839\n",
      " theta0: 97.205861, theta1: -13.230401, theta2: 1.505005, error1: 58.835374\n",
      " theta0: 97.207659, theta1: -13.230380, theta2: 1.504434, error1: 58.834911\n",
      " theta0: 97.209453, theta1: -13.230359, theta2: 1.503865, error1: 58.834450\n",
      " theta0: 97.211243, theta1: -13.230338, theta2: 1.503297, error1: 58.833990\n",
      " theta0: 97.213030, theta1: -13.230316, theta2: 1.502730, error1: 58.833532\n",
      " theta0: 97.214812, theta1: -13.230295, theta2: 1.502164, error1: 58.833076\n",
      " theta0: 97.216591, theta1: -13.230274, theta2: 1.501599, error1: 58.832622\n",
      " theta0: 97.218365, theta1: -13.230253, theta2: 1.501036, error1: 58.832169\n",
      " theta0: 97.220136, theta1: -13.230232, theta2: 1.500474, error1: 58.831718\n",
      " theta0: 97.221903, theta1: -13.230212, theta2: 1.499913, error1: 58.831268\n",
      " theta0: 97.223667, theta1: -13.230191, theta2: 1.499353, error1: 58.830820\n",
      " theta0: 97.225426, theta1: -13.230170, theta2: 1.498795, error1: 58.830374\n",
      " theta0: 97.227182, theta1: -13.230149, theta2: 1.498238, error1: 58.829929\n",
      " theta0: 97.228934, theta1: -13.230128, theta2: 1.497682, error1: 58.829486\n",
      " theta0: 97.230682, theta1: -13.230108, theta2: 1.497127, error1: 58.829045\n",
      " theta0: 97.232426, theta1: -13.230087, theta2: 1.496573, error1: 58.828605\n",
      " theta0: 97.234167, theta1: -13.230067, theta2: 1.496021, error1: 58.828167\n",
      " theta0: 97.235904, theta1: -13.230046, theta2: 1.495469, error1: 58.827731\n",
      " theta0: 97.237637, theta1: -13.230025, theta2: 1.494919, error1: 58.827296\n",
      " theta0: 97.239366, theta1: -13.230005, theta2: 1.494370, error1: 58.826862\n",
      " theta0: 97.241092, theta1: -13.229985, theta2: 1.493823, error1: 58.826431\n",
      " theta0: 97.242814, theta1: -13.229964, theta2: 1.493276, error1: 58.826001\n",
      " theta0: 97.244532, theta1: -13.229944, theta2: 1.492731, error1: 58.825572\n",
      " theta0: 97.246246, theta1: -13.229924, theta2: 1.492186, error1: 58.825145\n",
      " theta0: 97.247957, theta1: -13.229903, theta2: 1.491643, error1: 58.824720\n",
      " theta0: 97.249664, theta1: -13.229883, theta2: 1.491102, error1: 58.824296\n",
      " theta0: 97.251368, theta1: -13.229863, theta2: 1.490561, error1: 58.823874\n",
      " theta0: 97.253067, theta1: -13.229843, theta2: 1.490021, error1: 58.823453\n",
      " theta0: 97.254764, theta1: -13.229823, theta2: 1.489483, error1: 58.823034\n",
      " theta0: 97.256456, theta1: -13.229803, theta2: 1.488946, error1: 58.822616\n",
      " theta0: 97.258145, theta1: -13.229783, theta2: 1.488410, error1: 58.822200\n",
      " theta0: 97.259830, theta1: -13.229763, theta2: 1.487875, error1: 58.821786\n",
      " theta0: 97.261511, theta1: -13.229743, theta2: 1.487341, error1: 58.821372\n",
      " theta0: 97.263189, theta1: -13.229723, theta2: 1.486809, error1: 58.820961\n",
      " theta0: 97.264864, theta1: -13.229704, theta2: 1.486277, error1: 58.820551\n",
      " theta0: 97.266534, theta1: -13.229684, theta2: 1.485747, error1: 58.820142\n",
      " theta0: 97.268201, theta1: -13.229664, theta2: 1.485218, error1: 58.819735\n",
      " theta0: 97.269865, theta1: -13.229644, theta2: 1.484690, error1: 58.819330\n",
      " theta0: 97.271525, theta1: -13.229625, theta2: 1.484163, error1: 58.818926\n",
      " theta0: 97.273181, theta1: -13.229605, theta2: 1.483637, error1: 58.818523\n",
      " theta0: 97.274834, theta1: -13.229586, theta2: 1.483113, error1: 58.818122\n",
      " theta0: 97.276483, theta1: -13.229566, theta2: 1.482589, error1: 58.817722\n",
      " theta0: 97.278129, theta1: -13.229547, theta2: 1.482067, error1: 58.817324\n",
      " theta0: 97.279771, theta1: -13.229527, theta2: 1.481546, error1: 58.816927\n",
      " theta0: 97.281409, theta1: -13.229508, theta2: 1.481025, error1: 58.816532\n",
      " theta0: 97.283044, theta1: -13.229489, theta2: 1.480506, error1: 58.816138\n",
      " theta0: 97.284676, theta1: -13.229469, theta2: 1.479989, error1: 58.815746\n",
      " theta0: 97.286304, theta1: -13.229450, theta2: 1.479472, error1: 58.815355\n",
      " theta0: 97.287928, theta1: -13.229431, theta2: 1.478956, error1: 58.814965\n",
      " theta0: 97.289549, theta1: -13.229412, theta2: 1.478442, error1: 58.814577\n",
      " theta0: 97.291167, theta1: -13.229393, theta2: 1.477928, error1: 58.814190\n",
      " theta0: 97.292781, theta1: -13.229373, theta2: 1.477416, error1: 58.813805\n",
      " theta0: 97.294391, theta1: -13.229354, theta2: 1.476905, error1: 58.813421\n",
      " theta0: 97.295998, theta1: -13.229335, theta2: 1.476395, error1: 58.813039\n",
      " theta0: 97.297602, theta1: -13.229316, theta2: 1.475886, error1: 58.812658\n",
      " theta0: 97.299202, theta1: -13.229297, theta2: 1.475378, error1: 58.812278\n",
      " theta0: 97.300798, theta1: -13.229279, theta2: 1.474871, error1: 58.811900\n",
      " theta0: 97.302392, theta1: -13.229260, theta2: 1.474365, error1: 58.811523\n",
      " theta0: 97.303981, theta1: -13.229241, theta2: 1.473861, error1: 58.811147\n",
      " theta0: 97.305568, theta1: -13.229222, theta2: 1.473357, error1: 58.810773\n",
      " theta0: 97.307151, theta1: -13.229203, theta2: 1.472855, error1: 58.810400\n",
      " theta0: 97.308730, theta1: -13.229185, theta2: 1.472354, error1: 58.810028\n",
      " theta0: 97.310306, theta1: -13.229166, theta2: 1.471853, error1: 58.809658\n",
      " theta0: 97.311879, theta1: -13.229148, theta2: 1.471354, error1: 58.809289\n",
      " theta0: 97.313448, theta1: -13.229129, theta2: 1.470856, error1: 58.808922\n",
      " theta0: 97.315014, theta1: -13.229111, theta2: 1.470359, error1: 58.808556\n",
      " theta0: 97.316577, theta1: -13.229092, theta2: 1.469863, error1: 58.808191\n",
      " theta0: 97.318136, theta1: -13.229074, theta2: 1.469368, error1: 58.807828\n",
      " theta0: 97.319692, theta1: -13.229055, theta2: 1.468874, error1: 58.807465\n",
      " theta0: 97.321244, theta1: -13.229037, theta2: 1.468382, error1: 58.807105\n",
      " theta0: 97.322793, theta1: -13.229019, theta2: 1.467890, error1: 58.806745\n",
      " theta0: 97.324339, theta1: -13.229000, theta2: 1.467399, error1: 58.806387\n",
      " theta0: 97.325882, theta1: -13.228982, theta2: 1.466910, error1: 58.806030\n",
      " theta0: 97.327421, theta1: -13.228964, theta2: 1.466421, error1: 58.805674\n",
      " theta0: 97.328957, theta1: -13.228946, theta2: 1.465934, error1: 58.805320\n",
      " theta0: 97.330489, theta1: -13.228928, theta2: 1.465447, error1: 58.804967\n",
      " theta0: 97.332018, theta1: -13.228909, theta2: 1.464962, error1: 58.804615\n",
      " theta0: 97.333544, theta1: -13.228891, theta2: 1.464477, error1: 58.804264\n",
      " theta0: 97.335067, theta1: -13.228873, theta2: 1.463994, error1: 58.803915\n",
      " theta0: 97.336586, theta1: -13.228855, theta2: 1.463512, error1: 58.803567\n",
      " theta0: 97.338102, theta1: -13.228837, theta2: 1.463031, error1: 58.803220\n",
      " theta0: 97.339615, theta1: -13.228820, theta2: 1.462550, error1: 58.802875\n",
      " theta0: 97.341125, theta1: -13.228802, theta2: 1.462071, error1: 58.802531\n",
      " theta0: 97.342631, theta1: -13.228784, theta2: 1.461593, error1: 58.802188\n",
      " theta0: 97.344134, theta1: -13.228766, theta2: 1.461116, error1: 58.801846\n",
      " theta0: 97.345634, theta1: -13.228748, theta2: 1.460640, error1: 58.801505\n",
      " theta0: 97.347130, theta1: -13.228731, theta2: 1.460165, error1: 58.801166\n",
      " theta0: 97.348624, theta1: -13.228713, theta2: 1.459691, error1: 58.800828\n",
      " theta0: 97.350114, theta1: -13.228695, theta2: 1.459218, error1: 58.800491\n",
      " theta0: 97.351601, theta1: -13.228678, theta2: 1.458746, error1: 58.800156\n",
      " theta0: 97.353084, theta1: -13.228660, theta2: 1.458275, error1: 58.799821\n",
      " theta0: 97.354565, theta1: -13.228643, theta2: 1.457805, error1: 58.799488\n",
      " theta0: 97.356042, theta1: -13.228625, theta2: 1.457336, error1: 58.799156\n",
      " theta0: 97.357516, theta1: -13.228608, theta2: 1.456869, error1: 58.798825\n",
      " theta0: 97.358987, theta1: -13.228591, theta2: 1.456402, error1: 58.798496\n",
      " theta0: 97.360455, theta1: -13.228573, theta2: 1.455936, error1: 58.798167\n",
      " theta0: 97.361919, theta1: -13.228556, theta2: 1.455471, error1: 58.797840\n",
      " theta0: 97.363381, theta1: -13.228539, theta2: 1.455007, error1: 58.797514\n",
      " theta0: 97.364839, theta1: -13.228521, theta2: 1.454544, error1: 58.797189\n",
      " theta0: 97.366294, theta1: -13.228504, theta2: 1.454082, error1: 58.796865\n",
      " theta0: 97.367746, theta1: -13.228487, theta2: 1.453621, error1: 58.796543\n",
      " theta0: 97.369195, theta1: -13.228470, theta2: 1.453161, error1: 58.796221\n",
      " theta0: 97.370641, theta1: -13.228453, theta2: 1.452703, error1: 58.795901\n",
      " theta0: 97.372084, theta1: -13.228436, theta2: 1.452245, error1: 58.795582\n",
      " theta0: 97.373523, theta1: -13.228419, theta2: 1.451788, error1: 58.795264\n",
      " theta0: 97.374960, theta1: -13.228402, theta2: 1.451332, error1: 58.794947\n",
      " theta0: 97.376393, theta1: -13.228385, theta2: 1.450877, error1: 58.794631\n",
      " theta0: 97.377823, theta1: -13.228368, theta2: 1.450423, error1: 58.794317\n",
      " theta0: 97.379250, theta1: -13.228351, theta2: 1.449970, error1: 58.794003\n",
      " theta0: 97.380674, theta1: -13.228334, theta2: 1.449518, error1: 58.793691\n",
      " theta0: 97.382095, theta1: -13.228317, theta2: 1.449067, error1: 58.793380\n",
      " theta0: 97.383513, theta1: -13.228301, theta2: 1.448617, error1: 58.793070\n",
      " theta0: 97.384928, theta1: -13.228284, theta2: 1.448168, error1: 58.792761\n",
      " theta0: 97.386340, theta1: -13.228267, theta2: 1.447720, error1: 58.792453\n"
     ]
    },
    {
     "name": "stdout",
     "output_type": "stream",
     "text": [
      " theta0: 97.387749, theta1: -13.228250, theta2: 1.447272, error1: 58.792146\n",
      " theta0: 97.389155, theta1: -13.228234, theta2: 1.446826, error1: 58.791841\n",
      " theta0: 97.390557, theta1: -13.228217, theta2: 1.446381, error1: 58.791536\n",
      " theta0: 97.391957, theta1: -13.228201, theta2: 1.445937, error1: 58.791233\n",
      " theta0: 97.393354, theta1: -13.228184, theta2: 1.445493, error1: 58.790930\n",
      " theta0: 97.394748, theta1: -13.228168, theta2: 1.445051, error1: 58.790629\n",
      " theta0: 97.396138, theta1: -13.228151, theta2: 1.444610, error1: 58.790329\n",
      " theta0: 97.397526, theta1: -13.228135, theta2: 1.444169, error1: 58.790030\n",
      " theta0: 97.398911, theta1: -13.228118, theta2: 1.443730, error1: 58.789732\n",
      " theta0: 97.400292, theta1: -13.228102, theta2: 1.443291, error1: 58.789435\n",
      " theta0: 97.401671, theta1: -13.228086, theta2: 1.442853, error1: 58.789139\n",
      " theta0: 97.403047, theta1: -13.228070, theta2: 1.442417, error1: 58.788844\n",
      " theta0: 97.404420, theta1: -13.228053, theta2: 1.441981, error1: 58.788550\n",
      " theta0: 97.405789, theta1: -13.228037, theta2: 1.441546, error1: 58.788257\n",
      " theta0: 97.407156, theta1: -13.228021, theta2: 1.441112, error1: 58.787965\n",
      " theta0: 97.408520, theta1: -13.228005, theta2: 1.440679, error1: 58.787675\n",
      " theta0: 97.409881, theta1: -13.227989, theta2: 1.440247, error1: 58.787385\n",
      " theta0: 97.411239, theta1: -13.227973, theta2: 1.439816, error1: 58.787096\n",
      " theta0: 97.412594, theta1: -13.227957, theta2: 1.439386, error1: 58.786809\n",
      " theta0: 97.413947, theta1: -13.227941, theta2: 1.438957, error1: 58.786522\n",
      " theta0: 97.415296, theta1: -13.227925, theta2: 1.438529, error1: 58.786237\n",
      " theta0: 97.416642, theta1: -13.227909, theta2: 1.438101, error1: 58.785952\n",
      " theta0: 97.417986, theta1: -13.227893, theta2: 1.437675, error1: 58.785669\n",
      " theta0: 97.419326, theta1: -13.227877, theta2: 1.437250, error1: 58.785386\n",
      " theta0: 97.420664, theta1: -13.227861, theta2: 1.436825, error1: 58.785105\n",
      " theta0: 97.421999, theta1: -13.227845, theta2: 1.436401, error1: 58.784824\n",
      " theta0: 97.423331, theta1: -13.227830, theta2: 1.435978, error1: 58.784544\n",
      " theta0: 97.424660, theta1: -13.227814, theta2: 1.435557, error1: 58.784266\n",
      " theta0: 97.425986, theta1: -13.227798, theta2: 1.435136, error1: 58.783988\n",
      " theta0: 97.427309, theta1: -13.227783, theta2: 1.434716, error1: 58.783712\n",
      " theta0: 97.428630, theta1: -13.227767, theta2: 1.434297, error1: 58.783436\n",
      " theta0: 97.429947, theta1: -13.227751, theta2: 1.433878, error1: 58.783162\n",
      " theta0: 97.431262, theta1: -13.227736, theta2: 1.433461, error1: 58.782888\n",
      " theta0: 97.432574, theta1: -13.227720, theta2: 1.433045, error1: 58.782615\n",
      " theta0: 97.433883, theta1: -13.227705, theta2: 1.432629, error1: 58.782344\n",
      " theta0: 97.435190, theta1: -13.227689, theta2: 1.432214, error1: 58.782073\n",
      " theta0: 97.436493, theta1: -13.227674, theta2: 1.431801, error1: 58.781803\n",
      " theta0: 97.437794, theta1: -13.227659, theta2: 1.431388, error1: 58.781534\n",
      " theta0: 97.439092, theta1: -13.227643, theta2: 1.430976, error1: 58.781267\n",
      " theta0: 97.440387, theta1: -13.227628, theta2: 1.430565, error1: 58.781000\n",
      " theta0: 97.441679, theta1: -13.227613, theta2: 1.430155, error1: 58.780734\n",
      " theta0: 97.442969, theta1: -13.227597, theta2: 1.429745, error1: 58.780469\n",
      " theta0: 97.444255, theta1: -13.227582, theta2: 1.429337, error1: 58.780205\n",
      " theta0: 97.445539, theta1: -13.227567, theta2: 1.428929, error1: 58.779942\n",
      " theta0: 97.446820, theta1: -13.227552, theta2: 1.428523, error1: 58.779679\n",
      " theta0: 97.448099, theta1: -13.227537, theta2: 1.428117, error1: 58.779418\n",
      " theta0: 97.449375, theta1: -13.227522, theta2: 1.427712, error1: 58.779158\n",
      " theta0: 97.450647, theta1: -13.227507, theta2: 1.427308, error1: 58.778898\n",
      " theta0: 97.451918, theta1: -13.227492, theta2: 1.426905, error1: 58.778640\n",
      " theta0: 97.453185, theta1: -13.227477, theta2: 1.426502, error1: 58.778382\n",
      " theta0: 97.454450, theta1: -13.227462, theta2: 1.426101, error1: 58.778125\n",
      " theta0: 97.455712, theta1: -13.227447, theta2: 1.425700, error1: 58.777870\n",
      " theta0: 97.456971, theta1: -13.227432, theta2: 1.425301, error1: 58.777615\n",
      " theta0: 97.458228, theta1: -13.227417, theta2: 1.424902, error1: 58.777361\n",
      " theta0: 97.459481, theta1: -13.227402, theta2: 1.424504, error1: 58.777108\n",
      " theta0: 97.460733, theta1: -13.227387, theta2: 1.424107, error1: 58.776855\n",
      " theta0: 97.461981, theta1: -13.227373, theta2: 1.423711, error1: 58.776604\n",
      " theta0: 97.463227, theta1: -13.227358, theta2: 1.423315, error1: 58.776354\n",
      " theta0: 97.464470, theta1: -13.227343, theta2: 1.422921, error1: 58.776104\n",
      " theta0: 97.465710, theta1: -13.227329, theta2: 1.422527, error1: 58.775855\n",
      " theta0: 97.466948, theta1: -13.227314, theta2: 1.422134, error1: 58.775607\n",
      " theta0: 97.468183, theta1: -13.227299, theta2: 1.421742, error1: 58.775361\n",
      " theta0: 97.469415, theta1: -13.227285, theta2: 1.421351, error1: 58.775114\n",
      " theta0: 97.470645, theta1: -13.227270, theta2: 1.420961, error1: 58.774869\n",
      " theta0: 97.471872, theta1: -13.227256, theta2: 1.420571, error1: 58.774625\n",
      " theta0: 97.473096, theta1: -13.227241, theta2: 1.420182, error1: 58.774381\n",
      " theta0: 97.474318, theta1: -13.227227, theta2: 1.419795, error1: 58.774139\n",
      " theta0: 97.475537, theta1: -13.227212, theta2: 1.419408, error1: 58.773897\n",
      " theta0: 97.476754, theta1: -13.227198, theta2: 1.419022, error1: 58.773656\n",
      " theta0: 97.477968, theta1: -13.227184, theta2: 1.418636, error1: 58.773416\n",
      " theta0: 97.479179, theta1: -13.227169, theta2: 1.418252, error1: 58.773177\n",
      " theta0: 97.480388, theta1: -13.227155, theta2: 1.417868, error1: 58.772938\n",
      " theta0: 97.481594, theta1: -13.227141, theta2: 1.417485, error1: 58.772701\n",
      " theta0: 97.482797, theta1: -13.227126, theta2: 1.417103, error1: 58.772464\n",
      " theta0: 97.483998, theta1: -13.227112, theta2: 1.416722, error1: 58.772228\n",
      " theta0: 97.485196, theta1: -13.227098, theta2: 1.416342, error1: 58.771993\n",
      " theta0: 97.486392, theta1: -13.227084, theta2: 1.415962, error1: 58.771759\n",
      " theta0: 97.487585, theta1: -13.227070, theta2: 1.415584, error1: 58.771525\n",
      " theta0: 97.488776, theta1: -13.227056, theta2: 1.415206, error1: 58.771293\n",
      " theta0: 97.489964, theta1: -13.227042, theta2: 1.414829, error1: 58.771061\n",
      " theta0: 97.491149, theta1: -13.227028, theta2: 1.414452, error1: 58.770830\n",
      " theta0: 97.492332, theta1: -13.227014, theta2: 1.414077, error1: 58.770600\n",
      " theta0: 97.493512, theta1: -13.227000, theta2: 1.413702, error1: 58.770370\n",
      " theta0: 97.494690, theta1: -13.226986, theta2: 1.413328, error1: 58.770142\n",
      " theta0: 97.495865, theta1: -13.226972, theta2: 1.412955, error1: 58.769914\n",
      " theta0: 97.497038, theta1: -13.226958, theta2: 1.412583, error1: 58.769687\n",
      " theta0: 97.498208, theta1: -13.226944, theta2: 1.412212, error1: 58.769461\n",
      " theta0: 97.499376, theta1: -13.226930, theta2: 1.411841, error1: 58.769235\n",
      " theta0: 97.500541, theta1: -13.226917, theta2: 1.411471, error1: 58.769011\n",
      " theta0: 97.501704, theta1: -13.226903, theta2: 1.411102, error1: 58.768787\n",
      " theta0: 97.502864, theta1: -13.226889, theta2: 1.410734, error1: 58.768564\n",
      " theta0: 97.504021, theta1: -13.226875, theta2: 1.410367, error1: 58.768342\n",
      " theta0: 97.505176, theta1: -13.226862, theta2: 1.410000, error1: 58.768120\n",
      " theta0: 97.506329, theta1: -13.226848, theta2: 1.409634, error1: 58.767899\n",
      " theta0: 97.507479, theta1: -13.226835, theta2: 1.409269, error1: 58.767679\n",
      " theta0: 97.508627, theta1: -13.226821, theta2: 1.408905, error1: 58.767460\n",
      " theta0: 97.509772, theta1: -13.226807, theta2: 1.408541, error1: 58.767242\n",
      " theta0: 97.510915, theta1: -13.226794, theta2: 1.408179, error1: 58.767024\n",
      " theta0: 97.512055, theta1: -13.226781, theta2: 1.407817, error1: 58.766807\n",
      " theta0: 97.513193, theta1: -13.226767, theta2: 1.407456, error1: 58.766591\n",
      " theta0: 97.514328, theta1: -13.226754, theta2: 1.407095, error1: 58.766376\n",
      " theta0: 97.515461, theta1: -13.226740, theta2: 1.406736, error1: 58.766161\n",
      " theta0: 97.516591, theta1: -13.226727, theta2: 1.406377, error1: 58.765947\n",
      " theta0: 97.517719, theta1: -13.226714, theta2: 1.406019, error1: 58.765734\n",
      " theta0: 97.518845, theta1: -13.226700, theta2: 1.405661, error1: 58.765521\n",
      " theta0: 97.519968, theta1: -13.226687, theta2: 1.405305, error1: 58.765310\n",
      " theta0: 97.521089, theta1: -13.226674, theta2: 1.404949, error1: 58.765099\n",
      " theta0: 97.522207, theta1: -13.226660, theta2: 1.404594, error1: 58.764888\n",
      " theta0: 97.523323, theta1: -13.226647, theta2: 1.404240, error1: 58.764679\n",
      " theta0: 97.524437, theta1: -13.226634, theta2: 1.403887, error1: 58.764470\n",
      " theta0: 97.525548, theta1: -13.226621, theta2: 1.403534, error1: 58.764262\n",
      " theta0: 97.526656, theta1: -13.226608, theta2: 1.403182, error1: 58.764055\n",
      " theta0: 97.527763, theta1: -13.226595, theta2: 1.402831, error1: 58.763848\n",
      " theta0: 97.528867, theta1: -13.226582, theta2: 1.402481, error1: 58.763642\n",
      " theta0: 97.529968, theta1: -13.226569, theta2: 1.402131, error1: 58.763437\n",
      " theta0: 97.531067, theta1: -13.226556, theta2: 1.401782, error1: 58.763233\n",
      " theta0: 97.532164, theta1: -13.226543, theta2: 1.401434, error1: 58.763029\n",
      " theta0: 97.533259, theta1: -13.226530, theta2: 1.401086, error1: 58.762826\n",
      " theta0: 97.534351, theta1: -13.226517, theta2: 1.400740, error1: 58.762623\n",
      " theta0: 97.535441, theta1: -13.226504, theta2: 1.400394, error1: 58.762422\n",
      " theta0: 97.536528, theta1: -13.226491, theta2: 1.400049, error1: 58.762221\n",
      " theta0: 97.537613, theta1: -13.226478, theta2: 1.399704, error1: 58.762020\n",
      " theta0: 97.538696, theta1: -13.226465, theta2: 1.399361, error1: 58.761821\n",
      " theta0: 97.539776, theta1: -13.226453, theta2: 1.399018, error1: 58.761622\n",
      " theta0: 97.540854, theta1: -13.226440, theta2: 1.398676, error1: 58.761424\n",
      " theta0: 97.541930, theta1: -13.226427, theta2: 1.398334, error1: 58.761226\n",
      " theta0: 97.543003, theta1: -13.226415, theta2: 1.397994, error1: 58.761029\n",
      " theta0: 97.544074, theta1: -13.226402, theta2: 1.397654, error1: 58.760833\n",
      " theta0: 97.545143, theta1: -13.226389, theta2: 1.397314, error1: 58.760638\n",
      " theta0: 97.546209, theta1: -13.226377, theta2: 1.396976, error1: 58.760443\n",
      " theta0: 97.547274, theta1: -13.226364, theta2: 1.396638, error1: 58.760249\n",
      " theta0: 97.548336, theta1: -13.226351, theta2: 1.396301, error1: 58.760055\n",
      " theta0: 97.549395, theta1: -13.226339, theta2: 1.395965, error1: 58.759862\n",
      " theta0: 97.550452, theta1: -13.226326, theta2: 1.395629, error1: 58.759670\n",
      " theta0: 97.551507, theta1: -13.226314, theta2: 1.395294, error1: 58.759479\n",
      " theta0: 97.552560, theta1: -13.226302, theta2: 1.394960, error1: 58.759288\n",
      " theta0: 97.553611, theta1: -13.226289, theta2: 1.394627, error1: 58.759098\n",
      " theta0: 97.554659, theta1: -13.226277, theta2: 1.394294, error1: 58.758908\n",
      " theta0: 97.555705, theta1: -13.226264, theta2: 1.393962, error1: 58.758719\n",
      " theta0: 97.556748, theta1: -13.226252, theta2: 1.393631, error1: 58.758531\n",
      " theta0: 97.557790, theta1: -13.226240, theta2: 1.393300, error1: 58.758343\n",
      " theta0: 97.558829, theta1: -13.226227, theta2: 1.392970, error1: 58.758156\n",
      " theta0: 97.559866, theta1: -13.226215, theta2: 1.392641, error1: 58.757970\n",
      " theta0: 97.560901, theta1: -13.226203, theta2: 1.392313, error1: 58.757784\n",
      " theta0: 97.561933, theta1: -13.226191, theta2: 1.391985, error1: 58.757599\n",
      " theta0: 97.562964, theta1: -13.226179, theta2: 1.391658, error1: 58.757415\n",
      " theta0: 97.563992, theta1: -13.226166, theta2: 1.391332, error1: 58.757231\n",
      " theta0: 97.565017, theta1: -13.226154, theta2: 1.391006, error1: 58.757048\n",
      " theta0: 97.566041, theta1: -13.226142, theta2: 1.390681, error1: 58.756865\n",
      " theta0: 97.567063, theta1: -13.226130, theta2: 1.390357, error1: 58.756684\n",
      " theta0: 97.568082, theta1: -13.226118, theta2: 1.390033, error1: 58.756502\n",
      " theta0: 97.569099, theta1: -13.226106, theta2: 1.389711, error1: 58.756322\n",
      " theta0: 97.570114, theta1: -13.226094, theta2: 1.389388, error1: 58.756142\n",
      " theta0: 97.571126, theta1: -13.226082, theta2: 1.389067, error1: 58.755962\n",
      " theta0: 97.572137, theta1: -13.226070, theta2: 1.388746, error1: 58.755783\n",
      " theta0: 97.573145, theta1: -13.226058, theta2: 1.388426, error1: 58.755605\n",
      " theta0: 97.574151, theta1: -13.226046, theta2: 1.388107, error1: 58.755428\n",
      " theta0: 97.575155, theta1: -13.226034, theta2: 1.387788, error1: 58.755251\n",
      " theta0: 97.576157, theta1: -13.226022, theta2: 1.387470, error1: 58.755074\n",
      " theta0: 97.577156, theta1: -13.226011, theta2: 1.387153, error1: 58.754898\n",
      " theta0: 97.578154, theta1: -13.225999, theta2: 1.386836, error1: 58.754723\n",
      " theta0: 97.579149, theta1: -13.225987, theta2: 1.386521, error1: 58.754549\n",
      " theta0: 97.580142, theta1: -13.225975, theta2: 1.386205, error1: 58.754375\n",
      " theta0: 97.581133, theta1: -13.225964, theta2: 1.385891, error1: 58.754201\n",
      " theta0: 97.582122, theta1: -13.225952, theta2: 1.385577, error1: 58.754029\n",
      " theta0: 97.583109, theta1: -13.225940, theta2: 1.385264, error1: 58.753856\n",
      " theta0: 97.584094, theta1: -13.225929, theta2: 1.384951, error1: 58.753685\n",
      " theta0: 97.585076, theta1: -13.225917, theta2: 1.384639, error1: 58.753514\n",
      " theta0: 97.586056, theta1: -13.225905, theta2: 1.384328, error1: 58.753343\n",
      " theta0: 97.587035, theta1: -13.225894, theta2: 1.384018, error1: 58.753173\n",
      " theta0: 97.588011, theta1: -13.225882, theta2: 1.383708, error1: 58.753004\n",
      " theta0: 97.588985, theta1: -13.225871, theta2: 1.383399, error1: 58.752835\n",
      " theta0: 97.589957, theta1: -13.225859, theta2: 1.383090, error1: 58.752667\n",
      " theta0: 97.590927, theta1: -13.225848, theta2: 1.382782, error1: 58.752499\n",
      " theta0: 97.591894, theta1: -13.225836, theta2: 1.382475, error1: 58.752332\n",
      " theta0: 97.592860, theta1: -13.225825, theta2: 1.382169, error1: 58.752166\n",
      " theta0: 97.593824, theta1: -13.225814, theta2: 1.381863, error1: 58.752000\n",
      " theta0: 97.594785, theta1: -13.225802, theta2: 1.381557, error1: 58.751835\n",
      " theta0: 97.595745, theta1: -13.225791, theta2: 1.381253, error1: 58.751670\n",
      " theta0: 97.596702, theta1: -13.225780, theta2: 1.380949, error1: 58.751506\n",
      " theta0: 97.597657, theta1: -13.225768, theta2: 1.380646, error1: 58.751342\n",
      " theta0: 97.598611, theta1: -13.225757, theta2: 1.380343, error1: 58.751179\n",
      " theta0: 97.599562, theta1: -13.225746, theta2: 1.380041, error1: 58.751016\n",
      " theta0: 97.600511, theta1: -13.225735, theta2: 1.379740, error1: 58.750854\n",
      " theta0: 97.601458, theta1: -13.225723, theta2: 1.379439, error1: 58.750693\n",
      " theta0: 97.602403, theta1: -13.225712, theta2: 1.379140, error1: 58.750532\n",
      " theta0: 97.603346, theta1: -13.225701, theta2: 1.378840, error1: 58.750372\n",
      " theta0: 97.604287, theta1: -13.225690, theta2: 1.378541, error1: 58.750212\n",
      " theta0: 97.605226, theta1: -13.225679, theta2: 1.378243, error1: 58.750053\n",
      " theta0: 97.606163, theta1: -13.225668, theta2: 1.377946, error1: 58.749894\n",
      " theta0: 97.607098, theta1: -13.225657, theta2: 1.377649, error1: 58.749736\n",
      " theta0: 97.608031, theta1: -13.225646, theta2: 1.377353, error1: 58.749578\n",
      " theta0: 97.608962, theta1: -13.225635, theta2: 1.377058, error1: 58.749421\n",
      " theta0: 97.609891, theta1: -13.225624, theta2: 1.376763, error1: 58.749264\n",
      " theta0: 97.610818, theta1: -13.225613, theta2: 1.376469, error1: 58.749108\n",
      " theta0: 97.611743, theta1: -13.225602, theta2: 1.376175, error1: 58.748953\n",
      " theta0: 97.612665, theta1: -13.225591, theta2: 1.375882, error1: 58.748798\n",
      " theta0: 97.613586, theta1: -13.225580, theta2: 1.375590, error1: 58.748643\n",
      " theta0: 97.614505, theta1: -13.225569, theta2: 1.375298, error1: 58.748489\n",
      " theta0: 97.615422, theta1: -13.225558, theta2: 1.375007, error1: 58.748336\n",
      " theta0: 97.616337, theta1: -13.225547, theta2: 1.374717, error1: 58.748183\n",
      " theta0: 97.617250, theta1: -13.225537, theta2: 1.374427, error1: 58.748030\n",
      " theta0: 97.618161, theta1: -13.225526, theta2: 1.374138, error1: 58.747878\n",
      " theta0: 97.619070, theta1: -13.225515, theta2: 1.373849, error1: 58.747727\n",
      " theta0: 97.619977, theta1: -13.225504, theta2: 1.373561, error1: 58.747576\n",
      " theta0: 97.620882, theta1: -13.225494, theta2: 1.373274, error1: 58.747425\n",
      " theta0: 97.621786, theta1: -13.225483, theta2: 1.372987, error1: 58.747276\n",
      " theta0: 97.622687, theta1: -13.225472, theta2: 1.372701, error1: 58.747126\n",
      " theta0: 97.623586, theta1: -13.225462, theta2: 1.372416, error1: 58.746977\n",
      " theta0: 97.624484, theta1: -13.225451, theta2: 1.372131, error1: 58.746829\n",
      " theta0: 97.625379, theta1: -13.225440, theta2: 1.371847, error1: 58.746681\n",
      " theta0: 97.626272, theta1: -13.225430, theta2: 1.371563, error1: 58.746533\n",
      " theta0: 97.627164, theta1: -13.225419, theta2: 1.371280, error1: 58.746387\n",
      " theta0: 97.628054, theta1: -13.225409, theta2: 1.370998, error1: 58.746240\n",
      " theta0: 97.628941, theta1: -13.225398, theta2: 1.370716, error1: 58.746094\n",
      " theta0: 97.629827, theta1: -13.225388, theta2: 1.370435, error1: 58.745949\n",
      " theta0: 97.630711, theta1: -13.225377, theta2: 1.370154, error1: 58.745804\n",
      " theta0: 97.631593, theta1: -13.225367, theta2: 1.369874, error1: 58.745659\n",
      " theta0: 97.632473, theta1: -13.225357, theta2: 1.369595, error1: 58.745515\n",
      " theta0: 97.633351, theta1: -13.225346, theta2: 1.369316, error1: 58.745372\n",
      " theta0: 97.634228, theta1: -13.225336, theta2: 1.369038, error1: 58.745229\n",
      " theta0: 97.635102, theta1: -13.225325, theta2: 1.368761, error1: 58.745086\n",
      " theta0: 97.635975, theta1: -13.225315, theta2: 1.368484, error1: 58.744944\n",
      " theta0: 97.636845, theta1: -13.225305, theta2: 1.368207, error1: 58.744803\n",
      " theta0: 97.637714, theta1: -13.225295, theta2: 1.367932, error1: 58.744661\n",
      " theta0: 97.638581, theta1: -13.225284, theta2: 1.367656, error1: 58.744521\n",
      " theta0: 97.639446, theta1: -13.225274, theta2: 1.367382, error1: 58.744381\n",
      " theta0: 97.640309, theta1: -13.225264, theta2: 1.367108, error1: 58.744241\n",
      " theta0: 97.641171, theta1: -13.225254, theta2: 1.366834, error1: 58.744102\n",
      " theta0: 97.642030, theta1: -13.225244, theta2: 1.366562, error1: 58.743963\n",
      " theta0: 97.642888, theta1: -13.225233, theta2: 1.366289, error1: 58.743824\n",
      " theta0: 97.643743, theta1: -13.225223, theta2: 1.366018, error1: 58.743686\n",
      " theta0: 97.644597, theta1: -13.225213, theta2: 1.365747, error1: 58.743549\n",
      " theta0: 97.645449, theta1: -13.225203, theta2: 1.365476, error1: 58.743412\n",
      " theta0: 97.646300, theta1: -13.225193, theta2: 1.365206, error1: 58.743276\n",
      " theta0: 97.647148, theta1: -13.225183, theta2: 1.364937, error1: 58.743140\n",
      " theta0: 97.647995, theta1: -13.225173, theta2: 1.364668, error1: 58.743004\n",
      " theta0: 97.648839, theta1: -13.225163, theta2: 1.364400, error1: 58.742869\n",
      " theta0: 97.649682, theta1: -13.225153, theta2: 1.364133, error1: 58.742734\n",
      " theta0: 97.650523, theta1: -13.225143, theta2: 1.363866, error1: 58.742600\n",
      " theta0: 97.651363, theta1: -13.225133, theta2: 1.363599, error1: 58.742466\n",
      " theta0: 97.652200, theta1: -13.225123, theta2: 1.363334, error1: 58.742333\n",
      " theta0: 97.653036, theta1: -13.225113, theta2: 1.363068, error1: 58.742200\n",
      " theta0: 97.653870, theta1: -13.225104, theta2: 1.362804, error1: 58.742067\n",
      " theta0: 97.654702, theta1: -13.225094, theta2: 1.362540, error1: 58.741935\n",
      " theta0: 97.655532, theta1: -13.225084, theta2: 1.362276, error1: 58.741804\n",
      " theta0: 97.656361, theta1: -13.225074, theta2: 1.362013, error1: 58.741672\n",
      " theta0: 97.657187, theta1: -13.225064, theta2: 1.361751, error1: 58.741542\n",
      " theta0: 97.658012, theta1: -13.225055, theta2: 1.361489, error1: 58.741411\n",
      " theta0: 97.658835, theta1: -13.225045, theta2: 1.361228, error1: 58.741281\n",
      " theta0: 97.659657, theta1: -13.225035, theta2: 1.360967, error1: 58.741152\n",
      " theta0: 97.660476, theta1: -13.225025, theta2: 1.360707, error1: 58.741023\n",
      " theta0: 97.661294, theta1: -13.225016, theta2: 1.360447, error1: 58.740894\n",
      " theta0: 97.662110, theta1: -13.225006, theta2: 1.360188, error1: 58.740766\n",
      " theta0: 97.662925, theta1: -13.224996, theta2: 1.359930, error1: 58.740638\n",
      " theta0: 97.663737, theta1: -13.224987, theta2: 1.359672, error1: 58.740511\n",
      " theta0: 97.664548, theta1: -13.224977, theta2: 1.359414, error1: 58.740384\n",
      " theta0: 97.665357, theta1: -13.224968, theta2: 1.359157, error1: 58.740258\n",
      " theta0: 97.666164, theta1: -13.224958, theta2: 1.358901, error1: 58.740132\n",
      " theta0: 97.666970, theta1: -13.224949, theta2: 1.358646, error1: 58.740006\n",
      " theta0: 97.667774, theta1: -13.224939, theta2: 1.358390, error1: 58.739881\n",
      " theta0: 97.668576, theta1: -13.224930, theta2: 1.358136, error1: 58.739756\n",
      " theta0: 97.669376, theta1: -13.224920, theta2: 1.357882, error1: 58.739632\n",
      " theta0: 97.670175, theta1: -13.224911, theta2: 1.357628, error1: 58.739508\n",
      " theta0: 97.670972, theta1: -13.224901, theta2: 1.357375, error1: 58.739384\n",
      " theta0: 97.671767, theta1: -13.224892, theta2: 1.357123, error1: 58.739261\n",
      " theta0: 97.672560, theta1: -13.224883, theta2: 1.356871, error1: 58.739138\n",
      " theta0: 97.673352, theta1: -13.224873, theta2: 1.356620, error1: 58.739016\n",
      " theta0: 97.674142, theta1: -13.224864, theta2: 1.356369, error1: 58.738894\n",
      " theta0: 97.674931, theta1: -13.224854, theta2: 1.356119, error1: 58.738772\n",
      " theta0: 97.675717, theta1: -13.224845, theta2: 1.355869, error1: 58.738651\n",
      " theta0: 97.676502, theta1: -13.224836, theta2: 1.355620, error1: 58.738530\n",
      " theta0: 97.677286, theta1: -13.224827, theta2: 1.355371, error1: 58.738410\n",
      " theta0: 97.678067, theta1: -13.224817, theta2: 1.355123, error1: 58.738290\n",
      " theta0: 97.678847, theta1: -13.224808, theta2: 1.354876, error1: 58.738170\n",
      " theta0: 97.679625, theta1: -13.224799, theta2: 1.354629, error1: 58.738051\n",
      " theta0: 97.680402, theta1: -13.224790, theta2: 1.354382, error1: 58.737932\n",
      " theta0: 97.681177, theta1: -13.224781, theta2: 1.354136, error1: 58.737813\n",
      " theta0: 97.681950, theta1: -13.224771, theta2: 1.353891, error1: 58.737695\n",
      " theta0: 97.682722, theta1: -13.224762, theta2: 1.353646, error1: 58.737578\n",
      " theta0: 97.683492, theta1: -13.224753, theta2: 1.353401, error1: 58.737461\n",
      " theta0: 97.684260, theta1: -13.224744, theta2: 1.353158, error1: 58.737344\n",
      " theta0: 97.685026, theta1: -13.224735, theta2: 1.352914, error1: 58.737227\n",
      " theta0: 97.685791, theta1: -13.224726, theta2: 1.352672, error1: 58.737111\n",
      " theta0: 97.686554, theta1: -13.224717, theta2: 1.352429, error1: 58.736995\n",
      " theta0: 97.687316, theta1: -13.224708, theta2: 1.352187, error1: 58.736880\n",
      " theta0: 97.688076, theta1: -13.224699, theta2: 1.351946, error1: 58.736765\n",
      " theta0: 97.688834, theta1: -13.224690, theta2: 1.351706, error1: 58.736650\n",
      " theta0: 97.689591, theta1: -13.224681, theta2: 1.351465, error1: 58.736536\n",
      " theta0: 97.690346, theta1: -13.224672, theta2: 1.351226, error1: 58.736422\n",
      " theta0: 97.691100, theta1: -13.224663, theta2: 1.350987, error1: 58.736309\n",
      " theta0: 97.691851, theta1: -13.224654, theta2: 1.350748, error1: 58.736195\n",
      " theta0: 97.692602, theta1: -13.224646, theta2: 1.350510, error1: 58.736083\n",
      " theta0: 97.693350, theta1: -13.224637, theta2: 1.350272, error1: 58.735970\n",
      " theta0: 97.694097, theta1: -13.224628, theta2: 1.350035, error1: 58.735858\n",
      " theta0: 97.694843, theta1: -13.224619, theta2: 1.349799, error1: 58.735747\n",
      " theta0: 97.695586, theta1: -13.224610, theta2: 1.349562, error1: 58.735635\n",
      " theta0: 97.696328, theta1: -13.224601, theta2: 1.349327, error1: 58.735524\n",
      " theta0: 97.697069, theta1: -13.224593, theta2: 1.349092, error1: 58.735414\n",
      " theta0: 97.697808, theta1: -13.224584, theta2: 1.348857, error1: 58.735304\n",
      " theta0: 97.698545, theta1: -13.224575, theta2: 1.348623, error1: 58.735194\n",
      " theta0: 97.699281, theta1: -13.224567, theta2: 1.348390, error1: 58.735084\n",
      " theta0: 97.700015, theta1: -13.224558, theta2: 1.348157, error1: 58.734975\n",
      " theta0: 97.700748, theta1: -13.224549, theta2: 1.347924, error1: 58.734866\n",
      " theta0: 97.701479, theta1: -13.224541, theta2: 1.347692, error1: 58.734758\n",
      " theta0: 97.702208, theta1: -13.224532, theta2: 1.347461, error1: 58.734650\n",
      " theta0: 97.702936, theta1: -13.224523, theta2: 1.347230, error1: 58.734542\n",
      " theta0: 97.703663, theta1: -13.224515, theta2: 1.346999, error1: 58.734434\n",
      " theta0: 97.704387, theta1: -13.224506, theta2: 1.346769, error1: 58.734327\n",
      " theta0: 97.705110, theta1: -13.224498, theta2: 1.346539, error1: 58.734221\n",
      " theta0: 97.705832, theta1: -13.224489, theta2: 1.346310, error1: 58.734114\n",
      " theta0: 97.706552, theta1: -13.224481, theta2: 1.346082, error1: 58.734008\n",
      " theta0: 97.707271, theta1: -13.224472, theta2: 1.345854, error1: 58.733903\n",
      " theta0: 97.707988, theta1: -13.224464, theta2: 1.345626, error1: 58.733797\n",
      " theta0: 97.708703, theta1: -13.224455, theta2: 1.345399, error1: 58.733692\n",
      " theta0: 97.709417, theta1: -13.224447, theta2: 1.345173, error1: 58.733588\n",
      " theta0: 97.710129, theta1: -13.224438, theta2: 1.344946, error1: 58.733483\n",
      " theta0: 97.710840, theta1: -13.224430, theta2: 1.344721, error1: 58.733379\n",
      " theta0: 97.711549, theta1: -13.224421, theta2: 1.344496, error1: 58.733276\n",
      " theta0: 97.712257, theta1: -13.224413, theta2: 1.344271, error1: 58.733172\n",
      " theta0: 97.712963, theta1: -13.224405, theta2: 1.344047, error1: 58.733069\n",
      " theta0: 97.713668, theta1: -13.224396, theta2: 1.343823, error1: 58.732967\n",
      " theta0: 97.714371, theta1: -13.224388, theta2: 1.343600, error1: 58.732865\n",
      " theta0: 97.715073, theta1: -13.224380, theta2: 1.343377, error1: 58.732763\n",
      " theta0: 97.715773, theta1: -13.224372, theta2: 1.343155, error1: 58.732661\n",
      " theta0: 97.716472, theta1: -13.224363, theta2: 1.342933, error1: 58.732560\n",
      " theta0: 97.717169, theta1: -13.224355, theta2: 1.342712, error1: 58.732459\n",
      " theta0: 97.717864, theta1: -13.224347, theta2: 1.342491, error1: 58.732358\n",
      " theta0: 97.718558, theta1: -13.224339, theta2: 1.342271, error1: 58.732258\n",
      " theta0: 97.719251, theta1: -13.224330, theta2: 1.342051, error1: 58.732157\n",
      "Done: theta0 : 97.719942, theta1 : -13.224322, theta2 : 1.341832\n",
      "Number of iterations: 2608\n"
     ]
    }
   ],
   "source": [
    "x = [(1, 0., 3), (1, 1., 3), (1, 2., 3), (1, 3., 2), (1, 4., 4)]\n",
    "# y[i] (Output of the sample point)\n",
    "y = [95.364, 97.217205, 75.195834, 60.105519, 49.342380]\n",
    "# Iteration threshold (When the difference between the two iteration loss functions is less than the threshold, the iteration stops.)\n",
    "epsilon = 0.0001 \n",
    "# Learning rate\n",
    "alpha = 0.01 \n",
    "diff = [0, 0]\n",
    "max_itor = 3\n",
    "error1 = 0\n",
    "error0 = 0\n",
    "cnt = 0\n",
    "m = len(x)\n",
    "# Parameter initialization\n",
    "theta0 = 5\n",
    "theta1 = 10\n",
    "theta2 = 20\n",
    "while True:\n",
    "    cnt += 1\n",
    " # Parameter iteration calculation\n",
    "    for i in range(m):\n",
    " # The fitting function is y = theta0 * x[0] + theta1 * x[1] +theta2 * x[2].\n",
    " # Residual error calculation\n",
    "        diff[0] = (theta0 + theta1 * x[i][1] + theta2 * x[i][2]) - y[i]\n",
    " # Gradient = diff[0] * x[i][j]\n",
    "        theta0 -= alpha * diff[0] * x[i][0]\n",
    "        theta1 -= alpha * diff[0] * x[i][1]\n",
    "        theta2 -= alpha * diff[0] * x[i][2]\n",
    " # Loss function calculation\n",
    "    error1 = 0\n",
    "    for lp in range(len(x)):\n",
    "        error1 += (y[lp]-(theta0 + theta1 * x[lp][1] + theta2 * x[lp][2]))**2/2\n",
    "    if abs(error1-error0) < epsilon:\n",
    "        break\n",
    "    else:\n",
    "        error0 = error1 \n",
    "    print(' theta0: %f, theta1: %f, theta2: %f, error1: %f' % (theta0, theta1, theta2, error1) )\n",
    "print('Done: theta0 : %f, theta1 : %f, theta2 : %f' % (theta0, theta1, theta2) )\n",
    "print ('Number of iterations: %d' % cnt )"
   ]
  },
  {
   "cell_type": "markdown",
   "metadata": {},
   "source": []
  },
  {
   "cell_type": "code",
   "execution_count": 2,
   "metadata": {},
   "outputs": [],
   "source": [
    "import tensorflow"
   ]
  },
  {
   "cell_type": "code",
   "execution_count": 80,
   "metadata": {},
   "outputs": [],
   "source": [
    "import seaborn as sns"
   ]
  },
  {
   "cell_type": "code",
   "execution_count": 81,
   "metadata": {},
   "outputs": [
    {
     "data": {
      "text/html": [
       "<div>\n",
       "<style scoped>\n",
       "    .dataframe tbody tr th:only-of-type {\n",
       "        vertical-align: middle;\n",
       "    }\n",
       "\n",
       "    .dataframe tbody tr th {\n",
       "        vertical-align: top;\n",
       "    }\n",
       "\n",
       "    .dataframe thead th {\n",
       "        text-align: right;\n",
       "    }\n",
       "</style>\n",
       "<table border=\"1\" class=\"dataframe\">\n",
       "  <thead>\n",
       "    <tr style=\"text-align: right;\">\n",
       "      <th></th>\n",
       "      <th>total_bill</th>\n",
       "      <th>tip</th>\n",
       "      <th>sex</th>\n",
       "      <th>smoker</th>\n",
       "      <th>day</th>\n",
       "      <th>time</th>\n",
       "      <th>size</th>\n",
       "    </tr>\n",
       "  </thead>\n",
       "  <tbody>\n",
       "    <tr>\n",
       "      <th>0</th>\n",
       "      <td>16.99</td>\n",
       "      <td>1.01</td>\n",
       "      <td>Female</td>\n",
       "      <td>No</td>\n",
       "      <td>Sun</td>\n",
       "      <td>Dinner</td>\n",
       "      <td>2</td>\n",
       "    </tr>\n",
       "    <tr>\n",
       "      <th>1</th>\n",
       "      <td>10.34</td>\n",
       "      <td>1.66</td>\n",
       "      <td>Male</td>\n",
       "      <td>No</td>\n",
       "      <td>Sun</td>\n",
       "      <td>Dinner</td>\n",
       "      <td>3</td>\n",
       "    </tr>\n",
       "    <tr>\n",
       "      <th>2</th>\n",
       "      <td>21.01</td>\n",
       "      <td>3.50</td>\n",
       "      <td>Male</td>\n",
       "      <td>No</td>\n",
       "      <td>Sun</td>\n",
       "      <td>Dinner</td>\n",
       "      <td>3</td>\n",
       "    </tr>\n",
       "    <tr>\n",
       "      <th>3</th>\n",
       "      <td>23.68</td>\n",
       "      <td>3.31</td>\n",
       "      <td>Male</td>\n",
       "      <td>No</td>\n",
       "      <td>Sun</td>\n",
       "      <td>Dinner</td>\n",
       "      <td>2</td>\n",
       "    </tr>\n",
       "    <tr>\n",
       "      <th>4</th>\n",
       "      <td>24.59</td>\n",
       "      <td>3.61</td>\n",
       "      <td>Female</td>\n",
       "      <td>No</td>\n",
       "      <td>Sun</td>\n",
       "      <td>Dinner</td>\n",
       "      <td>4</td>\n",
       "    </tr>\n",
       "  </tbody>\n",
       "</table>\n",
       "</div>"
      ],
      "text/plain": [
       "   total_bill   tip     sex smoker  day    time  size\n",
       "0       16.99  1.01  Female     No  Sun  Dinner     2\n",
       "1       10.34  1.66    Male     No  Sun  Dinner     3\n",
       "2       21.01  3.50    Male     No  Sun  Dinner     3\n",
       "3       23.68  3.31    Male     No  Sun  Dinner     2\n",
       "4       24.59  3.61  Female     No  Sun  Dinner     4"
      ]
     },
     "execution_count": 81,
     "metadata": {},
     "output_type": "execute_result"
    }
   ],
   "source": [
    "tips = sns.load_dataset(\"tips\")\n",
    "tips.head()"
   ]
  },
  {
   "cell_type": "code",
   "execution_count": 82,
   "metadata": {},
   "outputs": [
    {
     "data": {
      "text/plain": [
       "<matplotlib.axes._subplots.AxesSubplot at 0x1f83d7d9400>"
      ]
     },
     "execution_count": 82,
     "metadata": {},
     "output_type": "execute_result"
    },
    {
     "data": {
      "image/png": "[encoded data removed]",
      "text/plain": [
       "<Figure size 432x288 with 1 Axes>"
      ]
     },
     "metadata": {
      "needs_background": "light"
     },
     "output_type": "display_data"
    }
   ],
   "source": [
    "sns.scatterplot(data=tips, x=\"total_bill\", y=\"tip\")"
   ]
  },
  {
   "cell_type": "code",
   "execution_count": null,
   "metadata": {},
   "outputs": [],
   "source": []
  }
 ],
 "metadata": {
  "kernelspec": {
   "display_name": "Python 3",
   "language": "python",
   "name": "python3"
  },
  "language_info": {
   "codemirror_mode": {
    "name": "ipython",
    "version": 3
   },
   "file_extension": ".py",
   "mimetype": "text/x-python",
   "name": "python",
   "nbconvert_exporter": "python",
   "pygments_lexer": "ipython3",
   "version": "3.7.6"
  }
 },
 "nbformat": 4,
 "nbformat_minor": 4
}
